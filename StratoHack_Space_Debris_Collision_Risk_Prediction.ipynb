{
  "nbformat": 4,
  "nbformat_minor": 0,
  "metadata": {
    "colab": {
      "provenance": [],
      "authorship_tag": "ABX9TyNrnkFK67A5bVBHo9oLOUSe",
      "include_colab_link": true
    },
    "kernelspec": {
      "name": "python3",
      "display_name": "Python 3"
    },
    "language_info": {
      "name": "python"
    }
  },
  "cells": [
    {
      "cell_type": "markdown",
      "metadata": {
        "id": "view-in-github",
        "colab_type": "text"
      },
      "source": [
        "<a href=\"https://colab.research.google.com/github/23f2002620/StratoHack-Space-Debris-Collision-Risk-Prediction/blob/main/StratoHack_Space_Debris_Collision_Risk_Prediction.ipynb\" target=\"_parent\"><img src=\"https://colab.research.google.com/assets/colab-badge.svg\" alt=\"Open In Colab\"/></a>"
      ]
    },
    {
      "cell_type": "markdown",
      "source": [
        "# StratoHack-Space-Debris-Collision-Risk-Prediction"
      ],
      "metadata": {
        "id": "STCPGGV3HKQq"
      }
    },
    {
      "cell_type": "markdown",
      "source": [
        "https://dlmultimedia.esa.int/download/public/videos/2025/04/002/2504_002_AR_EN.mp4"
      ],
      "metadata": {
        "id": "RFpNry4b3-zD"
      }
    },
    {
      "cell_type": "markdown",
      "source": [
        "Datsets\n",
        "Active satellites (baseline catalog for operational assets): https://celestrak.org/NORAD/elements/gp.php?GROUP=active&FORMAT=tle\n",
        "\n",
        "FENGYUN‑1C ASAT debris (major LEO debris cloud): https://celestrak.org/NORAD/elements/gp.php?GROUP=fengyun-1c-debris&FORMAT=tle\n",
        "\n",
        "COSMOS‑2251 collision debris (Iridium‑33/COSMOS‑2251 fragments): https://celestrak.org/NORAD/elements/gp.php?GROUP=cosmos-2251-debris&FORMAT=tle\n",
        "\n",
        "COSMOS‑1408 ASAT debris (recent large debris event): https://celestrak.org/NORAD/elements/gp.php?GROUP=cosmos-1408-debris&FORMAT=tle\n",
        "\n"
      ],
      "metadata": {
        "id": "ehVfYh249YJI"
      }
    },
    {
      "cell_type": "markdown",
      "source": [
        "Importing Datasets"
      ],
      "metadata": {
        "id": "KPBrvCRpPl-1"
      }
    },
    {
      "cell_type": "code",
      "execution_count": null,
      "metadata": {
        "id": "83XUOf7k38V-",
        "colab": {
          "base_uri": "https://localhost:8080/"
        },
        "outputId": "0f5d98e7-d587-4069-fbb8-c8a74911f378"
      },
      "outputs": [
        {
          "output_type": "stream",
          "name": "stdout",
          "text": [
            "\u001b[?25l   \u001b[90m━━━━━━━━━━━━━━━━━━━━━━━━━━━━━━━━━━━━━━━━\u001b[0m \u001b[32m0.0/367.0 kB\u001b[0m \u001b[31m?\u001b[0m eta \u001b[36m-:--:--\u001b[0m\r\u001b[2K   \u001b[91m━━━━━━━━━━━━━━━━━━━━━━━━━━━━━━━━━━━━━━━\u001b[0m\u001b[90m╺\u001b[0m \u001b[32m358.4/367.0 kB\u001b[0m \u001b[31m13.9 MB/s\u001b[0m eta \u001b[36m0:00:01\u001b[0m\r\u001b[2K   \u001b[90m━━━━━━━━━━━━━━━━━━━━━━━━━━━━━━━━━━━━━━━━\u001b[0m \u001b[32m367.0/367.0 kB\u001b[0m \u001b[31m8.7 MB/s\u001b[0m eta \u001b[36m0:00:00\u001b[0m\n",
            "\u001b[?25h\u001b[?25l   \u001b[90m━━━━━━━━━━━━━━━━━━━━━━━━━━━━━━━━━━━━━━━━\u001b[0m \u001b[32m0.0/235.7 kB\u001b[0m \u001b[31m?\u001b[0m eta \u001b[36m-:--:--\u001b[0m\r\u001b[2K   \u001b[90m━━━━━━━━━━━━━━━━━━━━━━━━━━━━━━━━━━━━━━━━\u001b[0m \u001b[32m235.7/235.7 kB\u001b[0m \u001b[31m11.3 MB/s\u001b[0m eta \u001b[36m0:00:00\u001b[0m\n",
            "\u001b[?25h\u001b[?25l   \u001b[90m━━━━━━━━━━━━━━━━━━━━━━━━━━━━━━━━━━━━━━━━\u001b[0m \u001b[32m0.0/49.4 kB\u001b[0m \u001b[31m?\u001b[0m eta \u001b[36m-:--:--\u001b[0m\r\u001b[2K   \u001b[90m━━━━━━━━━━━━━━━━━━━━━━━━━━━━━━━━━━━━━━━━\u001b[0m \u001b[32m49.4/49.4 kB\u001b[0m \u001b[31m3.1 MB/s\u001b[0m eta \u001b[36m0:00:00\u001b[0m\n",
            "\u001b[?25h"
          ]
        }
      ],
      "source": [
        "!pip -q install skyfield sgp4\n",
        "\n",
        "import requests, os\n",
        "\n",
        "from skyfield.api import load, EarthSatellite\n",
        "\n",
        "from skyfield.iokit import parse_tle_file\n",
        "\n"
      ]
    },
    {
      "cell_type": "code",
      "source": [
        "URLS = {\n",
        "\"active.tle\": \"https://celestrak.org/NORAD/elements/gp.php?GROUP=active&FORMAT=tle\",\n",
        "\"fengyun1c.tle\": \"https://celestrak.org/NORAD/elements/gp.php?GROUP=fengyun-1c-debris&FORMAT=tle\",\n",
        "\"cosmos2251.tle\": \"https://celestrak.org/NORAD/elements/gp.php?GROUP=cosmos-2251-debris&FORMAT=tle\",\n",
        "\"cosmos1408.tle\": \"https://celestrak.org/NORAD/elements/gp.php?GROUP=cosmos-1408-debris&FORMAT=tle\",\n",
        "}\n",
        "\n",
        "for fn, url in URLS.items():\n",
        "    if not os.path.exists(fn):\n",
        "        r = requests.get(url, timeout=30)\n",
        "        r.raise_for_status()\n",
        "        with open(fn, \"wb\") as f:\n",
        "            f.write(r.content)"
      ],
      "metadata": {
        "id": "iSNLPzOIFUvN"
      },
      "execution_count": null,
      "outputs": []
    },
    {
      "cell_type": "code",
      "source": [
        "ts = load.timescale()\n",
        "catalog = {}\n",
        "for fn in URLS.keys():\n",
        "    with load.open(fn) as f:\n",
        "        catalog[fn] = list(parse_tle_file(f, ts))\n",
        "counts = {fn: len(sats) for fn, sats in catalog.items()}\n",
        "print(\"Loaded counts:\", counts)"
      ],
      "metadata": {
        "colab": {
          "base_uri": "https://localhost:8080/"
        },
        "id": "v6dGIeLGF3ZL",
        "outputId": "105d0eba-85ac-450a-ac01-9567a725c2f6"
      },
      "execution_count": null,
      "outputs": [
        {
          "output_type": "stream",
          "name": "stdout",
          "text": [
            "Loaded counts: {'active.tle': 12685, 'fengyun1c.tle': 1890, 'cosmos2251.tle': 607, 'cosmos1408.tle': 5}\n"
          ]
        }
      ]
    },
    {
      "cell_type": "markdown",
      "source": [
        "Install deps"
      ],
      "metadata": {
        "id": "7Gew2BAzP3CP"
      }
    },
    {
      "cell_type": "code",
      "source": [
        "!pip -q install torch torchvision torchaudio torch-geometric torch-scatter torch-sparse torch-cluster -f https://data.pyg.org/whl/torch-2.3.0+cpu.html\n",
        "!pip -q install torch-geometric-temporal stable-baselines3 gymnasium\n"
      ],
      "metadata": {
        "colab": {
          "base_uri": "https://localhost:8080/"
        },
        "id": "FWn5Iwf_GMPY",
        "outputId": "781e789c-298c-4f18-d2a1-016604c7f421"
      },
      "execution_count": null,
      "outputs": [
        {
          "output_type": "stream",
          "name": "stdout",
          "text": [
            "\u001b[2K     \u001b[90m━━━━━━━━━━━━━━━━━━━━━━━━━━━━━━━━━━━━━━━━\u001b[0m \u001b[32m63.1/63.1 kB\u001b[0m \u001b[31m1.7 MB/s\u001b[0m eta \u001b[36m0:00:00\u001b[0m\n",
            "\u001b[2K     \u001b[90m━━━━━━━━━━━━━━━━━━━━━━━━━━━━━━━━━━━━━━━\u001b[0m \u001b[32m513.6/513.6 kB\u001b[0m \u001b[31m4.7 MB/s\u001b[0m eta \u001b[36m0:00:00\u001b[0m\n",
            "\u001b[2K     \u001b[90m━━━━━━━━━━━━━━━━━━━━━━━━━━━━━━━━━━━━━━━━\u001b[0m \u001b[32m1.2/1.2 MB\u001b[0m \u001b[31m11.7 MB/s\u001b[0m eta \u001b[36m0:00:00\u001b[0m\n",
            "\u001b[2K     \u001b[90m━━━━━━━━━━━━━━━━━━━━━━━━━━━━━━━━━━━━━━\u001b[0m \u001b[32m783.8/783.8 kB\u001b[0m \u001b[31m14.7 MB/s\u001b[0m eta \u001b[36m0:00:00\u001b[0m\n",
            "\u001b[2K   \u001b[90m━━━━━━━━━━━━━━━━━━━━━━━━━━━━━━━━━━━━━━━━\u001b[0m \u001b[32m1.1/1.1 MB\u001b[0m \u001b[31m20.7 MB/s\u001b[0m eta \u001b[36m0:00:00\u001b[0m\n",
            "\u001b[2K   \u001b[90m━━━━━━━━━━━━━━━━━━━━━━━━━━━━━━━━━━━━━━━━\u001b[0m \u001b[32m102.3/102.3 kB\u001b[0m \u001b[31m2.1 MB/s\u001b[0m eta \u001b[36m0:00:00\u001b[0m\n",
            "\u001b[2K   \u001b[90m━━━━━━━━━━━━━━━━━━━━━━━━━━━━━━━━━━━━━━━━\u001b[0m \u001b[32m187.2/187.2 kB\u001b[0m \u001b[31m6.6 MB/s\u001b[0m eta \u001b[36m0:00:00\u001b[0m\n",
            "\u001b[?25h"
          ]
        }
      ]
    },
    {
      "cell_type": "markdown",
      "source": [
        "Data prep: build temporal graphs from your propagated TLEs"
      ],
      "metadata": {
        "id": "i-2lVuu1P9ym"
      }
    },
    {
      "cell_type": "code",
      "source": [
        "import math\n",
        "import numpy as np\n",
        "import torch\n",
        "from torch_geometric_temporal.signal import DynamicGraphTemporalSignal\n",
        "\n",
        "def synthetic_temporal_graph(T=24, N=500, F=8, k=8, seed=42):\n",
        "    rng = np.random.default_rng(seed)\n",
        "    Xs, Es, Ws, Ys = [], [], [], []\n",
        "    for t in range(T):\n",
        "        X = rng.normal(size=(N, F)).astype(np.float32)\n",
        "        idx = np.argsort(X[:, 0])\n",
        "        sources, targets = [], []\n",
        "        for i in range(N):\n",
        "            base = idx[i]\n",
        "            neigh = idx[max(0, i-k):min(N, i+k+1)]\n",
        "            for j in neigh:\n",
        "                if j != i:\n",
        "                    sources.append(base); targets.append(idx[j])\n",
        "        edge_index = np.vstack([sources, targets]).astype(np.int64)\n",
        "        edge_weight = np.ones(edge_index.shape[1], dtype=np.float32)\n",
        "        y = (rng.random(edge_index.shape[1]) < 0.02).astype(np.float32)\n",
        "        Xs.append(torch.from_numpy(X))\n",
        "        Es.append(torch.from_numpy(edge_index))\n",
        "        Ws.append(torch.from_numpy(edge_weight))\n",
        "        Ys.append(y)\n",
        "    return Xs, Es, Ws, Ys\n",
        "\n",
        "Xs, Es, Ws, Ys = synthetic_temporal_graph()\n",
        "dataset = DynamicGraphTemporalSignal(Es, Ws, Xs, Ys)\n",
        "\n",
        "snapshots = list(dataset)\n",
        "train_len = int(0.7 * len(snapshots))\n"
      ],
      "metadata": {
        "id": "1zsG1eBVIAQB"
      },
      "execution_count": null,
      "outputs": []
    },
    {
      "cell_type": "markdown",
      "source": [
        "GNN model and training loop (spatio‑temporal)"
      ],
      "metadata": {
        "id": "sJW3w2h8QALx"
      }
    },
    {
      "cell_type": "code",
      "source": [
        "import torch\n",
        "import torch.nn as nn\n",
        "import torch.nn.functional as F\n",
        "from torch_geometric_temporal.nn.recurrent import GConvGRU\n",
        "import numpy as np\n",
        "\n",
        "class STRiskGCN(nn.Module):\n",
        "    def __init__(self, in_feats, hidden=32):\n",
        "        super().__init__()\n",
        "        self.rnn1 = GConvGRU(in_feats, hidden, K=3)\n",
        "        self.rnn2 = GConvGRU(hidden, hidden//2, K=3)\n",
        "        self.head = nn.Linear(hidden//2, 1)\n",
        "\n",
        "    def forward(self, x, edge_index, edge_weight):\n",
        "        h = self.rnn1(x, edge_index, edge_weight)\n",
        "        h = F.relu(h)\n",
        "        h = self.rnn2(h, edge_index, edge_weight)\n",
        "        h = F.relu(h)\n",
        "        logits = self.head(h)\n",
        "        return logits\n",
        "\n",
        "device = torch.device(\"cuda\" if torch.cuda.is_available() else \"cpu\")\n",
        "model = STRiskGCN(in_feats=Xs[0].shape[1]).to(device)\n",
        "opt = torch.optim.Adam(model.parameters(), lr=1e-3)\n",
        "bce = nn.BCEWithLogitsLoss()\n",
        "\n",
        "def to_tensor_y(y, device):\n",
        "    if isinstance(y, np.ndarray):\n",
        "        return torch.from_numpy(y).float().to(device)\n",
        "    elif torch.is_tensor(y):\n",
        "        return y.float().to(device)\n",
        "    else:\n",
        "        return torch.tensor(y, dtype=torch.float32, device=device)\n",
        "\n",
        "def to_weights_or_ones(snapshot, device):\n",
        "    ei = snapshot.edge_index.to(device)\n",
        "    if hasattr(snapshot, \"edge_weight\") and snapshot.edge_weight is not None:\n",
        "        ew = snapshot.edge_weight.to(device)\n",
        "    else:\n",
        "        ew = torch.ones(ei.shape[1], dtype=torch.float32, device=device)\n",
        "    return ei, ew\n",
        "\n",
        "def train_epoch():\n",
        "    model.train()\n",
        "    losses = []\n",
        "    for snapshot in snapshots[:train_len]:\n",
        "        x = snapshot.x.to(device)\n",
        "        ei, ew = to_weights_or_ones(snapshot, device)\n",
        "        y = to_tensor_y(snapshot.y, device)\n",
        "        node_logits = model(x, ei, ew).squeeze(-1)\n",
        "        edge_scores = 0.5 * (node_logits[ei[0]] + node_logits[ei[1]])\n",
        "        loss = bce(edge_scores, y)\n",
        "        opt.zero_grad()\n",
        "        loss.backward()\n",
        "        opt.step()\n",
        "        losses.append(loss.item())\n",
        "    return float(np.mean(losses)) if losses else float(\"nan\")\n",
        "\n",
        "@torch.no_grad()\n",
        "def eval_epoch():\n",
        "    model.eval()\n",
        "    ys, ps = [], []\n",
        "    for snapshot in snapshots[train_len:]:\n",
        "        x = snapshot.x.to(device)\n",
        "        ei, ew = to_weights_or_ones(snapshot, device)\n",
        "        y = to_tensor_y(snapshot.y, device).cpu().numpy()\n",
        "        node_logits = model(x, ei, ew).squeeze(-1)\n",
        "        edge_scores = 0.5 * (node_logits[ei[0]] + node_logits[ei[1]])\n",
        "        p = torch.sigmoid(edge_scores).cpu().numpy()\n",
        "        ys.append(y); ps.append(p)\n",
        "    if not ys:\n",
        "        return float(\"nan\")\n",
        "    from sklearn.metrics import average_precision_score\n",
        "    ytrue = np.concatenate(ys)\n",
        "    ypred = np.concatenate(ps)\n",
        "    return float(average_precision_score(ytrue, ypred))\n",
        "\n",
        "for epoch in range(5):\n",
        "    tr_loss = train_epoch()\n",
        "    ap = eval_epoch()\n",
        "    print(f\"Epoch {epoch+1}: loss={tr_loss:.4f}, AP={ap:.4f}\")\n"
      ],
      "metadata": {
        "colab": {
          "base_uri": "https://localhost:8080/"
        },
        "id": "YvmP6QKiKj3E",
        "outputId": "9b5ff3c6-b90f-4fc0-a552-3373054c2254"
      },
      "execution_count": null,
      "outputs": [
        {
          "output_type": "stream",
          "name": "stdout",
          "text": [
            "Epoch 1: loss=0.7393, AP=0.0205\n",
            "Epoch 2: loss=0.6236, AP=0.0207\n",
            "Epoch 3: loss=0.4813, AP=0.0204\n",
            "Epoch 4: loss=0.3414, AP=0.0202\n",
            "Epoch 5: loss=0.2409, AP=0.0202\n"
          ]
        }
      ]
    },
    {
      "cell_type": "markdown",
      "source": [
        "Physics baseline stubs for Pc and miss distance"
      ],
      "metadata": {
        "id": "8xpw1UuaQFwX"
      }
    },
    {
      "cell_type": "code",
      "source": [
        "import numpy as np\n",
        "\n",
        "def miss_distance_and_Pc_stub(rel_pos_km, rel_vel_kmps, hbr_m=10.0, sigma_m=200.0):\n",
        "    md = np.linalg.norm(rel_pos_km) * 1000.0\n",
        "    sigma2 = (sigma_m**2)\n",
        "    Pc = np.exp(-0.5 * (md**2) / sigma2) * (hbr_m**2 / (2*np.pi*sigma2))\n",
        "    return md, float(Pc)\n",
        "\n",
        "# Example:\n",
        "md, Pc = miss_distance_and_Pc_stub(np.array([0.5,0.1,0.0]), np.array([10,0,0]))\n",
        "print(\"Miss distance (m), Pc:\", md, Pc)\n"
      ],
      "metadata": {
        "colab": {
          "base_uri": "https://localhost:8080/"
        },
        "id": "brQAk3r7LG-u",
        "outputId": "c65ca2d6-aa45-4996-e46a-da97bfefe930"
      },
      "execution_count": null,
      "outputs": [
        {
          "output_type": "stream",
          "name": "stdout",
          "text": [
            "Miss distance (m), Pc: 509.90195135927854 1.5427767102227584e-05\n"
          ]
        }
      ]
    },
    {
      "cell_type": "markdown",
      "source": [
        "RL environment for impulsive CAM (continuous ΔV) and PPO training"
      ],
      "metadata": {
        "id": "pJ-nXiXXQIqG"
      }
    },
    {
      "cell_type": "code",
      "source": [
        "import gymnasium as gym\n",
        "from gymnasium import spaces\n",
        "import numpy as np\n",
        "\n",
        "class CamEnv(gym.Env):\n",
        "    metadata = {\"render_modes\": []}\n",
        "    def __init__(self):\n",
        "        super().__init__()\n",
        "        self.observation_space = spaces.Box(low=-1e3, high=1e3, shape=(8,), dtype=np.float32)\n",
        "        self.action_space = spaces.Box(low=-0.2, high=0.2, shape=(3,), dtype=np.float32)\n",
        "        self.reset()\n",
        "\n",
        "    def reset(self, seed=None, options=None):\n",
        "        super().reset(seed=seed)\n",
        "        self.state = self._sample_scenario()\n",
        "        self.steps = 0\n",
        "        return self.state.astype(np.float32), {}\n",
        "\n",
        "    def _sample_scenario(self):\n",
        "        dx, dy, dz = np.random.uniform(-5,5,3)\n",
        "        dvx, dvy, dvz = np.random.uniform(-0.1,0.1,3)\n",
        "        tmin = np.random.uniform(30, 360)\n",
        "        fuel = np.random.uniform(5.0, 25.0)\n",
        "        return np.array([dx,dy,dz,dvx,dvy,dvz,tmin,fuel], dtype=np.float32)\n",
        "\n",
        "    def step(self, action):\n",
        "        dv = np.clip(action, self.action_space.low, self.action_space.high)\n",
        "        self.state[3:6] += dv/1000.0\n",
        "        self.state[7] -= np.linalg.norm(dv)\n",
        "        self.state[6] -= 5.0\n",
        "        self.steps += 1\n",
        "        rel_pos = self.state[0:3]\n",
        "        rel_vel = self.state[3:6]\n",
        "        md, Pc = miss_distance_and_Pc_stub(rel_pos, rel_vel)\n",
        "        reward = -1000.0*Pc - 0.1*np.linalg.norm(dv)\n",
        "        terminated = bool(self.state[7] <= 0 or self.state[6] <= 0 or Pc < 1e-4)\n",
        "        truncated = self.steps >= 60\n",
        "        return self.state.astype(np.float32), reward, terminated, truncated, {\"Pc\": Pc, \"md\": md}\n",
        "\n",
        "env = CamEnv()\n",
        "obs, _ = env.reset()\n",
        "print(\"Initial obs:\", obs)\n"
      ],
      "metadata": {
        "colab": {
          "base_uri": "https://localhost:8080/"
        },
        "id": "GH_vGBOJLN6n",
        "outputId": "4435aad8-4158-4d42-f2ba-f8b5ef018ad2"
      },
      "execution_count": null,
      "outputs": [
        {
          "output_type": "stream",
          "name": "stdout",
          "text": [
            "Initial obs: [-3.1764426e+00  2.6122615e+00 -2.2304361e+00 -6.6839263e-02\n",
            " -5.2503765e-02  8.6006425e-02  1.6344002e+02  8.5166559e+00]\n"
          ]
        }
      ]
    },
    {
      "cell_type": "code",
      "source": [
        "from stable_baselines3 import PPO\n",
        "\n",
        "model = PPO(\"MlpPolicy\", env, verbose=0, n_steps=2048, batch_size=256, gae_lambda=0.95, gamma=0.995, learning_rate=3e-4, clip_range=0.2)\n",
        "model.learn(total_timesteps=50_000)\n",
        "\n",
        "for ep in range(5):\n",
        "    obs, _ = env.reset()\n",
        "    done = False\n",
        "    ret = 0.0\n",
        "    while not done:\n",
        "        action, _ = model.predict(obs, deterministic=True)\n",
        "        obs, reward, terminated, truncated, info = env.step(action)\n",
        "        ret += reward\n",
        "        done = terminated or truncated\n",
        "    print(f\"Episode {ep+1}: return={ret:.2f}, Pc={info['Pc']:.2e}, md={info['md']:.1f} m\")\n"
      ],
      "metadata": {
        "colab": {
          "base_uri": "https://localhost:8080/"
        },
        "id": "X0dJWTecLQ_L",
        "outputId": "e886e8e4-baf6-4958-ffdb-a2a6849f8dce"
      },
      "execution_count": null,
      "outputs": [
        {
          "output_type": "stream",
          "name": "stderr",
          "text": [
            "Gym has been unmaintained since 2022 and does not support NumPy 2.0 amongst other critical functionality.\n",
            "Please upgrade to Gymnasium, the maintained drop-in replacement of Gym, or contact the authors of your software and request that they upgrade.\n",
            "See the migration guide at https://gymnasium.farama.org/introduction/migration_guide/ for additional information.\n",
            "/usr/local/lib/python3.12/dist-packages/jupyter_client/session.py:203: DeprecationWarning: datetime.datetime.utcnow() is deprecated and scheduled for removal in a future version. Use timezone-aware objects to represent datetimes in UTC: datetime.datetime.now(datetime.UTC).\n",
            "  return datetime.utcnow().replace(tzinfo=utc)\n"
          ]
        },
        {
          "output_type": "stream",
          "name": "stdout",
          "text": [
            "Episode 1: return=-0.02, Pc=0.00e+00, md=4967.7 m\n",
            "Episode 2: return=-0.02, Pc=0.00e+00, md=3950.3 m\n",
            "Episode 3: return=-0.02, Pc=0.00e+00, md=4907.8 m\n",
            "Episode 4: return=-0.02, Pc=0.00e+00, md=5129.3 m\n",
            "Episode 5: return=-0.03, Pc=0.00e+00, md=5019.1 m\n"
          ]
        }
      ]
    },
    {
      "cell_type": "markdown",
      "source": [
        "Wiring GNN to RL"
      ],
      "metadata": {
        "id": "z4NitTS5QM1v"
      }
    },
    {
      "cell_type": "code",
      "source": [
        "def run_cam_for_pair(rel_pos_km, rel_vel_kmps, time_to_tca_min=120.0, fuel_ms=10.0, model=None, steps=40):\n",
        "    env = CamEnv()\n",
        "    env.state = np.array([\n",
        "        rel_pos_km[0], rel_pos_km[1], rel_pos_km[2],\n",
        "        rel_vel_kmps[0], rel_vel_kmps[1], rel_vel_kmps[2],\n",
        "        time_to_tca_min, fuel_ms\n",
        "    ], dtype=np.float32)\n",
        "    obs = env.state.copy()\n",
        "    traj = []\n",
        "    for _ in range(steps):\n",
        "        action, _ = model.predict(obs, deterministic=True)\n",
        "        obs, reward, terminated, truncated, info = env.step(action)\n",
        "        traj.append((obs.copy(), action.copy(), reward, info))\n",
        "        if terminated or truncated:\n",
        "            break\n",
        "    return traj\n",
        "\n",
        "# Example call with arbitrary initial geometry:\n",
        "_ = run_cam_for_pair(np.array([1.0,0.2,0.0]), np.array([0.0,0.0,0.0]), model=model)\n"
      ],
      "metadata": {
        "id": "uAxJUS33LYvz"
      },
      "execution_count": null,
      "outputs": []
    },
    {
      "cell_type": "markdown",
      "source": [
        "Code scaffolding: end-to-end stepper"
      ],
      "metadata": {
        "id": "0GBlcLgDQUZG"
      }
    },
    {
      "cell_type": "code",
      "source": [
        "\n",
        "\n",
        "def physics_score_event(pair, epoch_time, hbr_m, sigma_surrogate_m):\n",
        "    md_m, Pc = miss_distance_and_Pc_stub(pair[\"rel_pos_km\"], pair[\"rel_vel_kmps\"],\n",
        "                                         hbr_m=hbr_m, sigma_m=sigma_surrogate_m)\n",
        "    return {\"md_m\": md_m, \"Pc\": Pc}\n",
        "\n",
        "def propose_cam_with_ppo(pair, model, max_iters=3):\n",
        "    traj = run_cam_for_pair(pair[\"rel_pos_km\"], pair[\"rel_vel_kmps\"],\n",
        "                            time_to_tca_min=pair[\"tca_min\"],\n",
        "                            fuel_ms=pair.get(\"fuel_ms\", 10.0),\n",
        "                            model=model, steps=40)\n",
        "    if not traj:\n",
        "        return None\n",
        "    obs, act, reward, info = traj[-1]\n",
        "    return {\"dv_last_ms\": float(np.linalg.norm(act)), \"Pc_post\": float(info[\"Pc\"]), \"md_post_m\": float(info[\"md\"])}\n",
        "\n",
        "def process_batch(g_scores, topk, model, Pc_thresh=1e-4, hbr_m=10.0, sigma_surrogate_m=200.0):\n",
        "\n",
        "    batch = sorted(g_scores, key=lambda d: -d[\"score\"])[:topk]\n",
        "    results = []\n",
        "    for pair in batch:\n",
        "        pre = physics_score_event(pair, None, hbr_m, sigma_surrogate_m)\n",
        "        if pre[\"Pc\"] < Pc_thresh:\n",
        "            continue\n",
        "        cam = propose_cam_with_ppo(pair, model)\n",
        "        if cam is None:\n",
        "            continue\n",
        "        accept = cam[\"Pc_post\"] < Pc_thresh\n",
        "        results.append({\"pair\": pair, \"pre\": pre, \"cam\": cam, \"accepted\": accept})\n",
        "    return results\n"
      ],
      "metadata": {
        "id": "AP83C_-ILwVx"
      },
      "execution_count": null,
      "outputs": []
    },
    {
      "cell_type": "markdown",
      "source": [
        "Pc code sketch"
      ],
      "metadata": {
        "id": "soVV8bapQX4m"
      }
    },
    {
      "cell_type": "code",
      "source": [
        "import numpy as np\n",
        "\n",
        "def pc_2d_analytic(md_vec_m, cov3d_primary, cov3d_secondary, hbr_m):\n",
        "    raise NotImplementedError\n",
        "\n",
        "def pc_monte_carlo(rel_state_mean, cov6x6, hbr_m, N=200000, rng=None):\n",
        "    rng = np.random.default_rng() if rng is None else rng\n",
        "    samples = rng.multivariate_normal(rel_state_mean, cov6x6, size=N)\n",
        "    d = np.linalg.norm(samples[:, :3], axis=1)\n",
        "    return float(np.mean(d*1.0 <= hbr_m))\n"
      ],
      "metadata": {
        "id": "oa_e4apjLx30"
      },
      "execution_count": null,
      "outputs": []
    },
    {
      "cell_type": "markdown",
      "source": [
        "Example: pipeline skeleton"
      ],
      "metadata": {
        "id": "Hv2a4BA3QbOb"
      }
    },
    {
      "cell_type": "code",
      "source": [
        "def run_cycle(tle_files, gnn_model, ppo_model, cfg):\n",
        "    graphs = build_temporal_graphs(tle_files, cfg)\n",
        "    g_scores = score_edges_with_gnn(graphs, gnn_model, cfg)\n",
        "\n",
        "    validated = []\n",
        "    for ev in topk(g_scores, cfg.topk):\n",
        "        pre = compute_pc_appendixN(ev, cfg)\n",
        "        if pre[\"Pc\"] >= cfg.alert.pc_threshold:\n",
        "            validated.append((ev, pre))\n",
        "\n",
        "\n",
        "    outputs = []\n",
        "    for ev, pre in validated:\n",
        "        cam = propose_cam_with_ppo(ev, ppo_model)\n",
        "        if cam:\n",
        "            post = recompute_pc_with_cam(ev, cam, cfg)\n",
        "            accept = (post[\"Pc\"] < cfg.accept.pc_threshold) and (cam[\"dv_last_ms\"] <= cfg.limits.dv_max_ms)\n",
        "            outputs.append({\"event\": ev, \"pre\": pre, \"cam\": cam, \"post\": post, \"accepted\": accept})\n",
        "\n",
        "\n",
        "    store_results(outputs, cfg.storage)\n",
        "    send_alerts(outputs, cfg.notifications)\n",
        "    return outputs\n"
      ],
      "metadata": {
        "id": "eF8bmo-HL6hP"
      },
      "execution_count": null,
      "outputs": []
    },
    {
      "cell_type": "markdown",
      "source": [
        "TCA and relative geometry from TLEs"
      ],
      "metadata": {
        "id": "zcdCoOfIQey0"
      }
    },
    {
      "cell_type": "code",
      "source": [
        "!pip -q install skyfield sgp4 numpy\n",
        "\n",
        "import numpy as np\n",
        "from skyfield.api import load, EarthSatellite\n",
        "\n",
        "def load_tle_text(lines):\n",
        "    \"\"\"Return a Skyfield EarthSatellite from a 3-line TLE block [name, L1, L2].\"\"\"\n",
        "    name, l1, l2 = lines\n",
        "    return EarthSatellite(l1, l2, name, load.timescale())\n",
        "\n",
        "def eci_km(sat, t):\n",
        "    \"\"\"ECI position (km) and velocity (km/s) at time t.\"\"\"\n",
        "    g = sat.at(t)\n",
        "    r = g.position.km\n",
        "    v = g.velocity.km_per_s\n",
        "    return r, v\n",
        "\n",
        "def closest_approach(satA, satB, ts, t_start, t_end, steps=600, refine=True, refine_steps=20):\n",
        "    \"\"\"\n",
        "    Bracket and refine time of closest approach (TCA) by sampling then golden-section search.\n",
        "    Returns dict with tca time, rel_pos_km, rel_vel_kmps, miss_km.\n",
        "    \"\"\"\n",
        "    times = ts.linspace(t_start, t_end, steps)\n",
        "    d2 = []\n",
        "    for t in times:\n",
        "        rA, vA = eci_km(satA, t)\n",
        "        rB, vB = eci_km(satB, t)\n",
        "        dr = rA - rB\n",
        "        d2.append(np.dot(dr, dr))\n",
        "    i_min = int(np.argmin(d2))\n",
        "    t0 = times[max(0, i_min-1)]\n",
        "    t1 = times[min(len(times)-1, i_min+1)]\n",
        "\n",
        "    if refine:\n",
        "        phi = (1 + 5**0.5)/2\n",
        "        invphi = 1/phi\n",
        "        a = t0.tt\n",
        "        b = t1.tt\n",
        "        c = b - (b-a)*invphi\n",
        "        d = a + (b-a)*invphi\n",
        "\n",
        "        def d2_tt(tt):\n",
        "            t = ts.tt(jd=tt)\n",
        "            rA, vA = eci_km(satA, t)\n",
        "            rB, vB = eci_km(satB, t)\n",
        "            dr = rA - rB\n",
        "            return float(np.dot(dr, dr))\n",
        "\n",
        "        for _ in range(refine_steps):\n",
        "            if d2_tt(c) < d2_tt(d):\n",
        "                b = d\n",
        "                d = c\n",
        "                c = b - (b-a)*invphi\n",
        "            else:\n",
        "                a = c\n",
        "                c = d\n",
        "                d = a + (b-a)*invphi\n",
        "        tca_tt = 0.5*(a+b)\n",
        "    else:\n",
        "        tca_tt = times[i_min].tt\n",
        "\n",
        "    tca = ts.tt(jd=tca_tt)\n",
        "    rA, vA = eci_km(satA, tca)\n",
        "    rB, vB = eci_km(satB, tca)\n",
        "    dr = rA - rB\n",
        "    dv = vA - vB\n",
        "    miss_km = float(np.linalg.norm(dr))\n",
        "    return {\"tca\": tca, \"rel_pos_km\": dr, \"rel_vel_kmps\": dv, \"miss_km\": miss_km}\n",
        "\n",
        "# Example usage (replace with actual TLEs):\n",
        "ts = load.timescale()\n",
        "tleA = [\"SAT-A\",\n",
        "        \"1 25544U 98067A   25263.15311495  .00015260  00000+0  27067-3 0  9995\",\n",
        "        \"2 25544  51.6337 196.3707 0004371 358.2759   1.8214 15.50431661  112\"]\n",
        "tleB = [\"SAT-B\",\n",
        "        \"1 39227U 13043A   25263.10000000  .00000010  00000+0  00000+0 0  9991\",\n",
        "        \"2 39227  55.0000 100.0000 0001000   0.0000  10.0000 14.80000000  0001\"]\n",
        "satA = load_tle_text(tleA)\n",
        "satB = load_tle_text(tleB)\n",
        "t0 = ts.utc(2025, 9, 21, 0, 0, 0)\n",
        "t1 = ts.utc(2025, 9, 21, 6, 0, 0)\n",
        "evt = closest_approach(satA, satB, ts, t0, t1)\n",
        "print(\"Miss (km):\", evt[\"miss_km\"], \"TCA:\", evt[\"tca\"].utc_strftime())\n"
      ],
      "metadata": {
        "colab": {
          "base_uri": "https://localhost:8080/"
        },
        "id": "-NGVIIOEMKK-",
        "outputId": "8f9652c9-2d68-4793-a0b2-c9e4e698e4d1"
      },
      "execution_count": null,
      "outputs": [
        {
          "output_type": "stream",
          "name": "stdout",
          "text": [
            "Miss (km): 251.8421213316651 TCA: 2025-09-21 00:48:20 UTC\n"
          ]
        }
      ]
    },
    {
      "cell_type": "markdown",
      "source": [
        "Probability of collision: analytic 2‑D + Monte Carlo fallback"
      ],
      "metadata": {
        "id": "eongopRsQh1W"
      }
    },
    {
      "cell_type": "code",
      "source": [
        "import numpy as np\n",
        "\n",
        "def project_to_encounter_plane(rel_pos_km, rel_vel_kmps):\n",
        "    \"\"\"\n",
        "    Build encounter-plane basis: e_c along relative velocity, e_r in plane orthogonal to e_c,\n",
        "    and e_n normal completing RHS. Return rotation matrix R that maps ECI->encounter frame.\n",
        "    \"\"\"\n",
        "    v = rel_vel_kmps / (np.linalg.norm(rel_vel_kmps) + 1e-12)\n",
        "    r = rel_pos_km - np.dot(rel_pos_km, v) * v\n",
        "    r = r / (np.linalg.norm(r) + 1e-12)\n",
        "    n = np.cross(v, r)\n",
        "    n = n / (np.linalg.norm(n) + 1e-12)\n",
        "\n",
        "    R = np.vstack([r, n, v])\n",
        "    return R\n",
        "\n",
        "def pc_analytic_2d(mu_rel_m, cov_rel_3x3_m2, hbr_m):\n",
        "    \"\"\"\n",
        "    2-D Gaussian Pc: integrate over circle radius hbr in encounter plane using eigen-decomp closed form.\n",
        "    Assumes mu_rel_m is mean relative position at TCA in the encounter plane (2D), cov is 2x2.\n",
        "    \"\"\"\n",
        "    w, U = np.linalg.eigh(cov_rel_3x3_m2[:2,:2])\n",
        "        z = U.T @ mu_rel_m[:2]\n",
        "    z = z / np.sqrt(np.maximum(w, 1e-12))\n",
        "    sigma = float(np.sqrt(np.mean(np.maximum(w, 1e-12))))\n",
        "    r = np.linalg.norm(mu_rel_m[:2])\n",
        "    Pc_iso = 1.0 - np.exp(-(hbr_m**2)/(2*sigma**2))\n",
        "    return float(np.clip(Pc_iso, 0.0, 1.0))\n",
        "\n",
        "def pc_monte_carlo(mu6, cov6, hbr_m, N=200000, seed=1):\n",
        "    rng = np.random.default_rng(seed)\n",
        "    samples = rng.multivariate_normal(mu6, cov6, size=N)\n",
        "    d = np.linalg.norm(samples[:, :3], axis=1)\n",
        "    return float(np.mean(d <= hbr_m))\n",
        "\n",
        "def compute_pc(evt, cov_primary_3x3_m2, cov_secondary_3x3_m2, hbr_m=10.0, fallback_mc=True):\n",
        "    \"\"\"\n",
        "    evt: dict with rel_pos_km, rel_vel_kmps at TCA.\n",
        "    cov_*: 3x3 position covariance at TCA for each object (meters^2). If not available, pass surrogates.\n",
        "    \"\"\"\n",
        "    rel_pos_m = evt[\"rel_pos_km\"] * 1000.0\n",
        "    rel_vel_mps = evt[\"rel_vel_kmps\"] * 1000.0\n",
        "    R = project_to_encounter_plane(evt[\"rel_pos_km\"], evt[\"rel_vel_kmps\"])\n",
        "    mu_enc = R @ (rel_pos_m)\n",
        "    S = cov_primary_3x3_m2 + cov_secondary_3x3_m2\n",
        "    S_enc = R @ S @ R.T\n",
        "    try:\n",
        "        Pc = pc_analytic_2d(mu_enc, S_enc, hbr_m)\n",
        "    except Exception:\n",
        "        Pc = None\n",
        "    if (Pc is None or not np.isfinite(Pc) or Pc < 0.0 or Pc > 1.0) and fallback_mc:\n",
        "        cov6 = np.zeros((6,6))\n",
        "        cov6[:3,:3] = S\n",
        "        cov6[3:,3:] = np.eye(3) * (1.0)\n",
        "        mu6 = np.zeros(6); mu6[:3] = rel_pos_m\n",
        "        Pc = pc_monte_carlo(mu6, cov6, hbr_m=hbr_m, N=200000)\n",
        "    return float(np.clip(Pc, 0.0, 1.0))\n",
        "\n",
        "covP = np.eye(3) * (300.0**2)\n",
        "covS = np.eye(3) * (300.0**2)\n",
        "Pc_est = compute_pc(evt, covP, covS, hbr_m=10.0)\n",
        "print(\"Estimated Pc:\", Pc_est)\n"
      ],
      "metadata": {
        "colab": {
          "base_uri": "https://localhost:8080/"
        },
        "id": "m2Hf989oM07L",
        "outputId": "b65beff1-7fc6-4c97-eab8-21c7fe8f7426"
      },
      "execution_count": null,
      "outputs": [
        {
          "output_type": "stream",
          "name": "stdout",
          "text": [
            "Estimated Pc: 0.0002777392011031887\n"
          ]
        }
      ]
    },
    {
      "cell_type": "markdown",
      "source": [
        "Integrate Pc and TCA into the driver"
      ],
      "metadata": {
        "id": "VuG854UpQl4n"
      }
    },
    {
      "cell_type": "code",
      "source": [
        "def compute_pc_appendixN(event, cfg):\n",
        "    covP = np.eye(3) * (cfg[\"cov_sigma_m\"]**2)\n",
        "    covS = np.eye(3) * (cfg[\"cov_sigma_m\"]**2)\n",
        "    Pc = compute_pc(event, covP, covS, hbr_m=cfg[\"hbr_m\"], fallback_mc=True)\n",
        "    return {\"Pc\": Pc, \"method\": \"analytic2D+MC\", \"hbr_m\": cfg[\"hbr_m\"]}\n",
        "\n",
        "cfg = {\"cov_sigma_m\": 300.0, \"hbr_m\": 10.0}\n",
        "pre = compute_pc_appendixN(evt, cfg)\n",
        "print(pre)\n"
      ],
      "metadata": {
        "colab": {
          "base_uri": "https://localhost:8080/"
        },
        "id": "4lfq_UPdM98L",
        "outputId": "5c4621b5-0c6c-4366-ba86-cccf1c296767"
      },
      "execution_count": null,
      "outputs": [
        {
          "output_type": "stream",
          "name": "stdout",
          "text": [
            "{'Pc': 0.0002777392011031887, 'method': 'analytic2D+MC', 'hbr_m': 10.0}\n"
          ]
        }
      ]
    },
    {
      "cell_type": "markdown",
      "source": [
        "3D globe with orbits and risky events (Plotly)"
      ],
      "metadata": {
        "id": "meiiZDUjQpAY"
      }
    },
    {
      "cell_type": "code",
      "source": [
        "!pip -q install plotly\n",
        "import numpy as np, plotly.graph_objects as go\n",
        "\n",
        "def unit_sphere(n=60):\n",
        "    u = np.linspace(0, 2*np.pi, n)\n",
        "    v = np.linspace(0, np.pi, n)\n",
        "    x = np.outer(np.cos(u), np.sin(v))\n",
        "    y = np.outer(np.sin(u), np.sin(v))\n",
        "    z = np.outer(np.ones_like(u), np.cos(v))\n",
        "    return x, y, z\n",
        "\n",
        "def eci_to_xyz_km(r_eci_km):\n",
        "    return r_eci_km[0], r_eci_km[1], r_eci_km[2]\n",
        "\n",
        "def sample_orbit_positions(sat, ts, t0, t1, steps=360):\n",
        "    times = ts.linspace(t0, t1, steps)\n",
        "    xs, ys, zs = [], [], []\n",
        "    for t in times:\n",
        "        r, _ = eci_km(sat, t)\n",
        "        x, y, z = eci_to_xyz_km(r)\n",
        "        xs.append(x); ys.append(y); zs.append(z)\n",
        "    return np.array(xs), np.array(ys), np.array(zs)\n",
        "\n",
        "def plot_globe_with_orbits(orbits, events=None, earth_radius_km=6371.0, title=\"Orbits & Risky Encounters\"):\n",
        "    xe, ye, ze = unit_sphere(80)\n",
        "    fig = go.Figure()\n",
        "    fig.add_trace(go.Surface(x=earth_radius_km*xe, y=earth_radius_km*ye, z=earth_radius_km*ze,\n",
        "                             colorscale=\"Earth\", showscale=False, opacity=0.7))\n",
        "    for name, (xs, ys, zs) in orbits.items():\n",
        "        fig.add_trace(go.Scatter3d(x=xs, y=ys, z=zs, mode=\"lines\", name=name,\n",
        "                                   line=dict(width=3)))\n",
        "    if events:\n",
        "        for ev in events:\n",
        "            rp = ev[\"rel_pos_km\"]\n",
        "            r_primary = ev[\"r_primary_km\"]\n",
        "            r_event = r_primary + rp\n",
        "            fig.add_trace(go.Scatter3d(x=[r_event[0]], y=[r_event[1]], z=[r_event[2]],\n",
        "                                       mode=\"markers+text\",\n",
        "                                       name=f\"Pc={ev['Pc']:.2e}\",\n",
        "                                       marker=dict(size=5, color=\"red\"),\n",
        "                                       text=[f\"Pc={ev['Pc']:.1e}\"],\n",
        "                                       textposition=\"top center\"))\n",
        "    fig.update_layout(scene=dict(xaxis=dict(visible=False),\n",
        "                                 yaxis=dict(visible=False),\n",
        "                                 zaxis=dict(visible=False)),\n",
        "                      title=title, showlegend=True,\n",
        "                      height=720)\n",
        "    fig.show()\n",
        "\n",
        "# Example: feed from earlier Skyfield objects and evt\n",
        "t0 = ts.utc(2025, 9, 21, 0, 0, 0)\n",
        "t1 = ts.utc(2025, 9, 21, 3, 0, 0)\n",
        "xsA, ysA, zsA = sample_orbit_positions(satA, ts, t0, t1, 360)\n",
        "xsB, ysB, zsB = sample_orbit_positions(satB, ts, t0, t1, 360)\n",
        "orbits = {\"SAT-A\": (xsA, ysA, zsA), \"SAT-B\": (xsB, ysB, zsB)}\n",
        "\n",
        "event_payload = [{\n",
        "    \"Pc\": pre[\"Pc\"],\n",
        "    \"rel_pos_km\": evt[\"rel_pos_km\"],\n",
        "    \"r_primary_km\": (eci_km(satA, evt[\"tca\"])[0])\n",
        "}]\n",
        "plot_globe_with_orbits(orbits, event_payload, title=\"Demo: SAT-A & SAT-B with risky event\")\n"
      ],
      "metadata": {
        "colab": {
          "base_uri": "https://localhost:8080/",
          "height": 826
        },
        "id": "28oyPWxCNCLx",
        "outputId": "b6d128e3-4f2d-4913-9a82-4a80e1a266b6"
      },
      "execution_count": null,
      "outputs": [
        {
          "output_type": "display_data",
          "data": {
            "text/html": [
              "<html>\n",
              "<head><meta charset=\"utf-8\" /></head>\n",
              "<body>\n",
              "    <div>            <script src=\"https://cdnjs.cloudflare.com/ajax/libs/mathjax/2.7.5/MathJax.js?config=TeX-AMS-MML_SVG\"></script><script type=\"text/javascript\">if (window.MathJax && window.MathJax.Hub && window.MathJax.Hub.Config) {window.MathJax.Hub.Config({SVG: {font: \"STIX-Web\"}});}</script>                <script type=\"text/javascript\">window.PlotlyConfig = {MathJaxConfig: 'local'};</script>\n",
              "        <script charset=\"utf-8\" src=\"https://cdn.plot.ly/plotly-2.35.2.min.js\"></script>                <div id=\"0ef3849d-4933-4d1b-af4a-45b014085a14\" class=\"plotly-graph-div\" style=\"height:720px; width:100%;\"></div>            <script type=\"text/javascript\">                                    window.PLOTLYENV=window.PLOTLYENV || {};                                    if (document.getElementById(\"0ef3849d-4933-4d1b-af4a-45b014085a14\")) {                    Plotly.newPlot(                        \"0ef3849d-4933-4d1b-af4a-45b014085a14\",                        [{\"colorscale\":[[0.0,\"rgb(161, 105, 40)\"],[0.16666666666666666,\"rgb(189, 146, 90)\"],[0.3333333333333333,\"rgb(214, 189, 141)\"],[0.5,\"rgb(237, 234, 194)\"],[0.6666666666666666,\"rgb(181, 200, 184)\"],[0.8333333333333334,\"rgb(121, 167, 172)\"],[1.0,\"rgb(40, 135, 161)\"]],\"opacity\":0.7,\"showscale\":false,\"x\":[[0.0,253.28875768251322,506.1770137767923,758.2648999699354,1009.1538134983666,1258.4470474207365,1505.7504178931372,1750.672887454782,1992.8271833386093,2231.8304098291246,2467.304653699234,2698.8775817687324,2926.1830296395924,3148.861580677142,3366.5611343216383,3578.937462831631,3785.654755578768,3986.3861500334274,4180.814248601563,4368.631620495538,4549.541287845393,4723.257195281896,4889.504662248888,5048.02081732969,5198.555013900855,5340.869226455992,5474.738426973021,5599.9509407297255,5716.308781005001,5823.627962136555,5921.738790440053,6010.48613252972,6089.729660616103,6159.344074393155,6219.219299163773,6269.260659890518,6309.389030896309,6339.540960978385,6359.668773737695,6369.740642965087,6369.740642965087,6359.668773737695,6339.540960978385,6309.389030896309,6269.260659890518,6219.219299163773,6159.344074393154,6089.729660616103,6010.486132529719,5921.738790440053,5823.627962136555,5716.308781005001,5599.950940729725,5474.738426973021,5340.869226455991,5198.555013900854,5048.02081732969,4889.504662248887,4723.257195281895,4549.5412878453935,4368.631620495538,4180.814248601562,3986.386150033426,3785.654755578768,3578.937462831631,3366.561134321638,3148.861580677142,2926.183029639592,2698.877581768731,2467.3046536992324,2231.8304098291246,1992.8271833386082,1750.6728874547807,1505.7504178931374,1258.4470474207358,1009.153813498365,758.2648999699359,506.17701377679197,253.28875768251197,7.802224757367787e-13],[0.0,252.48807114371107,504.5769067491833,755.8679025516249,1005.9637158349648,1254.4688937123587,1500.990498418488,1745.1387286249303,1986.5275357961857,2224.7752346117572,2459.505106489101,2690.345995253133,2916.9328940104365,3138.9075223001823,3355.9188926091792,3567.6238653552846,3773.687691461601,3973.784541663585,4167.5980217120805,4354.821672657662,4535.159455425225,4708.3262189126135,4874.0481508731245,5032.063210868944,5182.121544610954,5323.985879029708,5457.431897452929,5582.248594296274,5698.238608706536,5805.218536629723,5903.019220810552,5991.486018264855,6070.479044801913,6139.873396210119,6199.559345756205,6249.44251768577,6289.444036450734,6319.500651427803,6339.564836930698,6349.60486735804,6349.60486735804,6339.564836930698,6319.500651427803,6289.444036450734,6249.44251768577,6199.559345756205,6139.873396210118,6070.479044801913,5991.4860182648545,5903.019220810552,5805.218536629722,5698.238608706536,5582.248594296272,5457.431897452929,5323.985879029708,5182.121544610953,5032.063210868944,4874.048150873124,4708.326218912613,4535.159455425226,4354.821672657662,4167.59802171208,3973.7845416635837,3773.687691461601,3567.6238653552846,3355.9188926091783,3138.9075223001823,2916.932894010436,2690.3459952531316,2459.505106489099,2224.7752346117572,1986.5275357961846,1745.138728624929,1500.990498418488,1254.468893712358,1005.9637158349632,755.8679025516253,504.57690674918297,252.48807114370985,7.777560668866223e-13],[0.0,250.09107372540058,499.78670205817247,748.6920648861345,996.4135916693047,1242.559583755819,1486.7408337380132,1728.5712408693335,1967.6684215689795,2203.654314048939,2436.1557761073877,2664.8051751432067,2889.2409694586886,3109.1082799312762,3324.059451150398,3533.7546011321347,3737.8621587424927,3936.059387979519,4128.032898285263,4313.479140080661,4492.104884739811,4663.627688244709,4827.776337787292,4984.291280612631,5132.925034425197,5273.442578709225,5405.62172634447,5529.253474929705,5644.142337258478,5750.106650424574,5846.978863068396,5934.605800310122,6012.8489059506555,6081.58446155747,6140.703782088874,6190.113387747403,6229.7351517905945,6259.506424065424,6279.380130071078,6289.324845393413,6289.324845393413,6279.380130071078,6259.506424065424,6229.7351517905945,6190.113387747403,6140.703782088874,6081.58446155747,6012.8489059506555,5934.605800310121,5846.978863068396,5750.106650424573,5644.142337258478,5529.253474929704,5405.62172634447,5273.442578709225,5132.925034425195,4984.291280612631,4827.776337787291,4663.627688244708,4492.1048847398115,4313.479140080661,4128.032898285262,3936.059387979518,3737.8621587424927,3533.7546011321347,3324.0594511503978,3109.1082799312762,2889.240969458688,2664.8051751432054,2436.155776107386,2203.654314048939,1967.6684215689786,1728.5712408693323,1486.7408337380134,1242.5595837558183,996.4135916693031,748.692064886135,499.7867020581721,250.09107372539935,7.703724337670144e-13],[0.0,246.11292001702293,491.83668492012134,736.7827549295947,980.5638199612209,1222.7944120431098,1463.0915148197962,1701.075169179827,1936.3690740492157,2168.6011814007834,2397.404284538567,2622.416598727082,2843.2823332473504,3059.652253975161,3271.1842355920007,3477.5438025555104,3678.404657974061,3873.4491995492117,4062.369021770224,4244.865403566567,4420.64978064733,4589.444201780679,4750.981768291885,4905.007056084991,5051.2765195208085,5189.5588765126295,5319.635474230748,5441.300634837526,5554.3619807063305,5658.640738610105,5753.972022398581,5840.205093717189,5917.2036003553585,5984.845791847407,6043.024711985045,6091.648367937125,6130.639875709219,6159.937581713015,6179.49516025331,6189.281686778464,6189.281686778464,6179.49516025331,6159.937581713015,6130.639875709219,6091.648367937125,6043.024711985045,5984.845791847406,5917.2036003553585,5840.205093717189,5753.972022398581,5658.640738610105,5554.3619807063305,5441.300634837525,5319.635474230748,5189.558876512629,5051.276519520807,4905.007056084991,4750.981768291884,4589.444201780678,4420.649780647331,4244.865403566567,4062.369021770223,3873.4491995492103,3678.404657974061,3477.5438025555104,3271.1842355920003,3059.652253975161,2843.28233324735,2622.416598727081,2397.4042845385657,2168.6011814007834,1936.3690740492145,1701.075169179826,1463.0915148197962,1222.7944120431089,980.5638199612195,736.7827549295952,491.83668492012094,246.11292001702174,7.581182580838506e-13],[0.0,240.57876118717112,480.7771179030485,720.215267173998,958.5146080706129,1195.2983403536032,1430.1920602724233,1662.8243525745588,1892.827377789384,2119.83745385797,2343.495631189178,2563.448260232737,2779.3475506718796,2990.852121351317,3197.6275400710124,3399.3468523922356,3595.691098619732,3786.349818142559,3971.021540336128,4149.414261249229,4321.2459053222965,4486.244771406848,4644.149962380846,4794.711797680675,4937.6922080974355,5072.8651122132915,5200.0167738826685,5318.946140193028,5429.465159370851,5531.399078130142,5624.586717993291,5708.880730147389,5784.147828432971,5850.269000096843,5907.139693975703,5954.669985813018,5992.78472044776,6021.423630650164,6040.541432416603,6050.107896572911,6050.107896572911,6040.541432416603,6021.423630650164,5992.78472044776,5954.669985813018,5907.139693975703,5850.269000096843,5784.147828432971,5708.880730147388,5624.586717993291,5531.399078130141,5429.465159370851,5318.9461401930275,5200.0167738826685,5072.865112213291,4937.692208097434,4794.711797680675,4644.149962380845,4486.244771406848,4321.245905322297,4149.414261249229,3971.0215403361267,3786.3498181425575,3595.691098619732,3399.3468523922356,3197.627540071012,2990.852121351317,2779.3475506718796,2563.4482602327357,2343.495631189176,2119.83745385797,1892.827377789383,1662.8243525745572,1430.1920602724235,1195.2983403536025,958.5146080706113,720.2152671739984,480.7771179030482,240.57876118716993,7.410710146812838e-13],[0.0,233.52358596980392,466.67792315049155,699.0943466111796,930.4053582142509,1160.2452077054472,1388.2504710402006,1614.0606250317458,1837.3186174123857,2057.6714314065125,2274.7706439226963,2488.272976482205,2697.84083801284,2903.142858649813,3103.85441369961,3299.6581369383644,3490.2444224330793,3675.3119140922545,3854.567982171806,4027.7291859828397,4194.521722069644,4354.681857149226,4507.956345127847,4654.102827535148,4792.890216742707,4924.099061361075,5047.521893237539,5162.963555505907,5270.241511169629,5369.186131730314,5459.6409654052395,5541.462984509797,5614.522811613637,5678.704924113,5733.907836895686,5780.044262809883,5817.041250683087,5844.840300672913,5863.39745676736,5872.683376288303,5872.683376288303,5863.39745676736,5844.840300672913,5817.041250683087,5780.044262809883,5733.907836895686,5678.704924113,5614.522811613637,5541.462984509796,5459.6409654052395,5369.186131730313,5270.241511169629,5162.963555505905,5047.521893237539,4924.099061361074,4792.890216742705,4654.102827535148,4507.956345127846,4354.681857149225,4194.521722069645,4027.7291859828397,3854.567982171804,3675.311914092253,3490.2444224330793,3299.6581369383644,3103.8544136996097,2903.142858649813,2697.84083801284,2488.272976482204,2274.7706439226945,2057.6714314065125,1837.3186174123846,1614.0606250317444,1388.2504710402009,1160.2452077054468,930.4053582142495,699.0943466111801,466.6779231504912,233.52358596980275,7.193384817208167e-13],[0.0,224.99199945420457,449.6282403112024,673.5535265012534,896.4137861200794,1117.8566312893226,1337.5319153542132,1555.0922865374007,1770.193737173513,1982.4961476559808,2191.6638242360477,2397.3660298235886,2599.2775069504273,2797.0789920692528,2990.4577203749063,3179.1079203498302,3362.7312972516843,3541.0375047786456,3713.7446041665953,3880.5795099922507,4041.2784219773557,4195.58724211114,4343.261976431504,4484.069120829626,4617.786030267951,4744.201270827763,4863.114954029667,4974.33905289836,5077.697699271928,5173.027461885562,5260.177604789974,5339.010325695924,5409.400973867956,5471.238247222835,5524.424368321022,5568.875238972896,5604.520573215287,5631.304008448022,5649.183194554787,5658.129860867363,5658.129860867363,5649.183194554787,5631.304008448022,5604.520573215287,5568.875238972896,5524.424368321022,5471.238247222835,5409.400973867956,5339.010325695924,5260.177604789974,5173.027461885561,5077.697699271928,4974.339052898359,4863.114954029667,4744.2012708277625,4617.786030267949,4484.069120829626,4343.261976431503,4195.587242111139,4041.278421977356,3880.5795099922507,3713.7446041665944,3541.037504778645,3362.7312972516843,3179.1079203498302,2990.4577203749054,2797.0789920692528,2599.2775069504273,2397.3660298235873,2191.663824236046,1982.4961476559808,1770.193737173512,1555.0922865373996,1337.5319153542132,1117.856631289322,896.4137861200779,673.5535265012538,449.62824031120215,224.99199945420347,6.93058059273062e-13],[0.0,215.03794107724485,429.7358629695878,643.7542841323475,856.7547974511646,1068.400605333207,1278.3570522533919,1486.2921539135568,1691.8771221778754,1894.7868849544768,2094.7006002012445,2291.3021632430286,2484.280706598114,2673.3310915236066,2858.1543905025005,3038.458359909534,3213.957902108423,3384.3755162498273,3549.4417370572346,3708.8955609069453,3862.484858528455,4009.96677367265,4151.108107117459,4285.685685403755,4413.486713718466,4534.30911236691,4647.96183630234,4754.26517720742,4853.051047650012,4944.163246863971,5027.457707734643,5102.8027245986,5170.07916149736,5229.180640555821,5280.013710187556,5322.4979928609755,5356.566312192722,5382.164799167345,5399.25297731529,5407.803826714506,5407.803826714506,5399.25297731529,5382.164799167345,5356.566312192722,5322.4979928609755,5280.013710187556,5229.18064055582,5170.07916149736,5102.8027245985995,5027.457707734643,4944.16324686397,4853.051047650012,4754.265177207418,4647.96183630234,4534.309112366909,4413.486713718464,4285.685685403755,4151.108107117459,4009.9667736726497,3862.484858528456,3708.8955609069453,3549.4417370572332,3384.375516249827,3213.957902108423,3038.458359909534,2858.1543905024996,2673.3310915236066,2484.2807065981137,2291.3021632430273,2094.7006002012427,1894.7868849544768,1691.8771221778743,1486.2921539135557,1278.357052253392,1068.4006053332064,856.7547974511632,643.7542841323478,429.7358629695875,215.03794107724377,6.623959006302581e-13],[0.0,203.72434360089804,407.1265571399622,609.8850199091985,811.6791291029002,1012.189806756582,1211.1000042748267,1408.0952037502825,1602.8639152811231,1795.0981695006049,1984.4940045399414,2170.7519466544945,2353.577483753317,2532.68153108331,2707.7808883316297,2878.5986874236028,3044.8648303080513,3206.3164160378337,3362.6981564702824,3513.7627799302263,3659.2714221973383,3798.9940041995605,3932.709595815416,4060.206765209935,4181.2839131518485,4295.74959178341,4403.422807338809,4504.133306332521,4597.721844765055,4684.040439920457,4762.952604357397,4834.333561723866,4898.070444054243,4954.06247023674,5002.221105369059,5042.47020075027,5074.746114287558,5098.997811127459,5115.186944352439,5123.287915615272,5123.287915615272,5115.186944352439,5098.997811127459,5074.746114287558,5042.47020075027,5002.221105369059,4954.0624702367395,4898.070444054243,4834.333561723866,4762.952604357397,4684.040439920456,4597.721844765055,4504.13330633252,4403.422807338809,4295.749591783409,4181.283913151848,4060.206765209935,3932.709595815416,3798.99400419956,3659.2714221973383,3513.7627799302263,3362.698156470282,3206.3164160378333,3044.8648303080513,2878.5986874236028,2707.7808883316297,2532.68153108331,2353.5774837533168,2170.751946654493,1984.49400453994,1795.0981695006049,1602.863915281122,1408.0952037502814,1211.100004274827,1012.1898067565814,811.679129102899,609.8850199091988,407.1265571399619,203.72434360089707,6.275458618316585e-13],[0.0,191.12273523105557,381.9432661333125,572.1598662251326,761.4717639636244,949.5796183262742,1136.1859921306313,1320.9958223436297,1503.7168866368934,1684.0602654503004,1861.740798833196,2036.4775373408863,2207.9941862734577,2376.0195425544916,2540.2879235588675,2700.5395872116096,2856.5211426934907,3007.9859511040027,3154.694515448155,3296.414859330449,3432.9228937572434,3564.002771467511,3689.447228231727,3809.057910579216,3922.645689435761,4030.0309591755463,4131.043921614564,4225.524854496449,4313.324364046194,4394.303621192417,4468.334581084656,4535.300185558598,4595.094548229097,4647.6231219183155,4692.802848154247,4730.5622885032235,4760.841737528777,4783.593317198196,4798.781052587541,4806.380928765391,4806.380928765391,4798.781052587541,4783.593317198196,4760.841737528777,4730.5622885032235,4692.802848154247,4647.6231219183155,4595.094548229097,4535.300185558597,4468.334581084656,4394.303621192417,4313.324364046194,4225.524854496448,4131.043921614564,4030.0309591755454,3922.6456894357602,3809.057910579216,3689.447228231727,3564.002771467511,3432.9228937572443,3296.414859330449,3154.694515448154,3007.9859511040017,2856.5211426934907,2700.5395872116096,2540.2879235588666,2376.0195425544916,2207.9941862734577,2036.4775373408852,1861.7407988331945,1684.0602654503004,1503.7168866368925,1320.9958223436283,1136.1859921306313,949.5796183262736,761.4717639636232,572.159866225133,381.94326613331225,191.12273523105463,5.887282760432364e-13],[0.0,177.312787393179,354.34520682366224,530.8173336481314,706.4501291610436,880.9658818121803,1054.088646325691,1225.5446800262916,1395.0628756827045,1562.3751901839112,1727.2170683704096,1889.3278613502973,2048.4512386387464,2204.3355934691863,2356.7344406353177,2505.4068062348906,2650.1176086989717,2790.6380305042253,2926.7458799804517,3058.225942641287,3184.8703214825437,3306.4787657101037,3422.8589873775886,3533.8269654331225,3639.207236694442,3738.8331732922547,3832.547246143146,3920.2012740354426,4001.6566579341634,4076.784600134589,4145.4663079178945,4207.593181386867,4263.066985184659,4311.800003825081,4353.7151803888155,4388.746238366242,4416.837786454229,4437.945406141157,4452.035721941729,4459.086454170465,4459.086454170465,4452.035721941729,4437.945406141157,4416.837786454229,4388.746238366242,4353.7151803888155,4311.80000382508,4263.066985184659,4207.5931813868665,4145.4663079178945,4076.7846001345883,4001.6566579341634,3920.201274035441,3832.547246143146,3738.8331732922547,3639.2072366944417,3533.8269654331225,3422.8589873775886,3306.4787657101033,3184.870321482544,3058.225942641287,2926.745879980451,2790.6380305042244,2650.1176086989717,2505.4068062348906,2356.7344406353172,2204.3355934691863,2048.4512386387464,1889.3278613502966,1727.217068370408,1562.3751901839112,1395.0628756827039,1225.5446800262907,1054.0886463256911,880.96588181218,706.4501291610425,530.8173336481317,354.34520682366207,177.31278739317816,5.461885605404677e-13],[0.0,162.38181102389674,324.5068630277311,486.11880298022675,646.9620891857287,806.782395348149,965.3270127131168,1122.3452496524617,1277.5888280592071,1430.8122759262887,1581.7733154882549,1730.233246312211,1875.9573227322692,2018.7151250306968,2158.2809237788497,2294.434036761801,2426.959177922279,2555.646797772176,2680.293414733361,2800.7019368838796,2916.681973600796,3028.0501366068975,3134.630329945259,3236.2540284231427,3332.7605440849734,3423.997280293019,3509.8199730140427,3590.0929189303947,3664.6891900148453,3733.4908342298913,3796.3890620341667,3853.2844184010723,3904.086940077613,3948.7162978347933,3987.101923484641,4019.1831214630142,4044.909164801767,4064.2393753385113,4077.1431880371524,4083.6001993174946,4083.6001993174946,4077.1431880371524,4064.2393753385113,4044.909164801767,4019.1831214630142,3987.101923484641,3948.7162978347924,3904.086940077613,3853.2844184010723,3796.3890620341667,3733.4908342298913,3664.6891900148453,3590.0929189303934,3509.8199730140427,3423.997280293018,3332.760544084972,3236.2540284231427,3134.6303299452584,3028.050136606897,2916.681973600797,2800.7019368838796,2680.2934147333594,2555.6467977721745,2426.959177922279,2294.434036761801,2158.2809237788492,2018.7151250306968,1875.957322732269,1730.2332463122102,1581.7733154882535,1430.8122759262887,1277.5888280592064,1122.3452496524606,965.3270127131168,806.7823953481486,646.9620891857277,486.1188029802271,324.50686302773084,162.38181102389595,5.001956651012991e-13],[0.0,146.42420456315097,292.61688236206646,438.3468727239145,583.3837465798043,727.4981708205081,870.4622709192449,1012.0499912481457,1152.0374525186671,1290.2033057807616,1426.329082421067,1560.1995396066882,1691.6030006283584,1820.3316896048264,1946.1820600192302,2068.9551165679813,2188.4567298132392,2304.4979431414563,2416.895271542624,2525.4709917377863,2630.0534231960755,2730.477199596918,2826.583530308181,2918.220451466794,3005.2430662648594,3087.5137740612827,3164.9024879566728,3237.286840487468,3304.552377114045,3366.5927371968783,3423.309822174564,3474.613950677818,3520.4240003341492,3560.6675360390054,3595.2809244905648,3624.209434807062,3647.407325067564,3664.8379146393513,3676.473642177532,3682.296109205199,3682.296109205199,3676.473642177532,3664.8379146393513,3647.407325067564,3624.209434807062,3595.2809244905648,3560.6675360390054,3520.4240003341492,3474.613950677818,3423.309822174564,3366.5927371968783,3304.552377114045,3237.2868404874675,3164.9024879566728,3087.513774061282,3005.2430662648585,2918.220451466794,2826.5835303081803,2730.4771995969177,2630.0534231960755,2525.4709917377863,2416.8952715426235,2304.4979431414554,2188.4567298132392,2068.9551165679813,1946.1820600192295,1820.3316896048264,1691.6030006283584,1560.1995396066873,1426.3290824210658,1290.2033057807616,1152.0374525186667,1012.0499912481449,870.4622709192449,727.4981708205077,583.3837465798034,438.3468727239147,292.61688236206624,146.42420456315025,4.5104037161905755e-13],[0.0,129.5408571368667,258.8768835520732,387.80357240343227,516.1170640955825,643.6144686239112,770.0941863853545,895.3562269488077,1019.2025252811047,1141.437254928545,1261.8671376587704,1380.3017490733766,1496.5538197080277,1610.4395311439728,1721.7788066627472,1830.3955959844807,1936.1181536395752,2038.7793105335918,2138.216738275954,2234.2732058544943,2326.7968282500083,2415.6413065976817,2500.6661595156756,2581.736945235058,2658.7254741798806,2731.5100116612434,2799.975470364862,2864.013592327766,2923.5231201163906,2978.4099569353943,3028.587315414027,3073.9758548348113,3114.503806587516,3150.1070876500867,3180.7294019170727,3206.3223292153425,3226.845401866329,3242.2661686737492,3252.5602462356105,3257.7113574993887,3257.7113574993887,3252.5602462356105,3242.2661686737492,3226.845401866329,3206.3223292153425,3180.7294019170727,3150.107087650086,3114.503806587516,3073.975854834811,3028.587315414027,2978.409956935394,2923.5231201163906,2864.0135923277653,2799.975470364862,2731.510011661243,2658.7254741798797,2581.736945235058,2500.666159515675,2415.6413065976817,2326.7968282500087,2234.2732058544943,2138.216738275953,2038.7793105335911,1936.1181536395752,1830.3955959844807,1721.7788066627468,1610.4395311439728,1496.5538197080275,1380.301749073376,1261.8671376587697,1141.437254928545,1019.2025252811042,895.356226948807,770.0941863853546,643.6144686239109,516.1170640955817,387.80357240343255,258.876883552073,129.5408571368661,3.990334556856975e-13],[0.0,111.83851070341467,223.50018173351626,334.8084530368637,445.5873233576237,555.6616285317324,664.8573184574428,773.0017323043107,879.9238715254585,985.4546702414236,1089.4272625680662,1191.6772464658304,1292.0429436931602,1390.3656554530323,1486.4899133283732,1580.2637251095841,1671.5388151254633,1760.1708586975208,1846.0197103469604,1928.949625393489,2008.8294745955554,2085.5329514926357,2158.938772121709,2228.9308667921327,2295.3985636156794,2358.236763501543,2417.3461063396,2472.633128109171,2524.010408664845,2571.3967099657007,2614.7171045293444,2653.9030939076642,2688.892716996953,2719.6306480111502,2746.0682839632823,2768.1638215167754,2785.8823230851203,2799.1957720753817,2808.0831171881878,2812.5303057041624,2812.5303057041624,2808.0831171881878,2799.1957720753817,2785.8823230851203,2768.1638215167754,2746.0682839632823,2719.63064801115,2688.892716996953,2653.903093907664,2614.7171045293444,2571.3967099657007,2524.010408664845,2472.6331281091702,2417.3461063396,2358.2367635015426,2295.398563615679,2228.9308667921327,2158.9387721217086,2085.532951492635,2008.8294745955557,1928.949625393489,1846.0197103469602,1760.17085869752,1671.5388151254633,1580.2637251095841,1486.489913328373,1390.3656554530323,1292.04294369316,1191.67724646583,1089.4272625680653,985.4546702414236,879.9238715254581,773.0017323043102,664.8573184574428,555.661628531732,445.587323357623,334.8084530368639,223.5001817335161,111.83851070341412,3.4450372176844817e-13],[0.0,93.42908519658226,186.7104398055504,279.6965668317146,372.2404360953762,464.19571671726305,555.4170084977275,645.7600718243476,735.0820557444039,823.2417238415958,910.0996775598475,995.5185766210785,1079.3633561884112,1161.5014404314413,1241.8029521558751,1320.1409181660708,1396.3914700357582,1470.4340399694804,1542.1515514450637,1611.4306043356603,1678.1616542186605,1742.2391855879384,1803.5618786955583,1862.0327697591192,1917.5594042814275,1970.0539832400593,2019.4335019156617,2065.6198811394765,2108.540090752552,2148.12626508144,2184.315810247769,2217.051503142038,2246.2815819051098,2271.9598277743517,2294.045638164999,2312.5040908711876,2327.305999285139,2338.4279585471872,2345.8523825536704,2349.5675317641794,2349.5675317641794,2345.8523825536704,2338.4279585471872,2327.305999285139,2312.5040908711876,2294.045638164999,2271.959827774351,2246.2815819051098,2217.051503142038,2184.315810247769,2148.1262650814397,2108.540090752552,2065.6198811394756,2019.4335019156617,1970.053983240059,1917.5594042814269,1862.0327697591192,1803.561878695558,1742.239185587938,1678.1616542186607,1611.4306043356603,1542.1515514450632,1470.43403996948,1396.3914700357582,1320.1409181660708,1241.802952155875,1161.5014404314413,1079.3633561884112,995.5185766210781,910.099677559847,823.2417238415958,735.0820557444035,645.7600718243472,555.4170084977275,464.19571671726277,372.2404360953756,279.6965668317148,186.71043980555027,93.42908519658181,2.877959244021057e-13],[0.0,74.42897093171767,148.74025436186,222.81634887698166,296.5401249456541,369.79501012432996,442.46517338233735,514.4357082545478,585.5928145321164,655.8239782040026,725.0181493647488,793.0659178072066,859.8596860225626,925.2938393341174,989.2649128957956,1051.6717552913374,1112.4156884754757,1171.4006638042108,1228.533413907458,1283.7236001639296,1336.8839555450666,1387.9304226021438,1436.782286378379,1483.362302035865,1527.5968169955404,1569.4158873970525,1608.7533886943795,1645.547120212328,1679.7389034985856,1711.2746743158139,1740.1045681283174,1766.1829989481273,1789.4687314158155,1809.924946002076,1827.5192972269667,1842.2239648047637,1854.0156976335493,1862.875850559985,1868.7904138611307,1871.7500353966957,1871.7500353966957,1868.7904138611307,1862.875850559985,1854.0156976335493,1842.2239648047637,1827.5192972269667,1809.9249460020756,1789.4687314158155,1766.1829989481269,1740.1045681283174,1711.2746743158139,1679.7389034985856,1645.5471202123274,1608.7533886943795,1569.4158873970523,1527.59681699554,1483.362302035865,1436.7822863783788,1387.9304226021438,1336.8839555450668,1283.7236001639296,1228.5334139074575,1171.4006638042106,1112.4156884754757,1051.6717552913374,989.2649128957954,925.2938393341174,859.8596860225625,793.0659178072061,725.0181493647483,655.8239782040026,585.5928145321161,514.4357082545473,442.4651733823374,369.79501012432974,296.54012494565364,222.81634887698175,148.74025436185988,74.4289709317173,2.2926858853986426e-13],[0.0,54.958292748681714,109.82968514010368,164.527414224333,218.9649916488211,273.0563404142664,326.71593098004314,379.85891650398474,432.4012670026823,484.25990222015866,535.3528229948314,585.5992409170414,634.9197060721333,683.2362326671027,730.472422342163,776.553584972257,821.4068567674957,864.9613154857867,907.1480925754787,947.9004820706944,987.1540460671762,1024.8467166118562,1060.9188938450484,1095.3135402400774,1127.9762707913308,1158.8554390081338,1187.902218578464,1215.07068057339,1240.3178660701446,1263.603854079015,1284.8918246666317,1304.1481171758512,1321.3422834501741,1336.447135978539,1349.4387908843657,1360.296705690873,1369.003711802958,1375.5460416542717,1379.913350476574,1382.0987326569364,1382.0987326569364,1379.913350476574,1375.5460416542717,1369.003711802958,1360.296705690873,1349.4387908843657,1336.4471359785389,1321.3422834501741,1304.148117175851,1284.8918246666317,1263.603854079015,1240.3178660701446,1215.0706805733896,1187.902218578464,1158.8554390081335,1127.9762707913305,1095.3135402400774,1060.9188938450484,1024.846716611856,987.1540460671763,947.9004820706944,907.1480925754784,864.9613154857865,821.4068567674957,776.553584972257,730.4724223421629,683.2362326671027,634.9197060721332,585.599240917041,535.3528229948311,484.25990222015866,432.401267002682,379.85891650398446,326.71593098004314,273.05634041426623,218.96499164882076,164.5274142243331,109.8296851401036,54.95829274868144,1.6929174284312684e-13],[0.0,35.14015054393363,70.22473728696114,105.1982842859665,140.0054911744927,174.59132060398787,208.901085269166,242.88053437987713,276.4759394427581,309.6341792170235,342.3028237100667,374.4302170800547,405.96555931443186,436.8589865551812,467.061649943833,496.52579286155196,525.2048264421659,553.0534032387407,580.0274889272139,606.0844319337132,631.1830308754605,655.2835997086275,678.3480304801283,700.339853584125,721.2242954279725,740.9683334164147,759.5407481670959,776.912172874821,793.0551397465102,807.9441234334275,821.5555813920014,833.8679911094271,844.8618841351821,854.5198768646485,862.8266980261653,869.7692128280472,875.3364437273904,879.5195877878242,882.3120305987635,883.7093567341501,883.7093567341501,882.3120305987635,879.5195877878242,875.3364437273904,869.7692128280472,862.8266980261653,854.5198768646485,844.8618841351821,833.8679911094271,821.5555813920014,807.9441234334275,793.0551397465102,776.9121728748206,759.5407481670959,740.9683334164146,721.2242954279723,700.339853584125,678.3480304801282,655.2835997086275,631.1830308754606,606.0844319337132,580.0274889272138,553.0534032387404,525.2048264421659,496.52579286155196,467.06164994383295,436.8589865551812,405.9655593144318,374.43021708005455,342.30282371006643,309.6341792170235,276.475939442758,242.88053437987693,208.901085269166,174.59132060398778,140.0054911744925,105.19828428596657,70.22473728696109,35.14015054393346,1.0824458024116977e-13],[0.0,15.099840993351215,30.17580603438914,45.20405692358868,60.16083090730624,75.02247825157751,89.76549963720804,104.36658331702691,118.80264197655087,133.05084923977378,147.08867576235906,160.8939248551639,174.4447675817672,187.71977727450485,200.69796341443543,213.35880482166544,225.68228210355232,237.64890930947934,249.23976474214885,260.43652087667476,271.2214733401668,281.57756890598284,291.48843245838555,300.93839288496616,309.9125078558945,318.3965874508133,326.3772165960197,333.84177627645346,340.7784634889539,347.17630990523406,353.0251992150618,358.3158831222261,363.03999596799395,367.1900679589366,370.7595369782081,373.7427589616011,376.13501682197233,377.9325279079269,379.1324499849679,379.73288572965293,379.73288572965293,379.1324499849679,377.9325279079269,376.13501682197233,373.7427589616011,370.7595369782081,367.19006795893654,363.03999596799395,358.31588312222607,353.0251992150618,347.17630990523406,340.7784634889539,333.84177627645334,326.3772165960197,318.39658745081323,309.9125078558944,300.93839288496616,291.4884324583855,281.5775689059828,271.2214733401669,260.43652087667476,249.23976474214876,237.64890930947925,225.68228210355232,213.35880482166544,200.69796341443538,187.71977727450485,174.44476758176717,160.89392485516382,147.08867576235895,133.05084923977378,118.8026419765508,104.36658331702681,89.76549963720804,75.02247825157748,60.16083090730614,45.20405692358871,30.17580603438912,15.09984099335114,4.6513060551354854e-14],[-0.0,-5.035934613696213,-10.063906379654997,-15.07596504103792,-20.064185502895754,-25.02068036337255,-29.93761238530919,-34.80720688852625,-39.62176404319144,-44.37367104483313,-49.055414151749154,-53.65959056577672,-58.17892013763798,-62.60625687835245,-66.93460025851434,-71.1571062775686,-75.26709828558243,-79.2580775404012,-83.12373348349564,-86.85795371825192,-90.45483367492714,-93.90868594698767,-97.21404928406794,-100.36569722732982,-103.35864637356829,-106.18816425499621,-108.84977682224867,-111.33927551877468,-113.65272393542996,-115.78646403474919,-117.7371219350548,-119.50161324525773,-121.07714794191345,-122.46123478082265,-123.65168523620035,-124.64661696118496,-125.44445676421567,-126.04394309657157,-126.44412804713957,-126.64437884125662,-126.64437884125662,-126.44412804713957,-126.04394309657157,-125.44445676421567,-124.64661696118496,-123.65168523620035,-122.46123478082265,-121.07714794191345,-119.50161324525772,-117.7371219350548,-115.78646403474916,-113.65272393542996,-111.33927551877464,-108.84977682224867,-106.18816425499621,-103.35864637356828,-100.36569722732982,-97.21404928406794,-93.90868594698765,-90.45483367492716,-86.85795371825192,-83.12373348349561,-79.25807754040117,-75.26709828558243,-71.1571062775686,-66.93460025851432,-62.60625687835245,-58.17892013763797,-53.65959056577668,-49.05541415174911,-44.37367104483313,-39.62176404319142,-34.807206888526224,-29.937612385309198,-25.020680363372534,-20.06418550289572,-15.075965041037927,-10.06390637965499,-5.035934613696188,-1.5512529683104294e-14],[-0.0,-25.13987142069292,-50.239991537284894,-75.26067190065744,-100.16234967227042,-124.9056501811417,-149.45144918329524,-173.76093472523257,-197.79566851360923,-221.51764669407675,-244.88935994318845,-267.8738527783495,-290.4347819920307,-312.53647411785016,-334.1439818376558,-355.223139240419,-375.7406158455623,-395.6639693052999,-414.96169670265846,-433.60328436406365,-451.5592561077304,-468.8012198515646,-485.30191250688097,-501.03524308695006,-515.976333962211,-530.1015601969178,-543.3885869050179,-555.8164045661988,-567.3653622462574,-578.0171986692665,-587.7550710924052,-596.563581937798,-604.4288031392491,-611.3382981653792,-617.2811416843372,-622.2479368389953,-626.2308301053123,-629.2235237103685,-631.2212855904402,-632.2209568733641,-632.2209568733641,-631.2212855904402,-629.2235237103685,-626.2308301053123,-622.2479368389953,-617.2811416843372,-611.3382981653791,-604.4288031392491,-596.5635819377978,-587.7550710924052,-578.0171986692665,-567.3653622462574,-555.8164045661987,-543.3885869050179,-530.1015601969177,-515.976333962211,-501.03524308695006,-485.30191250688097,-468.8012198515645,-451.5592561077305,-433.60328436406365,-414.9616967026583,-395.66396930529976,-375.7406158455623,-355.223139240419,-334.14398183765576,-312.53647411785016,-290.43478199203065,-267.8738527783493,-244.88935994318828,-221.51764669407675,-197.79566851360912,-173.76093472523243,-149.45144918329524,-124.90565018114162,-100.16234967227027,-75.2606719006575,-50.23999153728486,-25.1398714206928,-7.744004471032824e-14],[-0.0,-45.084865866268316,-90.09844329261543,-134.9695565607967,-179.62725521768436,-224.00092626251748,-268.0204058005705,-311.61608998669215,-354.71904508329226,-397.261116458749,-439.1750363538907,-480.3945302461502,-520.8544216432064,-560.4907351404162,-599.2407975790785,-637.0433371455813,-673.8385802547319,-709.5683460640815,-744.1761384697971,-777.6072354386125,-809.8087755346122,-840.7298415040259,-870.3215407858735,-898.5370828211525,-925.3318530383306,-950.6634833981526,-974.4919193862198,-996.7794833474097,-1017.4909340619931,-1036.5935224692478,-1054.0570434504516,-1069.853883589388,-1083.959064834829,-1096.3502839959706,-1107.007948008361,-1115.9152049145628,-1123.0579705105617,-1128.4249506157878,-1132.0076589315368,-1133.800430459552,-1133.800430459552,-1132.0076589315368,-1128.4249506157878,-1123.0579705105617,-1115.9152049145628,-1107.007948008361,-1096.3502839959706,-1083.959064834829,-1069.8538835893878,-1054.0570434504516,-1036.5935224692475,-1017.4909340619931,-996.7794833474093,-974.4919193862198,-950.6634833981526,-925.3318530383305,-898.5370828211525,-870.3215407858735,-840.7298415040259,-809.8087755346124,-777.6072354386125,-744.1761384697968,-709.5683460640813,-673.8385802547319,-637.0433371455813,-599.2407975790784,-560.4907351404162,-520.8544216432063,-480.39453024614994,-439.17503635389045,-397.261116458749,-354.7190450832921,-311.61608998669186,-268.02040580057053,-224.0009262625174,-179.62725521768405,-134.9695565607968,-90.09844329261537,-45.08486586626809,-1.388779588414752e-13],[-0.0,-64.74481927383547,-129.38726368039949,-193.82512022812838,-257.95649942091546,-321.6799963663472,-384.8948511176814,-447.50110799603385,-509.399773640852,-570.4929735387657,-630.6841067833102,-689.8779988208157,-747.9810519409388,-804.9013932738816,-860.5490200602824,-914.8359419640785,-967.6763202033135,-1018.9866032788943,-1068.685659086686,-1116.694903204044,-1162.9384231479403,-1207.3430984082006,-1249.838716066062,-1290.3580818152286,-1328.8371262098824,-1365.2150059716446,-1399.434200195306,-1431.4406013012015,-1461.1836005904142,-1488.6161682675313,-1513.694927804417,-1536.3802245274205,-1556.6361883195636,-1574.4307903385718,-1589.7358936610535,-1602.5272977727632,-1612.7847768345855,-1620.4921116637465,-1625.6371153796738,-1628.2116526739608,-1628.2116526739608,-1625.6371153796738,-1620.4921116637465,-1612.7847768345855,-1602.5272977727632,-1589.7358936610535,-1574.4307903385716,-1556.6361883195636,-1536.3802245274203,-1513.694927804417,-1488.616168267531,-1461.1836005904142,-1431.4406013012012,-1399.434200195306,-1365.2150059716444,-1328.837126209882,-1290.3580818152286,-1249.8387160660618,-1207.3430984082004,-1162.9384231479405,-1116.694903204044,-1068.6856590866855,-1018.9866032788939,-967.6763202033135,-914.8359419640785,-860.5490200602821,-804.9013932738816,-747.9810519409386,-689.8779988208153,-630.6841067833097,-570.4929735387657,-509.3997736408517,-447.50110799603345,-384.89485111768147,-321.67999636634704,-257.95649942091507,-193.8251202281285,-129.3872636803994,-64.74481927383516,-1.9943784180220546e-13],[-0.0,-83.99543508802459,-167.85805612830003,-251.45525907938597,-334.6548595803965,-417.3253019616447,-499.33586726119705,-580.5568799184206,-660.8599128176993,-740.1179903581005,-818.2057892278999,-894.9998365664969,-970.3787052003861,-1044.2232056444782,-1116.4165745651733,-1186.844659407194,-1255.396098892236,-1321.962499104041,-1386.4386048814565,-1448.722466248482,-1508.7155996181352,-1566.3231435152463,-1621.4540085719489,-1674.0210215586924,-1723.9410632230374,-1771.1351997182776,-1815.5288074140765,-1857.051690891766,-1895.6381939377295,-1931.227303359374,-1963.7627454595256,-1993.1930750167148,-2019.4717566306415,-2042.5572383042127,-2062.413017145788,-2079.0076970877553,-2092.3150385301656,-2102.3139998309357,-2108.9887705770093,-2112.328796583868,-2112.328796583868,-2108.9887705770093,-2102.3139998309357,-2092.3150385301656,-2079.0076970877553,-2062.413017145788,-2042.5572383042127,-2019.4717566306415,-1993.1930750167146,-1963.7627454595256,-1931.227303359374,-1895.6381939377295,-1857.0516908917655,-1815.5288074140765,-1771.1351997182771,-1723.9410632230367,-1674.0210215586924,-1621.4540085719486,-1566.3231435152463,-1508.7155996181355,-1448.722466248482,-1386.438604881456,-1321.9624991040405,-1255.396098892236,-1186.844659407194,-1116.416574565173,-1044.2232056444782,-970.3787052003859,-894.9998365664964,-818.2057892278992,-740.1179903581005,-660.859912817699,-580.55687991842,-499.33586726119705,-417.3253019616444,-334.65485958039596,-251.45525907938608,-167.8580561282999,-83.99543508802418,-2.587368145139389e-13],[-0.0,-102.71500471752584,-205.26759589999693,-307.4956168215408,-409.2374239685813,-510.33214263145913,-610.6199212804141,-709.9421843237109,-808.1418828482447,-905.0637429461515,-1000.5545112347747,-1094.4631971817623,-1186.641311852134,-1276.943102699809,-1365.225784032339,-1451.3497627844397,-1535.178859243316,-1616.5805223767813,-1695.426039423685,-1771.5907394152425,-1844.9541903054642,-1915.4003893989727,-1982.8179467751097,-2047.1002614182944,-2108.1456897761423,-2165.857706478813,-2220.14505696546,-2270.9219017764494,-2318.1079522831874,-2361.6285976409486,-2401.415022763953,-2437.4043171361654,-2469.5395742857495,-2497.7699817658972,-2522.050901499752,-2542.3439403623843,-2558.6170108882106,-2570.8443820078755,-2579.0067197343583,-2583.091117733983,-2583.091117733983,-2579.0067197343583,-2570.8443820078755,-2558.6170108882106,-2542.3439403623843,-2522.050901499752,-2497.7699817658972,-2469.5395742857495,-2437.4043171361654,-2401.415022763953,-2361.628597640948,-2318.1079522831874,-2270.9219017764485,-2220.14505696546,-2165.8577064788124,-2108.145689776142,-2047.1002614182944,-1982.8179467751092,-1915.4003893989725,-1844.9541903054646,-1771.5907394152425,-1695.4260394236846,-1616.5805223767807,-1535.178859243316,-1451.3497627844397,-1365.2257840323389,-1276.943102699809,-1186.641311852134,-1094.4631971817619,-1000.554511234774,-905.0637429461515,-808.1418828482441,-709.9421843237103,-610.6199212804142,-510.33214263145885,-409.2374239685807,-307.495616821541,-205.2675958999968,-102.71500471752536,-3.1639996977866556e-13],[-0.0,-120.78517701599046,-241.37936784028156,-361.59188826959934,-481.23265760001493,-600.1124991836075,-718.0434395556294,-834.8390056591904,-950.3145196974904,-1064.287391147374,-1176.5774054724795,-1287.0070090794645,-1395.401590066729,-1501.5897543217254,-1605.4035965302776,-1706.6789656693973,-1805.2557245637897,-1900.9780030956433,-1993.6944446673253,-2083.2584455272736,-2169.528386580661,-2252.367857318292,-2331.6458715096596,-2407.2370743190954,-2479.0219405175344,-2546.886963476468,-2610.724834645255,-2670.4346132279975,-2725.9218857916853,-2777.098915553243,-2823.8847811094124,-2866.2055043901332,-2903.994167633066,-2937.1910191943393,-2965.743568028174,-2989.6066666860197,-3008.7425827039474,-3023.121058265434,-3032.7193580451867,-3037.5223051583685,-3037.5223051583685,-3032.7193580451867,-3023.121058265434,-3008.7425827039474,-2989.6066666860197,-2965.743568028174,-2937.191019194339,-2903.994167633066,-2866.205504390133,-2823.8847811094124,-2777.0989155532425,-2725.9218857916853,-2670.434613227997,-2610.724834645255,-2546.8869634764674,-2479.0219405175335,-2407.2370743190954,-2331.645871509659,-2252.3678573182915,-2169.5283865806614,-2083.2584455272736,-1993.6944446673247,-1900.9780030956424,-1805.2557245637897,-1706.6789656693973,-1605.4035965302771,-1501.5897543217254,-1395.4015900667289,-1287.0070090794638,-1176.5774054724786,-1064.287391147374,-950.3145196974899,-834.8390056591898,-718.0434395556296,-600.1124991836072,-481.23265760001414,-361.59188826959956,-241.3793678402814,-120.78517701598986,-3.72062742562961e-13],[-0.0,-138.09170653608294,-275.96506170001777,-413.4020593780569,-550.1853834273293,-686.0987512973302,-820.9272560170905,-954.4577060072694,-1086.4789621798639,-1216.7822717925028,-1345.1615985294436,-1471.4139482873356,-1595.339690150622,-1716.7428720490518,-1835.4315305981777,-1951.217994632927,-2063.9191819542857,-2173.3568888198884,-2279.3580717207637,-2381.7551209986905,-2480.3861258715183,-2575.0951304473942,-2665.7323803230834,-2752.1545593764636,-2834.2250163787703,-2911.8139810682774,-2984.7987693437576,-3053.0639772532595,-3116.501663471478,-3175.01151997718,-3228.501030660795,-3276.885617611414,-3320.0887748518353,-3358.042189310253,-3390.6858488372586,-3417.9681370973867,-3439.845915185148,-3456.28458983651,-3467.258168127955,-3472.7492985766353,-3472.7492985766353,-3467.258168127955,-3456.28458983651,-3439.845915185148,-3417.9681370973867,-3390.6858488372586,-3358.042189310253,-3320.0887748518353,-3276.8856176114136,-3228.501030660795,-3175.0115199771794,-3116.501663471478,-3053.063977253258,-2984.7987693437576,-2911.8139810682774,-2834.2250163787694,-2752.1545593764636,-2665.7323803230834,-2575.095130447394,-2480.3861258715187,-2381.7551209986905,-2279.3580717207633,-2173.356888819888,-2063.9191819542857,-1951.217994632927,-1835.4315305981775,-1716.7428720490518,-1595.339690150622,-1471.4139482873347,-1345.1615985294427,-1216.7822717925028,-1086.4789621798632,-954.4577060072686,-820.9272560170907,-686.0987512973298,-550.1853834273284,-413.4020593780572,-275.96506170001754,-138.09170653608226,-4.253732148955056e-13],[-0.0,-154.52517582598358,-308.8060155870478,-462.598569563814,-615.6596601170935,-767.7472662017191,-918.6209060515638,-1068.0420174306425,-1215.7743348490442,-1361.5842631472317,-1505.2412468580067,-1646.5181347620905,-1785.1915390608929,-1921.042188598538,-2053.85527557463,-2183.420795199543,-2309.533877755153,-2431.9951125359753,-2550.61086315848,-2665.1935737400095,-2775.562065463187,-2881.5418230568625,-2982.96527074063,-3079.672037196577,-3171.5092091493075,-3258.3315731532557,-3340.0018452049944,-3416.3908878174607,-3487.3779142128687,-3552.8506793114316,-3612.705657213901,-3666.8482048973005,-3715.192711864989,-3757.6627355144624,-3794.19112200881,-3824.720112460744,-3849.2014342612665,-3867.596377408588,-3879.8758557165966,-3886.020452806097,-3886.020452806097,-3879.8758557165966,-3867.596377408588,-3849.2014342612665,-3824.720112460744,-3794.19112200881,-3757.6627355144615,-3715.192711864989,-3666.8482048973,-3612.705657213901,-3552.8506793114307,-3487.3779142128687,-3416.3908878174598,-3340.0018452049944,-3258.3315731532552,-3171.509209149307,-3079.672037196577,-2982.9652707406294,-2881.541823056862,-2775.5620654631875,-2665.1935737400095,-2550.6108631584784,-2431.995112535975,-2309.533877755153,-2183.420795199543,-2053.8552755746296,-1921.042188598538,-1785.1915390608926,-1646.5181347620894,-1505.2412468580053,-1361.5842631472317,-1215.7743348490435,-1068.0420174306416,-918.6209060515638,-767.7472662017186,-615.6596601170925,-462.5985695638143,-308.80601558704757,-154.5251758259828,-4.759943408058081e-13],[-0.0,-169.98168720174755,-339.6945984170759,-508.87038264964593,-677.2415382112825,-844.5418356971267,-1010.5067389490474,-1174.8738233416811,-1337.383190729707,-1497.7778804002307,-1655.8042753804937,-1811.2125034584346,-1963.7568322820155,-2113.1960579125825,-2259.293886217868,-2401.8193065015867,-2540.546956778825,-2675.257480119665,-2805.737871497577,-2931.7818145941483,-3053.190008027592,-3169.770480489193,-3281.3388942894117,-3387.7188368336556,-3488.742099566855,-3584.2489439457618,-3674.08835401842,-3758.118275211429,-3836.205838947418,-3908.2275727375827,-3974.0695954170633,-4033.627797214481,-4086.8080043708774,-4133.5261280477935,-4173.708297288998,-4207.290975825665,-4234.22106254026,-4254.455975430333,-4267.963718939411,-4274.722934548551,-4274.722934548551,-4267.963718939411,-4254.455975430333,-4234.22106254026,-4207.290975825665,-4173.708297288998,-4133.526128047793,-4086.8080043708774,-4033.62779721448,-3974.0695954170633,-3908.2275727375827,-3836.205838947418,-3758.118275211428,-3674.08835401842,-3584.248943945761,-3488.742099566854,-3387.7188368336556,-3281.3388942894117,-3169.7704804891923,-3053.1900080275923,-2931.7818145941483,-2805.7378714975757,-2675.257480119664,-2540.546956778825,-2401.8193065015867,-2259.2938862178676,-2113.1960579125825,-1963.7568322820152,-1811.2125034584335,-1655.8042753804928,-1497.7778804002307,-1337.3831907297063,-1174.8738233416805,-1010.5067389490474,-844.5418356971262,-677.2415382112814,-508.8703826496463,-339.6945984170756,-169.98168720174672,-5.23606077237349e-13],[-0.0,-184.36351962191478,-368.4355226242346,-551.92495333506,-734.5416772490294,-915.996939789608,-1096.0038228894252,-1274.277698666714,-1450.5366794804966,-1624.5020636528836,-1795.898776153715,-1964.4558035507218,-2129.9066225374686,-2291.989621361483,-2450.448513486209,-2605.0327428327028,-2755.497879960292,-2901.6060085597587,-3043.1261016479366,-3179.8343868688476,-3311.5147003238008,-3437.9588283709395,-3558.966836853816,-3674.347387238376,-3783.918039158523,-3887.5055388918277,-3984.9460933092782,-4076.085628865882,-4160.780035222613,-4238.895393114477,-4310.308186104392,-4374.905495888074,-4432.585180841072,-4483.256037525682,-4526.837944902325,-4563.26199101738,-4592.470581967141,-4614.417532965626,-4629.068141372212,-4636.399241563644,-4636.399241563644,-4629.068141372212,-4614.417532965626,-4592.470581967141,-4563.26199101738,-4526.837944902325,-4483.256037525682,-4432.585180841072,-4374.905495888073,-4310.308186104392,-4238.895393114476,-4160.780035222613,-4076.085628865881,-3984.9460933092782,-3887.505538891827,-3783.9180391585223,-3674.347387238376,-3558.966836853815,-3437.9588283709395,-3311.514700323801,-3179.8343868688476,-3043.1261016479352,-2901.606008559758,-2755.497879960292,-2605.0327428327028,-2450.448513486208,-2291.989621361483,-2129.906622537468,-1964.4558035507212,-1795.8987761537137,-1624.5020636528836,-1450.5366794804959,-1274.277698666713,-1096.0038228894252,-915.9969397896074,-734.5416772490282,-551.9249533350604,-368.43552262423435,-184.3635196219139,-5.67907407462828e-13],[-0.0,-197.5797465113978,-394.84707883195375,-591.490076761877,-787.1978073023777,-981.6608163046479,-1174.5716177804793,-1365.6251801008104,-1554.5194083134343,-1740.9556218172063,-1924.639026637472,-2105.2791815559326,-2282.5904573579096,-2456.292488470844,-2626.1106162798924,-2791.7763234196555,-2953.027658355322,-3109.6096495818874,-3261.2747087865173,-3407.7830223365513,-3548.9029304741616,-3684.411293618032,-3814.0938451929132,-3937.7455304291134,-4055.1708305962397,-4166.184072158499,-4270.609720362718,-4368.282656794877,-4459.048440466253,-4542.763552016375,-4619.295620646622,-4688.523633425681,-4750.338126635844,-4804.641358857662,-4851.347465519215,-4890.382594665645,-4921.685023734281,-4945.205257150693,-4960.906104591377,-4968.76273978929,-4968.76273978929,-4960.906104591377,-4945.205257150693,-4921.685023734281,-4890.382594665645,-4851.347465519215,-4804.6413588576615,-4750.338126635844,-4688.52363342568,-4619.295620646622,-4542.763552016374,-4459.048440466253,-4368.282656794877,-4270.609720362718,-4166.184072158499,-4055.1708305962393,-3937.7455304291134,-3814.0938451929132,-3684.4112936180313,-3548.9029304741616,-3407.7830223365513,-3261.274708786516,-3109.6096495818865,-2953.027658355322,-2791.7763234196555,-2626.110616279892,-2456.292488470844,-2282.5904573579096,-2105.2791815559317,-1924.6390266374706,-1740.9556218172063,-1554.5194083134334,-1365.6251801008095,-1174.5716177804793,-981.6608163046475,-787.1978073023765,-591.4900767618775,-394.84707883195347,-197.57974651139682,-6.086182442088337e-13],[-0.0,-209.54681062856446,-418.7622846781429,-627.3156094809856,-834.8770193634031,-1041.1183170730792,-1245.713392726386,-1448.3387394551391,-1648.673964937454,-1846.402298003859,-2041.211089517628,-2232.792306737327,-2420.8430203798953,-2605.065883614105,-2785.1696022270207,-2960.8693952200265,-3131.8874451061165,-3297.953337196448,-3458.8044871815455,-3614.18655633107,-3763.8538536556275,-3907.5697243947234,-4045.106924216584,-4176.247978538153,-4300.785526397106,-4418.522648332161,-4529.273177753214,-4632.861995308989,-4729.125305786725,-4817.91089710608,-4899.078380997702,-4972.499414985961,-5038.057905324766,-5095.650190565641,-5145.185205467797,-5186.584624990974,-5219.782988143449,-5244.727801489307,-5261.379622151355,-5269.712120178423,-5269.712120178423,-5261.379622151355,-5244.727801489307,-5219.782988143449,-5186.584624990974,-5145.185205467797,-5095.6501905656405,-5038.057905324766,-4972.499414985961,-4899.078380997702,-4817.910897106079,-4729.125305786725,-4632.861995308988,-4529.273177753214,-4418.52264833216,-4300.785526397106,-4176.247978538153,-4045.1069242165836,-3907.5697243947225,-3763.8538536556284,-3614.18655633107,-3458.804487181544,-3297.9533371964467,-3131.8874451061165,-2960.8693952200265,-2785.1696022270203,-2605.065883614105,-2420.843020379895,-2232.7923067373263,-2041.2110895176263,-1846.402298003859,-1648.673964937453,-1448.3387394551378,-1245.713392726386,-1041.1183170730787,-834.8770193634018,-627.3156094809859,-418.76228467814263,-209.54681062856343,-6.454812004577648e-13],[-0.0,-220.18905234102328,-440.02994053144937,-659.1750509397668,-877.2778701021513,-1093.993532631477,-1308.979366520378,-1521.8954349761275,-1732.4050739305799,-1940.1754243752603,-2144.877958679877,-2346.1890000620315,-2543.7902343867395,-2737.3692134865105,-2926.619849206119,-3111.242897390897,-3290.9464310532453,-3465.44630196921,-3634.466589975228,-3797.7400392546197,-3955.0084809239684,-4106.0232412511905,-4250.545534859822,-4388.346842297772,-4519.209271373558,-4642.9259016886435,-4759.301111821114,-4868.150888643363,-4969.303118284663,-5062.5978582785765,-5147.8875904648685,-5225.03745424604,-5293.925459829656,-5354.442681119273,-5406.493427948999,-5449.995397389303,-5484.879803884871,-5511.091488018704,-5528.589003730496,-5537.344683851373,-5537.344683851373,-5528.589003730496,-5511.091488018704,-5484.879803884871,-5449.995397389303,-5406.493427948999,-5354.442681119273,-5293.925459829656,-5225.0374542460395,-5147.8875904648685,-5062.5978582785765,-4969.303118284663,-4868.150888643362,-4759.301111821114,-4642.9259016886435,-4519.209271373558,-4388.346842297772,-4250.545534859821,-4106.0232412511905,-3955.008480923969,-3797.7400392546197,-3634.4665899752267,-3465.446301969209,-3290.9464310532453,-3111.242897390897,-2926.619849206118,-2737.3692134865105,-2543.790234386739,-2346.18900006203,-2144.8779586798755,-1940.1754243752603,-1732.4050739305792,-1521.8954349761264,-1308.979366520378,-1093.9935326314762,-877.2778701021499,-659.1750509397672,-440.0299405314491,-220.1890523410222,-6.78263216731427e-13],[-0.0,-229.43918797017912,-458.5155854240086,-686.866975491515,-914.1322876884244,-1139.9521688428154,-1363.9695513063455,-1585.8302175515983,-1805.183360262802,-2021.6821370343002,-2234.9842187996915,-2444.7523311244445,-2650.654787506102,-2852.366013838824,-3049.567063212963,-3241.946120235694,-3429.198994075232,-3611.02959944907,-3787.150424795669,-3957.2829868893314,-4121.158271179422,-4278.517157157668,-4429.110828080944,-4572.701164401683,-4709.06112028383,-4837.975082608975,-4959.239211905009,-5072.661764658232,-5178.063396499258,-5275.277445783326,-5364.150197116617,-5444.5411244118895,-5516.323113089103,-5579.382661069703,-5633.620058246732,-5678.949544147005,-5715.299443536047,-5742.61227975137,-5760.84486558489,-5769.968371570778,-5769.968371570778,-5760.84486558489,-5742.61227975137,-5715.299443536047,-5678.949544147005,-5633.620058246732,-5579.382661069702,-5516.323113089103,-5444.541124411889,-5364.150197116617,-5275.277445783326,-5178.063396499258,-5072.661764658231,-4959.239211905009,-4837.975082608974,-4709.061120283829,-4572.701164401683,-4429.110828080943,-4278.5171571576675,-4121.158271179423,-3957.2829868893314,-3787.1504247956677,-3611.0295994490684,-3429.198994075232,-3241.946120235694,-3049.567063212963,-2852.366013838824,-2650.6547875061015,-2444.7523311244427,-2234.98421879969,-2021.6821370343002,-1805.1833602628008,-1585.8302175515967,-1363.9695513063457,-1139.952168842815,-914.132287688423,-686.8669754915153,-458.51558542400824,-229.43918797017795,-7.067570345680928e-13],[-0.0,-237.23873518031246,-474.10234715697504,-710.2163058732276,-945.2072666282024,-1178.703660411636,-1410.336281430848,-1639.7388709009876,-1866.548696175457,-2090.4071243007816,-2310.960189089026,-2527.8591508110926,-2740.761047625916,-2949.3292378736273,-3153.233932375213,-3352.1527158969957,-3545.771056955388,-3733.7828051558154,-3915.8906752794255,-4091.8067173521176,-4261.252771952643,-4423.960910039822,-4579.673856603431,-4728.14539746887,-4869.140768612393,-5002.437027371271,-5127.823404961973,-5245.101639748937,-5354.086290736961,-5454.605030791545,-5546.498919123492,-5629.622652606988,-5703.844795533692,-5769.047987439621,-5825.129128676151,-5871.99954343177,-5909.58511994675,-5937.826427699078,-5956.678811376328,-5966.112461484886,-5966.112461484886,-5956.678811376328,-5937.826427699078,-5909.58511994675,-5871.99954343177,-5825.129128676151,-5769.04798743962,-5703.844795533692,-5629.622652606988,-5546.498919123492,-5454.605030791544,-5354.086290736961,-5245.101639748935,-5127.823404961973,-5002.43702737127,-4869.140768612392,-4728.14539746887,-4579.67385660343,-4423.960910039822,-4261.252771952644,-4091.8067173521176,-3915.890675279424,-3733.7828051558135,-3545.771056955388,-3352.1527158969957,-3153.2339323752126,-2949.3292378736273,-2740.7610476259156,-2527.8591508110912,-2310.960189089024,-2090.4071243007816,-1866.5486961754564,-1639.738870900986,-1410.3362814308482,-1178.7036604116354,-945.2072666282011,-710.216305873228,-474.1023471569747,-237.23873518031132,-7.307825068772267e-13],[-0.0,-243.53838272273606,-486.6916812041941,-729.0754201004339,-970.3063408993986,-1210.0030079314001,-1447.7864114973145,-1683.2805671608191,-1916.1131102570725,-2145.91588467778,-2372.3255250016814,-2594.9840310499653,-2813.539333958138,-3027.6458528692656,-3236.9650413683394,-3441.1659227937485,-3639.9256135794076,-3832.929833800045,-4019.873404112363,-4200.460728306306,-4374.406260703434,-4541.43495766332,-4701.282712484094,-4853.69677300941,-4998.436141281574,-5135.271954608834,-5263.987847444347,-5384.380293504583,-5496.258927586207,-5599.4468465725995,-5693.780889154038,-5779.111893819276,-5855.304934710541,-5922.239534969055,-5979.809857233711,-6027.924870991694,-6066.508496516432,-6095.499725165286,-6114.852715846746,-6124.536867504628,-6124.536867504628,-6114.852715846746,-6095.499725165286,-6066.508496516432,-6027.924870991694,-5979.809857233711,-5922.239534969054,-5855.304934710541,-5779.111893819276,-5693.780889154038,-5599.446846572599,-5496.258927586207,-5384.380293504582,-5263.987847444347,-5135.271954608833,-4998.436141281572,-4853.69677300941,-4701.282712484093,-4541.434957663319,-4374.406260703435,-4200.460728306306,-4019.8734041123616,-3832.9298338000435,-3639.9256135794076,-3441.1659227937485,-3236.9650413683385,-3027.6458528692656,-2813.5393339581374,-2594.984031049964,-2372.3255250016796,-2145.91588467778,-1916.1131102570714,-1683.2805671608178,-1447.7864114973145,-1210.0030079313992,-970.306340899397,-729.0754201004343,-486.6916812041938,-243.53838272273487,-7.501877368873946e-13],[-0.0,-248.29830219738525,-496.2039937424235,-743.3250847809086,-989.2708260733058,-1233.652326849617,-1476.0831697256228,-1716.180021708192,-1953.5632403235386,-2187.8574739100027,-2418.692255126184,-2645.702586735953,-2868.529518744105,-3086.8207159700864,-3300.2310151623315,-3508.4229707723134,-3711.0673885253154,-3907.8438459442405,-4098.441199003417,-4282.558074111247,-4459.903344643812,-4630.196591275894,-4793.168545381577,-4948.561514803282,-5096.129791316047,-5235.640039142723,-5366.871663905808,-5489.617161432496,-5603.682445861422,-5708.887156532314,-5805.0649431732545,-5892.063728934666,-5969.745950854056,-6037.988777371349,-6096.6843025508215,-6145.739716702571,-6185.077453133707,-6214.635310797244,-6234.366552644732,-6244.239979527146,-6244.239979527146,-6234.366552644732,-6214.635310797244,-6185.077453133707,-6145.739716702571,-6096.6843025508215,-6037.988777371348,-5969.745950854056,-5892.063728934665,-5805.0649431732545,-5708.887156532313,-5603.682445861422,-5489.617161432494,-5366.871663905808,-5235.640039142723,-5096.129791316046,-4948.561514803282,-4793.168545381576,-4630.196591275893,-4459.9033446438125,-4282.558074111247,-4098.441199003415,-3907.8438459442386,-3711.0673885253154,-3508.4229707723134,-3300.231015162331,-3086.8207159700864,-2868.5295187441047,-2645.7025867359516,-2418.6922551261823,-2187.8574739100027,-1953.5632403235375,-1716.1800217081907,-1476.083169725623,-1233.6523268496164,-989.2708260733042,-743.325084780909,-496.20399374242317,-248.29830219738406,-7.648500384865583e-13],[-0.0,-251.48839986078718,-502.57914486911164,-752.8752089465686,-1001.9808225686478,-1249.5020985577007,-1495.04765489953,-1738.2292335988002,-1978.6623145947347,-2215.966723766365,-2449.767234065962,-2679.6941588301243,-2905.3839363303778,-3126.4797046390013,-3342.6318659010794,-3553.4986391205775,-3758.7466005863403,-3958.051211083516,-4151.097329056764,-4337.579708913828,-4517.203483681558,-4689.684631251209,-4854.750423475765,-5012.139857409206,-5161.604068005811,-5302.906721626944,-5435.824389733122,-5560.146902170454,-5675.6776794928555,-5782.234043794562,-5879.64750756144,-5967.7640400843875,-6046.444311013536,-6115.563910668181,-6175.013546754052,-6224.699217176899,-6264.542358679121,-6294.47997106443,-6314.464716814106,-6324.464995937347,-6324.464995937347,-6314.464716814106,-6294.47997106443,-6264.542358679121,-6224.699217176899,-6175.013546754052,-6115.563910668181,-6046.444311013536,-5967.764040084387,-5879.64750756144,-5782.234043794561,-5675.6776794928555,-5560.146902170453,-5435.824389733122,-5302.906721626944,-5161.6040680058095,-5012.139857409206,-4854.750423475765,-4689.684631251208,-4517.203483681559,-4337.579708913828,-4151.097329056763,-3958.0512110835148,-3758.7466005863403,-3553.4986391205775,-3342.631865901079,-3126.4797046390013,-2905.3839363303778,-2679.6941588301224,-2449.76723406596,-2215.966723766365,-1978.6623145947335,-1738.2292335987986,-1495.04765489953,-1249.5020985577,-1001.9808225686462,-752.875208946569,-502.5791448691113,-251.488399860786,-7.746767118831779e-13],[-0.0,-253.08850688839615,-505.7768288262243,-757.6654136375795,-1008.3559736953359,-1257.452115695752,-1504.5599674377593,-1749.288800615873,-1991.2516486419534,-2230.0659185189215,-2465.3539957989283,-2696.743841669413,-2923.869581222937,-3146.372081980616,-3363.8995217543857,-3576.107944950203,-3782.66180643253,-3983.2345020901653,-4177.508885264483,-4365.177768223477,-4545.944407888717,-4719.52297504714,-4885.639006305793,-5044.029838074871,-5194.445021892841,-5336.646720436938,-5470.410083592859,-5595.5236039890115,-5711.78945143314,-5819.0237857225275,-5917.057047333136,-6005.734225528078,-6084.915103461437,-6154.474479889937,-6214.302367141836,-6264.304165030041,-6304.400810434451,-6334.528902317003,-6354.640801971736,-6364.704708351391,-6364.704708351391,-6354.640801971736,-6334.528902317003,-6304.400810434451,-6264.304165030041,-6214.302367141836,-6154.474479889936,-6084.915103461437,-6005.734225528077,-5917.057047333136,-5819.023785722527,-5711.78945143314,-5595.52360398901,-5470.410083592859,-5336.646720436937,-5194.44502189284,-5044.029838074871,-4885.6390063057925,-4719.522975047139,-4545.944407888718,-4365.177768223477,-4177.508885264481,-3983.234502090164,-3782.66180643253,-3576.107944950203,-3363.899521754385,-3146.372081980616,-2923.8695812229366,-2696.7438416694117,-2465.3539957989265,-2230.0659185189215,-1991.2516486419522,-1749.2888006158717,-1504.5599674377595,-1257.4521156957512,-1008.3559736953343,-757.66541363758,-505.77682882622395,-253.0885068883949,-7.796056296841399e-13],[-0.0,-253.08850688839615,-505.7768288262243,-757.6654136375795,-1008.3559736953359,-1257.452115695752,-1504.5599674377593,-1749.288800615873,-1991.2516486419534,-2230.0659185189215,-2465.3539957989283,-2696.743841669413,-2923.869581222937,-3146.372081980616,-3363.8995217543857,-3576.107944950203,-3782.66180643253,-3983.2345020901653,-4177.508885264483,-4365.177768223477,-4545.944407888717,-4719.52297504714,-4885.639006305793,-5044.029838074871,-5194.445021892841,-5336.646720436938,-5470.410083592859,-5595.5236039890115,-5711.78945143314,-5819.0237857225275,-5917.057047333136,-6005.734225528078,-6084.915103461437,-6154.474479889937,-6214.302367141836,-6264.304165030041,-6304.400810434451,-6334.528902317003,-6354.640801971736,-6364.704708351391,-6364.704708351391,-6354.640801971736,-6334.528902317003,-6304.400810434451,-6264.304165030041,-6214.302367141836,-6154.474479889936,-6084.915103461437,-6005.734225528077,-5917.057047333136,-5819.023785722527,-5711.78945143314,-5595.52360398901,-5470.410083592859,-5336.646720436937,-5194.44502189284,-5044.029838074871,-4885.6390063057925,-4719.522975047139,-4545.944407888718,-4365.177768223477,-4177.508885264481,-3983.234502090164,-3782.66180643253,-3576.107944950203,-3363.899521754385,-3146.372081980616,-2923.8695812229366,-2696.7438416694117,-2465.3539957989265,-2230.0659185189215,-1991.2516486419522,-1749.2888006158717,-1504.5599674377595,-1257.4521156957512,-1008.3559736953343,-757.66541363758,-505.77682882622395,-253.0885068883949,-7.796056296841399e-13],[-0.0,-251.48839986078718,-502.57914486911164,-752.8752089465686,-1001.9808225686478,-1249.5020985577007,-1495.04765489953,-1738.2292335988002,-1978.6623145947347,-2215.966723766365,-2449.767234065962,-2679.6941588301243,-2905.3839363303778,-3126.4797046390013,-3342.6318659010794,-3553.4986391205775,-3758.7466005863403,-3958.051211083516,-4151.097329056764,-4337.579708913828,-4517.203483681558,-4689.684631251209,-4854.750423475765,-5012.139857409206,-5161.604068005811,-5302.906721626944,-5435.824389733122,-5560.146902170454,-5675.6776794928555,-5782.234043794562,-5879.64750756144,-5967.7640400843875,-6046.444311013536,-6115.563910668181,-6175.013546754052,-6224.699217176899,-6264.542358679121,-6294.47997106443,-6314.464716814106,-6324.464995937347,-6324.464995937347,-6314.464716814106,-6294.47997106443,-6264.542358679121,-6224.699217176899,-6175.013546754052,-6115.563910668181,-6046.444311013536,-5967.764040084387,-5879.64750756144,-5782.234043794561,-5675.6776794928555,-5560.146902170453,-5435.824389733122,-5302.906721626944,-5161.6040680058095,-5012.139857409206,-4854.750423475765,-4689.684631251208,-4517.203483681559,-4337.579708913828,-4151.097329056763,-3958.0512110835148,-3758.7466005863403,-3553.4986391205775,-3342.631865901079,-3126.4797046390013,-2905.3839363303778,-2679.6941588301224,-2449.76723406596,-2215.966723766365,-1978.6623145947335,-1738.2292335987986,-1495.04765489953,-1249.5020985577,-1001.9808225686462,-752.875208946569,-502.5791448691113,-251.488399860786,-7.746767118831779e-13],[-0.0,-248.29830219738525,-496.2039937424235,-743.3250847809085,-989.2708260733058,-1233.652326849617,-1476.0831697256226,-1716.180021708192,-1953.5632403235386,-2187.8574739100027,-2418.6922551261837,-2645.7025867359525,-2868.5295187441047,-3086.8207159700864,-3300.231015162331,-3508.422970772313,-3711.0673885253145,-3907.8438459442405,-4098.441199003416,-4282.558074111246,-4459.903344643812,-4630.196591275893,-4793.168545381576,-4948.561514803281,-5096.129791316046,-5235.640039142723,-5366.8716639058075,-5489.617161432495,-5603.682445861422,-5708.887156532314,-5805.064943173254,-5892.063728934665,-5969.745950854055,-6037.988777371348,-6096.6843025508215,-6145.73971670257,-6185.0774531337065,-6214.635310797243,-6234.366552644731,-6244.239979527145,-6244.239979527145,-6234.366552644731,-6214.635310797243,-6185.0774531337065,-6145.73971670257,-6096.6843025508215,-6037.988777371347,-5969.745950854055,-5892.063728934665,-5805.064943173254,-5708.887156532313,-5603.682445861422,-5489.617161432494,-5366.8716639058075,-5235.640039142722,-5096.129791316045,-4948.561514803281,-4793.168545381575,-4630.196591275893,-4459.9033446438125,-4282.558074111246,-4098.441199003414,-3907.8438459442386,-3711.0673885253145,-3508.422970772313,-3300.23101516233,-3086.8207159700864,-2868.5295187441043,-2645.702586735951,-2418.692255126182,-2187.8574739100027,-1953.5632403235375,-1716.1800217081907,-1476.0831697256228,-1233.6523268496164,-989.2708260733042,-743.3250847809089,-496.20399374242317,-248.298302197384,-7.648500384865583e-13],[-0.0,-243.53838272273603,-486.6916812041941,-729.0754201004338,-970.3063408993985,-1210.0030079314,-1447.7864114973142,-1683.2805671608191,-1916.1131102570723,-2145.91588467778,-2372.325525001681,-2594.984031049965,-2813.5393339581374,-3027.645852869265,-3236.9650413683394,-3441.1659227937485,-3639.9256135794076,-3832.9298338000444,-4019.873404112362,-4200.460728306306,-4374.406260703433,-4541.434957663319,-4701.282712484093,-4853.69677300941,-4998.436141281573,-5135.271954608833,-5263.987847444346,-5384.380293504582,-5496.2589275862065,-5599.446846572599,-5693.780889154037,-5779.111893819276,-5855.30493471054,-5922.239534969054,-5979.80985723371,-6027.924870991693,-6066.5084965164315,-6095.499725165286,-6114.852715846746,-6124.5368675046275,-6124.5368675046275,-6114.852715846746,-6095.499725165286,-6066.5084965164315,-6027.924870991693,-5979.80985723371,-5922.239534969053,-5855.30493471054,-5779.111893819275,-5693.780889154037,-5599.446846572598,-5496.2589275862065,-5384.3802935045815,-5263.987847444346,-5135.271954608832,-4998.4361412815715,-4853.69677300941,-4701.282712484092,-4541.434957663319,-4374.406260703434,-4200.460728306306,-4019.8734041123607,-3832.929833800043,-3639.9256135794076,-3441.1659227937485,-3236.9650413683385,-3027.645852869265,-2813.539333958137,-2594.9840310499635,-2372.3255250016796,-2145.91588467778,-1916.1131102570712,-1683.2805671608178,-1447.7864114973145,-1210.0030079313992,-970.3063408993969,-729.0754201004341,-486.69168120419374,-243.53838272273484,-7.501877368873946e-13],[-0.0,-237.23873518031246,-474.102347156975,-710.2163058732276,-945.2072666282024,-1178.703660411636,-1410.3362814308477,-1639.7388709009872,-1866.548696175457,-2090.4071243007816,-2310.9601890890253,-2527.8591508110926,-2740.7610476259156,-2949.3292378736273,-3153.2339323752126,-3352.1527158969957,-3545.771056955387,-3733.7828051558145,-3915.890675279425,-4091.806717352117,-4261.252771952643,-4423.960910039822,-4579.67385660343,-4728.145397468869,-4869.140768612393,-5002.43702737127,-5127.823404961972,-5245.101639748936,-5354.086290736961,-5454.605030791544,-5546.498919123491,-5629.622652606988,-5703.844795533692,-5769.04798743962,-5825.12912867615,-5871.999543431769,-5909.585119946749,-5937.826427699077,-5956.678811376327,-5966.112461484885,-5966.112461484885,-5956.678811376327,-5937.826427699077,-5909.585119946749,-5871.999543431769,-5825.12912867615,-5769.047987439619,-5703.844795533692,-5629.622652606987,-5546.498919123491,-5454.605030791543,-5354.086290736961,-5245.101639748935,-5127.823404961972,-5002.437027371269,-4869.140768612391,-4728.145397468869,-4579.673856603429,-4423.960910039821,-4261.252771952643,-4091.806717352117,-3915.8906752794237,-3733.7828051558135,-3545.771056955387,-3352.1527158969957,-3153.233932375212,-2949.3292378736273,-2740.761047625915,-2527.8591508110912,-2310.960189089024,-2090.4071243007816,-1866.548696175456,-1639.738870900986,-1410.336281430848,-1178.7036604116354,-945.2072666282008,-710.216305873228,-474.1023471569747,-237.23873518031127,-7.307825068772266e-13],[-0.0,-229.43918797017906,-458.51558542400846,-686.8669754915148,-914.1322876884244,-1139.9521688428151,-1363.9695513063452,-1585.830217551598,-1805.1833602628014,-2021.6821370343002,-2234.9842187996915,-2444.752331124444,-2650.6547875061015,-2852.3660138388236,-3049.567063212963,-3241.946120235693,-3429.198994075231,-3611.029599449069,-3787.1504247956686,-3957.2829868893305,-4121.158271179422,-4278.5171571576675,-4429.110828080943,-4572.701164401682,-4709.06112028383,-4837.975082608974,-4959.239211905008,-5072.661764658232,-5178.063396499257,-5275.277445783326,-5364.150197116616,-5444.541124411889,-5516.323113089103,-5579.382661069702,-5633.620058246732,-5678.949544147004,-5715.299443536047,-5742.612279751369,-5760.844865584889,-5769.968371570777,-5769.968371570777,-5760.844865584889,-5742.612279751369,-5715.299443536047,-5678.949544147004,-5633.620058246732,-5579.3826610697015,-5516.323113089103,-5444.541124411888,-5364.150197116616,-5275.277445783325,-5178.063396499257,-5072.661764658231,-4959.239211905008,-4837.975082608973,-4709.061120283828,-4572.701164401682,-4429.110828080943,-4278.517157157667,-4121.158271179423,-3957.2829868893305,-3787.1504247956677,-3611.0295994490684,-3429.198994075231,-3241.946120235693,-3049.5670632129627,-2852.3660138388236,-2650.654787506101,-2444.7523311244427,-2234.98421879969,-2021.6821370343002,-1805.1833602628005,-1585.8302175515967,-1363.9695513063455,-1139.9521688428147,-914.132287688423,-686.8669754915152,-458.5155854240081,-229.43918797017795,-7.067570345680928e-13],[-0.0,-220.18905234102328,-440.02994053144937,-659.1750509397667,-877.2778701021513,-1093.9935326314767,-1308.9793665203779,-1521.8954349761273,-1732.4050739305799,-1940.1754243752603,-2144.877958679877,-2346.189000062031,-2543.790234386739,-2737.3692134865105,-2926.6198492061185,-3111.242897390896,-3290.9464310532444,-3465.44630196921,-3634.466589975227,-3797.7400392546188,-3955.0084809239675,-4106.0232412511905,-4250.545534859821,-4388.346842297771,-4519.209271373558,-4642.9259016886435,-4759.301111821113,-4868.150888643363,-4969.303118284663,-5062.5978582785765,-5147.887590464868,-5225.0374542460395,-5293.925459829655,-5354.442681119273,-5406.493427948998,-5449.9953973893025,-5484.87980388487,-5511.091488018703,-5528.589003730495,-5537.344683851372,-5537.344683851372,-5528.589003730495,-5511.091488018703,-5484.87980388487,-5449.9953973893025,-5406.493427948998,-5354.4426811192725,-5293.925459829655,-5225.037454246039,-5147.887590464868,-5062.597858278576,-4969.303118284663,-4868.150888643361,-4759.301111821113,-4642.925901688643,-4519.209271373557,-4388.346842297771,-4250.54553485982,-4106.02324125119,-3955.0084809239684,-3797.7400392546188,-3634.4665899752267,-3465.446301969208,-3290.9464310532444,-3111.242897390896,-2926.619849206118,-2737.3692134865105,-2543.7902343867386,-2346.1890000620297,-2144.877958679875,-1940.1754243752603,-1732.405073930579,-1521.8954349761261,-1308.9793665203779,-1093.9935326314762,-877.2778701021499,-659.1750509397671,-440.02994053144903,-220.18905234102218,-6.782632167314269e-13],[-0.0,-209.54681062856443,-418.7622846781429,-627.3156094809855,-834.8770193634031,-1041.1183170730792,-1245.713392726386,-1448.338739455139,-1648.6739649374538,-1846.4022980038587,-2041.2110895176277,-2232.792306737327,-2420.843020379895,-2605.0658836141047,-2785.1696022270203,-2960.869395220026,-3131.887445106116,-3297.953337196447,-3458.804487181545,-3614.1865563310694,-3763.8538536556266,-3907.5697243947225,-4045.1069242165836,-4176.247978538152,-4300.785526397106,-4418.52264833216,-4529.2731777532135,-4632.861995308989,-4729.125305786725,-4817.910897106079,-4899.078380997701,-4972.499414985961,-5038.057905324765,-5095.6501905656405,-5145.185205467796,-5186.584624990973,-5219.782988143448,-5244.727801489306,-5261.379622151354,-5269.712120178423,-5269.712120178423,-5261.379622151354,-5244.727801489306,-5219.782988143448,-5186.584624990973,-5145.185205467796,-5095.6501905656405,-5038.057905324765,-4972.49941498596,-4899.078380997701,-4817.910897106078,-4729.125305786725,-4632.861995308987,-4529.2731777532135,-4418.52264833216,-4300.785526397105,-4176.247978538152,-4045.1069242165836,-3907.5697243947225,-3763.8538536556275,-3614.1865563310694,-3458.8044871815437,-3297.953337196446,-3131.887445106116,-2960.869395220026,-2785.16960222702,-2605.0658836141047,-2420.8430203798944,-2232.792306737326,-2041.2110895176263,-1846.4022980038587,-1648.673964937453,-1448.3387394551378,-1245.713392726386,-1041.1183170730785,-834.8770193634016,-627.3156094809858,-418.76228467814263,-209.5468106285634,-6.454812004577647e-13],[-0.0,-197.57974651139767,-394.8470788319535,-591.4900767618767,-787.1978073023773,-981.6608163046475,-1174.5716177804786,-1365.6251801008098,-1554.5194083134334,-1740.9556218172052,-1924.639026637471,-2105.2791815559317,-2282.5904573579082,-2456.2924884708427,-2626.1106162798906,-2791.776323419654,-2953.0276583553205,-3109.6096495818856,-3261.274708786515,-3407.78302233655,-3548.9029304741593,-3684.4112936180295,-3814.093845192911,-3937.745530429111,-4055.1708305962375,-4166.184072158496,-4270.609720362716,-4368.282656794875,-4459.048440466251,-4542.763552016372,-4619.29562064662,-4688.523633425678,-4750.338126635841,-4804.64135885766,-4851.347465519212,-4890.3825946656425,-4921.685023734278,-4945.20525715069,-4960.906104591374,-4968.7627397892875,-4968.7627397892875,-4960.906104591374,-4945.20525715069,-4921.685023734278,-4890.3825946656425,-4851.347465519212,-4804.641358857659,-4750.338126635841,-4688.523633425678,-4619.29562064662,-4542.763552016371,-4459.048440466251,-4368.282656794874,-4270.609720362716,-4166.184072158496,-4055.170830596237,-3937.745530429111,-3814.093845192911,-3684.411293618029,-3548.9029304741603,-3407.78302233655,-3261.2747087865137,-3109.6096495818847,-2953.0276583553205,-2791.776323419654,-2626.1106162798906,-2456.2924884708427,-2282.5904573579082,-2105.279181555931,-1924.6390266374694,-1740.9556218172052,-1554.5194083134327,-1365.6251801008086,-1174.5716177804786,-981.6608163046469,-787.1978073023761,-591.490076761877,-394.84707883195324,-197.5797465113967,-6.086182442088334e-13],[-0.0,-184.36351962191475,-368.4355226242346,-551.92495333506,-734.5416772490294,-915.996939789608,-1096.0038228894252,-1274.2776986667138,-1450.5366794804963,-1624.5020636528832,-1795.8987761537148,-1964.4558035507218,-2129.906622537468,-2291.9896213614825,-2450.4485134862084,-2605.0327428327023,-2755.497879960291,-2901.6060085597583,-3043.1261016479357,-3179.834386868847,-3311.5147003238,-3437.9588283709395,-3558.966836853815,-3674.3473872383756,-3783.918039158523,-3887.505538891827,-3984.9460933092773,-4076.085628865882,-4160.780035222612,-4238.895393114476,-4310.308186104392,-4374.905495888073,-4432.585180841071,-4483.256037525682,-4526.837944902325,-4563.261991017379,-4592.47058196714,-4614.4175329656255,-4629.068141372212,-4636.399241563643,-4636.399241563643,-4629.068141372212,-4614.4175329656255,-4592.47058196714,-4563.261991017379,-4526.837944902325,-4483.256037525681,-4432.585180841071,-4374.905495888072,-4310.308186104392,-4238.895393114475,-4160.780035222612,-4076.0856288658806,-3984.9460933092773,-3887.5055388918263,-3783.9180391585214,-3674.3473872383756,-3558.9668368538146,-3437.958828370939,-3311.5147003238008,-3179.834386868847,-3043.1261016479352,-2901.6060085597574,-2755.497879960291,-2605.0327428327023,-2450.448513486208,-2291.9896213614825,-2129.9066225374677,-1964.455803550721,-1795.8987761537132,-1624.5020636528832,-1450.5366794804956,-1274.2776986667127,-1096.0038228894252,-915.9969397896074,-734.5416772490281,-551.9249533350603,-368.4355226242343,-184.36351962191384,-5.679074074628279e-13],[-0.0,-169.98168720174752,-339.69459841707584,-508.87038264964593,-677.2415382112823,-844.5418356971265,-1010.5067389490472,-1174.8738233416811,-1337.3831907297067,-1497.7778804002303,-1655.8042753804934,-1811.2125034584342,-1963.7568322820152,-2113.1960579125825,-2259.2938862178676,-2401.819306501586,-2540.5469567788246,-2675.2574801196647,-2805.7378714975766,-2931.781814594148,-3053.190008027591,-3169.7704804891923,-3281.3388942894117,-3387.7188368336556,-3488.742099566854,-3584.248943945761,-3674.088354018419,-3758.118275211428,-3836.2058389474178,-3908.2275727375822,-3974.069595417063,-4033.62779721448,-4086.808004370877,-4133.526128047793,-4173.708297288998,-4207.290975825665,-4234.2210625402595,-4254.455975430332,-4267.96371893941,-4274.72293454855,-4274.72293454855,-4267.96371893941,-4254.455975430332,-4234.2210625402595,-4207.290975825665,-4173.708297288998,-4133.526128047792,-4086.808004370877,-4033.6277972144794,-3974.069595417063,-3908.2275727375822,-3836.2058389474178,-3758.1182752114278,-3674.088354018419,-3584.2489439457604,-3488.7420995668535,-3387.7188368336556,-3281.338894289411,-3169.7704804891923,-3053.1900080275914,-2931.781814594148,-2805.7378714975757,-2675.2574801196633,-2540.5469567788246,-2401.819306501586,-2259.293886217867,-2113.1960579125825,-1963.7568322820148,-1811.2125034584333,-1655.8042753804923,-1497.7778804002303,-1337.383190729706,-1174.8738233416802,-1010.5067389490472,-844.541835697126,-677.2415382112813,-508.87038264964616,-339.69459841707555,-169.98168720174667,-5.23606077237349e-13],[-0.0,-154.52517582598352,-308.8060155870476,-462.59856956381384,-615.6596601170933,-767.7472662017188,-918.6209060515635,-1068.042017430642,-1215.7743348490437,-1361.5842631472312,-1505.2412468580058,-1646.5181347620899,-1785.1915390608922,-1921.0421885985372,-2053.855275574629,-2183.4207951995418,-2309.533877755152,-2431.995112535975,-2550.6108631584784,-2665.193573740008,-2775.562065463186,-2881.5418230568616,-2982.965270740629,-3079.6720371965757,-3171.5092091493066,-3258.3315731532543,-3340.001845204993,-3416.3908878174598,-3487.3779142128674,-3552.8506793114298,-3612.7056572139,-3666.848204897299,-3715.1927118649887,-3757.6627355144606,-3794.1911220088086,-3824.7201124607427,-3849.201434261265,-3867.5963774085867,-3879.875855716595,-3886.020452806096,-3886.020452806096,-3879.875855716595,-3867.5963774085867,-3849.201434261265,-3824.7201124607427,-3794.1911220088086,-3757.66273551446,-3715.1927118649887,-3666.848204897299,-3612.7056572139,-3552.8506793114298,-3487.3779142128674,-3416.3908878174584,-3340.001845204993,-3258.3315731532543,-3171.5092091493057,-3079.6720371965757,-2982.965270740628,-2881.541823056861,-2775.562065463186,-2665.193573740008,-2550.610863158478,-2431.9951125359735,-2309.533877755152,-2183.4207951995418,-2053.855275574629,-1921.0421885985372,-1785.1915390608917,-1646.5181347620892,-1505.2412468580048,-1361.5842631472312,-1215.7743348490428,-1068.0420174306412,-918.6209060515635,-767.7472662017184,-615.6596601170924,-462.5985695638141,-308.8060155870474,-154.52517582598276,-4.75994340805808e-13],[-0.0,-138.09170653608282,-275.96506170001754,-413.40205937805655,-550.1853834273288,-686.0987512973296,-820.9272560170898,-954.4577060072686,-1086.478962179863,-1216.7822717925017,-1345.1615985294425,-1471.4139482873343,-1595.3396901506208,-1716.7428720490504,-1835.4315305981763,-1951.2179946329252,-2063.919181954284,-2173.3568888198865,-2279.358071720762,-2381.7551209986887,-2480.3861258715165,-2575.095130447392,-2665.7323803230815,-2752.1545593764613,-2834.225016378768,-2911.8139810682756,-2984.7987693437553,-3053.063977253257,-3116.5016634714757,-3175.011519977177,-3228.5010306607933,-3276.8856176114114,-3320.0887748518326,-3358.0421893102503,-3390.6858488372554,-3417.968137097384,-3439.845915185145,-3456.2845898365067,-3467.2581681279516,-3472.7492985766326,-3472.7492985766326,-3467.2581681279516,-3456.2845898365067,-3439.845915185145,-3417.968137097384,-3390.6858488372554,-3358.0421893102503,-3320.0887748518326,-3276.8856176114105,-3228.5010306607933,-3175.0115199771767,-3116.5016634714757,-3053.063977253256,-2984.7987693437553,-2911.813981068275,-2834.225016378767,-2752.1545593764613,-2665.732380323081,-2575.0951304473915,-2480.386125871517,-2381.7551209986887,-2279.3580717207615,-2173.356888819886,-2063.919181954284,-1951.2179946329252,-1835.4315305981756,-1716.7428720490504,-1595.3396901506205,-1471.4139482873336,-1345.1615985294413,-1216.7822717925017,-1086.4789621798623,-954.4577060072679,-820.92725601709,-686.0987512973293,-550.1853834273279,-413.40205937805683,-275.9650617000174,-138.09170653608214,-4.253732148955052e-13],[-0.0,-120.7851770159904,-241.37936784028147,-361.5918882695992,-481.23265760001476,-600.1124991836074,-718.0434395556292,-834.8390056591901,-950.31451969749,-1064.2873911473735,-1176.5774054724793,-1287.0070090794643,-1395.4015900667284,-1501.589754321725,-1605.403596530277,-1706.6789656693966,-1805.255724563789,-1900.9780030956424,-1993.6944446673247,-2083.2584455272727,-2169.52838658066,-2252.3678573182915,-2331.6458715096587,-2407.2370743190945,-2479.0219405175335,-2546.886963476467,-2610.7248346452543,-2670.4346132279966,-2725.9218857916844,-2777.0989155532416,-2823.884781109412,-2866.205504390132,-2903.994167633065,-2937.1910191943384,-2965.743568028173,-2989.606666686019,-3008.7425827039465,-3023.121058265433,-3032.719358045186,-3037.522305158367,-3037.522305158367,-3032.719358045186,-3023.121058265433,-3008.7425827039465,-2989.606666686019,-2965.743568028173,-2937.191019194338,-2903.994167633065,-2866.205504390132,-2823.884781109412,-2777.0989155532416,-2725.9218857916844,-2670.4346132279957,-2610.7248346452543,-2546.886963476467,-2479.021940517533,-2407.2370743190945,-2331.6458715096587,-2252.367857318291,-2169.5283865806605,-2083.2584455272727,-1993.694444667324,-1900.9780030956417,-1805.255724563789,-1706.6789656693966,-1605.4035965302764,-1501.589754321725,-1395.4015900667284,-1287.0070090794636,-1176.5774054724784,-1064.2873911473735,-950.3145196974895,-834.8390056591896,-718.0434395556293,-600.112499183607,-481.23265760001397,-361.5918882695994,-241.37936784028128,-120.7851770159898,-3.720627425629609e-13],[-0.0,-102.7150047175258,-205.26759589999685,-307.49561682154064,-409.23742396858114,-510.33214263145885,-610.6199212804138,-709.9421843237105,-808.1418828482441,-905.063742946151,-1000.5545112347742,-1094.4631971817619,-1186.6413118521336,-1276.9431026998084,-1365.2257840323384,-1451.3497627844388,-1535.1788592433152,-1616.5805223767807,-1695.4260394236844,-1771.5907394152416,-1844.9541903054635,-1915.4003893989718,-1982.8179467751086,-2047.100261418293,-2108.1456897761414,-2165.857706478812,-2220.145056965459,-2270.9219017764476,-2318.107952283186,-2361.628597640947,-2401.4150227639516,-2437.404317136164,-2469.539574285748,-2497.7699817658954,-2522.0509014997506,-2542.343940362383,-2558.6170108882093,-2570.844382007874,-2579.006719734357,-2583.0911177339817,-2583.0911177339817,-2579.006719734357,-2570.844382007874,-2558.6170108882093,-2542.343940362383,-2522.0509014997506,-2497.7699817658954,-2469.539574285748,-2437.404317136164,-2401.4150227639516,-2361.628597640947,-2318.107952283186,-2270.9219017764476,-2220.145056965459,-2165.8577064788115,-2108.1456897761404,-2047.100261418293,-1982.817946775108,-1915.4003893989714,-1844.9541903054635,-1771.5907394152416,-1695.4260394236835,-1616.58052237678,-1535.1788592433152,-1451.3497627844388,-1365.2257840323382,-1276.9431026998084,-1186.6413118521334,-1094.4631971817614,-1000.5545112347735,-905.063742946151,-808.1418828482438,-709.94218432371,-610.6199212804139,-510.33214263145857,-409.2374239685805,-307.4956168215408,-205.2675958999967,-102.71500471752529,-3.1639996977866536e-13],[-0.0,-83.99543508802444,-167.85805612829972,-251.4552590793855,-334.6548595803959,-417.3253019616439,-499.33586726119603,-580.5568799184194,-660.859912817698,-740.1179903580991,-818.2057892278983,-894.9998365664953,-970.3787052003843,-1044.2232056444761,-1116.4165745651712,-1186.8446594071918,-1255.3960988922338,-1321.9624991040387,-1386.4386048814542,-1448.7224662484793,-1508.7155996181325,-1566.3231435152436,-1621.4540085719461,-1674.0210215586892,-1723.9410632230342,-1771.1351997182744,-1815.5288074140733,-1857.0516908917627,-1895.6381939377259,-1931.2273033593706,-1963.7627454595222,-1993.193075016711,-2019.4717566306379,-2042.557238304209,-2062.4130171457846,-2079.0076970877512,-2092.3150385301615,-2102.3139998309316,-2108.988770577005,-2112.328796583864,-2112.328796583864,-2108.988770577005,-2102.3139998309316,-2092.3150385301615,-2079.0076970877512,-2062.4130171457846,-2042.5572383042088,-2019.4717566306379,-1993.193075016711,-1963.7627454595222,-1931.2273033593706,-1895.6381939377259,-1857.051690891762,-1815.5288074140733,-1771.135199718274,-1723.9410632230336,-1674.0210215586892,-1621.4540085719457,-1566.3231435152431,-1508.7155996181327,-1448.7224662484793,-1386.4386048814536,-1321.962499104038,-1255.3960988922338,-1186.8446594071918,-1116.416574565171,-1044.2232056444761,-970.3787052003842,-894.9998365664948,-818.2057892278979,-740.1179903580991,-660.8599128176977,-580.556879918419,-499.33586726119614,-417.32530196164373,-334.65485958039534,-251.45525907938566,-167.8580561282996,-83.99543508802402,-2.587368145139384e-13],[-0.0,-64.74481927383547,-129.38726368039949,-193.82512022812838,-257.95649942091546,-321.6799963663472,-384.8948511176814,-447.50110799603385,-509.399773640852,-570.4929735387657,-630.6841067833102,-689.8779988208157,-747.9810519409388,-804.9013932738816,-860.5490200602824,-914.8359419640785,-967.6763202033135,-1018.9866032788943,-1068.685659086686,-1116.694903204044,-1162.9384231479403,-1207.3430984082006,-1249.838716066062,-1290.3580818152286,-1328.8371262098824,-1365.2150059716446,-1399.434200195306,-1431.4406013012015,-1461.1836005904142,-1488.6161682675313,-1513.694927804417,-1536.3802245274205,-1556.6361883195636,-1574.4307903385718,-1589.7358936610535,-1602.5272977727632,-1612.7847768345855,-1620.4921116637465,-1625.6371153796738,-1628.2116526739608,-1628.2116526739608,-1625.6371153796738,-1620.4921116637465,-1612.7847768345855,-1602.5272977727632,-1589.7358936610535,-1574.4307903385716,-1556.6361883195636,-1536.3802245274203,-1513.694927804417,-1488.616168267531,-1461.1836005904142,-1431.4406013012012,-1399.434200195306,-1365.2150059716444,-1328.837126209882,-1290.3580818152286,-1249.8387160660618,-1207.3430984082004,-1162.9384231479405,-1116.694903204044,-1068.6856590866855,-1018.9866032788939,-967.6763202033135,-914.8359419640785,-860.5490200602821,-804.9013932738816,-747.9810519409386,-689.8779988208153,-630.6841067833097,-570.4929735387657,-509.3997736408517,-447.50110799603345,-384.89485111768147,-321.67999636634704,-257.95649942091507,-193.8251202281285,-129.3872636803994,-64.74481927383516,-1.9943784180220546e-13],[-0.0,-45.08486586626827,-90.09844329261533,-134.96955656079655,-179.62725521768417,-224.00092626251725,-268.02040580057013,-311.61608998669175,-354.71904508329186,-397.2611164587485,-439.1750363538902,-480.39453024614966,-520.8544216432058,-560.4907351404155,-599.2407975790778,-637.0433371455806,-673.8385802547311,-709.5683460640807,-744.1761384697963,-777.6072354386117,-809.8087755346113,-840.729841504025,-870.3215407858726,-898.5370828211516,-925.3318530383297,-950.6634833981516,-974.4919193862188,-996.7794833474085,-1017.4909340619921,-1036.5935224692464,-1054.0570434504505,-1069.853883589387,-1083.9590648348278,-1096.3502839959694,-1107.0079480083598,-1115.9152049145616,-1123.0579705105606,-1128.4249506157867,-1132.0076589315356,-1133.8004304595509,-1133.8004304595509,-1132.0076589315356,-1128.4249506157867,-1123.0579705105606,-1115.9152049145616,-1107.0079480083598,-1096.3502839959692,-1083.9590648348278,-1069.8538835893867,-1054.0570434504505,-1036.5935224692462,-1017.4909340619921,-996.7794833474082,-974.4919193862188,-950.6634833981516,-925.3318530383293,-898.5370828211516,-870.3215407858725,-840.7298415040249,-809.8087755346115,-777.6072354386117,-744.176138469796,-709.5683460640805,-673.8385802547311,-637.0433371455806,-599.2407975790777,-560.4907351404155,-520.8544216432057,-480.39453024614943,-439.1750363538899,-397.2611164587485,-354.7190450832917,-311.6160899866915,-268.0204058005702,-224.0009262625171,-179.62725521768388,-134.96955656079663,-90.09844329261527,-45.08486586626804,-1.3887795884147504e-13],[-0.0,-25.139871420692813,-50.23999153728468,-75.26067190065713,-100.16234967227,-124.90565018114117,-149.45144918329459,-173.76093472523183,-197.7956685136084,-221.5176466940758,-244.88935994318743,-267.87385277834835,-290.43478199202946,-312.53647411784885,-334.1439818376544,-355.22313924041754,-375.74061584556074,-395.66396930529817,-414.9616967026567,-433.6032843640618,-451.55925610772846,-468.80121985156256,-485.3019125068789,-501.03524308694796,-515.976333962209,-530.1015601969157,-543.3885869050156,-555.8164045661965,-567.365362246255,-578.0171986692641,-587.7550710924027,-596.5635819377954,-604.4288031392466,-611.3382981653767,-617.2811416843346,-622.2479368389927,-626.2308301053096,-629.2235237103658,-631.2212855904376,-632.2209568733614,-632.2209568733614,-631.2212855904376,-629.2235237103658,-626.2308301053096,-622.2479368389927,-617.2811416843346,-611.3382981653766,-604.4288031392466,-596.5635819377954,-587.7550710924027,-578.017198669264,-567.365362246255,-555.8164045661963,-543.3885869050156,-530.1015601969156,-515.9763339622087,-501.03524308694796,-485.3019125068789,-468.80121985156256,-451.5592561077286,-433.6032843640618,-414.9616967026565,-395.66396930529805,-375.74061584556074,-355.22313924041754,-334.14398183765434,-312.53647411784885,-290.43478199202946,-267.87385277834824,-244.88935994318726,-221.5176466940758,-197.7956685136083,-173.76093472523172,-149.4514491832946,-124.9056501811411,-100.16234967226984,-75.26067190065717,-50.23999153728465,-25.139871420692693,-7.744004471032792e-14],[-0.0,-5.035934613696274,-10.06390637965512,-15.075965041038105,-20.064185502896,-25.020680363372854,-29.93761238530956,-34.80720688852668,-39.621764043191924,-44.37367104483368,-49.05541415174975,-53.65959056577737,-58.178920137638684,-62.60625687835321,-66.93460025851515,-71.15710627756947,-75.26709828558334,-79.25807754040217,-83.12373348349665,-86.85795371825299,-90.45483367492824,-93.90868594698881,-97.21404928406913,-100.36569722733107,-103.35864637356956,-106.18816425499752,-108.84977682225002,-111.33927551877603,-113.65272393543135,-115.7864640347506,-117.73712193505624,-119.5016132452592,-121.07714794191493,-122.46123478082414,-123.65168523620186,-124.64661696118648,-125.4444567642172,-126.04394309657312,-126.44412804714112,-126.64437884125817,-126.64437884125817,-126.44412804714112,-126.04394309657312,-125.4444567642172,-124.64661696118648,-123.65168523620186,-122.46123478082413,-121.07714794191493,-119.50161324525916,-117.73712193505624,-115.78646403475058,-113.65272393543135,-111.339275518776,-108.84977682225002,-106.18816425499749,-103.35864637356953,-100.36569722733107,-97.21404928406913,-93.9086859469888,-90.45483367492827,-86.85795371825299,-83.12373348349662,-79.25807754040214,-75.26709828558334,-71.15710627756947,-66.93460025851515,-62.60625687835321,-58.17892013763868,-53.65959056577735,-49.055414151749716,-44.37367104483368,-39.6217640431919,-34.80720688852665,-29.93761238530956,-25.020680363372843,-20.064185502895967,-15.075965041038112,-10.063906379655112,-5.0359346136962495,-1.5512529683104487e-14],[0.0,15.099840993351208,30.17580603438913,45.204056923588674,60.16083090730622,75.0224782515775,89.765499637208,104.36658331702688,118.80264197655083,133.05084923977373,147.08867576235897,160.89392485516385,174.4447675817671,187.71977727450476,200.69796341443538,213.35880482166533,225.6822821035522,237.64890930947925,249.23976474214876,260.4365208766747,271.22147334016677,281.57756890598273,291.4884324583855,300.93839288496605,309.9125078558943,318.39658745081323,326.37721659601954,333.84177627645334,340.7784634889538,347.17630990523395,353.02519921506166,358.31588312222596,363.03999596799383,367.1900679589364,370.75953697820796,373.74275896160094,376.13501682197216,377.9325279079268,379.13244998496776,379.7328857296528,379.7328857296528,379.13244998496776,377.9325279079268,376.13501682197216,373.74275896160094,370.75953697820796,367.1900679589364,363.03999596799383,358.31588312222596,353.02519921506166,347.1763099052339,340.7784634889538,333.84177627645323,326.37721659601954,318.3965874508132,309.91250785589426,300.93839288496605,291.48843245838543,281.57756890598273,271.22147334016677,260.4365208766747,249.23976474214868,237.64890930947917,225.6822821035522,213.35880482166533,200.69796341443532,187.71977727450476,174.4447675817671,160.89392485516376,147.0886757623589,133.05084923977373,118.80264197655079,104.3665833170268,89.76549963720801,75.02247825157745,60.16083090730612,45.204056923588695,30.175806034389108,15.099840993351133,4.6513060551354835e-14],[0.0,35.140150543933736,70.22473728696134,105.1982842859668,140.00549117449313,174.5913206039884,208.9010852691666,242.88053437987784,276.47593944275894,309.6341792170244,342.30282371006774,374.4302170800559,405.9655593144331,436.85898655518247,467.0616499438344,496.5257928615535,525.2048264421675,553.0534032387422,580.0274889272157,606.084431933715,631.1830308754625,655.2835997086295,678.3480304801302,700.339853584127,721.2242954279745,740.968333416417,759.5407481670982,776.9121728748232,793.0551397465126,807.9441234334299,821.5555813920039,833.8679911094296,844.8618841351846,854.5198768646512,862.826698026168,869.7692128280498,875.336443727393,879.5195877878268,882.3120305987662,883.7093567341528,883.7093567341528,882.3120305987662,879.5195877878268,875.336443727393,869.7692128280498,862.826698026168,854.519876864651,844.8618841351846,833.8679911094296,821.5555813920039,807.9441234334298,793.0551397465126,776.912172874823,759.5407481670982,740.9683334164168,721.2242954279744,700.339853584127,678.3480304801302,655.2835997086295,631.1830308754626,606.084431933715,580.0274889272155,553.0534032387421,525.2048264421675,496.5257928615535,467.06164994383437,436.85898655518247,405.965559314433,374.4302170800557,342.30282371006746,309.6341792170244,276.47593944275883,242.88053437987767,208.90108526916666,174.59132060398832,140.0054911744929,105.19828428596688,70.2247372869613,35.140150543933565,1.0824458024117011e-13],[0.0,54.95829274868187,109.82968514010399,164.52741422433346,218.96499164882172,273.0563404142672,326.71593098004405,379.8589165039859,432.4012670026835,484.25990222016,535.3528229948329,585.599240917043,634.919706072135,683.2362326671047,730.472422342165,776.5535849722592,821.406856767498,864.9613154857892,907.1480925754812,947.900482070697,987.154046067179,1024.846716611859,1060.9188938450516,1095.3135402400803,1127.976270791334,1158.855439008137,1187.9022185784675,1215.0706805733935,1240.317866070148,1263.603854079019,1284.8918246666353,1304.148117175855,1321.3422834501778,1336.4471359785427,1349.4387908843694,1360.296705690877,1369.0037118029618,1375.5460416542755,1379.9133504765778,1382.0987326569402,1382.0987326569402,1379.9133504765778,1375.5460416542755,1369.0037118029618,1360.296705690877,1349.4387908843694,1336.4471359785425,1321.3422834501778,1304.1481171758548,1284.8918246666353,1263.6038540790187,1240.317866070148,1215.0706805733932,1187.9022185784675,1158.855439008137,1127.9762707913337,1095.3135402400803,1060.9188938450513,1024.846716611859,987.1540460671791,947.900482070697,907.1480925754809,864.9613154857889,821.406856767498,776.5535849722592,730.4724223421649,683.2362326671047,634.919706072135,585.5992409170426,535.3528229948325,484.25990222016,432.40126700268326,379.85891650398554,326.71593098004405,273.056340414267,218.96499164882138,164.52741422433357,109.82968514010392,54.95829274868159,1.6929174284312732e-13],[0.0,74.42897093171766,148.74025436185994,222.81634887698164,296.54012494565404,369.79501012432985,442.46517338233724,514.4357082545478,585.5928145321164,655.8239782040025,725.0181493647486,793.0659178072065,859.8596860225625,925.2938393341171,989.2649128957954,1051.6717552913371,1112.4156884754757,1171.4006638042108,1228.5334139074578,1283.7236001639294,1336.8839555450663,1387.9304226021438,1436.7822863783786,1483.3623020358646,1527.5968169955402,1569.4158873970523,1608.7533886943793,1645.5471202123279,1679.7389034985852,1711.2746743158134,1740.104568128317,1766.1829989481269,1789.4687314158152,1809.9249460020756,1827.5192972269663,1842.2239648047632,1854.015697633549,1862.8758505599847,1868.7904138611302,1871.7500353966952,1871.7500353966952,1868.7904138611302,1862.8758505599847,1854.015697633549,1842.2239648047632,1827.5192972269663,1809.9249460020753,1789.4687314158152,1766.1829989481266,1740.104568128317,1711.2746743158134,1679.7389034985852,1645.5471202123274,1608.7533886943793,1569.415887397052,1527.5968169955397,1483.3623020358646,1436.7822863783783,1387.9304226021434,1336.8839555450663,1283.7236001639294,1228.5334139074573,1171.4006638042104,1112.4156884754757,1051.6717552913371,989.2649128957952,925.2938393341171,859.8596860225623,793.065917807206,725.0181493647482,655.8239782040025,585.5928145321161,514.4357082545473,442.46517338233735,369.7950101243297,296.5401249456536,222.81634887698172,148.74025436185985,74.42897093171729,2.292685885398642e-13],[0.0,93.4290851965823,186.71043980555046,279.69656683171473,372.24043609537637,464.19571671726334,555.4170084977277,645.760071824348,735.0820557444043,823.2417238415961,910.099677559848,995.5185766210791,1079.3633561884117,1161.5014404314418,1241.8029521558758,1320.1409181660715,1396.3914700357586,1470.434039969481,1542.1515514450643,1611.430604335661,1678.1616542186612,1742.2391855879391,1803.561878695559,1862.03276975912,1917.5594042814284,1970.05398324006,2019.4335019156629,2065.6198811394775,2108.540090752553,2148.126265081441,2184.31581024777,2217.051503142039,2246.281581905111,2271.9598277743526,2294.0456381649997,2312.504090871189,2327.3059992851404,2338.427958547188,2345.8523825536718,2349.5675317641803,2349.5675317641803,2345.8523825536718,2338.427958547188,2327.3059992851404,2312.504090871189,2294.0456381649997,2271.959827774352,2246.281581905111,2217.051503142039,2184.31581024777,2148.1262650814406,2108.540090752553,2065.6198811394765,2019.4335019156629,1970.05398324006,1917.559404281428,1862.03276975912,1803.5618786955588,1742.2391855879387,1678.1616542186614,1611.430604335661,1542.151551445064,1470.4340399694806,1396.3914700357586,1320.1409181660715,1241.8029521558753,1161.5014404314418,1079.3633561884114,995.5185766210785,910.0996775598474,823.2417238415961,735.0820557444039,645.7600718243474,555.4170084977277,464.19571671726305,372.2404360953758,279.6965668317149,186.71043980555035,93.42908519658185,2.877959244021058e-13],[0.0,111.83851070341477,223.50018173351646,334.808453036864,445.58732335762414,555.6616285317328,664.8573184574433,773.0017323043114,879.9238715254594,985.4546702414244,1089.4272625680671,1191.6772464658316,1292.0429436931613,1390.3656554530337,1486.4899133283745,1580.2637251095855,1671.538815125465,1760.1708586975221,1846.0197103469623,1928.9496253934908,2008.829474595557,2085.532951492637,2158.938772121711,2228.9308667921346,2295.3985636156817,2358.2367635015453,2417.346106339602,2472.6331281091734,2524.0104086648475,2571.3967099657034,2614.7171045293467,2653.903093907667,2688.892716996955,2719.6306480111525,2746.0682839632846,2768.1638215167777,2785.8823230851226,2799.1957720753844,2808.0831171881905,2812.5303057041647,2812.5303057041647,2808.0831171881905,2799.1957720753844,2785.8823230851226,2768.1638215167777,2746.0682839632846,2719.630648011152,2688.892716996955,2653.9030939076665,2614.7171045293467,2571.396709965703,2524.0104086648475,2472.633128109173,2417.346106339602,2358.236763501545,2295.3985636156813,2228.9308667921346,2158.938772121711,2085.532951492637,2008.8294745955575,1928.9496253934908,1846.0197103469616,1760.1708586975215,1671.538815125465,1580.2637251095855,1486.4899133283743,1390.3656554530337,1292.0429436931613,1191.6772464658309,1089.4272625680665,985.4546702414244,879.9238715254589,773.0017323043108,664.8573184574434,555.6616285317326,445.5873233576234,334.80845303686425,223.50018173351626,111.83851070341423,3.4450372176844847e-13],[0.0,129.5408571368667,258.8768835520732,387.80357240343227,516.1170640955825,643.6144686239112,770.0941863853545,895.3562269488077,1019.2025252811047,1141.437254928545,1261.8671376587704,1380.3017490733766,1496.5538197080277,1610.4395311439728,1721.7788066627472,1830.3955959844807,1936.1181536395752,2038.7793105335918,2138.216738275954,2234.2732058544943,2326.7968282500083,2415.6413065976817,2500.6661595156756,2581.736945235058,2658.7254741798806,2731.5100116612434,2799.975470364862,2864.013592327766,2923.5231201163906,2978.4099569353943,3028.587315414027,3073.9758548348113,3114.503806587516,3150.1070876500867,3180.7294019170727,3206.3223292153425,3226.845401866329,3242.2661686737492,3252.5602462356105,3257.7113574993887,3257.7113574993887,3252.5602462356105,3242.2661686737492,3226.845401866329,3206.3223292153425,3180.7294019170727,3150.107087650086,3114.503806587516,3073.975854834811,3028.587315414027,2978.409956935394,2923.5231201163906,2864.0135923277653,2799.975470364862,2731.510011661243,2658.7254741798797,2581.736945235058,2500.666159515675,2415.6413065976817,2326.7968282500087,2234.2732058544943,2138.216738275953,2038.7793105335911,1936.1181536395752,1830.3955959844807,1721.7788066627468,1610.4395311439728,1496.5538197080275,1380.301749073376,1261.8671376587697,1141.437254928545,1019.2025252811042,895.356226948807,770.0941863853546,643.6144686239109,516.1170640955817,387.80357240343255,258.876883552073,129.5408571368661,3.990334556856975e-13],[0.0,146.42420456315102,292.6168823620666,438.34687272391466,583.3837465798046,727.4981708205083,870.4622709192452,1012.0499912481461,1152.0374525186676,1290.203305780762,1426.3290824210674,1560.1995396066886,1691.603000628359,1820.331689604827,1946.182060019231,2068.9551165679823,2188.45672981324,2304.497943141457,2416.8952715426253,2525.4709917377872,2630.0534231960764,2730.477199596919,2826.583530308182,2918.220451466795,3005.2430662648603,3087.513774061284,3164.9024879566746,3237.2868404874694,3304.5523771140465,3366.5927371968796,3423.3098221745654,3474.6139506778195,3520.42400033415,3560.667536039007,3595.280924490566,3624.209434807063,3647.4073250675656,3664.8379146393527,3676.4736421775333,3682.2961092052005,3682.2961092052005,3676.4736421775333,3664.8379146393527,3647.4073250675656,3624.209434807063,3595.280924490566,3560.667536039007,3520.42400033415,3474.6139506778195,3423.3098221745654,3366.5927371968787,3304.5523771140465,3237.286840487469,3164.9024879566746,3087.5137740612836,3005.24306626486,2918.220451466795,2826.5835303081817,2730.477199596919,2630.053423196077,2525.4709917377872,2416.895271542624,2304.4979431414563,2188.45672981324,2068.9551165679823,1946.1820600192307,1820.331689604827,1691.603000628359,1560.199539606688,1426.3290824210662,1290.203305780762,1152.037452518667,1012.0499912481453,870.4622709192453,727.4981708205079,583.3837465798036,438.3468727239149,292.61688236206635,146.4242045631503,4.510403716190578e-13],[0.0,162.38181102389686,324.50686302773124,486.118802980227,646.962089185729,806.7823953481494,965.3270127131171,1122.3452496524621,1277.5888280592076,1430.8122759262894,1581.7733154882555,1730.233246312212,1875.9573227322703,2018.715125030698,2158.280923778851,2294.4340367618024,2426.9591779222806,2555.646797772177,2680.293414733362,2800.701936883881,2916.681973600798,3028.0501366068993,3134.63032994526,3236.254028423144,3332.7605440849748,3423.99728029302,3509.819973014044,3590.092918930396,3664.6891900148476,3733.4908342298936,3796.3890620341685,3853.284418401074,3904.0869400776146,3948.7162978347956,3987.1019234846426,4019.1831214630165,4044.9091648017693,4064.239375338513,4077.1431880371547,4083.6001993174964,4083.6001993174964,4077.1431880371547,4064.239375338513,4044.9091648017693,4019.1831214630165,3987.1019234846426,3948.7162978347947,3904.0869400776146,3853.2844184010737,3796.3890620341685,3733.4908342298936,3664.6891900148476,3590.0929189303956,3509.819973014044,3423.99728029302,3332.7605440849743,3236.254028423144,3134.63032994526,3028.050136606899,2916.6819736007983,2800.701936883881,2680.293414733361,2555.646797772176,2426.9591779222806,2294.4340367618024,2158.28092377885,2018.715125030698,1875.9573227322699,1730.233246312211,1581.7733154882544,1430.8122759262894,1277.588828059207,1122.3452496524612,965.3270127131174,806.782395348149,646.962089185728,486.11880298022726,324.506863027731,162.38181102389606,5.001956651012994e-13],[0.0,177.31278739317912,354.3452068236625,530.8173336481317,706.4501291610441,880.965881812181,1054.0886463256916,1225.5446800262926,1395.0628756827057,1562.3751901839123,1727.2170683704105,1889.3278613502987,2048.451238638748,2204.335593469188,2356.734440635319,2505.4068062348924,2650.117608698973,2790.638030504227,2926.7458799804535,3058.2259426412893,3184.870321482546,3306.478765710106,3422.858987377591,3533.8269654331243,3639.207236694445,3738.8331732922575,3832.547246143148,3920.201274035445,4001.6566579341666,4076.7846001345915,4145.466307917897,4207.593181386869,4263.0669851846615,4311.800003825084,4353.715180388818,4388.746238366245,4416.837786454232,4437.94540614116,4452.035721941732,4459.086454170468,4459.086454170468,4452.035721941732,4437.94540614116,4416.837786454232,4388.746238366245,4353.715180388818,4311.800003825083,4263.0669851846615,4207.593181386869,4145.466307917897,4076.784600134591,4001.6566579341666,3920.201274035444,3832.547246143148,3738.8331732922566,3639.2072366944435,3533.8269654331243,3422.858987377591,3306.478765710105,3184.8703214825464,3058.2259426412893,2926.7458799804526,2790.6380305042258,2650.117608698973,2505.4068062348924,2356.7344406353186,2204.335593469188,2048.4512386387473,1889.3278613502978,1727.2170683704092,1562.3751901839123,1395.0628756827048,1225.5446800262916,1054.0886463256916,880.9658818121804,706.4501291610429,530.817333648132,354.34520682366224,177.31278739317827,5.461885605404681e-13],[0.0,191.12273523105557,381.9432661333125,572.1598662251326,761.4717639636244,949.5796183262742,1136.1859921306313,1320.9958223436297,1503.7168866368934,1684.0602654503004,1861.740798833196,2036.4775373408863,2207.9941862734577,2376.0195425544916,2540.2879235588675,2700.5395872116096,2856.5211426934907,3007.9859511040027,3154.694515448155,3296.414859330449,3432.9228937572434,3564.002771467511,3689.447228231727,3809.057910579216,3922.645689435761,4030.0309591755463,4131.043921614564,4225.524854496449,4313.324364046194,4394.303621192417,4468.334581084656,4535.300185558598,4595.094548229097,4647.6231219183155,4692.802848154247,4730.5622885032235,4760.841737528777,4783.593317198196,4798.781052587541,4806.380928765391,4806.380928765391,4798.781052587541,4783.593317198196,4760.841737528777,4730.5622885032235,4692.802848154247,4647.6231219183155,4595.094548229097,4535.300185558597,4468.334581084656,4394.303621192417,4313.324364046194,4225.524854496448,4131.043921614564,4030.0309591755454,3922.6456894357602,3809.057910579216,3689.447228231727,3564.002771467511,3432.9228937572443,3296.414859330449,3154.694515448154,3007.9859511040017,2856.5211426934907,2700.5395872116096,2540.2879235588666,2376.0195425544916,2207.9941862734577,2036.4775373408852,1861.7407988331945,1684.0602654503004,1503.7168866368925,1320.9958223436283,1136.1859921306313,949.5796183262736,761.4717639636232,572.159866225133,381.94326613331225,191.12273523105463,5.887282760432364e-13],[0.0,203.7243436008981,407.12655713996224,609.8850199091987,811.6791291029003,1012.1898067565824,1211.1000042748271,1408.0952037502827,1602.8639152811234,1795.0981695006053,1984.4940045399421,2170.751946654495,2353.577483753318,2532.681531083311,2707.780888331631,2878.5986874236037,3044.864830308052,3206.316416037835,3362.698156470284,3513.7627799302277,3659.271422197339,3798.9940041995615,3932.7095958154173,4060.206765209936,4181.28391315185,4295.749591783411,4403.422807338811,4504.133306332522,4597.721844765056,4684.040439920459,4762.952604357398,4834.333561723868,4898.070444054245,4954.062470236741,5002.22110536906,5042.470200750271,5074.74611428756,5098.9978111274595,5115.186944352441,5123.287915615274,5123.287915615274,5115.186944352441,5098.9978111274595,5074.74611428756,5042.470200750271,5002.22110536906,4954.06247023674,4898.070444054245,4834.333561723867,4762.952604357398,4684.040439920458,4597.721844765056,4504.133306332522,4403.422807338811,4295.749591783411,4181.2839131518485,4060.206765209936,3932.709595815417,3798.9940041995615,3659.2714221973397,3513.7627799302277,3362.6981564702824,3206.3164160378337,3044.864830308052,2878.5986874236037,2707.78088833163,2532.681531083311,2353.5774837533177,2170.751946654494,1984.4940045399408,1795.0981695006053,1602.8639152811222,1408.0952037502818,1211.1000042748274,1012.1898067565818,811.6791291028991,609.8850199091991,407.126557139962,203.72434360089713,6.275458618316587e-13],[0.0,215.03794107724488,429.73586296958786,643.7542841323477,856.7547974511648,1068.400605333207,1278.357052253392,1486.2921539135573,1691.877122177876,1894.7868849544775,2094.7006002012445,2291.302163243029,2484.280706598115,2673.331091523607,2858.154390502501,3038.458359909535,3213.957902108424,3384.3755162498287,3549.441737057236,3708.8955609069462,3862.4848585284562,4009.966773672651,4151.10810711746,4285.685685403756,4413.4867137184665,4534.309112366912,4647.961836302341,4754.26517720742,4853.051047650013,4944.163246863972,5027.457707734645,5102.802724598602,5170.0791614973605,5229.180640555822,5280.013710187558,5322.497992860976,5356.566312192723,5382.164799167347,5399.252977315292,5407.8038267145075,5407.8038267145075,5399.252977315292,5382.164799167347,5356.566312192723,5322.497992860976,5280.013710187558,5229.180640555821,5170.0791614973605,5102.802724598601,5027.457707734645,4944.163246863972,4853.051047650013,4754.26517720742,4647.961836302341,4534.309112366911,4413.486713718465,4285.685685403756,4151.108107117459,4009.96677367265,3862.484858528457,3708.8955609069462,3549.4417370572346,3384.3755162498273,3213.957902108424,3038.458359909535,2858.1543905025005,2673.331091523607,2484.2807065981146,2291.3021632430277,2094.700600201243,1894.7868849544775,1691.8771221778752,1486.2921539135561,1278.357052253392,1068.4006053332066,856.7547974511635,643.7542841323481,429.73586296958763,215.03794107724386,6.623959006302582e-13],[0.0,224.99199945420457,449.6282403112024,673.5535265012534,896.4137861200794,1117.8566312893226,1337.5319153542132,1555.0922865374007,1770.193737173513,1982.4961476559808,2191.6638242360477,2397.3660298235886,2599.2775069504273,2797.0789920692528,2990.4577203749063,3179.1079203498302,3362.7312972516843,3541.0375047786456,3713.7446041665953,3880.5795099922507,4041.2784219773557,4195.58724211114,4343.261976431504,4484.069120829626,4617.786030267951,4744.201270827763,4863.114954029667,4974.33905289836,5077.697699271928,5173.027461885562,5260.177604789974,5339.010325695924,5409.400973867956,5471.238247222835,5524.424368321022,5568.875238972896,5604.520573215287,5631.304008448022,5649.183194554787,5658.129860867363,5658.129860867363,5649.183194554787,5631.304008448022,5604.520573215287,5568.875238972896,5524.424368321022,5471.238247222835,5409.400973867956,5339.010325695924,5260.177604789974,5173.027461885561,5077.697699271928,4974.339052898359,4863.114954029667,4744.2012708277625,4617.786030267949,4484.069120829626,4343.261976431503,4195.587242111139,4041.278421977356,3880.5795099922507,3713.7446041665944,3541.037504778645,3362.7312972516843,3179.1079203498302,2990.4577203749054,2797.0789920692528,2599.2775069504273,2397.3660298235873,2191.663824236046,1982.4961476559808,1770.193737173512,1555.0922865373996,1337.5319153542132,1117.856631289322,896.4137861200779,673.5535265012538,449.62824031120215,224.99199945420347,6.93058059273062e-13],[0.0,233.52358596980395,466.67792315049167,699.0943466111797,930.4053582142509,1160.2452077054475,1388.2504710402009,1614.0606250317458,1837.3186174123857,2057.671431406513,2274.7706439226968,2488.272976482205,2697.8408380128403,2903.1428586498137,3103.8544136996106,3299.6581369383644,3490.2444224330798,3675.3119140922545,3854.5679821718063,4027.7291859828406,4194.521722069644,4354.681857149226,4507.956345127848,4654.102827535148,4792.890216742707,4924.099061361076,5047.52189323754,5162.963555505908,5270.24151116963,5369.186131730315,5459.64096540524,5541.462984509797,5614.522811613637,5678.704924113001,5733.907836895687,5780.044262809884,5817.041250683088,5844.840300672914,5863.397456767361,5872.683376288304,5872.683376288304,5863.397456767361,5844.840300672914,5817.041250683088,5780.044262809884,5733.907836895687,5678.704924113001,5614.522811613637,5541.462984509797,5459.64096540524,5369.186131730314,5270.24151116963,5162.963555505906,5047.52189323754,4924.099061361075,4792.890216742706,4654.102827535148,4507.956345127847,4354.681857149225,4194.521722069645,4027.7291859828406,3854.567982171805,3675.311914092253,3490.2444224330798,3299.6581369383644,3103.85441369961,2903.1428586498137,2697.84083801284,2488.2729764822043,2274.770643922695,2057.671431406513,1837.318617412385,1614.0606250317448,1388.2504710402009,1160.2452077054468,930.4053582142495,699.0943466111801,466.6779231504913,233.5235859698028,7.193384817208168e-13],[0.0,240.57876118717112,480.77711790304863,720.2152671739981,958.5146080706129,1195.2983403536032,1430.1920602724235,1662.824352574559,1892.8273777893844,2119.8374538579706,2343.495631189178,2563.4482602327375,2779.34755067188,2990.8521213513172,3197.6275400710124,3399.3468523922365,3595.691098619733,3786.349818142559,3971.0215403361285,4149.41426124923,4321.245905322297,4486.2447714068485,4644.149962380847,4794.711797680676,4937.6922080974355,5072.865112213292,5200.0167738826685,5318.946140193029,5429.465159370851,5531.399078130143,5624.586717993292,5708.88073014739,5784.147828432972,5850.269000096844,5907.139693975704,5954.669985813019,5992.78472044776,6021.423630650164,6040.541432416604,6050.107896572912,6050.107896572912,6040.541432416604,6021.423630650164,5992.78472044776,5954.669985813019,5907.139693975704,5850.269000096843,5784.147828432972,5708.880730147389,5624.586717993292,5531.399078130142,5429.465159370851,5318.946140193028,5200.0167738826685,5072.8651122132915,4937.692208097435,4794.711797680676,4644.149962380846,4486.244771406848,4321.245905322298,4149.41426124923,3971.021540336127,3786.3498181425575,3595.691098619733,3399.3468523922365,3197.627540071012,2990.8521213513172,2779.3475506718796,2563.448260232736,2343.4956311891765,2119.8374538579706,1892.8273777893833,1662.8243525745577,1430.1920602724238,1195.2983403536027,958.5146080706115,720.2152671739984,480.7771179030483,240.57876118717,7.41071014681284e-13],[0.0,246.11292001702293,491.83668492012123,736.7827549295946,980.5638199612209,1222.7944120431096,1463.0915148197962,1701.075169179827,1936.3690740492157,2168.601181400783,2397.404284538567,2622.416598727082,2843.28233324735,3059.652253975161,3271.1842355920003,3477.54380255551,3678.404657974061,3873.4491995492112,4062.3690217702233,4244.865403566567,4420.649780647329,4589.444201780678,4750.981768291884,4905.00705608499,5051.276519520808,5189.558876512629,5319.635474230748,5441.300634837526,5554.36198070633,5658.640738610105,5753.972022398581,5840.205093717189,5917.203600355358,5984.845791847406,6043.024711985044,6091.648367937124,6130.639875709218,6159.937581713014,6179.495160253309,6189.281686778463,6189.281686778463,6179.495160253309,6159.937581713014,6130.639875709218,6091.648367937124,6043.024711985044,5984.845791847406,5917.203600355358,5840.205093717188,5753.972022398581,5658.640738610104,5554.36198070633,5441.300634837525,5319.635474230748,5189.558876512628,5051.276519520807,4905.00705608499,4750.981768291884,4589.444201780677,4420.64978064733,4244.865403566567,4062.369021770222,3873.4491995492094,3678.404657974061,3477.54380255551,3271.1842355919994,3059.652253975161,2843.2823332473495,2622.4165987270803,2397.404284538565,2168.601181400783,1936.3690740492145,1701.0751691798257,1463.0915148197962,1222.7944120431089,980.5638199612193,736.7827549295951,491.83668492012094,246.11292001702174,7.581182580838504e-13],[0.0,250.09107372540058,499.78670205817247,748.6920648861346,996.4135916693047,1242.559583755819,1486.7408337380134,1728.5712408693337,1967.6684215689795,2203.6543140489393,2436.155776107388,2664.805175143207,2889.2409694586886,3109.1082799312767,3324.059451150398,3533.7546011321356,3737.8621587424927,3936.059387979519,4128.032898285264,4313.479140080661,4492.1048847398115,4663.627688244709,4827.7763377872925,4984.291280612632,5132.925034425198,5273.442578709226,5405.6217263444705,5529.253474929706,5644.142337258479,5750.106650424575,5846.978863068397,5934.6058003101225,6012.8489059506555,6081.584461557471,6140.7037820888745,6190.113387747404,6229.735151790595,6259.506424065425,6279.380130071079,6289.324845393414,6289.324845393414,6279.380130071079,6259.506424065425,6229.735151790595,6190.113387747404,6140.7037820888745,6081.58446155747,6012.8489059506555,5934.605800310122,5846.978863068397,5750.106650424574,5644.142337258479,5529.253474929704,5405.6217263444705,5273.442578709225,5132.925034425196,4984.291280612632,4827.776337787292,4663.627688244709,4492.104884739812,4313.479140080661,4128.0328982852625,3936.059387979518,3737.8621587424927,3533.7546011321356,3324.0594511503978,3109.1082799312767,2889.240969458688,2664.805175143206,2436.1557761073864,2203.6543140489393,1967.6684215689786,1728.5712408693323,1486.7408337380134,1242.5595837558183,996.4135916693031,748.6920648861351,499.7867020581721,250.09107372539938,7.703724337670145e-13],[0.0,252.48807114371107,504.5769067491833,755.8679025516249,1005.9637158349648,1254.4688937123587,1500.990498418488,1745.1387286249303,1986.5275357961857,2224.7752346117572,2459.505106489101,2690.345995253133,2916.9328940104365,3138.9075223001823,3355.9188926091792,3567.6238653552846,3773.687691461601,3973.784541663585,4167.5980217120805,4354.821672657662,4535.159455425225,4708.3262189126135,4874.0481508731245,5032.063210868944,5182.121544610954,5323.985879029708,5457.431897452929,5582.248594296274,5698.238608706536,5805.218536629723,5903.019220810552,5991.486018264855,6070.479044801913,6139.873396210119,6199.559345756205,6249.44251768577,6289.444036450734,6319.500651427803,6339.564836930698,6349.60486735804,6349.60486735804,6339.564836930698,6319.500651427803,6289.444036450734,6249.44251768577,6199.559345756205,6139.873396210118,6070.479044801913,5991.4860182648545,5903.019220810552,5805.218536629722,5698.238608706536,5582.248594296272,5457.431897452929,5323.985879029708,5182.121544610953,5032.063210868944,4874.048150873124,4708.326218912613,4535.159455425226,4354.821672657662,4167.59802171208,3973.7845416635837,3773.687691461601,3567.6238653552846,3355.9188926091783,3138.9075223001823,2916.932894010436,2690.3459952531316,2459.505106489099,2224.7752346117572,1986.5275357961846,1745.138728624929,1500.990498418488,1254.468893712358,1005.9637158349632,755.8679025516253,504.57690674918297,252.48807114370985,7.777560668866223e-13],[0.0,253.28875768251322,506.1770137767923,758.2648999699354,1009.1538134983666,1258.4470474207365,1505.7504178931372,1750.672887454782,1992.8271833386093,2231.8304098291246,2467.304653699234,2698.8775817687324,2926.1830296395924,3148.861580677142,3366.5611343216383,3578.937462831631,3785.654755578768,3986.3861500334274,4180.814248601563,4368.631620495538,4549.541287845393,4723.257195281896,4889.504662248888,5048.02081732969,5198.555013900855,5340.869226455992,5474.738426973021,5599.9509407297255,5716.308781005001,5823.627962136555,5921.738790440053,6010.48613252972,6089.729660616103,6159.344074393155,6219.219299163773,6269.260659890518,6309.389030896309,6339.540960978385,6359.668773737695,6369.740642965087,6369.740642965087,6359.668773737695,6339.540960978385,6309.389030896309,6269.260659890518,6219.219299163773,6159.344074393154,6089.729660616103,6010.486132529719,5921.738790440053,5823.627962136555,5716.308781005001,5599.950940729725,5474.738426973021,5340.869226455991,5198.555013900854,5048.02081732969,4889.504662248887,4723.257195281895,4549.5412878453935,4368.631620495538,4180.814248601562,3986.386150033426,3785.654755578768,3578.937462831631,3366.561134321638,3148.861580677142,2926.183029639592,2698.877581768731,2467.3046536992324,2231.8304098291246,1992.8271833386082,1750.6728874547807,1505.7504178931374,1258.4470474207358,1009.153813498365,758.2648999699359,506.17701377679197,253.28875768251197,7.802224757367787e-13]],\"y\":[[0.0,0.0,0.0,0.0,0.0,0.0,0.0,0.0,0.0,0.0,0.0,0.0,0.0,0.0,0.0,0.0,0.0,0.0,0.0,0.0,0.0,0.0,0.0,0.0,0.0,0.0,0.0,0.0,0.0,0.0,0.0,0.0,0.0,0.0,0.0,0.0,0.0,0.0,0.0,0.0,0.0,0.0,0.0,0.0,0.0,0.0,0.0,0.0,0.0,0.0,0.0,0.0,0.0,0.0,0.0,0.0,0.0,0.0,0.0,0.0,0.0,0.0,0.0,0.0,0.0,0.0,0.0,0.0,0.0,0.0,0.0,0.0,0.0,0.0,0.0,0.0,0.0,0.0,0.0,0.0],[0.0,20.123834089933776,40.21584826180992,60.244272911401666,80.17743898258753,99.98382804263846,119.63212211933845,139.0912532211358,158.33045246202377,177.31929871347367,196.0277667064921,214.42627450774253,232.48573029466263,250.1775783556154,267.4738442423384,284.3471790032969,300.7709024279977,316.7190452338855,332.1663901291168,347.0885116862817,361.4618149640249,375.263572815498,388.47196182465007,401.06609681353393,413.02606386606595,424.3329518160196,434.9688821494674,444.9170372743857,454.1616871127244,462.688213972894,470.48313566334014,477.53412681066,483.83003834855083,489.3609151467757,494.11801175227026,498.0938062175019,501.282011994215,503.67758787375533,505.2767459582579,506.0769576500915,506.0769576500915,505.2767459582579,503.67758787375533,501.282011994215,498.0938062175019,494.11801175227026,489.36091514677565,483.83003834855083,477.53412681066,470.48313566334014,462.688213972894,454.1616871127244,444.9170372743856,434.9688821494674,424.3329518160195,413.0260638660658,401.06609681353393,388.47196182465,375.2635728154979,361.461814964025,347.0885116862817,332.1663901291167,316.71904523388537,300.7709024279977,284.3471790032969,267.47384424233826,250.1775783556154,232.48573029466263,214.4262745077424,196.02776670649192,177.31929871347367,158.3304524620237,139.09125322113567,119.63212211933846,99.98382804263842,80.17743898258742,60.2442729114017,40.21584826180989,20.12383408993368,6.198880597237144e-14],[0.0,40.120438821467886,80.17743898258753,120.10766213257226,159.84797038114837,199.33552613253744,238.5078914446113,277.3031267561121,315.65988882583054,353.5175277288783,390.8161827566864,427.496877069089,463.50161094883043,498.7734535110395,533.2566327226602,566.8966235895008,599.6402343714552,631.4356906895787,662.2327173920226,691.9826180493834,720.6383519537668,748.1546084998156,774.4878788300907,799.5965246315176,823.4408439741176,845.9831340879197,867.1877509787903,887.0211657889135,905.4520178128075,922.4511640850458,937.9917254612752,952.0491291196696,964.6011474156104,975.627933028162,985.1120503427658,993.0385030205309,999.3947577105281,1004.1707638675935,1007.3589696443064,1008.9543338320132,1008.9543338320132,1007.3589696443064,1004.1707638675935,999.3947577105281,993.0385030205309,985.1120503427658,975.6279330281618,964.6011474156104,952.0491291196696,937.9917254612752,922.4511640850455,905.4520178128075,887.0211657889134,867.1877509787903,845.9831340879196,823.4408439741172,799.5965246315176,774.4878788300906,748.1546084998155,720.6383519537669,691.9826180493834,662.2327173920224,631.4356906895783,599.6402343714552,566.8966235895008,533.2566327226601,498.7734535110395,463.5016109488303,427.49687706908884,390.8161827566861,353.5175277288783,315.65988882583036,277.30312675611185,238.50789144461135,199.33552613253735,159.8479703811481,120.10766213257233,80.17743898258747,40.120438821467694,1.2358569875481196e-13],[0.0,59.86338922117059,119.63212211933845,179.2116920426037,238.5078914446113,297.4269608460459,355.87573708764046,413.76180064027994,470.9936217392739,527.4807051117275,583.1337330681689,637.8647067321753,691.587085184684,744.2159223029746,795.6680010779471,845.8619651973211,894.7184476866853,942.1601964049988,988.1121961961052,1032.5017875031126,1075.2587812580884,1116.315569865403,1155.6072341032343,1193.0716457742012,1228.6495659428151,1262.2847386044116,1293.9239796374575,1323.5172608985797,1351.017789327341,1376.3820809356894,1399.5700295650777,1420.5449703025477,1439.2737374554902,1455.726716993425,1469.8778933738683,1481.7048906782534,1491.1890079928573,1498.3152489787888,1503.0723455842833,1505.4527758618083,1505.4527758618083,1503.0723455842833,1498.3152489787888,1491.1890079928573,1481.7048906782534,1469.8778933738683,1455.7267169934248,1439.2737374554902,1420.5449703025474,1399.5700295650777,1376.3820809356891,1351.017789327341,1323.5172608985795,1293.9239796374575,1262.2847386044114,1228.649565942815,1193.0716457742012,1155.607234103234,1116.315569865403,1075.2587812580887,1032.5017875031126,988.1121961961048,942.1601964049985,894.7184476866853,845.8619651973211,795.6680010779469,744.2159223029746,691.5870851846839,637.8647067321749,583.1337330681685,527.4807051117275,470.9936217392737,413.76180064027955,355.87573708764046,297.42696084604574,238.50789144461095,179.21169204260377,119.63212211933838,59.863389221170294,1.84401242958762e-13],[0.0,79.22786399996521,158.33045246202377,237.18268793464426,315.65988882583054,393.6379665503462,470.9936217392739,547.6045392016612,623.3495813299788,698.1089796435768,771.7645241672716,844.1997503456131,915.3001231972856,984.9532184184569,1053.048900148709,1119.4794951184724,1184.1399629025973,1246.9280620108552,1307.7445115527512,1366.4931482210184,1423.0810783455725,1477.4188247774982,1529.420468370813,1579.003783838297,1626.0903697665747,1670.6057725848614,1712.479604291366,1751.6456537511872,1788.0419913897279,1821.6110671160816,1852.2998013215558,1880.0596688094445,1904.8467755233357,1926.6219279526392,1945.350695105582,1961.0034629516829,1973.5554812476237,1982.9869026724682,1989.2828142103592,1992.4332607310591,1992.4332607310591,1989.2828142103592,1982.9869026724682,1973.5554812476237,1961.0034629516829,1945.350695105582,1926.6219279526388,1904.8467755233357,1880.0596688094445,1852.2998013215558,1821.6110671160814,1788.0419913897279,1751.645653751187,1712.479604291366,1670.6057725848614,1626.090369766574,1579.003783838297,1529.4204683708128,1477.4188247774978,1423.081078345573,1366.4931482210184,1307.744511552751,1246.9280620108548,1184.1399629025973,1119.4794951184724,1053.0489001487085,984.9532184184569,915.3001231972856,844.1997503456125,771.764524167271,698.1089796435768,623.3495813299785,547.6045392016607,470.99362173927403,393.637966550346,315.65988882583,237.1826879346444,158.33045246202366,79.22786399996482,2.4405094313294633e-13],[0.0,98.09143471350848,196.0277667064921,293.65413850770767,390.8161827566864,487.36026629025963,583.1337330681689,677.985145553643,771.7645241672716,864.3235844355466,955.5159714590956,1045.1974913298586,1133.2263391312965,1219.463323161111,1303.7720850219355,1386.0193152319905,1466.0749640147749,1543.812446934492,1619.1088450520647,1691.8450992852406,1761.9061986654754,1829.1813621939123,1893.5642140089126,1954.9529515881582,2013.2505067193636,2068.3646989850727,2120.2083815188444,2168.6995788023632,2213.7616162855807,2255.3232416249425,2293.3187373479855,2327.688024766173,2358.3767589716476,2385.3364147677025,2408.524363397091,2427.903939946854,2443.4445013230834,2455.1214747039526,2462.916396394399,2466.816941021019,2466.816941021019,2462.916396394399,2455.1214747039526,2443.4445013230834,2427.903939946854,2408.524363397091,2385.336414767702,2358.3767589716476,2327.6880247661725,2293.3187373479855,2255.323241624942,2213.7616162855807,2168.6995788023623,2120.2083815188444,2068.3646989850727,2013.250506719363,1954.9529515881582,1893.5642140089124,1829.1813621939118,1761.9061986654758,1691.8450992852406,1619.1088450520642,1543.8124469344916,1466.0749640147749,1386.0193152319905,1303.772085021935,1219.463323161111,1133.2263391312963,1045.197491329858,955.5159714590948,864.3235844355466,771.7645241672711,677.9851455536425,583.1337330681689,487.36026629025935,390.81618275668575,293.65413850770784,196.02776670649192,98.091434713508,3.021576746674136e-13],[0.0,116.33483979423403,232.48573029466263,348.26901306912384,463.50161094883043,578.0013175110046,691.587085184684,804.0793115241448,915.3001231972856,1025.0736572399248,1133.2263391312965,1239.5871572510448,1343.9879332837456,1446.2635881433928,1546.2524029973622,1643.7962749771305,1738.740967171403,1830.9363525063766,1920.2366511274993,2006.500660907386,2089.5919807154046,2169.3792260959003,2245.7362370140263,2318.5422773406876,2387.682225761183,2453.04675780566,2514.5325187135786,2572.042286858828,2625.485127477102,2674.776536452455,2719.8385739356722,2760.5999875832003,2796.996325221741,2828.9700367603878,2856.4705651891495,2879.454426519973,2897.885278543866,2911.733978295405,2920.9786281337433,2925.6046103672934,2925.6046103672934,2920.9786281337433,2911.733978295405,2897.885278543866,2879.454426519973,2856.4705651891495,2828.9700367603878,2796.996325221741,2760.5999875832003,2719.8385739356722,2674.776536452455,2625.485127477102,2572.0422868588275,2514.5325187135786,2453.0467578056596,2387.682225761182,2318.5422773406876,2245.7362370140263,2169.3792260959,2089.591980715405,2006.500660907386,1920.2366511274988,1830.936352506376,1738.740967171403,1643.7962749771305,1546.2524029973617,1446.2635881433928,1343.9879332837454,1239.5871572510441,1133.2263391312956,1025.0736572399248,915.3001231972851,804.0793115241443,691.5870851846842,578.0013175110042,463.5016109488297,348.269013069124,232.48573029466252,116.33483979423346,3.583540680967431e-13],[0.0,133.8427385613813,267.4738442423384,400.6820187975309,533.2566327226602,664.9880583030092,795.6680010779471,925.0898291972861,1053.048900148709,1179.3428843396428,1303.7720850219355,1426.1397540534588,1546.2524029973622,1663.9201090670642,1778.9568154332126,1891.1806254177777,2000.4140901100866,2106.4844889500246,2209.224102834743,2308.470479317036,2404.0666894760498,2495.861576054161,2583.7099924676745,2667.473032313402,2747.018249008241,2822.2198652144434,2892.9589717194403,2959.1237154557516,3020.6094763636693,3077.319032817086,3129.162715350857,3176.0585484466696,3217.932380153174,3254.7179993354703,3286.357240368516,3312.8000751089385,3334.004691999809,3349.9375621833124,3360.57349251676,3365.8956654081285,3365.8956654081285,3360.57349251676,3349.9375621833124,3334.004691999809,3312.8000751089385,3286.357240368516,3254.71799933547,3217.932380153174,3176.058548446669,3129.162715350857,3077.3190328170854,3020.6094763636693,2959.1237154557507,2892.9589717194403,2822.219865214443,2747.01824900824,2667.473032313402,2583.7099924676745,2495.8615760541607,2404.0666894760498,2308.470479317036,2209.224102834742,2106.4844889500237,2000.4140901100866,1891.1806254177777,1778.9568154332121,1663.9201090670642,1546.252402997362,1426.1397540534579,1303.7720850219346,1179.3428843396428,1053.0489001487083,925.0898291972852,795.6680010779472,664.9880583030088,533.2566327226594,400.68201879753116,267.47384424233815,133.84273856138066,4.122848317280877e-13],[0.0,150.5044404419156,300.7709024279977,450.56178379526676,599.6402343714552,747.7705304838126,894.7184476866853,1040.251631118507,1184.1399629025973,1326.1559260108204,1466.0749640147749,1603.6758361556629,1738.740967171403,1871.0567913278446,2000.4140901100866,2126.608323039958,2249.4399510965536,2368.7147522284386,2484.244128458638,2595.8454040968,2703.3421145870134,2806.564285534538,2905.348701470265,2999.5391639279173,3088.9867384259333,3173.549989963494,3253.0952066583327,3327.4966111727017,3396.636559593196,3460.4057274499664,3518.7032825811716,3571.4370445693567,3618.5236304976333,3659.888586795221,3695.4665069638345,3725.201134998811,3749.045454341411,3766.9617622216633,3778.921729274195,3784.90644433278,3784.90644433278,3778.921729274195,3766.9617622216633,3749.045454341411,3725.201134998811,3695.4665069638345,3659.8885867952204,3618.5236304976333,3571.4370445693557,3518.7032825811716,3460.4057274499664,3396.636559593196,3327.4966111727013,3253.0952066583327,3173.549989963494,3088.9867384259323,2999.5391639279173,2905.348701470265,2806.5642855345377,2703.342114587014,2595.8454040968,2484.244128458637,2368.7147522284376,2249.4399510965536,2126.608323039958,2000.4140901100861,1871.0567913278446,1738.7409671714029,1603.6758361556622,1466.0749640147737,1326.1559260108204,1184.1399629025968,1040.2516311185063,894.7184476866854,747.7705304838122,599.6402343714542,450.56178379526705,300.7709024279975,150.50444044191488,4.636089979096494e-13],[0.0,166.21460479196986,332.1663901291168,497.59295212819734,662.2327173920226,825.8253566107647,988.1121961961052,1148.8366272973465,1307.7445115527512,1464.5845829345271,1619.1088450520647,1771.0729632852062,1920.2366511274993,2066.364050128557,2209.224102834743,2348.5909181385045,2484.244128458638,2615.9692381867344,2743.5579628488235,2866.80855844594,2985.526140452853,3099.5229919705553,3208.6188605452717,3312.64124318463,3411.4256591203566,3504.815909886175,3592.6643262996886,3674.8320019577095,3751.189012875835,3821.6146229249716,3885.997474739972,3944.235765798518,3996.237409391832,4041.920180232697,4081.2118444705275,4114.050273907945,4140.383544238221,4160.170017148278,4173.378406157431,4179.9878260877285,4179.9878260877285,4173.378406157431,4160.170017148278,4140.383544238221,4114.050273907945,4081.2118444705275,4041.920180232696,3996.237409391832,3944.235765798517,3885.997474739972,3821.6146229249716,3751.189012875835,3674.8320019577086,3592.6643262996886,3504.815909886175,3411.4256591203557,3312.64124318463,3208.6188605452717,3099.5229919705553,2985.5261404528533,2866.80855844594,2743.557962848823,2615.9692381867335,2484.244128458638,2348.5909181385045,2209.2241028347426,2066.364050128557,1920.2366511274993,1771.072963285205,1619.1088450520635,1464.5845829345271,1307.7445115527505,1148.8366272973456,988.1121961961054,825.8253566107643,662.2327173920215,497.5929521281976,332.16639012911656,166.21460479196904,5.120020787379552e-13],[0.0,180.87390689431183,361.4618149640249,541.4781776074678,720.6383519537668,898.6590489417312,1075.2587812580884,1250.158308426784,1423.0810783455725,1593.753664571732,1761.9061986654754,1927.2727969074208,2089.5919807154046,2248.607090095866,2404.0666894760498,2555.724965275332,2703.3421145870134,2846.6847243560064,2985.526140452853,3119.6468260604893,3248.834708807081,3372.8855160960316,3491.6030981029444,3604.7997379288136,3712.2964484190265,3813.923255178845,3909.519465337858,3998.933921638445,4082.025241446463,4158.66204030626,4228.723139686494,4292.097758588312,4348.685688712865,4398.397452911242,4441.154446666218,4476.8890623821635,4505.544796286546,4527.07633777401,4541.449641051753,4548.641978972928,4548.641978972928,4541.449641051753,4527.07633777401,4505.544796286546,4476.8890623821635,4441.154446666218,4398.397452911241,4348.685688712865,4292.097758588311,4228.723139686494,4158.662040306259,4082.025241446463,3998.933921638444,3909.519465337858,3813.9232551788446,3712.2964484190256,3604.7997379288136,3491.6030981029435,3372.8855160960306,3248.8347088070814,3119.6468260604893,2985.526140452852,2846.684724356005,2703.3421145870134,2555.724965275332,2404.0666894760493,2248.607090095866,2089.5919807154046,1927.27279690742,1761.906198665474,1593.753664571732,1423.0810783455718,1250.1583084267832,1075.2587812580887,898.6590489417307,720.6383519537657,541.4781776074682,361.46181496402465,180.87390689431095,5.571581175748587e-13],[0.0,194.38966592118618,388.47196182465007,581.9400037078458,774.4878788300907,965.8111294234874,1155.6072341032343,1343.5760862161167,1529.420468370813,1712.8465223996782,1893.5642140089126,2071.2877913823927,2245.7362370140263,2416.633712054197,2583.7099924676745,2746.7008963133676,2905.348701470265,3059.402553149088,3208.6188605452717,3352.7616820060975,3491.6030981029444,3624.923572018747,3752.5122966808367,3874.1675280902464,3989.6969043204467,4098.917749681084,4201.657363565802,4297.753293527396,4387.053592148518,4469.417057301786,4544.713455419358,4612.823727418984,4673.64017696088,4727.066640737779,4773.018640528885,4811.423516777308,4842.2205434797515,4865.361024206813,4880.808369102045,4888.538152738036,4888.538152738036,4880.808369102045,4865.361024206813,4842.2205434797515,4811.423516777308,4773.018640528885,4727.0666407377785,4673.64017696088,4612.823727418984,4544.713455419358,4469.4170573017855,4387.053592148518,4297.753293527395,4201.657363565802,4098.9177496810835,3989.696904320445,3874.1675280902464,3752.5122966808367,3624.923572018746,3491.603098102945,3352.7616820060975,3208.6188605452708,3059.4025531490865,2905.348701470265,2746.7008963133676,2583.7099924676745,2416.633712054197,2245.7362370140263,2071.2877913823913,1893.5642140089112,1712.8465223996782,1529.4204683708122,1343.5760862161155,1155.6072341032345,965.8111294234869,774.4878788300896,581.9400037078461,388.4719618246498,194.3896659211852,5.987916234039161e-13],[0.0,206.6764308923478,413.02606386606595,618.7226177372057,823.4408439741176,1026.8570409822314,1228.6495659428151,1428.4993433963812,1626.0903697665747,1821.110213026777,2013.2505067193636,2202.207437546454,2387.682225761183,2569.3815975998946,2747.018249008241,2920.3112999279515,3088.9867384259333,3252.7778539634596,3411.4256591203566,3564.6792991073453,3712.2964484190265,3854.0436940003124,3989.6969043204467,4119.041583771018,4241.873211827612,4357.997566438798,4467.231031131107,4569.400885344424,4664.345577538696,4751.91498064012,4831.970629422904,4904.385939451253,4969.046407235378,5025.849791285051,5074.706273774414,5115.538602562428,5148.282213344383,5172.885331741332,5189.309055166033,5197.52741433593,5197.52741433593,5189.309055166033,5172.885331741332,5148.282213344383,5115.538602562428,5074.706273774414,5025.84979128505,4969.046407235378,4904.385939451252,4831.970629422904,4751.91498064012,4664.345577538696,4569.400885344423,4467.231031131107,4357.997566438797,4241.873211827611,4119.041583771018,3989.696904320446,3854.043694000312,3712.296448419027,3564.6792991073453,3411.4256591203557,3252.7778539634587,3088.9867384259333,2920.3112999279515,2747.01824900824,2569.3815975998946,2387.6822257611825,2202.207437546453,2013.2505067193622,1821.110213026777,1626.0903697665735,1428.49934339638,1228.6495659428153,1026.857040982231,823.4408439741161,618.7226177372061,413.02606386606556,206.6764308923468,6.366393757965107e-13],[0.0,217.6565209236718,434.9688821494674,651.5934681667335,867.1877509787903,1081.4108317100997,1293.9239796374575,1504.391167792891,1712.479604291366,1917.860258543157,2120.2083815188444,2319.204019244279,2514.5325187135786,2705.8850254202093,2892.9589717194403,3075.4585552499852,3253.0952066583327,3425.5880458862102,3592.6643262996886,3754.0598659576744,3909.519465337858,4058.797310859615,4201.657363565802,4337.873732348863,4467.231031131107,4589.524719434357,4704.561425800506,4812.159253551522,4912.148068405491,5004.369767493891,5088.6785293547155,5164.941044506187,5233.036726236438,5292.857901275903,5344.309980050875,5387.311606249074,5421.7947854606955,5447.704992691545,5465.001258578268,5473.65623416933,5473.65623416933,5465.001258578268,5447.704992691545,5421.7947854606955,5387.311606249074,5344.309980050875,5292.857901275902,5233.036726236438,5164.941044506186,5088.6785293547155,5004.36976749389,4912.148068405491,4812.159253551521,4704.561425800506,4589.524719434357,4467.231031131105,4337.873732348863,4201.6573635658015,4058.7973108596143,3909.519465337859,3754.0598659576744,3592.664326299687,3425.588045886209,3253.0952066583327,3075.4585552499852,2892.95897171944,2705.8850254202093,2514.5325187135786,2319.204019244278,2120.208381518843,1917.860258543157,1712.4796042913651,1504.39116779289,1293.9239796374577,1081.410831710099,867.1877509787889,651.5934681667338,434.96888214946716,217.6565209236707,6.704620890761525e-13],[0.0,227.26051635071389,454.1616871127244,680.3447348965658,905.4520178128075,1129.1275949773933,1351.017789327341,1570.7717468568749,1788.0419913897279,2002.484974010393,2213.7616162855807,2421.5378464169125,2625.485127477102,2825.2809768943703,3020.6094763636693,3211.1617713784667,3396.636559593196,3576.7405672442,3751.189012875835,3919.7060576384793,4082.025241446463,4237.889904306225,4387.053592148518,4529.280446522956,4664.345577538696,4792.0354194615875,4912.148068405491,5024.493601583825,5128.894377616525,5225.185317417588,5313.214165219025,5392.841729318541,5463.942102170214,5526.40285947021,5580.125237922719,5625.024291405019,5661.02902528476,5688.082508677072,5706.141964463992,5715.178836933884,5715.178836933884,5706.141964463992,5688.082508677072,5661.02902528476,5625.024291405019,5580.125237922719,5526.4028594702095,5463.942102170214,5392.84172931854,5313.214165219025,5225.185317417587,5128.894377616525,5024.493601583824,4912.148068405491,4792.0354194615875,4664.345577538695,4529.280446522956,4387.053592148518,4237.889904306224,4082.025241446464,3919.7060576384793,3751.1890128758337,3576.7405672441987,3396.636559593196,3211.1617713784667,3020.609476363669,2825.2809768943703,2625.485127477102,2421.537846416911,2213.7616162855793,2002.484974010393,1788.0419913897267,1570.7717468568737,1351.0177893273412,1129.1275949773926,905.452017812806,680.3447348965661,454.1616871127241,227.2605163507128,7.000459251595683e-13],[0.0,235.42769762218012,470.48313566334014,704.7946431613739,937.9917254612752,1169.7056500433414,1399.5700295650777,1627.221401194895,1852.2998013215558,2074.4493347306307,2293.3187373479855,2508.561931660485,2719.8385739356722,2926.814592375171,3129.162715350857,3326.5629888885846,3518.7032825811716,3705.2797831307375,3885.997474739972,4060.5706055927512,4228.723139686494,4390.18919330182,4544.713455419358,4692.051591418949,4831.970629422904,4964.249328672423,5088.6785293547155,5205.061483327653,5313.214165219025,5412.965563408475,5504.157950432023,5586.647132381612,5660.302676905307,5725.008119447658,5780.661147404098,5827.173761898208,5864.472416926016,5892.498135647356,5911.206603640375,5920.568238971735,5920.568238971735,5911.206603640375,5892.498135647356,5864.472416926016,5827.173761898208,5780.661147404098,5725.008119447657,5660.302676905307,5586.647132381611,5504.157950432023,5412.965563408474,5313.214165219025,5205.061483327652,5088.6785293547155,4964.249328672423,4831.970629422903,4692.051591418949,4544.713455419357,4390.189193301819,4228.7231396864945,4060.5706055927512,3885.9974747399706,3705.2797831307357,3518.7032825811716,3326.5629888885846,3129.1627153508566,2926.814592375171,2719.838573935672,2508.5619316604834,2293.318737347984,2074.4493347306307,1852.299801321555,1627.2214011948936,1399.570029565078,1169.7056500433407,937.9917254612736,704.7946431613743,470.4831356633398,235.42769762217895,7.25203845509913e-13],[0.0,242.10642918847986,483.83003834855083,724.7886127689558,964.6011474156104,1202.8884493788757,1439.2737374554902,1673.3832379170967,1904.8467755233357,2133.298358844987,2358.3767589716476,2579.7260806888885,2796.996325221741,3009.8439436547,3217.932380153174,3420.9326041274403,3618.5236304976333,3810.393027237136,3996.237409391832,4175.762918794077,4348.685688712865,4514.732292705476,4673.64017696088,4825.158075451287,4969.046407235378,5105.077655285016,5233.036726236438,5352.721290497074,5463.942102170214,5566.523298291679,5660.302676905307,5745.131953537592,5820.876995665909,5887.41803480961,5944.649855908604,5992.4819636899965,6030.838725759714,6059.659492192871,6078.898691433758,6088.52590235385,6088.52590235385,6078.898691433758,6059.659492192871,6030.838725759714,5992.4819636899965,5944.649855908604,5887.41803480961,5820.876995665909,5745.1319535375915,5660.302676905307,5566.523298291679,5463.942102170214,5352.721290497072,5233.036726236438,5105.077655285015,4969.046407235376,4825.158075451287,4673.640176960879,4514.732292705475,4348.685688712866,4175.762918794077,3996.2374093918306,3810.3930272371354,3618.5236304976333,3420.9326041274403,3217.9323801531737,3009.8439436547,2796.996325221741,2579.726080688887,2358.376758971646,2133.298358844987,1904.8467755233348,1673.3832379170951,1439.2737374554904,1202.888449378875,964.6011474156088,724.7886127689562,483.83003834855054,242.10642918847867,7.457767936546206e-13],[0.0,247.2544859582958,494.11801175227026,740.2002354059819,985.1120503427658,1228.466200642711,1469.8778933738683,1708.9654070289669,1945.350695105582,2178.6599838753546,2408.524363397091,2634.580370839202,2856.4705651891495,3073.8440924411593,3286.357240368516,3493.6739820032503,3695.4665069638345,3891.415739790781,4081.2118444705275,4264.55471434986,4441.154446666218,4610.731800943545,4773.018640528885,4927.758356571541,5074.706273774414,5213.630037275938,5344.309980050875,5466.53947024904,5580.125237922719,5684.887680626191,5780.661147404098,5867.294200719676,5944.649855908604,6012.60579777993,6071.054574021525,6119.903765104273,6159.076130416346,6188.509730396488,6208.158024473188,6217.989944654894,6217.989944654894,6208.158024473188,6188.509730396488,6159.076130416346,6119.903765104273,6071.054574021525,6012.605797779929,5944.649855908604,5867.294200719675,5780.661147404098,5684.88768062619,5580.125237922719,5466.539470249039,5344.309980050875,5213.630037275937,5074.706273774413,4927.758356571541,4773.018640528885,4610.731800943544,4441.154446666218,4264.55471434986,4081.211844470526,3891.4157397907798,3695.4665069638345,3493.6739820032503,3286.3572403685157,3073.8440924411593,2856.470565189149,2634.5803708392004,2408.524363397089,2178.6599838753546,1945.3506951055808,1708.9654070289655,1469.8778933738686,1228.4662006427104,985.1120503427642,740.2002354059823,494.1180117522699,247.25448595829457,7.61634700791636e-13],[0.0,250.8393202592061,501.282011994215,750.9320738320512,999.3947577105281,1246.2771930560732,1491.1890079928573,1733.7429466009687,1973.5554812476237,2210.247419023182,2443.4445013230834,2672.777995627625,2897.885278543866,3118.4104091877525,3334.004691999809,3544.3272281044988,3749.045454341411,3947.835669115975,4140.383544238221,4326.384621940248,4505.544796286546,4677.580778215925,4842.2205434797515,4999.203762768195,5148.282213344383,5289.220171535567,5421.7947854606955,5545.796427405055,5661.02902528476,5767.310372677038,5864.472416926016,5952.361524868528,6030.838725759714,6099.779931014339,6159.076130416346,6208.633564486422,6248.373872734997,6278.234217566295,6298.167383637481,6308.141852515827,6308.141852515827,6298.167383637481,6278.234217566295,6248.373872734997,6208.633564486422,6159.076130416346,6099.779931014338,6030.838725759714,5952.361524868527,5864.472416926016,5767.310372677037,5661.02902528476,5545.796427405053,5421.7947854606955,5289.220171535566,5148.282213344382,4999.203762768195,4842.220543479751,4677.5807782159245,4505.544796286547,4326.384621940248,4140.383544238219,3947.8356691159734,3749.045454341411,3544.3272281044988,3334.004691999808,3118.4104091877525,2897.885278543866,2672.7779956276236,2443.4445013230816,2210.247419023182,1973.5554812476225,1733.7429466009673,1491.1890079928576,1246.2771930560725,999.3947577105265,750.9320738320516,501.28201199421466,250.8393202592049,7.726773081262585e-13],[0.0,252.83826761454918,505.2767459582579,756.9162779092976,1007.3589696443064,1256.208819790309,1503.0723455842833,1747.5592050502878,1989.2828142103592,2227.8609583532393,2462.916396394399,2694.077457371733,2920.9786281337433,3143.2611312909653,3360.57349251676,3572.572096300476,3778.921729274195,3979.2961102539666,4173.378406157431,4360.86173298204,4541.449641051753,4714.856583764898,4880.808369102045,5039.042593179951,5189.309055166033,5331.3701528973115,5465.001258578268,5589.991073963563,5706.141964463992,5813.270271647392,5911.206603640375,5999.796102971701,6078.898691433758,6148.38929157502,6208.158024473188,6258.110383476362,6298.167383637481,6328.26568660576,6348.357700777636,6358.411656548883,6358.411656548883,6348.357700777636,6328.26568660576,6298.167383637481,6258.110383476362,6208.158024473188,6148.389291575019,6078.898691433758,5999.7961029717,5911.206603640375,5813.270271647391,5706.141964463992,5589.9910739635625,5465.001258578268,5331.370152897311,5189.309055166032,5039.042593179951,4880.808369102044,4714.856583764897,4541.449641051754,4360.86173298204,4173.378406157429,3979.2961102539653,3778.921729274195,3572.572096300476,3360.573492516759,3143.2611312909653,2920.9786281337433,2694.0774573717317,2462.916396394397,2227.8609583532393,1989.282814210358,1747.5592050502862,1503.0723455842835,1256.2088197903083,1007.3589696443048,756.9162779092981,505.2767459582575,252.83826761454796,7.788348007395242e-13],[0.0,253.23869003554228,506.0769576500915,758.1150135728071,1008.9543338320132,1258.1982899035124,1505.4527758618083,1750.326831542579,1992.4332607310591,2231.389243398839,2466.816941021019,2698.344094016579,2925.6046103672934,3148.2391444844575,3365.8956654081285,3578.2300134404322,3784.90644433278,3985.5981601665426,4179.9878260877285,4367.768072078616,4548.641978972928,4722.323547946065,4888.538152738036,5047.022973894014,5197.52741433593,5339.813495607948,5473.65623416933,5598.84399713965,5715.178836933884,5822.476804258227,5920.568238971735,6009.298038353884,6088.52590235385,6158.126555433724,6217.989944654894,6268.021413694359,6308.141852515827,6338.287822458949,6358.411656548883,6368.481534867569,6368.481534867569,6358.411656548883,6338.287822458949,6308.141852515827,6268.021413694359,6217.989944654894,6158.126555433723,6088.52590235385,6009.298038353884,5920.568238971735,5822.476804258226,5715.178836933884,5598.843997139649,5473.65623416933,5339.813495607948,5197.527414335928,5047.022973894014,4888.538152738035,4722.3235479460645,4548.641978972929,4367.768072078616,4179.987826087728,3985.598160166541,3784.90644433278,3578.2300134404322,3365.895665408128,3148.2391444844575,2925.604610367293,2698.344094016578,2466.816941021017,2231.389243398839,1992.433260731058,1750.3268315425773,1505.4527758618085,1258.1982899035117,1008.9543338320116,758.1150135728076,506.0769576500912,253.23869003554105,7.800682489805998e-13],[0.0,252.03805592271559,503.67758787375533,754.5207020297572,1004.1707638675935,1252.2330253250773,1498.3152489787888,1742.0283282520631,1982.9869026724682,2220.8099672059193,2455.1214747039526,2685.5509305115634,2911.733978295405,3133.312976166047,3349.9375621833124,3561.2652083505227,3766.9617622216633,3966.7019752650826,4160.170017148278,4347.059975130567,4527.07633777401,4699.934462207732,4865.361024206813,5023.094450374063,5172.885331741332,5314.496818136353,5447.704992691545,5572.299225902611,5688.082508677072,5794.871763846142,5892.498135647356,5980.80725672025,6059.659492192871,6128.930160473223,6188.509730396488,6238.303994416311,6278.234217566295,6308.2372619561675,6328.26568660576,6338.287822458949,6338.287822458949,6328.26568660576,6308.2372619561675,6278.234217566295,6238.303994416311,6188.509730396488,6128.930160473222,6059.659492192871,5980.80725672025,5892.498135647356,5794.871763846141,5688.082508677072,5572.29922590261,5447.704992691545,5314.496818136353,5172.88533174133,5023.094450374063,4865.361024206813,4699.9344622077315,4527.076337774011,4347.059975130567,4160.170017148277,3966.7019752650813,3766.9617622216633,3561.2652083505227,3349.937562183312,3133.312976166047,2911.7339782954045,2685.550930511562,2455.121474703951,2220.8099672059193,1982.986902672467,1742.0283282520618,1498.315248978789,1252.2330253250766,1004.1707638675919,754.5207020297577,503.677587873755,252.03805592271436,7.763698545925716e-13],[0.0,249.24395607149935,498.0938062175019,746.1560676749858,993.0385030205309,1238.350740378308,1481.7048906782534,1722.7161609884172,1961.0034629516829,2196.1900153647875,2427.903939946854,2655.7788493553867,2879.454426519973,3098.57699437763,3312.8000751089385,3521.7849379906966,3725.201134998811,3922.7270233145487,4114.050273907945,4298.868365394199,4476.8890623821635,4647.830877558566,4811.423516777308,4967.408306450071,5115.538602562428,5255.580180668726,5387.311606249074,5510.524584842846,5625.024291405019,5730.629678364635,5827.173761898208,5914.503885965481,5992.4819636899965,6060.984695702838,6119.903765104273,6169.146008735032,6208.633564486422,6238.303994416311,6258.110383476362,6268.021413694359,6268.021413694359,6258.110383476362,6238.303994416311,6208.633564486422,6169.146008735032,6119.903765104273,6060.984695702838,5992.4819636899965,5914.50388596548,5827.173761898208,5730.629678364635,5625.024291405019,5510.524584842844,5387.311606249074,5255.580180668725,5115.5386025624275,4967.408306450071,4811.423516777307,4647.830877558565,4476.889062382164,4298.868365394199,4114.050273907943,3922.7270233145473,3725.201134998811,3521.7849379906966,3312.800075108938,3098.57699437763,2879.4544265199725,2655.7788493553853,2427.903939946852,2196.1900153647875,1961.0034629516817,1722.7161609884156,1481.7048906782536,1238.3507403783074,993.0385030205293,746.1560676749863,498.09380621750154,249.2439560714981,7.677630000155345e-13],[0.0,244.87405568077088,489.36091514677565,733.0739944200501,975.6279330281618,1216.6392033383258,1455.7267169934248,1692.512427491032,1926.6219279526388,2157.685043137885,2385.336414767702,2609.2160792308537,2828.9700367603878,3044.2508111800366,3254.71799933547,3460.0388093416536,3659.8885867952204,3853.9513281198133,4041.920180232696,4223.497925742546,4398.397452911241,4566.342209636537,4727.0666407377785,4880.316607853227,5025.84979128505,5163.436073156563,5292.857901275902,5413.910633130749,5526.4028594702095,5630.156706962183,5725.008119447657,5810.807117347223,5887.41803480961,5954.71973422729,6012.605797779929,6060.984695702838,6099.779931014338,6128.930160473222,6148.389291575019,6158.126555433723,6158.126555433723,6148.389291575019,6128.930160473222,6099.779931014338,6060.984695702838,6012.605797779929,5954.719734227289,5887.41803480961,5810.807117347222,5725.008119447657,5630.156706962182,5526.4028594702095,5413.9106331307485,5292.857901275902,5163.436073156563,5025.849791285048,4880.316607853227,4727.066640737778,4566.342209636536,4398.397452911242,4223.497925742546,4041.9201802326947,3853.951328119812,3659.8885867952204,3460.0388093416536,3254.717999335469,3044.2508111800366,2828.9700367603873,2609.216079230852,2385.3364147677003,2157.685043137885,1926.6219279526379,1692.5124274910306,1455.726716993425,1216.6392033383252,975.6279330281602,733.0739944200506,489.36091514677526,244.8740556807697,7.543021005552792e-13],[0.0,238.95598266777995,477.53412681066,715.357191344111,952.0491291196696,1187.2356815327746,1420.5449703025474,1651.6080854877928,1880.0596688094445,2105.5384913570983,2327.6880247661725,2546.1570049625348,2760.5999875832003,2970.6778941948787,3176.058548446669,3376.417201309153,3571.4370445693557,3760.809711769652,3944.235765798517,4121.425172362152,4292.097758588311,4455.983656037208,4612.823727418984,4762.369976343029,4904.385939451252,5038.647060315252,5164.941044506186,5283.068195275902,5392.84172931854,5494.088072113337,5586.647132381611,5670.372555223994,5745.1319535375915,5810.807117347223,5867.294200719675,5914.50388596548,5952.361524868527,5980.80725672025,5999.7961029717,6009.298038353884,6009.298038353884,5999.7961029717,5980.80725672025,5952.361524868527,5914.50388596548,5867.294200719675,5810.807117347222,5745.1319535375915,5670.372555223993,5586.647132381611,5494.088072113336,5392.84172931854,5283.0681952759005,5164.941044506186,5038.647060315251,4904.385939451251,4762.369976343029,4612.823727418983,4455.983656037207,4292.097758588312,4121.425172362152,3944.235765798516,3760.8097117696507,3571.4370445693557,3376.417201309153,3176.0585484466683,2970.6778941948787,2760.5999875832,2546.1570049625334,2327.688024766171,2105.5384913570983,1880.0596688094436,1651.6080854877914,1420.5449703025477,1187.2356815327737,952.049129119668,715.3571913441115,477.53412681065964,238.95598266777876,7.360722603522074e-13],[0.0,231.52715299556021,462.688213972894,693.1176697805043,922.4511640850455,1150.3260734935784,1376.3820809356891,1600.2617453988403,1821.6110671160814,2040.0800473124434,2255.323241624942,2467.0003063211234,2674.776536452455,2878.323395091652,3077.3190328170854,3271.4487966228758,3460.4057274499664,3643.891045551492,3821.6146229249716,3993.2954420643136,4158.662040306259,4317.452939068643,4469.4170573017855,4614.314108499232,4751.91498064012,4882.002098462368,5004.36976749389,5118.824499297839,5225.185317417587,5323.284043537712,5412.965563408474,5494.088072113337,5566.523298291679,5630.156706962183,5684.88768062619,5730.629678364635,5767.310372677037,5794.871763846141,5813.270271647391,5822.476804258226,5822.476804258226,5813.270271647391,5794.871763846141,5767.310372677037,5730.629678364635,5684.88768062619,5630.156706962182,5566.523298291679,5494.088072113336,5412.965563408474,5323.284043537711,5225.185317417587,5118.824499297838,5004.36976749389,4882.002098462367,4751.914980640118,4614.314108499232,4469.417057301785,4317.452939068643,4158.66204030626,3993.2954420643136,3821.6146229249703,3643.8910455514906,3460.4057274499664,3271.4487966228758,3077.3190328170845,2878.323395091652,2674.7765364524544,2467.0003063211216,2255.3232416249407,2040.0800473124434,1821.6110671160807,1600.261745398839,1376.3820809356891,1150.3260734935777,922.4511640850442,693.1176697805048,462.68821397289366,231.52715299555905,7.131887343255556e-13],[0.0,222.6345341171642,444.9170372743856,666.4960351450275,887.0211657889134,1106.14373364657,1323.5172608985795,1538.798035318228,1751.645653751187,1961.7235603628649,2168.6995788023623,2372.24643744156,2572.0422868588275,2767.7712087491204,2959.1237154557507,3145.797239333989,3327.4966111727013,3503.9345269175387,3674.8320019577086,3839.918812257983,3998.933921638444,4151.625894526337,4297.753293527395,4437.085061187981,4569.400885344423,4694.491547481819,4812.159253551521,4922.217946724178,5024.493601583824,5118.824499297839,5205.061483327652,5283.068195275901,5352.721290497072,5413.910633130749,5466.539470249039,5510.524584842844,5545.796427405053,5572.29922590261,5589.9910739635625,5598.843997139649,5598.843997139649,5589.9910739635625,5572.29922590261,5545.796427405053,5510.524584842844,5466.539470249039,5413.9106331307485,5352.721290497072,5283.0681952759005,5205.061483327652,5118.824499297838,5024.493601583824,4922.217946724176,4812.159253551521,4694.491547481819,4569.400885344422,4437.085061187981,4297.753293527395,4151.625894526336,3998.933921638445,3839.918812257983,3674.8320019577072,3503.9345269175374,3327.4966111727013,3145.797239333989,2959.12371545575,2767.7712087491204,2572.042286858827,2372.2464374415586,2168.699578802361,1961.7235603628649,1751.6456537511858,1538.7980353182265,1323.5172608985795,1106.1437336465692,887.021165788912,666.4960351450279,444.91703727438534,222.6345341171631,6.857961994946866e-13],[0.0,212.33434803230315,424.3329518160195,635.6605979832301,845.9831340879196,1054.9679969696774,1262.2847386044114,1467.6055486105947,1670.6057725848614,1870.9644254473449,2068.3646989850727,2262.4944627908626,2453.0467578056596,2639.7202816838985,2822.219865214443,3000.256939043783,3173.549989963494,3341.825006040482,3504.815909886175,3662.264979379562,3813.9232551788446,3959.5509343773215,4098.9177496810835,4231.803333508926,4357.997566438797,4477.300909449792,4589.524719434357,4694.491547481819,4792.0354194615875,4882.002098462368,4964.249328672423,5038.647060315252,5105.077655285015,5163.436073156563,5213.630037275937,5255.580180668725,5289.220171535566,5314.496818136353,5331.370152897311,5339.813495607948,5339.813495607948,5331.370152897311,5314.496818136353,5289.220171535566,5255.580180668725,5213.630037275937,5163.436073156563,5105.077655285015,5038.647060315251,4964.249328672423,4882.002098462367,4792.0354194615875,4694.491547481819,4589.524719434357,4477.300909449791,4357.997566438796,4231.803333508926,4098.917749681083,3959.5509343773215,3813.923255178845,3662.264979379562,3504.815909886174,3341.8250060404807,3173.549989963494,3000.256939043783,2822.219865214442,2639.7202816838985,2453.0467578056596,2262.4944627908617,2068.364698985071,1870.9644254473449,1670.6057725848602,1467.6055486105936,1262.2847386044116,1054.967996969677,845.9831340879183,635.6605979832304,424.33295181601926,212.33434803230213,6.540678402843931e-13],[0.0,200.6917158337627,401.06609681353393,600.8063098569531,799.5965246315176,997.1224129472549,1193.0716457742012,1387.1343870987942,1579.003783838297,1768.376451038593,1954.9529515881582,2138.4382696896837,2318.5422773406876,2494.980193085526,2667.473032313402,2835.7480483903905,2999.5391639279173,3158.5873915058073,3312.64124318463,3461.45712815982,3604.7997379288136,3742.44241836215,3874.1675280902464,3999.766782639132,4119.041583771018,4231.803333508926,4337.873732348863,4437.085061187982,4529.280446522956,4614.314108499232,4692.051591418949,4762.3699763430295,4825.158075451287,4880.316607853228,4927.758356571541,4967.408306450071,4999.203762768195,5023.094450374063,5039.042593179951,5047.022973894014,5047.022973894014,5039.042593179951,5023.094450374063,4999.203762768195,4967.408306450071,4927.758356571541,4880.316607853227,4825.158075451287,4762.369976343029,4692.051591418949,4614.314108499232,4529.280446522956,4437.085061187981,4337.873732348863,4231.803333508926,4119.041583771016,3999.766782639132,3874.1675280902464,3742.4424183621495,3604.799737928814,3461.45712815982,3312.641243184629,3158.5873915058064,2999.5391639279173,2835.7480483903905,2667.4730323134017,2494.980193085526,2318.5422773406876,2138.4382696896823,1954.9529515881568,1768.376451038593,1579.0037838382962,1387.134387098793,1193.0716457742014,997.1224129472544,799.5965246315162,600.8063098569536,401.06609681353365,200.69171583376172,6.18204253597201e-13],[0.0,187.7802459908873,375.2635728154979,562.1535307977875,748.1546084998155,932.9726999860696,1116.315569865403,1297.893315375252,1477.4188247774978,1654.6082313411323,1829.1813621939118,2000.8621813332552,2169.3792260959,2334.4660363961752,2495.8615760541607,2653.3106455475486,2806.5642855345377,2955.3801705097285,3099.5229919705553,3238.7648304883937,3372.8855160960306,3501.6729764216293,3624.923572018746,3742.4424183621495,3854.043694000312,3959.5509343773215,4058.7973108596143,4151.625894526338,4237.889904306224,4317.452939068643,4390.189193301819,4455.983656037208,4514.732292705475,4566.342209636537,4610.731800943544,4647.830877558565,4677.5807782159245,4699.9344622077315,4714.856583764897,4722.3235479460645,4722.3235479460645,4714.856583764897,4699.9344622077315,4677.5807782159245,4647.830877558565,4610.731800943544,4566.342209636536,4514.732292705475,4455.983656037207,4390.189193301819,4317.452939068643,4237.889904306224,4151.625894526336,4058.7973108596143,3959.5509343773215,3854.043694000311,3742.4424183621495,3624.9235720187457,3501.6729764216284,3372.8855160960316,3238.7648304883937,3099.522991970554,2955.3801705097276,2806.5642855345377,2653.3106455475486,2495.86157605416,2334.4660363961752,2169.3792260959,2000.862181333254,1829.1813621939104,1654.6082313411323,1477.418824777497,1297.8933153752512,1116.315569865403,932.9726999860692,748.1546084998142,562.1535307977879,375.2635728154977,187.78024599088639,5.784321805751678e-13],[0.0,173.68156897313756,347.0885116862817,519.9466361200041,691.9826180493834,862.9244332257852,1032.5017875031126,1200.4465442284081,1366.4931482210184,1530.3790456699153,1691.8450992852406,1850.6359980476248,2006.500660907386,2159.192633795279,2308.470479317036,2454.0981585155137,2595.8454040968,2733.488084530137,2866.80855844594,2995.5960187715386,3119.6468260604893,3238.764830488394,3352.7616820060975,3461.45712815982,3564.6792991073453,3662.264979379562,3754.0598659576744,3839.9188122579844,3919.7060576384793,3993.2954420643146,4060.5706055927512,4121.425172362152,4175.762918794077,4223.497925742546,4264.55471434986,4298.868365394199,4326.384621940248,4347.059975130567,4360.86173298204,4367.768072078616,4367.768072078616,4360.86173298204,4347.059975130567,4326.384621940248,4298.868365394199,4264.55471434986,4223.497925742546,4175.762918794077,4121.425172362152,4060.5706055927512,3993.2954420643136,3919.7060576384793,3839.918812257983,3754.0598659576744,3662.264979379562,3564.6792991073444,3461.45712815982,3352.761682006097,3238.7648304883937,3119.6468260604897,2995.5960187715386,2866.808558445939,2733.488084530136,2595.8454040968,2454.0981585155137,2308.470479317036,2159.192633795279,2006.5006609073855,1850.6359980476236,1691.8450992852393,1530.3790456699153,1366.4931482210177,1200.446544228407,1032.5017875031126,862.9244332257847,691.9826180493823,519.9466361200044,347.08851168628144,173.6815689731367,5.350030730693776e-13],[0.0,158.48482115597918,316.71904523388537,474.4524714011351,631.4356906895783,787.4204803623421,942.1601964049985,1095.4101635204474,1246.9280620108548,1396.4743109349,1543.8124469344916,1688.7094981319387,1830.936352506376,1970.268120166963,2106.4844889500237,2239.370072777866,2368.7147522284376,2494.3140067773234,2615.9692381867335,2733.488084530136,2846.684724356005,2955.380170509728,3059.4025531490865,3158.5873915058064,3252.7778539634587,3341.825006040481,3425.588045886209,3503.934526917538,3576.7405672441987,3643.891045551491,3705.2797831307357,3760.809711769651,3810.3930272371354,3853.951328119812,3891.4157397907798,3922.7270233145473,3947.8356691159734,3966.7019752650813,3979.2961102539653,3985.598160166541,3985.598160166541,3979.2961102539653,3966.7019752650813,3947.8356691159734,3922.7270233145473,3891.4157397907798,3853.951328119812,3810.3930272371354,3760.8097117696507,3705.2797831307357,3643.8910455514906,3576.7405672441987,3503.9345269175374,3425.588045886209,3341.8250060404807,3252.7778539634573,3158.5873915058064,3059.4025531490865,2955.3801705097276,2846.684724356006,2733.488084530136,2615.9692381867326,2494.3140067773224,2368.7147522284376,2239.370072777866,2106.484488950023,1970.268120166963,1830.9363525063757,1688.7094981319376,1543.8124469344903,1396.4743109349,1246.928062010854,1095.4101635204465,942.1601964049986,787.4204803623418,631.4356906895774,474.45247140113537,316.71904523388514,158.48482115597838,4.881915038803776e-13],[0.0,142.28608127201846,284.3471790032969,425.9586653983175,566.8966235895008,706.9382016957977,845.8619651973211,983.4482470688342,1119.4794951184724,1253.7406159824716,1386.0193152319905,1516.1064330542388,1643.7962749771305,1768.8869371145267,1891.1806254177777,2010.4839684287726,2126.608323039958,2239.3700727778664,2348.5909181385045,2454.0981585155137,2555.724965275332,2653.310645547549,2746.7008963133676,2835.7480483903905,2920.3112999279515,3000.2569390437834,3075.4585552499852,3145.79723933399,3211.1617713784667,3271.4487966228758,3326.5629888885846,3376.417201309153,3420.9326041274403,3460.0388093416536,3493.6739820032503,3521.7849379906966,3544.3272281044988,3561.2652083505227,3572.572096300476,3578.2300134404322,3578.2300134404322,3572.572096300476,3561.2652083505227,3544.3272281044988,3521.7849379906966,3493.6739820032503,3460.0388093416536,3420.9326041274403,3376.417201309153,3326.5629888885846,3271.4487966228758,3211.1617713784667,3145.797239333989,3075.4585552499852,3000.256939043783,2920.3112999279506,2835.7480483903905,2746.7008963133676,2653.3106455475486,2555.7249652753326,2454.0981585155137,2348.5909181385036,2239.370072777866,2126.608323039958,2010.4839684287726,1891.1806254177773,1768.8869371145267,1643.7962749771302,1516.106433054238,1386.0193152319898,1253.7406159824716,1119.4794951184717,983.4482470688336,845.8619651973212,706.9382016957974,566.8966235894998,425.9586653983178,284.3471790032967,142.28608127201775,4.3829343082053065e-13],[0.0,125.1877629703199,250.1775783556154,374.77181156668115,498.7734535110395,621.9864321048098,744.2159223029746,865.2686541578216,984.9532184184569,1103.080369188173,1219.463323161111,1333.9180549650596,1446.2635881433928,1556.3222813160492,1663.9201090670642,1768.8869371145267,1871.0567913278446,1970.2681201669636,2066.364050128557,2159.192633795279,2248.607090095866,2334.4660363961757,2416.633712054197,2494.980193085526,2569.3815975998946,2639.720281683899,2705.8850254202093,2767.7712087491213,2825.2809768943703,2878.3233950916524,2926.814592375171,2970.677894194879,3009.8439436547,3044.250811180037,3073.8440924411593,3098.57699437763,3118.4104091877525,3133.312976166047,3143.2611312909653,3148.2391444844575,3148.2391444844575,3143.2611312909653,3133.312976166047,3118.4104091877525,3098.57699437763,3073.8440924411593,3044.2508111800366,3009.8439436547,2970.6778941948787,2926.814592375171,2878.323395091652,2825.2809768943703,2767.7712087491204,2705.8850254202093,2639.7202816838985,2569.3815975998937,2494.980193085526,2416.6337120541966,2334.4660363961752,2248.6070900958666,2159.192633795279,2066.3640501285563,1970.268120166963,1871.0567913278446,1768.8869371145267,1663.9201090670638,1556.3222813160492,1446.2635881433926,1333.9180549650587,1219.46332316111,1103.080369188173,984.9532184184565,865.2686541578208,744.2159223029747,621.9864321048093,498.7734535110387,374.7718115666814,250.1775783556152,125.1877629703193,3.8562432557343367e-13],[0.0,107.2979673243427,214.4262745077424,321.2155296768118,427.49687706908884,533.1022640287046,637.8647067321749,741.6185542241476,844.1997503456125,945.4460931404087,1045.197491329858,1143.2962174499824,1239.5871572510441,1333.9180549650587,1426.1397540534579,1516.106433054238,1603.6758361556622,1688.7094981319385,1771.072963285205,1850.6359980476236,1927.27279690742,2000.8621813332543,2071.2877913823913,2138.4382696896823,2202.207437546453,2262.494462790862,2319.204019244278,2372.246437441559,2421.537846416911,2467.000306321122,2508.5619316604834,2546.157004962534,2579.726080688887,2609.2160792308523,2634.5803708392004,2655.7788493553853,2672.7779956276236,2685.550930511562,2694.0774573717317,2698.344094016578,2698.344094016578,2694.0774573717317,2685.550930511562,2672.7779956276236,2655.7788493553853,2634.5803708392004,2609.216079230852,2579.726080688887,2546.1570049625334,2508.5619316604834,2467.0003063211216,2421.537846416911,2372.2464374415586,2319.204019244278,2262.4944627908617,2202.2074375464526,2138.4382696896823,2071.287791382391,2000.862181333254,1927.2727969074201,1850.6359980476236,1771.0729632852047,1688.7094981319376,1603.6758361556622,1516.106433054238,1426.1397540534576,1333.9180549650587,1239.587157251044,1143.296217449982,1045.1974913298573,945.4460931404087,844.1997503456122,741.618554224147,637.864706732175,533.1022640287043,427.49687706908816,321.215529676812,214.42627450774225,107.29796732434218,3.3051717918036253e-13],[0.0,88.72979938214931,177.31929871347367,265.6284197863665,353.5175277288783,440.8476517961504,527.4807051117275,613.2797030112922,698.1089796435768,781.834402485958,864.3235844355466,945.4460931404093,1025.0736572399248,1103.080369188173,1179.3428843396428,1253.7406159824716,1326.1559260108204,1396.4743109349006,1464.5845829345271,1530.3790456699153,1593.753664571732,1654.6082313411328,1712.8465223996782,1768.376451038593,1821.110213026777,1870.9644254473453,1917.860258543157,1961.7235603628653,2002.484974010393,2040.0800473124434,2074.4493347306307,2105.5384913570983,2133.298358844987,2157.685043137885,2178.6599838753546,2196.1900153647875,2210.247419023182,2220.8099672059193,2227.8609583532393,2231.389243398839,2231.389243398839,2227.8609583532393,2220.8099672059193,2210.247419023182,2196.1900153647875,2178.6599838753546,2157.685043137885,2133.298358844987,2105.5384913570983,2074.4493347306307,2040.0800473124434,2002.484974010393,1961.7235603628649,1917.860258543157,1870.9644254473449,1821.1102130267764,1768.376451038593,1712.8465223996782,1654.6082313411323,1593.7536645717323,1530.3790456699153,1464.5845829345265,1396.4743109349,1326.1559260108204,1253.7406159824716,1179.3428843396428,1103.080369188173,1025.0736572399246,945.4460931404087,864.3235844355461,781.834402485958,698.1089796435765,613.2797030112919,527.4807051117276,440.8476517961501,353.5175277288777,265.6284197863667,177.31929871347356,88.72979938214888,2.733203967636963e-13],[0.0,69.60065307987438,139.09125322113567,208.36192150148756,277.30312675611185,345.8058587689537,413.76180064027955,481.06350005795974,547.6045392016607,613.2797030112919,677.9851455536425,741.6185542241474,804.0793115241443,865.2686541578208,925.0898291972852,983.4482470688336,1040.2516311185063,1095.410163520447,1148.8366272973456,1200.446544228407,1250.1583084267832,1297.8933153752512,1343.5760862161155,1387.134387098793,1428.49934339638,1467.6055486105938,1504.39116779289,1538.798035318227,1570.7717468568737,1600.261745398839,1627.2214011948936,1651.6080854877919,1673.3832379170951,1692.5124274910308,1708.9654070289655,1722.7161609884156,1733.7429466009673,1742.0283282520618,1747.5592050502862,1750.3268315425773,1750.3268315425773,1747.5592050502862,1742.0283282520618,1733.7429466009673,1722.7161609884156,1708.9654070289655,1692.5124274910306,1673.3832379170951,1651.6080854877914,1627.2214011948936,1600.261745398839,1570.7717468568737,1538.7980353182265,1504.39116779289,1467.6055486105936,1428.4993433963796,1387.134387098793,1343.5760862161155,1297.8933153752512,1250.1583084267834,1200.446544228407,1148.836627297345,1095.4101635204465,1040.2516311185063,983.4482470688336,925.0898291972851,865.2686541578208,804.0793115241441,741.618554224147,677.9851455536419,613.2797030112919,547.6045392016605,481.0635000579594,413.76180064027955,345.8058587689535,277.30312675611145,208.3619215014877,139.09125322113556,69.60065307987404,2.1439559479755519e-13],[0.0,50.03146903946398,99.98382804263842,149.7780920624619,199.33552613253735,248.5777697632975,297.42696084604574,345.8058587689538,393.637966550346,440.8476517961501,487.36026629025935,533.1022640287046,578.0013175110042,621.9864321048093,664.9880583030088,706.9382016957974,747.7705304838122,787.4204803623421,825.8253566107643,862.9244332257847,898.6590489417307,932.9726999860693,965.8111294234869,997.1224129472544,1026.857040982231,1054.9679969696772,1081.410831710099,1106.1437336465697,1129.1275949773926,1150.3260734935777,1169.7056500433407,1187.235681532774,1202.888449378875,1216.6392033383252,1228.4662006427104,1238.3507403783074,1246.2771930560725,1252.2330253250766,1256.2088197903083,1258.1982899035117,1258.1982899035117,1256.2088197903083,1252.2330253250766,1246.2771930560725,1238.3507403783074,1228.4662006427104,1216.6392033383252,1202.888449378875,1187.2356815327737,1169.7056500433407,1150.3260734935777,1129.1275949773926,1106.1437336465692,1081.410831710099,1054.967996969677,1026.8570409822305,997.1224129472544,965.8111294234867,932.9726999860692,898.6590489417308,862.9244332257847,825.8253566107641,787.4204803623418,747.7705304838122,706.9382016957974,664.9880583030086,621.9864321048093,578.0013175110042,533.1022640287043,487.360266290259,440.8476517961501,393.63796655034577,345.8058587689535,297.4269608460458,248.57776976329737,199.33552613253704,149.77809206246198,99.98382804263836,50.03146903946372,1.5411531485202415e-13],[0.0,30.14596994312356,60.2442729114017,90.24731730127398,120.10766213257233,149.77809206246206,179.21169204260377,208.36192150148787,237.1826879346444,265.6284197863667,293.65413850770784,321.2155296768122,348.269013069124,374.7718115666814,400.68201879753116,425.9586653983178,450.56178379526705,474.45247140113554,497.5929521281976,519.9466361200044,541.4781776074682,562.153530797788,581.9400037078461,600.8063098569536,618.7226177372061,635.6605979832306,651.5934681667338,666.496035145028,680.3447348965661,693.1176697805048,704.7946431613743,715.3571913441115,724.7886127689562,733.0739944200507,740.2002354059823,746.1560676749863,750.9320738320516,754.5207020297577,756.9162779092981,758.1150135728076,758.1150135728076,756.9162779092981,754.5207020297577,750.9320738320516,746.1560676749863,740.2002354059823,733.0739944200506,724.7886127689562,715.3571913441115,704.7946431613743,693.1176697805048,680.3447348965661,666.4960351450279,651.5934681667338,635.6605979832304,618.722617737206,600.8063098569536,581.940003707846,562.1535307977879,541.4781776074683,519.9466361200044,497.59295212819745,474.45247140113537,450.56178379526705,425.9586653983178,400.68201879753104,374.7718115666814,348.26901306912396,321.215529676812,293.65413850770767,265.6284197863667,237.18268793464432,208.3619215014877,179.2116920426038,149.77809206246198,120.10766213257213,90.24731730127402,60.24427291140166,30.14596994312341,9.286066826539699e-14],[0.0,10.069878318686326,20.12383408993368,30.145969943123397,40.120438821467694,50.03146903946375,59.863389221170294,69.60065307987409,79.22786399996482,88.72979938214888,98.091434713508,107.29796732434224,116.33483979423346,125.1877629703193,133.84273856138066,142.28608127201775,150.50444044191488,158.48482115597844,166.21460479196904,173.6815689731367,180.87390689431095,187.7802459908864,194.3896659211852,200.69171583376172,206.6764308923468,212.33434803230213,217.6565209236707,222.63453411716316,227.2605163507128,231.5271529955591,235.42769762217895,238.95598266777878,242.10642918847867,244.87405568076971,247.25448595829457,249.2439560714981,250.8393202592049,252.03805592271436,252.83826761454796,253.23869003554105,253.23869003554105,252.83826761454796,252.03805592271436,250.8393202592049,249.2439560714981,247.25448595829457,244.8740556807697,242.10642918847867,238.95598266777876,235.42769762217895,231.52715299555905,227.2605163507128,222.6345341171631,217.6565209236707,212.33434803230213,206.67643089234673,200.69171583376172,194.3896659211852,187.78024599088639,180.873906894311,173.6815689731367,166.214604791969,158.48482115597838,150.50444044191488,142.28608127201775,133.84273856138063,125.1877629703193,116.33483979423346,107.29796732434218,98.09143471350792,88.72979938214888,79.22786399996477,69.60065307987404,59.8633892211703,50.03146903946372,40.12043882146763,30.14596994312341,20.123834089933666,10.069878318686277,3.101892663558978e-14],[-0.0,-10.069878318686376,-20.123834089933784,-30.145969943123546,-40.12043882146789,-50.03146903946401,-59.8633892211706,-69.60065307987445,-79.22786399996522,-88.72979938214934,-98.09143471350848,-107.29796732434278,-116.33483979423406,-125.18776297031992,-133.84273856138134,-142.2860812720185,-150.50444044191562,-158.48482115597926,-166.2146047919699,-173.6815689731376,-180.8739068943119,-187.78024599088735,-194.3896659211862,-200.69171583376274,-206.6764308923478,-212.3343480323032,-217.65652092367182,-222.6345341171643,-227.26051635071394,-231.52715299556024,-235.42769762218015,-238.95598266777998,-242.10642918847992,-244.87405568077097,-247.25448595829585,-249.24395607149938,-250.83932025920615,-252.03805592271564,-252.83826761454924,-253.23869003554233,-253.23869003554233,-252.83826761454924,-252.03805592271564,-250.83932025920615,-249.24395607149938,-247.25448595829585,-244.8740556807709,-242.10642918847992,-238.95598266777998,-235.42769762218015,-231.52715299556021,-227.26051635071394,-222.6345341171642,-217.65652092367182,-212.3343480323032,-206.67643089234775,-200.69171583376274,-194.38966592118618,-187.78024599088732,-180.87390689431192,-173.6815689731376,-166.21460479196983,-158.48482115597918,-150.50444044191562,-142.2860812720185,-133.8427385613813,-125.18776297031992,-116.33483979423403,-107.29796732434272,-98.09143471350842,-88.72979938214934,-79.22786399996518,-69.60065307987439,-59.8633892211706,-50.03146903946398,-40.120438821467836,-30.145969943123568,-20.12383408993377,-10.069878318686326,-3.101892663558994e-14],[-0.0,-30.14596994312361,-60.2442729114018,-90.24731730127412,-120.10766213257253,-149.77809206246232,-179.21169204260408,-208.36192150148818,-237.1826879346448,-265.6284197863671,-293.65413850770835,-321.2155296768127,-348.2690130691246,-374.771811566682,-400.68201879753184,-425.9586653983185,-450.56178379526784,-474.45247140113634,-497.5929521281984,-519.9466361200052,-541.4781776074691,-562.1535307977888,-581.9400037078472,-600.8063098569545,-618.7226177372072,-635.6605979832315,-651.593468166735,-666.4960351450292,-680.3447348965673,-693.117669780506,-704.7946431613755,-715.3571913441127,-724.7886127689574,-733.0739944200518,-740.2002354059834,-746.1560676749875,-750.9320738320528,-754.5207020297588,-756.9162779092993,-758.1150135728088,-758.1150135728088,-756.9162779092993,-754.5207020297588,-750.9320738320528,-746.1560676749875,-740.2002354059834,-733.0739944200517,-724.7886127689574,-715.3571913441126,-704.7946431613755,-693.1176697805059,-680.3447348965673,-666.4960351450289,-651.593468166735,-635.6605979832315,-618.722617737207,-600.8063098569545,-581.940003707847,-562.1535307977888,-541.4781776074692,-519.9466361200052,-497.59295212819825,-474.45247140113617,-450.56178379526784,-425.9586653983185,-400.6820187975318,-374.771811566682,-348.2690130691246,-321.21552967681254,-293.6541385077081,-265.6284197863671,-237.18268793464466,-208.36192150148804,-179.21169204260408,-149.77809206246224,-120.10766213257233,-90.24731730127418,-60.24427291140176,-30.14596994312346,-9.286066826539714e-14],[-0.0,-50.03146903946402,-99.9838280426385,-149.77809206246204,-199.33552613253752,-248.57776976329777,-297.42696084604603,-345.8058587689541,-393.63796655034633,-440.84765179615056,-487.3602662902598,-533.1022640287051,-578.0013175110049,-621.98643210481,-664.9880583030094,-706.9382016957982,-747.770530483813,-787.4204803623428,-825.8253566107652,-862.9244332257856,-898.6590489417315,-932.9726999860702,-965.8111294234878,-997.1224129472555,-1026.8570409822319,-1054.967996969678,-1081.4108317101002,-1106.1437336465708,-1129.1275949773938,-1150.3260734935789,-1169.7056500433418,-1187.2356815327753,-1202.8884493788764,-1216.6392033383265,-1228.4662006427116,-1238.3507403783085,-1246.2771930560737,-1252.2330253250777,-1256.2088197903095,-1258.198289903513,-1258.198289903513,-1256.2088197903095,-1252.2330253250777,-1246.2771930560737,-1238.3507403783085,-1228.4662006427116,-1216.6392033383263,-1202.8884493788764,-1187.235681532775,-1169.7056500433418,-1150.3260734935789,-1129.1275949773938,-1106.1437336465706,-1081.4108317101002,-1054.967996969678,-1026.8570409822316,-997.1224129472555,-965.8111294234876,-932.9726999860702,-898.6590489417317,-862.9244332257856,-825.8253566107647,-787.4204803623426,-747.770530483813,-706.9382016957982,-664.9880583030093,-621.98643210481,-578.0013175110048,-533.1022640287049,-487.3602662902594,-440.84765179615056,-393.63796655034616,-345.80585876895384,-297.4269608460461,-248.57776976329762,-199.3355261325372,-149.77809206246212,-99.98382804263845,-50.03146903946378,-1.541153148520243e-13],[-0.0,-69.60065307987442,-139.09125322113576,-208.3619215014877,-277.3031267561121,-345.8058587689539,-413.76180064027983,-481.0635000579601,-547.6045392016612,-613.2797030112922,-677.9851455536428,-741.6185542241478,-804.0793115241448,-865.2686541578214,-925.0898291972858,-983.4482470688341,-1040.251631118507,-1095.4101635204477,-1148.8366272973462,-1200.4465442284077,-1250.1583084267838,-1297.893315375252,-1343.5760862161164,-1387.134387098794,-1428.499343396381,-1467.6055486105947,-1504.3911677928909,-1538.7980353182281,-1570.7717468568749,-1600.2617453988398,-1627.2214011948947,-1651.6080854877928,-1673.3832379170963,-1692.512427491032,-1708.9654070289664,-1722.7161609884167,-1733.7429466009683,-1742.0283282520627,-1747.5592050502873,-1750.3268315425785,-1750.3268315425785,-1747.5592050502873,-1742.0283282520627,-1733.7429466009683,-1722.7161609884167,-1708.9654070289664,-1692.5124274910318,-1673.3832379170963,-1651.6080854877926,-1627.2214011948947,-1600.2617453988398,-1570.7717468568749,-1538.7980353182274,-1504.3911677928909,-1467.6055486105943,-1428.4993433963805,-1387.134387098794,-1343.5760862161162,-1297.8933153752519,-1250.158308426784,-1200.4465442284077,-1148.8366272973458,-1095.410163520447,-1040.251631118507,-983.4482470688341,-925.0898291972856,-865.2686541578214,-804.0793115241446,-741.6185542241475,-677.9851455536424,-613.2797030112922,-547.6045392016607,-481.06350005795963,-413.76180064027983,-345.8058587689537,-277.3031267561116,-208.3619215014878,-139.09125322113564,-69.60065307987408,-2.1439559479755529e-13],[-0.0,-88.72979938214935,-177.31929871347376,-265.62841978636663,-353.51752772887846,-440.8476517961506,-527.4807051117277,-613.2797030112927,-698.1089796435772,-781.8344024859583,-864.3235844355471,-945.4460931404096,-1025.0736572399253,-1103.0803691881738,-1179.3428843396437,-1253.740615982472,-1326.155926010821,-1396.474310934901,-1464.5845829345276,-1530.379045669916,-1593.7536645717332,-1654.6082313411334,-1712.8465223996793,-1768.3764510385936,-1821.1102130267777,-1870.9644254473465,-1917.8602585431581,-1961.7235603628665,-2002.4849740103941,-2040.0800473124445,-2074.4493347306316,-2105.5384913570997,-2133.298358844988,-2157.685043137886,-2178.6599838753555,-2196.190015364789,-2210.2474190231833,-2220.80996720592,-2227.86095835324,-2231.3892433988403,-2231.3892433988403,-2227.86095835324,-2220.80996720592,-2210.2474190231833,-2196.190015364789,-2178.6599838753555,-2157.6850431378857,-2133.298358844988,-2105.5384913570992,-2074.4493347306316,-2040.080047312444,-2002.4849740103941,-1961.723560362866,-1917.8602585431581,-1870.964425447346,-1821.1102130267775,-1768.3764510385936,-1712.8465223996789,-1654.608231341133,-1593.7536645717332,-1530.379045669916,-1464.5845829345271,-1396.4743109349008,-1326.155926010821,-1253.740615982472,-1179.3428843396432,-1103.0803691881738,-1025.0736572399253,-945.4460931404091,-864.3235844355464,-781.8344024859583,-698.1089796435768,-613.2797030112921,-527.4807051117278,-440.8476517961504,-353.51752772887795,-265.6284197863668,-177.31929871347364,-88.72979938214893,-2.733203967636964e-13],[-0.0,-107.29796732434276,-214.42627450774253,-321.215529676812,-427.496877069089,-533.1022640287049,-637.8647067321753,-741.6185542241479,-844.1997503456131,-945.4460931404093,-1045.1974913298586,-1143.296217449983,-1239.5871572510448,-1333.9180549650596,-1426.1397540534588,-1516.1064330542388,-1603.6758361556629,-1688.7094981319392,-1771.0729632852062,-1850.6359980476248,-1927.2727969074208,-2000.8621813332554,-2071.2877913823927,-2138.4382696896837,-2202.207437546454,-2262.494462790863,-2319.204019244279,-2372.2464374415604,-2421.5378464169125,-2467.0003063211234,-2508.561931660485,-2546.157004962535,-2579.7260806888885,-2609.2160792308537,-2634.580370839202,-2655.7788493553867,-2672.777995627625,-2685.5509305115634,-2694.077457371733,-2698.344094016579,-2698.344094016579,-2694.077457371733,-2685.5509305115634,-2672.777995627625,-2655.7788493553867,-2634.580370839202,-2609.2160792308537,-2579.7260806888885,-2546.1570049625348,-2508.561931660485,-2467.0003063211234,-2421.5378464169125,-2372.24643744156,-2319.204019244279,-2262.4944627908626,-2202.2074375464535,-2138.4382696896837,-2071.2877913823922,-2000.8621813332552,-1927.2727969074213,-1850.6359980476248,-1771.0729632852053,-1688.7094981319387,-1603.6758361556629,-1516.1064330542388,-1426.1397540534583,-1333.9180549650596,-1239.5871572510446,-1143.2962174499824,-1045.197491329858,-945.4460931404093,-844.1997503456125,-741.6185542241474,-637.8647067321753,-533.1022640287046,-427.4968770690884,-321.2155296768122,-214.4262745077424,-107.29796732434224,-3.3051717918036273e-13],[-0.0,-125.18776297031994,-250.17757835561548,-374.77181156668127,-498.77345351103963,-621.9864321048099,-744.2159223029748,-865.268654157822,-984.9532184184574,-1103.0803691881736,-1219.4633231611115,-1333.9180549650598,-1446.263588143393,-1556.3222813160496,-1663.920109067065,-1768.8869371145272,-1871.0567913278453,-1970.2681201669643,-2066.3640501285577,-2159.19263379528,-2248.607090095867,-2334.4660363961766,-2416.6337120541975,-2494.980193085527,-2569.3815975998955,-2639.7202816839,-2705.8850254202107,-2767.7712087491223,-2825.2809768943716,-2878.3233950916533,-2926.8145923751713,-2970.67789419488,-3009.843943654701,-3044.250811180038,-3073.8440924411602,-3098.576994377631,-3118.410409187754,-3133.312976166048,-3143.261131290966,-3148.239144484459,-3148.239144484459,-3143.261131290966,-3133.312976166048,-3118.410409187754,-3098.576994377631,-3073.8440924411602,-3044.2508111800375,-3009.843943654701,-2970.6778941948796,-2926.8145923751713,-2878.323395091653,-2825.2809768943716,-2767.771208749122,-2705.8850254202107,-2639.7202816838994,-2569.3815975998946,-2494.980193085527,-2416.633712054197,-2334.466036396176,-2248.607090095867,-2159.19263379528,-2066.364050128557,-1970.2681201669636,-1871.0567913278453,-1768.8869371145272,-1663.9201090670647,-1556.3222813160496,-1446.263588143393,-1333.9180549650591,-1219.4633231611106,-1103.0803691881736,-984.9532184184568,-865.2686541578213,-744.2159223029748,-621.9864321048095,-498.7734535110389,-374.7718115666815,-250.17757835561528,-125.18776297031934,-3.856243255734338e-13],[-0.0,-142.2860812720185,-284.34717900329696,-425.95866539831763,-566.8966235895009,-706.9382016957979,-845.8619651973212,-983.4482470688345,-1119.4794951184726,-1253.7406159824718,-1386.019315231991,-1516.106433054239,-1643.796274977131,-1768.8869371145272,-1891.1806254177782,-2010.4839684287733,-2126.6083230399586,-2239.370072777867,-2348.590918138505,-2454.0981585155146,-2555.7249652753326,-2653.3106455475495,-2746.700896313368,-2835.7480483903905,-2920.3112999279524,-3000.256939043784,-3075.458555249986,-3145.7972393339905,-3211.1617713784676,-3271.4487966228767,-3326.562988888585,-3376.417201309154,-3420.9326041274408,-3460.0388093416545,-3493.6739820032512,-3521.784937990697,-3544.327228104499,-3561.2652083505236,-3572.572096300477,-3578.2300134404327,-3578.2300134404327,-3572.572096300477,-3561.2652083505236,-3544.327228104499,-3521.784937990697,-3493.6739820032512,-3460.0388093416545,-3420.9326041274408,-3376.417201309154,-3326.562988888585,-3271.4487966228767,-3211.1617713784676,-3145.7972393339896,-3075.458555249986,-3000.2569390437834,-2920.3112999279515,-2835.7480483903905,-2746.7008963133676,-2653.310645547549,-2555.7249652753326,-2454.0981585155146,-2348.590918138504,-2239.3700727778664,-2126.6083230399586,-2010.4839684287733,-1891.1806254177777,-1768.8869371145272,-1643.7962749771305,-1516.106433054238,-1386.0193152319898,-1253.7406159824718,-1119.479495118472,-983.4482470688337,-845.8619651973212,-706.9382016957975,-566.8966235895,-425.95866539831786,-284.3471790032968,-142.28608127201778,-4.382934308205307e-13],[-0.0,-158.48482115597926,-316.7190452338856,-474.4524714011354,-631.4356906895788,-787.4204803623428,-942.1601964049992,-1095.4101635204481,-1246.9280620108557,-1396.474310934901,-1543.8124469344928,-1688.7094981319399,-1830.9363525063773,-1970.2681201669643,-2106.484488950025,-2239.3700727778673,-2368.714752228439,-2494.314006777325,-2615.9692381867353,-2733.4880845301377,-2846.6847243560073,-2955.38017050973,-3059.402553149089,-3158.5873915058087,-3252.777853963461,-3341.8250060404835,-3425.5880458862107,-3503.9345269175406,-3576.740567244202,-3643.8910455514933,-3705.279783130739,-3760.8097117696534,-3810.393027237137,-3853.951328119815,-3891.4157397907825,-3922.72702331455,-3947.8356691159765,-3966.701975265084,-3979.296110253968,-3985.598160166544,-3985.598160166544,-3979.296110253968,-3966.701975265084,-3947.8356691159765,-3922.72702331455,-3891.4157397907825,-3853.951328119815,-3810.393027237137,-3760.8097117696534,-3705.279783130739,-3643.8910455514933,-3576.740567244202,-3503.934526917539,-3425.5880458862107,-3341.8250060404835,-3252.77785396346,-3158.5873915058087,-3059.4025531490884,-2955.3801705097294,-2846.684724356008,-2733.4880845301377,-2615.9692381867344,-2494.3140067773243,-2368.714752228439,-2239.3700727778673,-2106.4844889500246,-1970.2681201669643,-1830.936352506377,-1688.7094981319392,-1543.8124469344914,-1396.474310934901,-1246.9280620108548,-1095.4101635204472,-942.1601964049994,-787.4204803623423,-631.4356906895779,-474.4524714011357,-316.71904523388537,-158.4848211559785,-4.881915038803779e-13],[-0.0,-173.6815689731376,-347.0885116862817,-519.9466361200042,-691.9826180493835,-862.9244332257854,-1032.5017875031128,-1200.4465442284084,-1366.4931482210186,-1530.3790456699155,-1691.8450992852406,-1850.635998047625,-2006.5006609073862,-2159.1926337952796,-2308.4704793170363,-2454.098158515514,-2595.8454040968004,-2733.4880845301373,-2866.808558445941,-2995.596018771539,-3119.6468260604897,-3238.764830488395,-3352.7616820060985,-3461.4571281598205,-3564.679299107346,-3662.264979379563,-3754.0598659576744,-3839.9188122579844,-3919.70605763848,-3993.2954420643155,-4060.5706055927517,-4121.425172362152,-4175.762918794078,-4223.497925742547,-4264.554714349861,-4298.8683653942,-4326.3846219402485,-4347.059975130568,-4360.861732982041,-4367.768072078617,-4367.768072078617,-4360.861732982041,-4347.059975130568,-4326.3846219402485,-4298.8683653942,-4264.554714349861,-4223.497925742546,-4175.762918794078,-4121.425172362152,-4060.5706055927517,-3993.2954420643146,-3919.70605763848,-3839.9188122579835,-3754.0598659576744,-3662.264979379562,-3564.6792991073453,-3461.4571281598205,-3352.7616820060975,-3238.764830488394,-3119.6468260604897,-2995.596018771539,-2866.8085584459395,-2733.4880845301363,-2595.8454040968004,-2454.098158515514,-2308.470479317036,-2159.1926337952796,-2006.500660907386,-1850.635998047624,-1691.8450992852397,-1530.3790456699155,-1366.493148221018,-1200.4465442284072,-1032.5017875031128,-862.9244332257848,-691.9826180493825,-519.9466361200045,-347.0885116862815,-173.68156897313673,-5.350030730693776e-13],[-0.0,-187.78024599088732,-375.263572815498,-562.1535307977875,-748.1546084998156,-932.9726999860699,-1116.315569865403,-1297.8933153752523,-1477.4188247774982,-1654.6082313411328,-1829.1813621939123,-2000.8621813332554,-2169.3792260959003,-2334.4660363961757,-2495.861576054161,-2653.310645547549,-2806.564285534538,-2955.380170509729,-3099.5229919705553,-3238.764830488394,-3372.8855160960316,-3501.6729764216298,-3624.923572018747,-3742.44241836215,-3854.0436940003124,-3959.550934377322,-4058.797310859615,-4151.625894526338,-4237.889904306225,-4317.452939068644,-4390.18919330182,-4455.983656037209,-4514.732292705476,-4566.3422096365375,-4610.731800943545,-4647.830877558566,-4677.580778215925,-4699.934462207732,-4714.856583764898,-4722.323547946065,-4722.323547946065,-4714.856583764898,-4699.934462207732,-4677.580778215925,-4647.830877558566,-4610.731800943545,-4566.342209636537,-4514.732292705476,-4455.983656037208,-4390.18919330182,-4317.452939068643,-4237.889904306225,-4151.625894526337,-4058.797310859615,-3959.5509343773215,-3854.043694000311,-3742.44241836215,-3624.923572018746,-3501.6729764216293,-3372.885516096032,-3238.764830488394,-3099.5229919705544,-2955.380170509728,-2806.564285534538,-2653.310645547549,-2495.8615760541607,-2334.4660363961757,-2169.3792260959,-2000.8621813332543,-1829.181362193911,-1654.6082313411328,-1477.4188247774973,-1297.8933153752512,-1116.315569865403,-932.9726999860693,-748.1546084998143,-562.153530797788,-375.26357281549775,-187.7802459908864,-5.784321805751679e-13],[-0.0,-200.69171583376274,-401.0660968135341,-600.8063098569534,-799.5965246315178,-997.1224129472553,-1193.0716457742017,-1387.1343870987946,-1579.0037838382973,-1768.3764510385931,-1954.9529515881584,-2138.438269689684,-2318.5422773406885,-2494.9801930855265,-2667.473032313403,-2835.748048390391,-2999.539163927918,-3158.5873915058082,-3312.641243184631,-3461.4571281598214,-3604.799737928814,-3742.442418362151,-3874.1675280902477,-3999.766782639133,-4119.041583771019,-4231.803333508927,-4337.873732348865,-4437.085061187984,-4529.2804465229565,-4614.314108499234,-4692.05159141895,-4762.369976343031,-4825.158075451289,-4880.3166078532295,-4927.758356571543,-4967.408306450072,-4999.203762768196,-5023.094450374065,-5039.042593179952,-5047.022973894016,-5047.022973894016,-5039.042593179952,-5023.094450374065,-4999.203762768196,-4967.408306450072,-4927.758356571543,-4880.316607853229,-4825.158075451289,-4762.36997634303,-4692.05159141895,-4614.314108499233,-4529.2804465229565,-4437.085061187982,-4337.873732348865,-4231.803333508927,-4119.041583771018,-3999.766782639133,-3874.167528090247,-3742.44241836215,-3604.799737928815,-3461.4571281598214,-3312.6412431846297,-3158.587391505807,-2999.539163927918,-2835.748048390391,-2667.473032313402,-2494.9801930855265,-2318.542277340688,-2138.4382696896832,-1954.952951588157,-1768.3764510385931,-1579.0037838382966,-1387.1343870987932,-1193.071645774202,-997.1224129472547,-799.5965246315166,-600.8063098569537,-401.0660968135338,-200.69171583376175,-6.182042535972012e-13],[-0.0,-212.33434803230324,-424.33295181601966,-635.6605979832303,-845.9831340879199,-1054.967996969678,-1262.284738604412,-1467.6055486105952,-1670.6057725848618,-1870.9644254473455,-2068.364698985073,-2262.494462790864,-2453.046757805661,-2639.7202816839,-2822.219865214444,-3000.2569390437843,-3173.549989963495,-3341.8250060404835,-3504.8159098861765,-3662.264979379564,-3813.923255178846,-3959.5509343773238,-4098.917749681084,-4231.803333508927,-4357.9975664387985,-4477.300909449794,-4589.524719434358,-4694.491547481822,-4792.035419461589,-4882.00209846237,-4964.249328672425,-5038.647060315254,-5105.077655285017,-5163.436073156566,-5213.630037275939,-5255.580180668727,-5289.220171535568,-5314.496818136355,-5331.370152897313,-5339.81349560795,-5339.81349560795,-5331.370152897313,-5314.496818136355,-5289.220171535568,-5255.580180668727,-5213.630037275939,-5163.436073156565,-5105.077655285017,-5038.647060315253,-4964.249328672425,-4882.00209846237,-4792.035419461589,-4694.49154748182,-4589.524719434358,-4477.300909449793,-4357.997566438798,-4231.803333508927,-4098.917749681084,-3959.550934377323,-3813.923255178847,-3662.264979379564,-3504.815909886175,-3341.825006040482,-3173.549989963495,-3000.2569390437843,-2822.2198652144434,-2639.7202816839,-2453.0467578056605,-2262.4944627908626,-2068.3646989850718,-1870.9644254473455,-1670.605772584861,-1467.6055486105943,-1262.2847386044123,-1054.9679969696772,-845.9831340879186,-635.6605979832307,-424.33295181601943,-212.3343480323022,-6.540678402843933e-13],[-0.0,-222.6345341171642,-444.9170372743857,-666.4960351450276,-887.0211657889134,-1106.1437336465701,-1323.5172608985795,-1538.7980353182281,-1751.6456537511872,-1961.7235603628653,-2168.699578802363,-2372.2464374415604,-2572.042286858828,-2767.771208749121,-2959.123715455751,-3145.7972393339896,-3327.4966111727013,-3503.9345269175387,-3674.8320019577095,-3839.9188122579835,-3998.933921638445,-4151.625894526338,-4297.753293527395,-4437.085061187982,-4569.400885344424,-4694.491547481819,-4812.159253551522,-4922.217946724178,-5024.493601583824,-5118.824499297839,-5205.061483327653,-5283.068195275902,-5352.721290497073,-5413.910633130749,-5466.539470249039,-5510.524584842845,-5545.796427405054,-5572.2992259026105,-5589.991073963563,-5598.843997139649,-5598.843997139649,-5589.991073963563,-5572.2992259026105,-5545.796427405054,-5510.524584842845,-5466.539470249039,-5413.910633130749,-5352.721290497073,-5283.068195275901,-5205.061483327653,-5118.824499297839,-5024.493601583824,-4922.217946724177,-4812.159253551522,-4694.491547481819,-4569.400885344422,-4437.085061187982,-4297.753293527395,-4151.625894526337,-3998.933921638445,-3839.9188122579835,-3674.8320019577077,-3503.934526917538,-3327.4966111727013,-3145.7972393339896,-2959.1237154557502,-2767.771208749121,-2572.0422868588275,-2372.2464374415586,-2168.6995788023614,-1961.7235603628653,-1751.6456537511863,-1538.7980353182268,-1323.5172608985795,-1106.1437336465694,-887.0211657889122,-666.496035145028,-444.91703727438534,-222.63453411716316,-6.857961994946867e-13],[-0.0,-231.52715299556021,-462.688213972894,-693.1176697805045,-922.4511640850458,-1150.3260734935786,-1376.3820809356894,-1600.2617453988403,-1821.6110671160816,-2040.0800473124434,-2255.3232416249425,-2467.0003063211234,-2674.776536452455,-2878.3233950916524,-3077.319032817086,-3271.4487966228758,-3460.4057274499664,-3643.8910455514924,-3821.6146229249716,-3993.2954420643146,-4158.66204030626,-4317.452939068644,-4469.417057301786,-4614.314108499232,-4751.91498064012,-4882.002098462369,-5004.369767493891,-5118.82449929784,-5225.185317417588,-5323.284043537713,-5412.965563408475,-5494.088072113338,-5566.523298291679,-5630.156706962184,-5684.887680626191,-5730.629678364635,-5767.310372677038,-5794.871763846142,-5813.270271647392,-5822.476804258227,-5822.476804258227,-5813.270271647392,-5794.871763846142,-5767.310372677038,-5730.629678364635,-5684.887680626191,-5630.156706962183,-5566.523298291679,-5494.088072113337,-5412.965563408475,-5323.284043537712,-5225.185317417588,-5118.824499297839,-5004.369767493891,-4882.002098462368,-4751.914980640119,-4614.314108499232,-4469.4170573017855,-4317.452939068643,-4158.662040306261,-3993.2954420643146,-3821.614622924971,-3643.891045551491,-3460.4057274499664,-3271.4487966228758,-3077.319032817085,-2878.3233950916524,-2674.776536452455,-2467.000306321122,-2255.3232416249407,-2040.0800473124434,-1821.6110671160807,-1600.261745398839,-1376.3820809356894,-1150.3260734935777,-922.4511640850443,-693.1176697805048,-462.6882139728937,-231.5271529955591,-7.131887343255556e-13],[-0.0,-238.95598266777998,-477.5341268106601,-715.3571913441112,-952.0491291196698,-1187.2356815327746,-1420.5449703025479,-1651.6080854877932,-1880.059668809445,-2105.538491357099,-2327.6880247661734,-2546.1570049625357,-2760.599987583201,-2970.6778941948796,-3176.0585484466696,-3376.417201309154,-3571.4370445693567,-3760.8097117696525,-3944.235765798518,-4121.425172362152,-4292.097758588313,-4455.983656037209,-4612.823727418985,-4762.36997634303,-4904.385939451254,-5038.647060315253,-5164.941044506187,-5283.068195275903,-5392.841729318542,-5494.088072113339,-5586.647132381613,-5670.372555223995,-5745.131953537592,-5810.8071173472235,-5867.294200719677,-5914.5038859654815,-5952.361524868529,-5980.807256720251,-5999.796102971702,-6009.298038353885,-6009.298038353885,-5999.796102971702,-5980.807256720251,-5952.361524868529,-5914.5038859654815,-5867.294200719677,-5810.807117347223,-5745.131953537592,-5670.372555223994,-5586.647132381613,-5494.088072113338,-5392.841729318542,-5283.068195275902,-5164.941044506187,-5038.647060315252,-4904.385939451252,-4762.36997634303,-4612.823727418984,-4455.983656037209,-4292.097758588313,-4121.425172362152,-3944.2357657985167,-3760.809711769651,-3571.4370445693567,-3376.417201309154,-3176.058548446669,-2970.6778941948796,-2760.5999875832003,-2546.1570049625343,-2327.6880247661716,-2105.538491357099,-1880.0596688094438,-1651.608085487792,-1420.544970302548,-1187.2356815327742,-952.0491291196684,-715.3571913441116,-477.5341268106597,-238.95598266777884,-7.360722603522076e-13],[-0.0,-244.87405568077088,-489.36091514677565,-733.0739944200501,-975.6279330281618,-1216.6392033383258,-1455.7267169934248,-1692.512427491032,-1926.6219279526388,-2157.685043137885,-2385.336414767702,-2609.2160792308537,-2828.9700367603878,-3044.2508111800366,-3254.71799933547,-3460.0388093416536,-3659.8885867952204,-3853.9513281198133,-4041.920180232696,-4223.497925742546,-4398.397452911241,-4566.342209636537,-4727.0666407377785,-4880.316607853227,-5025.84979128505,-5163.436073156563,-5292.857901275902,-5413.910633130749,-5526.4028594702095,-5630.156706962183,-5725.008119447657,-5810.807117347223,-5887.41803480961,-5954.71973422729,-6012.605797779929,-6060.984695702838,-6099.779931014338,-6128.930160473222,-6148.389291575019,-6158.126555433723,-6158.126555433723,-6148.389291575019,-6128.930160473222,-6099.779931014338,-6060.984695702838,-6012.605797779929,-5954.719734227289,-5887.41803480961,-5810.807117347222,-5725.008119447657,-5630.156706962182,-5526.4028594702095,-5413.9106331307485,-5292.857901275902,-5163.436073156563,-5025.849791285048,-4880.316607853227,-4727.066640737778,-4566.342209636536,-4398.397452911242,-4223.497925742546,-4041.9201802326947,-3853.951328119812,-3659.8885867952204,-3460.0388093416536,-3254.717999335469,-3044.2508111800366,-2828.9700367603873,-2609.216079230852,-2385.3364147677003,-2157.685043137885,-1926.6219279526379,-1692.5124274910306,-1455.726716993425,-1216.6392033383252,-975.6279330281602,-733.0739944200506,-489.36091514677526,-244.8740556807697,-7.543021005552792e-13],[-0.0,-249.24395607149935,-498.0938062175019,-746.1560676749858,-993.0385030205309,-1238.350740378308,-1481.7048906782534,-1722.7161609884172,-1961.0034629516829,-2196.1900153647875,-2427.903939946854,-2655.7788493553867,-2879.454426519973,-3098.57699437763,-3312.8000751089385,-3521.7849379906966,-3725.201134998811,-3922.7270233145487,-4114.050273907945,-4298.868365394199,-4476.8890623821635,-4647.830877558566,-4811.423516777308,-4967.408306450071,-5115.538602562428,-5255.580180668726,-5387.311606249074,-5510.524584842846,-5625.024291405019,-5730.629678364635,-5827.173761898208,-5914.503885965481,-5992.4819636899965,-6060.984695702838,-6119.903765104273,-6169.146008735032,-6208.633564486422,-6238.303994416311,-6258.110383476362,-6268.021413694359,-6268.021413694359,-6258.110383476362,-6238.303994416311,-6208.633564486422,-6169.146008735032,-6119.903765104273,-6060.984695702838,-5992.4819636899965,-5914.50388596548,-5827.173761898208,-5730.629678364635,-5625.024291405019,-5510.524584842844,-5387.311606249074,-5255.580180668725,-5115.5386025624275,-4967.408306450071,-4811.423516777307,-4647.830877558565,-4476.889062382164,-4298.868365394199,-4114.050273907943,-3922.7270233145473,-3725.201134998811,-3521.7849379906966,-3312.800075108938,-3098.57699437763,-2879.4544265199725,-2655.7788493553853,-2427.903939946852,-2196.1900153647875,-1961.0034629516817,-1722.7161609884156,-1481.7048906782536,-1238.3507403783074,-993.0385030205293,-746.1560676749863,-498.09380621750154,-249.2439560714981,-7.677630000155345e-13],[-0.0,-252.03805592271564,-503.67758787375533,-754.5207020297572,-1004.1707638675935,-1252.2330253250775,-1498.315248978789,-1742.0283282520631,-1982.9869026724687,-2220.8099672059193,-2455.121474703953,-2685.550930511564,-2911.733978295405,-3133.312976166047,-3349.9375621833124,-3561.2652083505236,-3766.961762221664,-3966.7019752650826,-4160.170017148278,-4347.059975130568,-4527.07633777401,-4699.934462207732,-4865.361024206813,-5023.094450374063,-5172.885331741333,-5314.496818136354,-5447.704992691546,-5572.299225902612,-5688.082508677072,-5794.871763846143,-5892.498135647357,-5980.807256720251,-6059.659492192872,-6128.930160473224,-6188.5097303964885,-6238.303994416312,-6278.234217566296,-6308.237261956168,-6328.2656866057605,-6338.28782245895,-6338.28782245895,-6328.2656866057605,-6308.237261956168,-6278.234217566296,-6238.303994416312,-6188.5097303964885,-6128.930160473223,-6059.659492192872,-5980.80725672025,-5892.498135647357,-5794.871763846142,-5688.082508677072,-5572.2992259026105,-5447.704992691546,-5314.496818136353,-5172.885331741331,-5023.094450374063,-4865.361024206813,-4699.934462207732,-4527.076337774011,-4347.059975130568,-4160.170017148277,-3966.7019752650813,-3766.961762221664,-3561.2652083505236,-3349.937562183312,-3133.312976166047,-2911.7339782954045,-2685.5509305115625,-2455.121474703951,-2220.8099672059193,-1982.9869026724675,-1742.0283282520618,-1498.3152489787892,-1252.2330253250768,-1004.1707638675919,-754.5207020297577,-503.677587873755,-252.0380559227144,-7.763698545925716e-13],[-0.0,-253.23869003554228,-506.0769576500915,-758.1150135728071,-1008.9543338320132,-1258.1982899035124,-1505.4527758618083,-1750.326831542579,-1992.4332607310591,-2231.389243398839,-2466.816941021019,-2698.344094016579,-2925.6046103672934,-3148.2391444844575,-3365.8956654081285,-3578.2300134404322,-3784.90644433278,-3985.5981601665426,-4179.9878260877285,-4367.768072078616,-4548.641978972928,-4722.323547946065,-4888.538152738036,-5047.022973894014,-5197.52741433593,-5339.813495607948,-5473.65623416933,-5598.84399713965,-5715.178836933884,-5822.476804258227,-5920.568238971735,-6009.298038353884,-6088.52590235385,-6158.126555433724,-6217.989944654894,-6268.021413694359,-6308.141852515827,-6338.287822458949,-6358.411656548883,-6368.481534867569,-6368.481534867569,-6358.411656548883,-6338.287822458949,-6308.141852515827,-6268.021413694359,-6217.989944654894,-6158.126555433723,-6088.52590235385,-6009.298038353884,-5920.568238971735,-5822.476804258226,-5715.178836933884,-5598.843997139649,-5473.65623416933,-5339.813495607948,-5197.527414335928,-5047.022973894014,-4888.538152738035,-4722.3235479460645,-4548.641978972929,-4367.768072078616,-4179.987826087728,-3985.598160166541,-3784.90644433278,-3578.2300134404322,-3365.895665408128,-3148.2391444844575,-2925.604610367293,-2698.344094016578,-2466.816941021017,-2231.389243398839,-1992.433260731058,-1750.3268315425773,-1505.4527758618085,-1258.1982899035117,-1008.9543338320116,-758.1150135728076,-506.0769576500912,-253.23869003554105,-7.800682489805998e-13],[-0.0,-252.83826761454918,-505.2767459582579,-756.9162779092976,-1007.3589696443064,-1256.208819790309,-1503.0723455842833,-1747.5592050502878,-1989.2828142103592,-2227.8609583532393,-2462.916396394399,-2694.077457371733,-2920.9786281337433,-3143.2611312909653,-3360.57349251676,-3572.572096300476,-3778.921729274195,-3979.2961102539666,-4173.378406157431,-4360.86173298204,-4541.449641051753,-4714.856583764898,-4880.808369102045,-5039.042593179951,-5189.309055166033,-5331.3701528973115,-5465.001258578268,-5589.991073963563,-5706.141964463992,-5813.270271647392,-5911.206603640375,-5999.796102971701,-6078.898691433758,-6148.38929157502,-6208.158024473188,-6258.110383476362,-6298.167383637481,-6328.26568660576,-6348.357700777636,-6358.411656548883,-6358.411656548883,-6348.357700777636,-6328.26568660576,-6298.167383637481,-6258.110383476362,-6208.158024473188,-6148.389291575019,-6078.898691433758,-5999.7961029717,-5911.206603640375,-5813.270271647391,-5706.141964463992,-5589.9910739635625,-5465.001258578268,-5331.370152897311,-5189.309055166032,-5039.042593179951,-4880.808369102044,-4714.856583764897,-4541.449641051754,-4360.86173298204,-4173.378406157429,-3979.2961102539653,-3778.921729274195,-3572.572096300476,-3360.573492516759,-3143.2611312909653,-2920.9786281337433,-2694.0774573717317,-2462.916396394397,-2227.8609583532393,-1989.282814210358,-1747.5592050502862,-1503.0723455842835,-1256.2088197903083,-1007.3589696443048,-756.9162779092981,-505.2767459582575,-252.83826761454796,-7.788348007395242e-13],[-0.0,-250.8393202592061,-501.282011994215,-750.9320738320512,-999.3947577105281,-1246.2771930560732,-1491.1890079928573,-1733.7429466009687,-1973.5554812476237,-2210.247419023182,-2443.4445013230834,-2672.777995627625,-2897.885278543866,-3118.4104091877525,-3334.004691999809,-3544.3272281044988,-3749.045454341411,-3947.835669115975,-4140.383544238221,-4326.384621940248,-4505.544796286546,-4677.580778215925,-4842.2205434797515,-4999.203762768195,-5148.282213344383,-5289.220171535567,-5421.7947854606955,-5545.796427405055,-5661.02902528476,-5767.310372677038,-5864.472416926016,-5952.361524868528,-6030.838725759714,-6099.779931014339,-6159.076130416346,-6208.633564486422,-6248.373872734997,-6278.234217566295,-6298.167383637481,-6308.141852515827,-6308.141852515827,-6298.167383637481,-6278.234217566295,-6248.373872734997,-6208.633564486422,-6159.076130416346,-6099.779931014338,-6030.838725759714,-5952.361524868527,-5864.472416926016,-5767.310372677037,-5661.02902528476,-5545.796427405053,-5421.7947854606955,-5289.220171535566,-5148.282213344382,-4999.203762768195,-4842.220543479751,-4677.5807782159245,-4505.544796286547,-4326.384621940248,-4140.383544238219,-3947.8356691159734,-3749.045454341411,-3544.3272281044988,-3334.004691999808,-3118.4104091877525,-2897.885278543866,-2672.7779956276236,-2443.4445013230816,-2210.247419023182,-1973.5554812476225,-1733.7429466009673,-1491.1890079928576,-1246.2771930560725,-999.3947577105265,-750.9320738320516,-501.28201199421466,-250.8393202592049,-7.726773081262585e-13],[-0.0,-247.25448595829576,-494.11801175227015,-740.2002354059817,-985.1120503427657,-1228.4662006427109,-1469.8778933738681,-1708.9654070289669,-1945.3506951055815,-2178.6599838753546,-2408.5243633970904,-2634.580370839202,-2856.470565189149,-3073.844092441159,-3286.3572403685157,-3493.67398200325,-3695.466506963834,-3891.41573979078,-4081.2118444705275,-4264.55471434986,-4441.154446666217,-4610.731800943544,-4773.018640528885,-4927.75835657154,-5074.706273774414,-5213.630037275937,-5344.309980050874,-5466.539470249039,-5580.125237922719,-5684.88768062619,-5780.661147404098,-5867.294200719676,-5944.649855908604,-6012.605797779929,-6071.054574021524,-6119.903765104272,-6159.076130416345,-6188.509730396488,-6208.158024473187,-6217.989944654893,-6217.989944654893,-6208.158024473187,-6188.509730396488,-6159.076130416345,-6119.903765104272,-6071.054574021524,-6012.605797779928,-5944.649855908604,-5867.294200719675,-5780.661147404098,-5684.887680626189,-5580.125237922719,-5466.5394702490385,-5344.309980050874,-5213.630037275936,-5074.706273774413,-4927.75835657154,-4773.018640528884,-4610.731800943543,-4441.154446666218,-4264.55471434986,-4081.211844470526,-3891.415739790779,-3695.466506963834,-3493.67398200325,-3286.357240368515,-3073.844092441159,-2856.4705651891486,-2634.5803708392004,-2408.524363397089,-2178.6599838753546,-1945.3506951055804,-1708.9654070289655,-1469.8778933738683,-1228.4662006427102,-985.1120503427641,-740.2002354059822,-494.1180117522698,-247.25448595829457,-7.616347007916358e-13],[-0.0,-242.10642918847986,-483.83003834855083,-724.7886127689558,-964.6011474156104,-1202.8884493788757,-1439.2737374554902,-1673.3832379170967,-1904.8467755233357,-2133.298358844987,-2358.3767589716476,-2579.7260806888885,-2796.996325221741,-3009.8439436547,-3217.932380153174,-3420.9326041274403,-3618.5236304976333,-3810.393027237136,-3996.237409391832,-4175.762918794077,-4348.685688712865,-4514.732292705476,-4673.64017696088,-4825.158075451287,-4969.046407235378,-5105.077655285016,-5233.036726236438,-5352.721290497074,-5463.942102170214,-5566.523298291679,-5660.302676905307,-5745.131953537592,-5820.876995665909,-5887.41803480961,-5944.649855908604,-5992.4819636899965,-6030.838725759714,-6059.659492192871,-6078.898691433758,-6088.52590235385,-6088.52590235385,-6078.898691433758,-6059.659492192871,-6030.838725759714,-5992.4819636899965,-5944.649855908604,-5887.41803480961,-5820.876995665909,-5745.1319535375915,-5660.302676905307,-5566.523298291679,-5463.942102170214,-5352.721290497072,-5233.036726236438,-5105.077655285015,-4969.046407235376,-4825.158075451287,-4673.640176960879,-4514.732292705475,-4348.685688712866,-4175.762918794077,-3996.2374093918306,-3810.3930272371354,-3618.5236304976333,-3420.9326041274403,-3217.9323801531737,-3009.8439436547,-2796.996325221741,-2579.726080688887,-2358.376758971646,-2133.298358844987,-1904.8467755233348,-1673.3832379170951,-1439.2737374554904,-1202.888449378875,-964.6011474156088,-724.7886127689562,-483.83003834855054,-242.10642918847867,-7.457767936546206e-13],[-0.0,-235.42769762218012,-470.48313566334014,-704.7946431613739,-937.9917254612752,-1169.7056500433414,-1399.5700295650777,-1627.221401194895,-1852.2998013215558,-2074.4493347306307,-2293.3187373479855,-2508.561931660485,-2719.8385739356722,-2926.814592375171,-3129.162715350857,-3326.5629888885846,-3518.7032825811716,-3705.2797831307375,-3885.997474739972,-4060.5706055927512,-4228.723139686494,-4390.18919330182,-4544.713455419358,-4692.051591418949,-4831.970629422904,-4964.249328672423,-5088.6785293547155,-5205.061483327653,-5313.214165219025,-5412.965563408475,-5504.157950432023,-5586.647132381612,-5660.302676905307,-5725.008119447658,-5780.661147404098,-5827.173761898208,-5864.472416926016,-5892.498135647356,-5911.206603640375,-5920.568238971735,-5920.568238971735,-5911.206603640375,-5892.498135647356,-5864.472416926016,-5827.173761898208,-5780.661147404098,-5725.008119447657,-5660.302676905307,-5586.647132381611,-5504.157950432023,-5412.965563408474,-5313.214165219025,-5205.061483327652,-5088.6785293547155,-4964.249328672423,-4831.970629422903,-4692.051591418949,-4544.713455419357,-4390.189193301819,-4228.7231396864945,-4060.5706055927512,-3885.9974747399706,-3705.2797831307357,-3518.7032825811716,-3326.5629888885846,-3129.1627153508566,-2926.814592375171,-2719.838573935672,-2508.5619316604834,-2293.318737347984,-2074.4493347306307,-1852.299801321555,-1627.2214011948936,-1399.570029565078,-1169.7056500433407,-937.9917254612736,-704.7946431613743,-470.4831356633398,-235.42769762217895,-7.25203845509913e-13],[-0.0,-227.26051635071386,-454.1616871127244,-680.3447348965657,-905.4520178128073,-1129.127594977393,-1351.0177893273408,-1570.7717468568749,-1788.0419913897274,-2002.484974010393,-2213.76161628558,-2421.537846416912,-2625.485127477102,-2825.28097689437,-3020.6094763636693,-3211.161771378466,-3396.6365595931957,-3576.7405672442,-3751.189012875834,-3919.706057638479,-4082.025241446463,-4237.889904306224,-4387.053592148518,-4529.280446522955,-4664.345577538696,-4792.0354194615875,-4912.14806840549,-5024.493601583824,-5128.894377616524,-5225.185317417587,-5313.214165219024,-5392.84172931854,-5463.942102170213,-5526.4028594702095,-5580.125237922718,-5625.024291405018,-5661.029025284759,-5688.082508677071,-5706.141964463991,-5715.178836933883,-5715.178836933883,-5706.141964463991,-5688.082508677071,-5661.029025284759,-5625.024291405018,-5580.125237922718,-5526.4028594702095,-5463.942102170213,-5392.841729318539,-5313.214165219024,-5225.185317417586,-5128.894377616524,-5024.493601583823,-4912.14806840549,-4792.035419461587,-4664.345577538695,-4529.280446522955,-4387.053592148517,-4237.889904306223,-4082.025241446464,-3919.706057638479,-3751.1890128758328,-3576.7405672441987,-3396.6365595931957,-3211.161771378466,-3020.6094763636684,-2825.28097689437,-2625.4851274771017,-2421.5378464169107,-2213.761616285579,-2002.484974010393,-1788.0419913897267,-1570.7717468568735,-1351.017789327341,-1129.1275949773926,-905.4520178128059,-680.3447348965661,-454.161687112724,-227.26051635071275,-7.000459251595682e-13],[-0.0,-217.6565209236718,-434.9688821494674,-651.5934681667335,-867.1877509787903,-1081.4108317100997,-1293.9239796374575,-1504.391167792891,-1712.479604291366,-1917.860258543157,-2120.2083815188444,-2319.204019244279,-2514.5325187135786,-2705.8850254202093,-2892.9589717194403,-3075.4585552499852,-3253.0952066583327,-3425.5880458862102,-3592.6643262996886,-3754.0598659576744,-3909.519465337858,-4058.797310859615,-4201.657363565802,-4337.873732348863,-4467.231031131107,-4589.524719434357,-4704.561425800506,-4812.159253551522,-4912.148068405491,-5004.369767493891,-5088.6785293547155,-5164.941044506187,-5233.036726236438,-5292.857901275903,-5344.309980050875,-5387.311606249074,-5421.7947854606955,-5447.704992691545,-5465.001258578268,-5473.65623416933,-5473.65623416933,-5465.001258578268,-5447.704992691545,-5421.7947854606955,-5387.311606249074,-5344.309980050875,-5292.857901275902,-5233.036726236438,-5164.941044506186,-5088.6785293547155,-5004.36976749389,-4912.148068405491,-4812.159253551521,-4704.561425800506,-4589.524719434357,-4467.231031131105,-4337.873732348863,-4201.6573635658015,-4058.7973108596143,-3909.519465337859,-3754.0598659576744,-3592.664326299687,-3425.588045886209,-3253.0952066583327,-3075.4585552499852,-2892.95897171944,-2705.8850254202093,-2514.5325187135786,-2319.204019244278,-2120.208381518843,-1917.860258543157,-1712.4796042913651,-1504.39116779289,-1293.9239796374577,-1081.410831710099,-867.1877509787889,-651.5934681667338,-434.96888214946716,-217.6565209236707,-6.704620890761525e-13],[-0.0,-206.67643089234775,-413.02606386606584,-618.7226177372056,-823.4408439741173,-1026.8570409822314,-1228.6495659428151,-1428.4993433963812,-1626.0903697665742,-1821.1102130267768,-2013.2505067193636,-2202.207437546454,-2387.6822257611825,-2569.381597599894,-2747.0182490082407,-2920.311299927951,-3088.986738425933,-3252.7778539634596,-3411.4256591203566,-3564.6792991073444,-3712.2964484190265,-3854.043694000312,-3989.696904320446,-4119.041583771017,-4241.873211827612,-4357.997566438797,-4467.231031131106,-4569.400885344424,-4664.345577538696,-4751.91498064012,-4831.970629422904,-4904.385939451252,-4969.046407235377,-5025.84979128505,-5074.706273774414,-5115.538602562428,-5148.282213344382,-5172.885331741331,-5189.3090551660325,-5197.527414335929,-5197.527414335929,-5189.3090551660325,-5172.885331741331,-5148.282213344382,-5115.538602562428,-5074.706273774414,-5025.849791285049,-4969.046407235377,-4904.385939451252,-4831.970629422904,-4751.914980640119,-4664.345577538696,-4569.400885344422,-4467.231031131106,-4357.997566438797,-4241.87321182761,-4119.041583771017,-3989.696904320445,-3854.043694000311,-3712.2964484190265,-3564.6792991073444,-3411.4256591203552,-3252.7778539634583,-3088.986738425933,-2920.311299927951,-2747.0182490082398,-2569.381597599894,-2387.682225761182,-2202.2074375464526,-2013.2505067193617,-1821.1102130267768,-1626.0903697665733,-1428.4993433963798,-1228.6495659428151,-1026.8570409822307,-823.4408439741161,-618.722617737206,-413.02606386606556,-206.67643089234673,-6.366393757965106e-13],[-0.0,-194.3896659211861,-388.4719618246499,-581.9400037078456,-774.4878788300905,-965.811129423487,-1155.6072341032338,-1343.5760862161162,-1529.4204683708124,-1712.8465223996775,-1893.564214008912,-2071.2877913823913,-2245.7362370140254,-2416.6337120541957,-2583.7099924676736,-2746.7008963133662,-2905.348701470264,-3059.4025531490865,-3208.61886054527,-3352.761682006096,-3491.603098102943,-3624.9235720187457,-3752.512296680835,-3874.167528090245,-3989.6969043204444,-4098.917749681082,-4201.657363565801,-4297.753293527394,-4387.053592148516,-4469.417057301784,-4544.713455419355,-4612.823727418982,-4673.640176960879,-4727.066640737777,-4773.018640528883,-4811.423516777306,-4842.22054347975,-4865.361024206812,-4880.808369102043,-4888.538152738033,-4888.538152738033,-4880.808369102043,-4865.361024206812,-4842.22054347975,-4811.423516777306,-4773.018640528883,-4727.066640737777,-4673.640176960879,-4612.823727418981,-4544.713455419355,-4469.417057301783,-4387.053592148516,-4297.753293527393,-4201.657363565801,-4098.917749681082,-3989.6969043204435,-3874.167528090245,-3752.5122966808344,-3624.923572018745,-3491.603098102943,-3352.761682006096,-3208.6188605452694,-3059.402553149085,-2905.348701470264,-2746.7008963133662,-2583.7099924676727,-2416.6337120541957,-2245.736237014025,-2071.2877913823904,-1893.5642140089105,-1712.8465223996775,-1529.4204683708115,-1343.576086216115,-1155.6072341032338,-965.8111294234864,-774.4878788300892,-581.9400037078459,-388.4719618246496,-194.38966592118513,-5.987916234039159e-13],[-0.0,-180.87390689431172,-361.46181496402465,-541.4781776074675,-720.6383519537663,-898.6590489417307,-1075.2587812580878,-1250.1583084267834,-1423.0810783455715,-1593.7536645717314,-1761.9061986654744,-1927.27279690742,-2089.591980715403,-2248.607090095865,-2404.0666894760484,-2555.7249652753303,-2703.342114587012,-2846.6847243560046,-2985.526140452851,-3119.646826060487,-3248.8347088070796,-3372.8855160960293,-3491.603098102942,-3604.7997379288113,-3712.2964484190243,-3813.9232551788423,-3909.5194653378558,-3998.933921638443,-4082.025241446461,-4158.662040306257,-4228.723139686492,-4292.097758588309,-4348.685688712863,-4398.397452911239,-4441.154446666214,-4476.889062382161,-4505.544796286544,-4527.076337774008,-4541.44964105175,-4548.641978972925,-4548.641978972925,-4541.44964105175,-4527.076337774008,-4505.544796286544,-4476.889062382161,-4441.154446666214,-4398.397452911238,-4348.685688712863,-4292.097758588308,-4228.723139686492,-4158.662040306257,-4082.025241446461,-3998.9339216384415,-3909.5194653378558,-3813.9232551788423,-3712.296448419024,-3604.7997379288113,-3491.603098102941,-3372.8855160960284,-3248.8347088070796,-3119.646826060487,-2985.52614045285,-2846.6847243560037,-2703.342114587012,-2555.7249652753303,-2404.066689476048,-2248.607090095865,-2089.5919807154028,-1927.2727969074188,-1761.9061986654729,-1593.7536645717314,-1423.0810783455709,-1250.1583084267822,-1075.258781258088,-898.6590489417301,-720.6383519537652,-541.4781776074678,-361.4618149640244,-180.87390689431084,-5.571581175748584e-13],[-0.0,-166.21460479196983,-332.16639012911673,-497.5929521281973,-662.2327173920226,-825.8253566107646,-988.1121961961051,-1148.8366272973462,-1307.744511552751,-1464.5845829345267,-1619.1088450520642,-1771.0729632852058,-1920.2366511274993,-2066.3640501285568,-2209.2241028347426,-2348.590918138504,-2484.2441284586375,-2615.969238186734,-2743.557962848823,-2866.8085584459395,-2985.5261404528524,-3099.5229919705553,-3208.6188605452717,-3312.6412431846297,-3411.4256591203566,-3504.8159098861743,-3592.6643262996877,-3674.8320019577086,-3751.189012875834,-3821.6146229249716,-3885.9974747399715,-3944.235765798517,-3996.2374093918315,-4041.920180232696,-4081.2118444705266,-4114.050273907944,-4140.38354423822,-4160.170017148278,-4173.37840615743,-4179.9878260877285,-4179.9878260877285,-4173.37840615743,-4160.170017148278,-4140.38354423822,-4114.050273907944,-4081.2118444705266,-4041.920180232695,-3996.2374093918315,-3944.2357657985167,-3885.9974747399715,-3821.614622924971,-3751.189012875834,-3674.8320019577077,-3592.6643262996877,-3504.8159098861743,-3411.4256591203552,-3312.6412431846297,-3208.6188605452708,-3099.5229919705544,-2985.5261404528524,-2866.8085584459395,-2743.557962848822,-2615.9692381867326,-2484.2441284586375,-2348.590918138504,-2209.224102834742,-2066.3640501285568,-1920.2366511274988,-1771.072963285205,-1619.108845052063,-1464.5845829345267,-1307.7445115527503,-1148.8366272973453,-988.1121961961052,-825.8253566107643,-662.2327173920214,-497.59295212819757,-332.1663901291165,-166.214604791969,-5.120020787379551e-13],[-0.0,-150.5044404419155,-300.7709024279975,-450.5617837952666,-599.6402343714549,-747.7705304838122,-894.7184476866847,-1040.2516311185066,-1184.1399629025968,-1326.1559260108195,-1466.074964014774,-1603.6758361556617,-1738.7409671714022,-1871.0567913278437,-2000.4140901100855,-2126.608323039957,-2249.439951096552,-2368.714752228437,-2484.2441284586366,-2595.8454040967986,-2703.342114587012,-2806.564285534537,-2905.3487014702637,-2999.5391639279155,-3088.9867384259314,-3173.5499899634924,-3253.0952066583313,-3327.4966111726994,-3396.636559593194,-3460.405727449965,-3518.7032825811702,-3571.4370445693544,-3618.523630497632,-3659.888586795219,-3695.4665069638327,-3725.2011349988093,-3749.045454341409,-3766.961762221661,-3778.921729274193,-3784.9064443327784,-3784.9064443327784,-3778.921729274193,-3766.961762221661,-3749.045454341409,-3725.2011349988093,-3695.4665069638327,-3659.888586795218,-3618.523630497632,-3571.437044569354,-3518.7032825811702,-3460.4057274499646,-3396.636559593194,-3327.496611172699,-3253.0952066583313,-3173.5499899634924,-3088.9867384259305,-2999.5391639279155,-2905.348701470263,-2806.5642855345363,-2703.3421145870125,-2595.8454040967986,-2484.2441284586357,-2368.7147522284363,-2249.439951096552,-2126.608323039957,-2000.4140901100852,-1871.0567913278437,-1738.7409671714022,-1603.675836155661,-1466.0749640147728,-1326.1559260108195,-1184.1399629025962,-1040.2516311185057,-894.718447686685,-747.7705304838119,-599.6402343714539,-450.5617837952669,-300.7709024279973,-150.5044404419148,-4.636089979096492e-13],[-0.0,-133.8427385613812,-267.47384424233815,-400.6820187975306,-533.2566327226598,-664.9880583030086,-795.6680010779464,-925.0898291972852,-1053.048900148708,-1179.342884339642,-1303.7720850219343,-1426.1397540534574,-1546.2524029973608,-1663.9201090670629,-1778.9568154332112,-1891.1806254177764,-2000.4140901100852,-2106.4844889500228,-2209.224102834741,-2308.4704793170345,-2404.066689476048,-2495.8615760541593,-2583.7099924676727,-2667.4730323134,-2747.0182490082384,-2822.2198652144407,-2892.958971719438,-2959.123715455749,-3020.609476363667,-3077.319032817083,-3129.1627153508543,-3176.0585484466665,-3217.9323801531714,-3254.7179993354675,-3286.3572403685134,-3312.8000751089357,-3334.0046919998063,-3349.9375621833096,-3360.5734925167567,-3365.8956654081258,-3365.8956654081258,-3360.5734925167567,-3349.9375621833096,-3334.0046919998063,-3312.8000751089357,-3286.3572403685134,-3254.7179993354666,-3217.9323801531714,-3176.0585484466665,-3129.1627153508543,-3077.3190328170826,-3020.609476363667,-2959.1237154557484,-2892.958971719438,-2822.2198652144402,-2747.018249008238,-2667.4730323134,-2583.7099924676722,-2495.861576054159,-2404.0666894760484,-2308.4704793170345,-2209.2241028347403,-2106.484488950022,-2000.4140901100852,-1891.1806254177764,-1778.9568154332107,-1663.9201090670629,-1546.2524029973606,-1426.1397540534567,-1303.7720850219334,-1179.342884339642,-1053.0489001487076,-925.0898291972845,-795.6680010779465,-664.9880583030083,-533.256632722659,-400.68201879753076,-267.4738442423379,-133.84273856138054,-4.1228483172808737e-13],[-0.0,-116.33483979423406,-232.4857302946627,-348.2690130691239,-463.5016109488305,-578.0013175110047,-691.5870851846842,-804.079311524145,-915.3001231972858,-1025.0736572399248,-1133.2263391312965,-1239.587157251045,-1343.9879332837456,-1446.263588143393,-1546.2524029973624,-1643.7962749771305,-1738.7409671714036,-1830.9363525063766,-1920.2366511274995,-2006.5006609073862,-2089.591980715405,-2169.379226095901,-2245.7362370140263,-2318.542277340688,-2387.6822257611834,-2453.0467578056605,-2514.5325187135786,-2572.0422868588284,-2625.485127477102,-2674.7765364524553,-2719.8385739356727,-2760.599987583201,-2796.9963252217412,-2828.970036760388,-2856.47056518915,-2879.454426519973,-2897.8852785438667,-2911.733978295405,-2920.9786281337438,-2925.604610367294,-2925.604610367294,-2920.9786281337438,-2911.733978295405,-2897.8852785438667,-2879.454426519973,-2856.47056518915,-2828.9700367603878,-2796.9963252217412,-2760.5999875832003,-2719.8385739356727,-2674.776536452455,-2625.485127477102,-2572.042286858828,-2514.5325187135786,-2453.04675780566,-2387.6822257611825,-2318.542277340688,-2245.7362370140263,-2169.3792260959003,-2089.5919807154055,-2006.5006609073862,-1920.2366511274988,-1830.9363525063764,-1738.7409671714036,-1643.7962749771305,-1546.252402997362,-1446.263588143393,-1343.9879332837456,-1239.5871572510443,-1133.2263391312958,-1025.0736572399248,-915.3001231972853,-804.0793115241443,-691.5870851846842,-578.0013175110043,-463.5016109488297,-348.26901306912407,-232.48573029466252,-116.33483979423349,-3.583540680967432e-13],[-0.0,-98.09143471350843,-196.02776670649197,-293.6541385077076,-390.8161827566862,-487.36026629025935,-583.1337330681686,-677.9851455536426,-771.7645241672712,-864.3235844355462,-955.515971459095,-1045.197491329858,-1133.2263391312958,-1219.4633231611106,-1303.772085021935,-1386.01931523199,-1466.0749640147742,-1543.8124469344914,-1619.108845052064,-1691.84509928524,-1761.9061986654747,-1829.1813621939116,-1893.564214008912,-1954.952951588157,-2013.2505067193629,-2068.3646989850718,-2120.2083815188435,-2168.6995788023623,-2213.7616162855797,-2255.3232416249416,-2293.3187373479846,-2327.688024766172,-2358.3767589716467,-2385.336414767701,-2408.52436339709,-2427.9039399468525,-2443.4445013230825,-2455.1214747039517,-2462.916396394398,-2466.816941021018,-2466.816941021018,-2462.916396394398,-2455.1214747039517,-2443.4445013230825,-2427.9039399468525,-2408.52436339709,-2385.336414767701,-2358.3767589716467,-2327.6880247661716,-2293.3187373479846,-2255.323241624941,-2213.7616162855797,-2168.699578802362,-2120.2083815188435,-2068.3646989850713,-2013.2505067193622,-1954.952951588157,-1893.5642140089117,-1829.1813621939111,-1761.9061986654751,-1691.84509928524,-1619.1088450520635,-1543.812446934491,-1466.0749640147742,-1386.01931523199,-1303.7720850219346,-1219.4633231611106,-1133.2263391312958,-1045.1974913298575,-955.5159714590943,-864.3235844355462,-771.7645241672708,-677.985145553642,-583.1337330681686,-487.36026629025906,-390.8161827566856,-293.6541385077077,-196.02776670649186,-98.09143471350795,-3.0215767466741343e-13],[-0.0,-79.2278639999651,-158.33045246202354,-237.18268793464395,-315.6598888258301,-393.63796655034565,-470.9936217392733,-547.6045392016604,-623.3495813299779,-698.1089796435759,-771.7645241672705,-844.1997503456118,-915.3001231972844,-984.9532184184558,-1053.0489001487074,-1119.4794951184708,-1184.1399629025957,-1246.9280620108534,-1307.7445115527494,-1366.4931482210166,-1423.0810783455706,-1477.4188247774962,-1529.4204683708108,-1579.0037838382948,-1626.0903697665722,-1670.6057725848589,-1712.4796042913636,-1751.6456537511847,-1788.0419913897254,-1821.611067116079,-1852.2998013215536,-1880.0596688094422,-1904.846775523333,-1926.6219279526363,-1945.350695105579,-1961.00346295168,-1973.5554812476207,-1982.9869026724655,-1989.2828142103565,-1992.4332607310562,-1992.4332607310562,-1989.2828142103565,-1982.9869026724655,-1973.5554812476207,-1961.00346295168,-1945.350695105579,-1926.6219279526363,-1904.846775523333,-1880.0596688094417,-1852.2998013215536,-1821.6110671160789,-1788.0419913897254,-1751.6456537511845,-1712.4796042913636,-1670.6057725848589,-1626.0903697665717,-1579.0037838382948,-1529.4204683708106,-1477.4188247774957,-1423.0810783455709,-1366.4931482210166,-1307.744511552749,-1246.928062010853,-1184.1399629025957,-1119.4794951184708,-1053.0489001487072,-984.9532184184558,-915.3001231972842,-844.1997503456113,-771.76452416727,-698.1089796435759,-623.3495813299776,-547.6045392016599,-470.9936217392733,-393.6379665503454,-315.65988882582957,-237.1826879346441,-158.33045246202343,-79.22786399996471,-2.44050943132946e-13],[-0.0,-59.86338922117062,-119.6321221193385,-179.21169204260377,-238.50789144461143,-297.4269608460461,-355.87573708764063,-413.7618006402801,-470.9936217392742,-527.4807051117278,-583.1337330681691,-637.8647067321756,-691.5870851846845,-744.2159223029751,-795.6680010779476,-845.8619651973215,-894.7184476866859,-942.1601964049994,-988.1121961961057,-1032.501787503113,-1075.258781258089,-1116.3155698654036,-1155.607234103235,-1193.071645774202,-1228.649565942816,-1262.2847386044123,-1293.9239796374584,-1323.5172608985804,-1351.0177893273417,-1376.38208093569,-1399.5700295650784,-1420.5449703025486,-1439.273737455491,-1455.726716993426,-1469.8778933738693,-1481.7048906782543,-1491.189007992858,-1498.3152489787897,-1503.0723455842842,-1505.4527758618092,-1505.4527758618092,-1503.0723455842842,-1498.3152489787897,-1491.189007992858,-1481.7048906782543,-1469.8778933738693,-1455.7267169934257,-1439.273737455491,-1420.5449703025483,-1399.5700295650784,-1376.3820809356898,-1351.0177893273417,-1323.5172608985802,-1293.9239796374584,-1262.2847386044123,-1228.6495659428156,-1193.071645774202,-1155.6072341032348,-1116.3155698654034,-1075.2587812580891,-1032.501787503113,-988.1121961961055,-942.1601964049989,-894.7184476866859,-845.8619651973215,-795.6680010779475,-744.2159223029751,-691.5870851846844,-637.8647067321753,-583.1337330681688,-527.4807051117278,-470.99362173927403,-413.76180064027983,-355.8757370876407,-297.4269608460459,-238.50789144461106,-179.2116920426039,-119.63212211933845,-59.86338922117032,-1.8440124295876212e-13],[-0.0,-40.12043882146786,-80.17743898258747,-120.10766213257217,-159.84797038114826,-199.3355261325373,-238.50789144461112,-277.3031267561119,-315.6598888258303,-353.51752772887806,-390.8161827566861,-427.4968770690887,-463.5016109488301,-498.7734535110392,-533.2566327226599,-566.8966235895003,-599.6402343714548,-631.4356906895782,-662.2327173920222,-691.982618049383,-720.6383519537662,-748.154608499815,-774.4878788300903,-799.5965246315169,-823.4408439741168,-845.9831340879191,-867.1877509787896,-887.0211657889131,-905.4520178128067,-922.4511640850451,-937.9917254612745,-952.0491291196691,-964.6011474156097,-975.6279330281612,-985.1120503427651,-993.0385030205302,-999.3947577105274,-1004.1707638675928,-1007.3589696443057,-1008.9543338320125,-1008.9543338320125,-1007.3589696443057,-1004.1707638675928,-999.3947577105274,-993.0385030205302,-985.1120503427651,-975.6279330281611,-964.6011474156097,-952.0491291196689,-937.9917254612745,-922.4511640850449,-905.4520178128067,-887.0211657889128,-867.1877509787896,-845.983134087919,-823.4408439741167,-799.5965246315169,-774.4878788300902,-748.1546084998149,-720.6383519537665,-691.982618049383,-662.232717392022,-631.4356906895779,-599.6402343714548,-566.8966235895003,-533.2566327226598,-498.7734535110392,-463.5016109488301,-427.4968770690885,-390.81618275668586,-353.51752772887806,-315.65988882583014,-277.3031267561117,-238.50789144461115,-199.33552613253718,-159.84797038114797,-120.10766213257223,-80.17743898258743,-40.120438821467665,-1.235856987548119e-13],[-0.0,-20.12383408993368,-40.215848261809725,-60.24427291140137,-80.17743898258715,-99.98382804263798,-119.63212211933786,-139.09125322113508,-158.330452462023,-177.31929871347282,-196.0277667064911,-214.42627450774145,-232.4857302946615,-250.1775783556142,-267.473844242337,-284.3471790032955,-300.77090242799625,-316.71904523388395,-332.1663901291152,-347.08851168627996,-361.4618149640231,-375.26357281549616,-388.4719618246482,-401.06609681353194,-413.0260638660639,-424.33295181601756,-434.9688821494653,-444.9170372743836,-454.1616871127222,-462.6882139728918,-470.48313566333786,-477.5341268106577,-483.8300383485485,-489.3609151467733,-494.11801175226776,-498.0938062174995,-501.2820119942125,-503.6775878737529,-505.2767459582554,-506.07695765008907,-506.07695765008907,-505.2767459582554,-503.6775878737529,-501.2820119942125,-498.0938062174995,-494.11801175226776,-489.36091514677327,-483.8300383485485,-477.5341268106576,-470.48313566333786,-462.68821397289173,-454.1616871127222,-444.91703727438346,-434.9688821494653,-424.33295181601744,-413.02606386606374,-401.06609681353194,-388.4719618246481,-375.2635728154961,-361.46181496402323,-347.08851168627996,-332.1663901291151,-316.7190452338838,-300.77090242799625,-284.3471790032955,-267.47384424233695,-250.1775783556142,-232.4857302946615,-214.42627450774137,-196.02776670649098,-177.31929871347282,-158.33045246202292,-139.091253221135,-119.63212211933786,-99.98382804263794,-80.17743898258703,-60.24427291140141,-40.2158482618097,-20.12383408993358,-6.198880597237113e-14],[-0.0,-6.203785327117987e-14,-1.2397761194474287e-13,-1.8572133653079386e-13,-2.4717139750962393e-13,-3.0823062970404846e-13,-3.68802485917524e-13,-4.2879118959511067e-13,-4.881018862658927e-13,-5.466407935273926e-13,-6.043153493348272e-13,-6.610343583607255e-13,-7.167081361934862e-13,-7.712486511468673e-13,-8.245696634561754e-13,-8.765868616410613e-13,-9.272179958192987e-13,-9.763830077607556e-13,-1.0240041574759104e-12,-1.0700061461387552e-12,-1.1143162351497174e-12,-1.1568643611503358e-12,-1.1975832468078322e-12,-1.236408507194402e-12,-1.2732787515930213e-12,-1.3081356805687863e-12,-1.340924178152305e-12,-1.3715923989893737e-12,-1.4000918503191366e-12,-1.4263774686511111e-12,-1.450407691019826e-12,-1.4721445207044151e-12,-1.4915535873092413e-12,-1.5086042011105589e-12,-1.523269401583272e-12,-1.535526000031069e-12,-1.545354616252517e-12,-1.5527397091851431e-12,-1.5576696014790483e-12,-1.5601364979611996e-12,-1.5601364979611996e-12,-1.5576696014790483e-12,-1.5527397091851431e-12,-1.545354616252517e-12,-1.535526000031069e-12,-1.523269401583272e-12,-1.5086042011105585e-12,-1.4915535873092413e-12,-1.4721445207044147e-12,-1.450407691019826e-12,-1.4263774686511111e-12,-1.4000918503191366e-12,-1.3715923989893733e-12,-1.340924178152305e-12,-1.3081356805687861e-12,-1.273278751593021e-12,-1.236408507194402e-12,-1.197583246807832e-12,-1.1568643611503356e-12,-1.1143162351497176e-12,-1.0700061461387552e-12,-1.02400415747591e-12,-9.763830077607552e-13,-9.272179958192987e-13,-8.765868616410613e-13,-8.245696634561753e-13,-7.712486511468673e-13,-7.167081361934862e-13,-6.610343583607251e-13,-6.043153493348267e-13,-5.466407935273926e-13,-4.881018862658925e-13,-4.2879118959511037e-13,-3.68802485917524e-13,-3.082306297040483e-13,-2.4717139750962357e-13,-1.8572133653079399e-13,-1.239776119447428e-13,-6.203785327117956e-14,-1.9109939150677389e-28]],\"z\":[[6371.0,6365.96306973514,6350.860243362627,6325.715401555272,6290.56830347638,6245.474523912338,6190.505365397453,6125.747745469996,6051.304059237704,5967.292017470066,5873.844460473405,5771.109148043048,5659.248525824719,5538.43946845458,5408.87299988408,5270.753991331818,5124.300837340043,4969.745110447987,4807.331195028084,4637.315900864047,4459.968057081809,4275.568087075423,4084.407565100034,3886.788755233051,3683.0241334325087,3473.4358934483557,3258.3554373679017,3038.1228516010115,2813.0863691335744,2583.6018188995836,2350.032063142454,2112.746423655223,1872.120097806894,1628.5335652782644,1382.371986445352,1134.0245933616727,883.8840743023528,632.3459528432601,379.8079624569228,126.66941761416145,-126.66941761416209,-379.8079624569234,-632.3459528432608,-883.8840743023534,-1134.0245933616732,-1382.3719864453524,-1628.533565278265,-1872.1200978068944,-2112.746423655225,-2350.0320631424543,-2583.601818899584,-2813.086369133575,-3038.1228516010133,-3258.3554373679026,-3473.4358934483557,-3683.02413343251,-3886.788755233051,-4084.4075651000344,-4275.568087075424,-4459.968057081808,-4637.315900864047,-4807.331195028085,-4969.745110447988,-5124.300837340043,-5270.753991331818,-5408.87299988408,-5538.43946845458,-5659.248525824719,-5771.109148043049,-5873.844460473406,-5967.292017470066,-6051.304059237704,-6125.7477454699965,-6190.505365397453,-6245.474523912338,-6290.568303476381,-6325.715401555272,-6350.860243362627,-6365.96306973514,-6371.0],[6371.0,6365.96306973514,6350.860243362627,6325.715401555272,6290.56830347638,6245.474523912338,6190.505365397453,6125.747745469996,6051.304059237704,5967.292017470066,5873.844460473405,5771.109148043048,5659.248525824719,5538.43946845458,5408.87299988408,5270.753991331818,5124.300837340043,4969.745110447987,4807.331195028084,4637.315900864047,4459.968057081809,4275.568087075423,4084.407565100034,3886.788755233051,3683.0241334325087,3473.4358934483557,3258.3554373679017,3038.1228516010115,2813.0863691335744,2583.6018188995836,2350.032063142454,2112.746423655223,1872.120097806894,1628.5335652782644,1382.371986445352,1134.0245933616727,883.8840743023528,632.3459528432601,379.8079624569228,126.66941761416145,-126.66941761416209,-379.8079624569234,-632.3459528432608,-883.8840743023534,-1134.0245933616732,-1382.3719864453524,-1628.533565278265,-1872.1200978068944,-2112.746423655225,-2350.0320631424543,-2583.601818899584,-2813.086369133575,-3038.1228516010133,-3258.3554373679026,-3473.4358934483557,-3683.02413343251,-3886.788755233051,-4084.4075651000344,-4275.568087075424,-4459.968057081808,-4637.315900864047,-4807.331195028085,-4969.745110447988,-5124.300837340043,-5270.753991331818,-5408.87299988408,-5538.43946845458,-5659.248525824719,-5771.109148043049,-5873.844460473406,-5967.292017470066,-6051.304059237704,-6125.7477454699965,-6190.505365397453,-6245.474523912338,-6290.568303476381,-6325.715401555272,-6350.860243362627,-6365.96306973514,-6371.0],[6371.0,6365.96306973514,6350.860243362627,6325.715401555272,6290.56830347638,6245.474523912338,6190.505365397453,6125.747745469996,6051.304059237704,5967.292017470066,5873.844460473405,5771.109148043048,5659.248525824719,5538.43946845458,5408.87299988408,5270.753991331818,5124.300837340043,4969.745110447987,4807.331195028084,4637.315900864047,4459.968057081809,4275.568087075423,4084.407565100034,3886.788755233051,3683.0241334325087,3473.4358934483557,3258.3554373679017,3038.1228516010115,2813.0863691335744,2583.6018188995836,2350.032063142454,2112.746423655223,1872.120097806894,1628.5335652782644,1382.371986445352,1134.0245933616727,883.8840743023528,632.3459528432601,379.8079624569228,126.66941761416145,-126.66941761416209,-379.8079624569234,-632.3459528432608,-883.8840743023534,-1134.0245933616732,-1382.3719864453524,-1628.533565278265,-1872.1200978068944,-2112.746423655225,-2350.0320631424543,-2583.601818899584,-2813.086369133575,-3038.1228516010133,-3258.3554373679026,-3473.4358934483557,-3683.02413343251,-3886.788755233051,-4084.4075651000344,-4275.568087075424,-4459.968057081808,-4637.315900864047,-4807.331195028085,-4969.745110447988,-5124.300837340043,-5270.753991331818,-5408.87299988408,-5538.43946845458,-5659.248525824719,-5771.109148043049,-5873.844460473406,-5967.292017470066,-6051.304059237704,-6125.7477454699965,-6190.505365397453,-6245.474523912338,-6290.568303476381,-6325.715401555272,-6350.860243362627,-6365.96306973514,-6371.0],[6371.0,6365.96306973514,6350.860243362627,6325.715401555272,6290.56830347638,6245.474523912338,6190.505365397453,6125.747745469996,6051.304059237704,5967.292017470066,5873.844460473405,5771.109148043048,5659.248525824719,5538.43946845458,5408.87299988408,5270.753991331818,5124.300837340043,4969.745110447987,4807.331195028084,4637.315900864047,4459.968057081809,4275.568087075423,4084.407565100034,3886.788755233051,3683.0241334325087,3473.4358934483557,3258.3554373679017,3038.1228516010115,2813.0863691335744,2583.6018188995836,2350.032063142454,2112.746423655223,1872.120097806894,1628.5335652782644,1382.371986445352,1134.0245933616727,883.8840743023528,632.3459528432601,379.8079624569228,126.66941761416145,-126.66941761416209,-379.8079624569234,-632.3459528432608,-883.8840743023534,-1134.0245933616732,-1382.3719864453524,-1628.533565278265,-1872.1200978068944,-2112.746423655225,-2350.0320631424543,-2583.601818899584,-2813.086369133575,-3038.1228516010133,-3258.3554373679026,-3473.4358934483557,-3683.02413343251,-3886.788755233051,-4084.4075651000344,-4275.568087075424,-4459.968057081808,-4637.315900864047,-4807.331195028085,-4969.745110447988,-5124.300837340043,-5270.753991331818,-5408.87299988408,-5538.43946845458,-5659.248525824719,-5771.109148043049,-5873.844460473406,-5967.292017470066,-6051.304059237704,-6125.7477454699965,-6190.505365397453,-6245.474523912338,-6290.568303476381,-6325.715401555272,-6350.860243362627,-6365.96306973514,-6371.0],[6371.0,6365.96306973514,6350.860243362627,6325.715401555272,6290.56830347638,6245.474523912338,6190.505365397453,6125.747745469996,6051.304059237704,5967.292017470066,5873.844460473405,5771.109148043048,5659.248525824719,5538.43946845458,5408.87299988408,5270.753991331818,5124.300837340043,4969.745110447987,4807.331195028084,4637.315900864047,4459.968057081809,4275.568087075423,4084.407565100034,3886.788755233051,3683.0241334325087,3473.4358934483557,3258.3554373679017,3038.1228516010115,2813.0863691335744,2583.6018188995836,2350.032063142454,2112.746423655223,1872.120097806894,1628.5335652782644,1382.371986445352,1134.0245933616727,883.8840743023528,632.3459528432601,379.8079624569228,126.66941761416145,-126.66941761416209,-379.8079624569234,-632.3459528432608,-883.8840743023534,-1134.0245933616732,-1382.3719864453524,-1628.533565278265,-1872.1200978068944,-2112.746423655225,-2350.0320631424543,-2583.601818899584,-2813.086369133575,-3038.1228516010133,-3258.3554373679026,-3473.4358934483557,-3683.02413343251,-3886.788755233051,-4084.4075651000344,-4275.568087075424,-4459.968057081808,-4637.315900864047,-4807.331195028085,-4969.745110447988,-5124.300837340043,-5270.753991331818,-5408.87299988408,-5538.43946845458,-5659.248525824719,-5771.109148043049,-5873.844460473406,-5967.292017470066,-6051.304059237704,-6125.7477454699965,-6190.505365397453,-6245.474523912338,-6290.568303476381,-6325.715401555272,-6350.860243362627,-6365.96306973514,-6371.0],[6371.0,6365.96306973514,6350.860243362627,6325.715401555272,6290.56830347638,6245.474523912338,6190.505365397453,6125.747745469996,6051.304059237704,5967.292017470066,5873.844460473405,5771.109148043048,5659.248525824719,5538.43946845458,5408.87299988408,5270.753991331818,5124.300837340043,4969.745110447987,4807.331195028084,4637.315900864047,4459.968057081809,4275.568087075423,4084.407565100034,3886.788755233051,3683.0241334325087,3473.4358934483557,3258.3554373679017,3038.1228516010115,2813.0863691335744,2583.6018188995836,2350.032063142454,2112.746423655223,1872.120097806894,1628.5335652782644,1382.371986445352,1134.0245933616727,883.8840743023528,632.3459528432601,379.8079624569228,126.66941761416145,-126.66941761416209,-379.8079624569234,-632.3459528432608,-883.8840743023534,-1134.0245933616732,-1382.3719864453524,-1628.533565278265,-1872.1200978068944,-2112.746423655225,-2350.0320631424543,-2583.601818899584,-2813.086369133575,-3038.1228516010133,-3258.3554373679026,-3473.4358934483557,-3683.02413343251,-3886.788755233051,-4084.4075651000344,-4275.568087075424,-4459.968057081808,-4637.315900864047,-4807.331195028085,-4969.745110447988,-5124.300837340043,-5270.753991331818,-5408.87299988408,-5538.43946845458,-5659.248525824719,-5771.109148043049,-5873.844460473406,-5967.292017470066,-6051.304059237704,-6125.7477454699965,-6190.505365397453,-6245.474523912338,-6290.568303476381,-6325.715401555272,-6350.860243362627,-6365.96306973514,-6371.0],[6371.0,6365.96306973514,6350.860243362627,6325.715401555272,6290.56830347638,6245.474523912338,6190.505365397453,6125.747745469996,6051.304059237704,5967.292017470066,5873.844460473405,5771.109148043048,5659.248525824719,5538.43946845458,5408.87299988408,5270.753991331818,5124.300837340043,4969.745110447987,4807.331195028084,4637.315900864047,4459.968057081809,4275.568087075423,4084.407565100034,3886.788755233051,3683.0241334325087,3473.4358934483557,3258.3554373679017,3038.1228516010115,2813.0863691335744,2583.6018188995836,2350.032063142454,2112.746423655223,1872.120097806894,1628.5335652782644,1382.371986445352,1134.0245933616727,883.8840743023528,632.3459528432601,379.8079624569228,126.66941761416145,-126.66941761416209,-379.8079624569234,-632.3459528432608,-883.8840743023534,-1134.0245933616732,-1382.3719864453524,-1628.533565278265,-1872.1200978068944,-2112.746423655225,-2350.0320631424543,-2583.601818899584,-2813.086369133575,-3038.1228516010133,-3258.3554373679026,-3473.4358934483557,-3683.02413343251,-3886.788755233051,-4084.4075651000344,-4275.568087075424,-4459.968057081808,-4637.315900864047,-4807.331195028085,-4969.745110447988,-5124.300837340043,-5270.753991331818,-5408.87299988408,-5538.43946845458,-5659.248525824719,-5771.109148043049,-5873.844460473406,-5967.292017470066,-6051.304059237704,-6125.7477454699965,-6190.505365397453,-6245.474523912338,-6290.568303476381,-6325.715401555272,-6350.860243362627,-6365.96306973514,-6371.0],[6371.0,6365.96306973514,6350.860243362627,6325.715401555272,6290.56830347638,6245.474523912338,6190.505365397453,6125.747745469996,6051.304059237704,5967.292017470066,5873.844460473405,5771.109148043048,5659.248525824719,5538.43946845458,5408.87299988408,5270.753991331818,5124.300837340043,4969.745110447987,4807.331195028084,4637.315900864047,4459.968057081809,4275.568087075423,4084.407565100034,3886.788755233051,3683.0241334325087,3473.4358934483557,3258.3554373679017,3038.1228516010115,2813.0863691335744,2583.6018188995836,2350.032063142454,2112.746423655223,1872.120097806894,1628.5335652782644,1382.371986445352,1134.0245933616727,883.8840743023528,632.3459528432601,379.8079624569228,126.66941761416145,-126.66941761416209,-379.8079624569234,-632.3459528432608,-883.8840743023534,-1134.0245933616732,-1382.3719864453524,-1628.533565278265,-1872.1200978068944,-2112.746423655225,-2350.0320631424543,-2583.601818899584,-2813.086369133575,-3038.1228516010133,-3258.3554373679026,-3473.4358934483557,-3683.02413343251,-3886.788755233051,-4084.4075651000344,-4275.568087075424,-4459.968057081808,-4637.315900864047,-4807.331195028085,-4969.745110447988,-5124.300837340043,-5270.753991331818,-5408.87299988408,-5538.43946845458,-5659.248525824719,-5771.109148043049,-5873.844460473406,-5967.292017470066,-6051.304059237704,-6125.7477454699965,-6190.505365397453,-6245.474523912338,-6290.568303476381,-6325.715401555272,-6350.860243362627,-6365.96306973514,-6371.0],[6371.0,6365.96306973514,6350.860243362627,6325.715401555272,6290.56830347638,6245.474523912338,6190.505365397453,6125.747745469996,6051.304059237704,5967.292017470066,5873.844460473405,5771.109148043048,5659.248525824719,5538.43946845458,5408.87299988408,5270.753991331818,5124.300837340043,4969.745110447987,4807.331195028084,4637.315900864047,4459.968057081809,4275.568087075423,4084.407565100034,3886.788755233051,3683.0241334325087,3473.4358934483557,3258.3554373679017,3038.1228516010115,2813.0863691335744,2583.6018188995836,2350.032063142454,2112.746423655223,1872.120097806894,1628.5335652782644,1382.371986445352,1134.0245933616727,883.8840743023528,632.3459528432601,379.8079624569228,126.66941761416145,-126.66941761416209,-379.8079624569234,-632.3459528432608,-883.8840743023534,-1134.0245933616732,-1382.3719864453524,-1628.533565278265,-1872.1200978068944,-2112.746423655225,-2350.0320631424543,-2583.601818899584,-2813.086369133575,-3038.1228516010133,-3258.3554373679026,-3473.4358934483557,-3683.02413343251,-3886.788755233051,-4084.4075651000344,-4275.568087075424,-4459.968057081808,-4637.315900864047,-4807.331195028085,-4969.745110447988,-5124.300837340043,-5270.753991331818,-5408.87299988408,-5538.43946845458,-5659.248525824719,-5771.109148043049,-5873.844460473406,-5967.292017470066,-6051.304059237704,-6125.7477454699965,-6190.505365397453,-6245.474523912338,-6290.568303476381,-6325.715401555272,-6350.860243362627,-6365.96306973514,-6371.0],[6371.0,6365.96306973514,6350.860243362627,6325.715401555272,6290.56830347638,6245.474523912338,6190.505365397453,6125.747745469996,6051.304059237704,5967.292017470066,5873.844460473405,5771.109148043048,5659.248525824719,5538.43946845458,5408.87299988408,5270.753991331818,5124.300837340043,4969.745110447987,4807.331195028084,4637.315900864047,4459.968057081809,4275.568087075423,4084.407565100034,3886.788755233051,3683.0241334325087,3473.4358934483557,3258.3554373679017,3038.1228516010115,2813.0863691335744,2583.6018188995836,2350.032063142454,2112.746423655223,1872.120097806894,1628.5335652782644,1382.371986445352,1134.0245933616727,883.8840743023528,632.3459528432601,379.8079624569228,126.66941761416145,-126.66941761416209,-379.8079624569234,-632.3459528432608,-883.8840743023534,-1134.0245933616732,-1382.3719864453524,-1628.533565278265,-1872.1200978068944,-2112.746423655225,-2350.0320631424543,-2583.601818899584,-2813.086369133575,-3038.1228516010133,-3258.3554373679026,-3473.4358934483557,-3683.02413343251,-3886.788755233051,-4084.4075651000344,-4275.568087075424,-4459.968057081808,-4637.315900864047,-4807.331195028085,-4969.745110447988,-5124.300837340043,-5270.753991331818,-5408.87299988408,-5538.43946845458,-5659.248525824719,-5771.109148043049,-5873.844460473406,-5967.292017470066,-6051.304059237704,-6125.7477454699965,-6190.505365397453,-6245.474523912338,-6290.568303476381,-6325.715401555272,-6350.860243362627,-6365.96306973514,-6371.0],[6371.0,6365.96306973514,6350.860243362627,6325.715401555272,6290.56830347638,6245.474523912338,6190.505365397453,6125.747745469996,6051.304059237704,5967.292017470066,5873.844460473405,5771.109148043048,5659.248525824719,5538.43946845458,5408.87299988408,5270.753991331818,5124.300837340043,4969.745110447987,4807.331195028084,4637.315900864047,4459.968057081809,4275.568087075423,4084.407565100034,3886.788755233051,3683.0241334325087,3473.4358934483557,3258.3554373679017,3038.1228516010115,2813.0863691335744,2583.6018188995836,2350.032063142454,2112.746423655223,1872.120097806894,1628.5335652782644,1382.371986445352,1134.0245933616727,883.8840743023528,632.3459528432601,379.8079624569228,126.66941761416145,-126.66941761416209,-379.8079624569234,-632.3459528432608,-883.8840743023534,-1134.0245933616732,-1382.3719864453524,-1628.533565278265,-1872.1200978068944,-2112.746423655225,-2350.0320631424543,-2583.601818899584,-2813.086369133575,-3038.1228516010133,-3258.3554373679026,-3473.4358934483557,-3683.02413343251,-3886.788755233051,-4084.4075651000344,-4275.568087075424,-4459.968057081808,-4637.315900864047,-4807.331195028085,-4969.745110447988,-5124.300837340043,-5270.753991331818,-5408.87299988408,-5538.43946845458,-5659.248525824719,-5771.109148043049,-5873.844460473406,-5967.292017470066,-6051.304059237704,-6125.7477454699965,-6190.505365397453,-6245.474523912338,-6290.568303476381,-6325.715401555272,-6350.860243362627,-6365.96306973514,-6371.0],[6371.0,6365.96306973514,6350.860243362627,6325.715401555272,6290.56830347638,6245.474523912338,6190.505365397453,6125.747745469996,6051.304059237704,5967.292017470066,5873.844460473405,5771.109148043048,5659.248525824719,5538.43946845458,5408.87299988408,5270.753991331818,5124.300837340043,4969.745110447987,4807.331195028084,4637.315900864047,4459.968057081809,4275.568087075423,4084.407565100034,3886.788755233051,3683.0241334325087,3473.4358934483557,3258.3554373679017,3038.1228516010115,2813.0863691335744,2583.6018188995836,2350.032063142454,2112.746423655223,1872.120097806894,1628.5335652782644,1382.371986445352,1134.0245933616727,883.8840743023528,632.3459528432601,379.8079624569228,126.66941761416145,-126.66941761416209,-379.8079624569234,-632.3459528432608,-883.8840743023534,-1134.0245933616732,-1382.3719864453524,-1628.533565278265,-1872.1200978068944,-2112.746423655225,-2350.0320631424543,-2583.601818899584,-2813.086369133575,-3038.1228516010133,-3258.3554373679026,-3473.4358934483557,-3683.02413343251,-3886.788755233051,-4084.4075651000344,-4275.568087075424,-4459.968057081808,-4637.315900864047,-4807.331195028085,-4969.745110447988,-5124.300837340043,-5270.753991331818,-5408.87299988408,-5538.43946845458,-5659.248525824719,-5771.109148043049,-5873.844460473406,-5967.292017470066,-6051.304059237704,-6125.7477454699965,-6190.505365397453,-6245.474523912338,-6290.568303476381,-6325.715401555272,-6350.860243362627,-6365.96306973514,-6371.0],[6371.0,6365.96306973514,6350.860243362627,6325.715401555272,6290.56830347638,6245.474523912338,6190.505365397453,6125.747745469996,6051.304059237704,5967.292017470066,5873.844460473405,5771.109148043048,5659.248525824719,5538.43946845458,5408.87299988408,5270.753991331818,5124.300837340043,4969.745110447987,4807.331195028084,4637.315900864047,4459.968057081809,4275.568087075423,4084.407565100034,3886.788755233051,3683.0241334325087,3473.4358934483557,3258.3554373679017,3038.1228516010115,2813.0863691335744,2583.6018188995836,2350.032063142454,2112.746423655223,1872.120097806894,1628.5335652782644,1382.371986445352,1134.0245933616727,883.8840743023528,632.3459528432601,379.8079624569228,126.66941761416145,-126.66941761416209,-379.8079624569234,-632.3459528432608,-883.8840743023534,-1134.0245933616732,-1382.3719864453524,-1628.533565278265,-1872.1200978068944,-2112.746423655225,-2350.0320631424543,-2583.601818899584,-2813.086369133575,-3038.1228516010133,-3258.3554373679026,-3473.4358934483557,-3683.02413343251,-3886.788755233051,-4084.4075651000344,-4275.568087075424,-4459.968057081808,-4637.315900864047,-4807.331195028085,-4969.745110447988,-5124.300837340043,-5270.753991331818,-5408.87299988408,-5538.43946845458,-5659.248525824719,-5771.109148043049,-5873.844460473406,-5967.292017470066,-6051.304059237704,-6125.7477454699965,-6190.505365397453,-6245.474523912338,-6290.568303476381,-6325.715401555272,-6350.860243362627,-6365.96306973514,-6371.0],[6371.0,6365.96306973514,6350.860243362627,6325.715401555272,6290.56830347638,6245.474523912338,6190.505365397453,6125.747745469996,6051.304059237704,5967.292017470066,5873.844460473405,5771.109148043048,5659.248525824719,5538.43946845458,5408.87299988408,5270.753991331818,5124.300837340043,4969.745110447987,4807.331195028084,4637.315900864047,4459.968057081809,4275.568087075423,4084.407565100034,3886.788755233051,3683.0241334325087,3473.4358934483557,3258.3554373679017,3038.1228516010115,2813.0863691335744,2583.6018188995836,2350.032063142454,2112.746423655223,1872.120097806894,1628.5335652782644,1382.371986445352,1134.0245933616727,883.8840743023528,632.3459528432601,379.8079624569228,126.66941761416145,-126.66941761416209,-379.8079624569234,-632.3459528432608,-883.8840743023534,-1134.0245933616732,-1382.3719864453524,-1628.533565278265,-1872.1200978068944,-2112.746423655225,-2350.0320631424543,-2583.601818899584,-2813.086369133575,-3038.1228516010133,-3258.3554373679026,-3473.4358934483557,-3683.02413343251,-3886.788755233051,-4084.4075651000344,-4275.568087075424,-4459.968057081808,-4637.315900864047,-4807.331195028085,-4969.745110447988,-5124.300837340043,-5270.753991331818,-5408.87299988408,-5538.43946845458,-5659.248525824719,-5771.109148043049,-5873.844460473406,-5967.292017470066,-6051.304059237704,-6125.7477454699965,-6190.505365397453,-6245.474523912338,-6290.568303476381,-6325.715401555272,-6350.860243362627,-6365.96306973514,-6371.0],[6371.0,6365.96306973514,6350.860243362627,6325.715401555272,6290.56830347638,6245.474523912338,6190.505365397453,6125.747745469996,6051.304059237704,5967.292017470066,5873.844460473405,5771.109148043048,5659.248525824719,5538.43946845458,5408.87299988408,5270.753991331818,5124.300837340043,4969.745110447987,4807.331195028084,4637.315900864047,4459.968057081809,4275.568087075423,4084.407565100034,3886.788755233051,3683.0241334325087,3473.4358934483557,3258.3554373679017,3038.1228516010115,2813.0863691335744,2583.6018188995836,2350.032063142454,2112.746423655223,1872.120097806894,1628.5335652782644,1382.371986445352,1134.0245933616727,883.8840743023528,632.3459528432601,379.8079624569228,126.66941761416145,-126.66941761416209,-379.8079624569234,-632.3459528432608,-883.8840743023534,-1134.0245933616732,-1382.3719864453524,-1628.533565278265,-1872.1200978068944,-2112.746423655225,-2350.0320631424543,-2583.601818899584,-2813.086369133575,-3038.1228516010133,-3258.3554373679026,-3473.4358934483557,-3683.02413343251,-3886.788755233051,-4084.4075651000344,-4275.568087075424,-4459.968057081808,-4637.315900864047,-4807.331195028085,-4969.745110447988,-5124.300837340043,-5270.753991331818,-5408.87299988408,-5538.43946845458,-5659.248525824719,-5771.109148043049,-5873.844460473406,-5967.292017470066,-6051.304059237704,-6125.7477454699965,-6190.505365397453,-6245.474523912338,-6290.568303476381,-6325.715401555272,-6350.860243362627,-6365.96306973514,-6371.0],[6371.0,6365.96306973514,6350.860243362627,6325.715401555272,6290.56830347638,6245.474523912338,6190.505365397453,6125.747745469996,6051.304059237704,5967.292017470066,5873.844460473405,5771.109148043048,5659.248525824719,5538.43946845458,5408.87299988408,5270.753991331818,5124.300837340043,4969.745110447987,4807.331195028084,4637.315900864047,4459.968057081809,4275.568087075423,4084.407565100034,3886.788755233051,3683.0241334325087,3473.4358934483557,3258.3554373679017,3038.1228516010115,2813.0863691335744,2583.6018188995836,2350.032063142454,2112.746423655223,1872.120097806894,1628.5335652782644,1382.371986445352,1134.0245933616727,883.8840743023528,632.3459528432601,379.8079624569228,126.66941761416145,-126.66941761416209,-379.8079624569234,-632.3459528432608,-883.8840743023534,-1134.0245933616732,-1382.3719864453524,-1628.533565278265,-1872.1200978068944,-2112.746423655225,-2350.0320631424543,-2583.601818899584,-2813.086369133575,-3038.1228516010133,-3258.3554373679026,-3473.4358934483557,-3683.02413343251,-3886.788755233051,-4084.4075651000344,-4275.568087075424,-4459.968057081808,-4637.315900864047,-4807.331195028085,-4969.745110447988,-5124.300837340043,-5270.753991331818,-5408.87299988408,-5538.43946845458,-5659.248525824719,-5771.109148043049,-5873.844460473406,-5967.292017470066,-6051.304059237704,-6125.7477454699965,-6190.505365397453,-6245.474523912338,-6290.568303476381,-6325.715401555272,-6350.860243362627,-6365.96306973514,-6371.0],[6371.0,6365.96306973514,6350.860243362627,6325.715401555272,6290.56830347638,6245.474523912338,6190.505365397453,6125.747745469996,6051.304059237704,5967.292017470066,5873.844460473405,5771.109148043048,5659.248525824719,5538.43946845458,5408.87299988408,5270.753991331818,5124.300837340043,4969.745110447987,4807.331195028084,4637.315900864047,4459.968057081809,4275.568087075423,4084.407565100034,3886.788755233051,3683.0241334325087,3473.4358934483557,3258.3554373679017,3038.1228516010115,2813.0863691335744,2583.6018188995836,2350.032063142454,2112.746423655223,1872.120097806894,1628.5335652782644,1382.371986445352,1134.0245933616727,883.8840743023528,632.3459528432601,379.8079624569228,126.66941761416145,-126.66941761416209,-379.8079624569234,-632.3459528432608,-883.8840743023534,-1134.0245933616732,-1382.3719864453524,-1628.533565278265,-1872.1200978068944,-2112.746423655225,-2350.0320631424543,-2583.601818899584,-2813.086369133575,-3038.1228516010133,-3258.3554373679026,-3473.4358934483557,-3683.02413343251,-3886.788755233051,-4084.4075651000344,-4275.568087075424,-4459.968057081808,-4637.315900864047,-4807.331195028085,-4969.745110447988,-5124.300837340043,-5270.753991331818,-5408.87299988408,-5538.43946845458,-5659.248525824719,-5771.109148043049,-5873.844460473406,-5967.292017470066,-6051.304059237704,-6125.7477454699965,-6190.505365397453,-6245.474523912338,-6290.568303476381,-6325.715401555272,-6350.860243362627,-6365.96306973514,-6371.0],[6371.0,6365.96306973514,6350.860243362627,6325.715401555272,6290.56830347638,6245.474523912338,6190.505365397453,6125.747745469996,6051.304059237704,5967.292017470066,5873.844460473405,5771.109148043048,5659.248525824719,5538.43946845458,5408.87299988408,5270.753991331818,5124.300837340043,4969.745110447987,4807.331195028084,4637.315900864047,4459.968057081809,4275.568087075423,4084.407565100034,3886.788755233051,3683.0241334325087,3473.4358934483557,3258.3554373679017,3038.1228516010115,2813.0863691335744,2583.6018188995836,2350.032063142454,2112.746423655223,1872.120097806894,1628.5335652782644,1382.371986445352,1134.0245933616727,883.8840743023528,632.3459528432601,379.8079624569228,126.66941761416145,-126.66941761416209,-379.8079624569234,-632.3459528432608,-883.8840743023534,-1134.0245933616732,-1382.3719864453524,-1628.533565278265,-1872.1200978068944,-2112.746423655225,-2350.0320631424543,-2583.601818899584,-2813.086369133575,-3038.1228516010133,-3258.3554373679026,-3473.4358934483557,-3683.02413343251,-3886.788755233051,-4084.4075651000344,-4275.568087075424,-4459.968057081808,-4637.315900864047,-4807.331195028085,-4969.745110447988,-5124.300837340043,-5270.753991331818,-5408.87299988408,-5538.43946845458,-5659.248525824719,-5771.109148043049,-5873.844460473406,-5967.292017470066,-6051.304059237704,-6125.7477454699965,-6190.505365397453,-6245.474523912338,-6290.568303476381,-6325.715401555272,-6350.860243362627,-6365.96306973514,-6371.0],[6371.0,6365.96306973514,6350.860243362627,6325.715401555272,6290.56830347638,6245.474523912338,6190.505365397453,6125.747745469996,6051.304059237704,5967.292017470066,5873.844460473405,5771.109148043048,5659.248525824719,5538.43946845458,5408.87299988408,5270.753991331818,5124.300837340043,4969.745110447987,4807.331195028084,4637.315900864047,4459.968057081809,4275.568087075423,4084.407565100034,3886.788755233051,3683.0241334325087,3473.4358934483557,3258.3554373679017,3038.1228516010115,2813.0863691335744,2583.6018188995836,2350.032063142454,2112.746423655223,1872.120097806894,1628.5335652782644,1382.371986445352,1134.0245933616727,883.8840743023528,632.3459528432601,379.8079624569228,126.66941761416145,-126.66941761416209,-379.8079624569234,-632.3459528432608,-883.8840743023534,-1134.0245933616732,-1382.3719864453524,-1628.533565278265,-1872.1200978068944,-2112.746423655225,-2350.0320631424543,-2583.601818899584,-2813.086369133575,-3038.1228516010133,-3258.3554373679026,-3473.4358934483557,-3683.02413343251,-3886.788755233051,-4084.4075651000344,-4275.568087075424,-4459.968057081808,-4637.315900864047,-4807.331195028085,-4969.745110447988,-5124.300837340043,-5270.753991331818,-5408.87299988408,-5538.43946845458,-5659.248525824719,-5771.109148043049,-5873.844460473406,-5967.292017470066,-6051.304059237704,-6125.7477454699965,-6190.505365397453,-6245.474523912338,-6290.568303476381,-6325.715401555272,-6350.860243362627,-6365.96306973514,-6371.0],[6371.0,6365.96306973514,6350.860243362627,6325.715401555272,6290.56830347638,6245.474523912338,6190.505365397453,6125.747745469996,6051.304059237704,5967.292017470066,5873.844460473405,5771.109148043048,5659.248525824719,5538.43946845458,5408.87299988408,5270.753991331818,5124.300837340043,4969.745110447987,4807.331195028084,4637.315900864047,4459.968057081809,4275.568087075423,4084.407565100034,3886.788755233051,3683.0241334325087,3473.4358934483557,3258.3554373679017,3038.1228516010115,2813.0863691335744,2583.6018188995836,2350.032063142454,2112.746423655223,1872.120097806894,1628.5335652782644,1382.371986445352,1134.0245933616727,883.8840743023528,632.3459528432601,379.8079624569228,126.66941761416145,-126.66941761416209,-379.8079624569234,-632.3459528432608,-883.8840743023534,-1134.0245933616732,-1382.3719864453524,-1628.533565278265,-1872.1200978068944,-2112.746423655225,-2350.0320631424543,-2583.601818899584,-2813.086369133575,-3038.1228516010133,-3258.3554373679026,-3473.4358934483557,-3683.02413343251,-3886.788755233051,-4084.4075651000344,-4275.568087075424,-4459.968057081808,-4637.315900864047,-4807.331195028085,-4969.745110447988,-5124.300837340043,-5270.753991331818,-5408.87299988408,-5538.43946845458,-5659.248525824719,-5771.109148043049,-5873.844460473406,-5967.292017470066,-6051.304059237704,-6125.7477454699965,-6190.505365397453,-6245.474523912338,-6290.568303476381,-6325.715401555272,-6350.860243362627,-6365.96306973514,-6371.0],[6371.0,6365.96306973514,6350.860243362627,6325.715401555272,6290.56830347638,6245.474523912338,6190.505365397453,6125.747745469996,6051.304059237704,5967.292017470066,5873.844460473405,5771.109148043048,5659.248525824719,5538.43946845458,5408.87299988408,5270.753991331818,5124.300837340043,4969.745110447987,4807.331195028084,4637.315900864047,4459.968057081809,4275.568087075423,4084.407565100034,3886.788755233051,3683.0241334325087,3473.4358934483557,3258.3554373679017,3038.1228516010115,2813.0863691335744,2583.6018188995836,2350.032063142454,2112.746423655223,1872.120097806894,1628.5335652782644,1382.371986445352,1134.0245933616727,883.8840743023528,632.3459528432601,379.8079624569228,126.66941761416145,-126.66941761416209,-379.8079624569234,-632.3459528432608,-883.8840743023534,-1134.0245933616732,-1382.3719864453524,-1628.533565278265,-1872.1200978068944,-2112.746423655225,-2350.0320631424543,-2583.601818899584,-2813.086369133575,-3038.1228516010133,-3258.3554373679026,-3473.4358934483557,-3683.02413343251,-3886.788755233051,-4084.4075651000344,-4275.568087075424,-4459.968057081808,-4637.315900864047,-4807.331195028085,-4969.745110447988,-5124.300837340043,-5270.753991331818,-5408.87299988408,-5538.43946845458,-5659.248525824719,-5771.109148043049,-5873.844460473406,-5967.292017470066,-6051.304059237704,-6125.7477454699965,-6190.505365397453,-6245.474523912338,-6290.568303476381,-6325.715401555272,-6350.860243362627,-6365.96306973514,-6371.0],[6371.0,6365.96306973514,6350.860243362627,6325.715401555272,6290.56830347638,6245.474523912338,6190.505365397453,6125.747745469996,6051.304059237704,5967.292017470066,5873.844460473405,5771.109148043048,5659.248525824719,5538.43946845458,5408.87299988408,5270.753991331818,5124.300837340043,4969.745110447987,4807.331195028084,4637.315900864047,4459.968057081809,4275.568087075423,4084.407565100034,3886.788755233051,3683.0241334325087,3473.4358934483557,3258.3554373679017,3038.1228516010115,2813.0863691335744,2583.6018188995836,2350.032063142454,2112.746423655223,1872.120097806894,1628.5335652782644,1382.371986445352,1134.0245933616727,883.8840743023528,632.3459528432601,379.8079624569228,126.66941761416145,-126.66941761416209,-379.8079624569234,-632.3459528432608,-883.8840743023534,-1134.0245933616732,-1382.3719864453524,-1628.533565278265,-1872.1200978068944,-2112.746423655225,-2350.0320631424543,-2583.601818899584,-2813.086369133575,-3038.1228516010133,-3258.3554373679026,-3473.4358934483557,-3683.02413343251,-3886.788755233051,-4084.4075651000344,-4275.568087075424,-4459.968057081808,-4637.315900864047,-4807.331195028085,-4969.745110447988,-5124.300837340043,-5270.753991331818,-5408.87299988408,-5538.43946845458,-5659.248525824719,-5771.109148043049,-5873.844460473406,-5967.292017470066,-6051.304059237704,-6125.7477454699965,-6190.505365397453,-6245.474523912338,-6290.568303476381,-6325.715401555272,-6350.860243362627,-6365.96306973514,-6371.0],[6371.0,6365.96306973514,6350.860243362627,6325.715401555272,6290.56830347638,6245.474523912338,6190.505365397453,6125.747745469996,6051.304059237704,5967.292017470066,5873.844460473405,5771.109148043048,5659.248525824719,5538.43946845458,5408.87299988408,5270.753991331818,5124.300837340043,4969.745110447987,4807.331195028084,4637.315900864047,4459.968057081809,4275.568087075423,4084.407565100034,3886.788755233051,3683.0241334325087,3473.4358934483557,3258.3554373679017,3038.1228516010115,2813.0863691335744,2583.6018188995836,2350.032063142454,2112.746423655223,1872.120097806894,1628.5335652782644,1382.371986445352,1134.0245933616727,883.8840743023528,632.3459528432601,379.8079624569228,126.66941761416145,-126.66941761416209,-379.8079624569234,-632.3459528432608,-883.8840743023534,-1134.0245933616732,-1382.3719864453524,-1628.533565278265,-1872.1200978068944,-2112.746423655225,-2350.0320631424543,-2583.601818899584,-2813.086369133575,-3038.1228516010133,-3258.3554373679026,-3473.4358934483557,-3683.02413343251,-3886.788755233051,-4084.4075651000344,-4275.568087075424,-4459.968057081808,-4637.315900864047,-4807.331195028085,-4969.745110447988,-5124.300837340043,-5270.753991331818,-5408.87299988408,-5538.43946845458,-5659.248525824719,-5771.109148043049,-5873.844460473406,-5967.292017470066,-6051.304059237704,-6125.7477454699965,-6190.505365397453,-6245.474523912338,-6290.568303476381,-6325.715401555272,-6350.860243362627,-6365.96306973514,-6371.0],[6371.0,6365.96306973514,6350.860243362627,6325.715401555272,6290.56830347638,6245.474523912338,6190.505365397453,6125.747745469996,6051.304059237704,5967.292017470066,5873.844460473405,5771.109148043048,5659.248525824719,5538.43946845458,5408.87299988408,5270.753991331818,5124.300837340043,4969.745110447987,4807.331195028084,4637.315900864047,4459.968057081809,4275.568087075423,4084.407565100034,3886.788755233051,3683.0241334325087,3473.4358934483557,3258.3554373679017,3038.1228516010115,2813.0863691335744,2583.6018188995836,2350.032063142454,2112.746423655223,1872.120097806894,1628.5335652782644,1382.371986445352,1134.0245933616727,883.8840743023528,632.3459528432601,379.8079624569228,126.66941761416145,-126.66941761416209,-379.8079624569234,-632.3459528432608,-883.8840743023534,-1134.0245933616732,-1382.3719864453524,-1628.533565278265,-1872.1200978068944,-2112.746423655225,-2350.0320631424543,-2583.601818899584,-2813.086369133575,-3038.1228516010133,-3258.3554373679026,-3473.4358934483557,-3683.02413343251,-3886.788755233051,-4084.4075651000344,-4275.568087075424,-4459.968057081808,-4637.315900864047,-4807.331195028085,-4969.745110447988,-5124.300837340043,-5270.753991331818,-5408.87299988408,-5538.43946845458,-5659.248525824719,-5771.109148043049,-5873.844460473406,-5967.292017470066,-6051.304059237704,-6125.7477454699965,-6190.505365397453,-6245.474523912338,-6290.568303476381,-6325.715401555272,-6350.860243362627,-6365.96306973514,-6371.0],[6371.0,6365.96306973514,6350.860243362627,6325.715401555272,6290.56830347638,6245.474523912338,6190.505365397453,6125.747745469996,6051.304059237704,5967.292017470066,5873.844460473405,5771.109148043048,5659.248525824719,5538.43946845458,5408.87299988408,5270.753991331818,5124.300837340043,4969.745110447987,4807.331195028084,4637.315900864047,4459.968057081809,4275.568087075423,4084.407565100034,3886.788755233051,3683.0241334325087,3473.4358934483557,3258.3554373679017,3038.1228516010115,2813.0863691335744,2583.6018188995836,2350.032063142454,2112.746423655223,1872.120097806894,1628.5335652782644,1382.371986445352,1134.0245933616727,883.8840743023528,632.3459528432601,379.8079624569228,126.66941761416145,-126.66941761416209,-379.8079624569234,-632.3459528432608,-883.8840743023534,-1134.0245933616732,-1382.3719864453524,-1628.533565278265,-1872.1200978068944,-2112.746423655225,-2350.0320631424543,-2583.601818899584,-2813.086369133575,-3038.1228516010133,-3258.3554373679026,-3473.4358934483557,-3683.02413343251,-3886.788755233051,-4084.4075651000344,-4275.568087075424,-4459.968057081808,-4637.315900864047,-4807.331195028085,-4969.745110447988,-5124.300837340043,-5270.753991331818,-5408.87299988408,-5538.43946845458,-5659.248525824719,-5771.109148043049,-5873.844460473406,-5967.292017470066,-6051.304059237704,-6125.7477454699965,-6190.505365397453,-6245.474523912338,-6290.568303476381,-6325.715401555272,-6350.860243362627,-6365.96306973514,-6371.0],[6371.0,6365.96306973514,6350.860243362627,6325.715401555272,6290.56830347638,6245.474523912338,6190.505365397453,6125.747745469996,6051.304059237704,5967.292017470066,5873.844460473405,5771.109148043048,5659.248525824719,5538.43946845458,5408.87299988408,5270.753991331818,5124.300837340043,4969.745110447987,4807.331195028084,4637.315900864047,4459.968057081809,4275.568087075423,4084.407565100034,3886.788755233051,3683.0241334325087,3473.4358934483557,3258.3554373679017,3038.1228516010115,2813.0863691335744,2583.6018188995836,2350.032063142454,2112.746423655223,1872.120097806894,1628.5335652782644,1382.371986445352,1134.0245933616727,883.8840743023528,632.3459528432601,379.8079624569228,126.66941761416145,-126.66941761416209,-379.8079624569234,-632.3459528432608,-883.8840743023534,-1134.0245933616732,-1382.3719864453524,-1628.533565278265,-1872.1200978068944,-2112.746423655225,-2350.0320631424543,-2583.601818899584,-2813.086369133575,-3038.1228516010133,-3258.3554373679026,-3473.4358934483557,-3683.02413343251,-3886.788755233051,-4084.4075651000344,-4275.568087075424,-4459.968057081808,-4637.315900864047,-4807.331195028085,-4969.745110447988,-5124.300837340043,-5270.753991331818,-5408.87299988408,-5538.43946845458,-5659.248525824719,-5771.109148043049,-5873.844460473406,-5967.292017470066,-6051.304059237704,-6125.7477454699965,-6190.505365397453,-6245.474523912338,-6290.568303476381,-6325.715401555272,-6350.860243362627,-6365.96306973514,-6371.0],[6371.0,6365.96306973514,6350.860243362627,6325.715401555272,6290.56830347638,6245.474523912338,6190.505365397453,6125.747745469996,6051.304059237704,5967.292017470066,5873.844460473405,5771.109148043048,5659.248525824719,5538.43946845458,5408.87299988408,5270.753991331818,5124.300837340043,4969.745110447987,4807.331195028084,4637.315900864047,4459.968057081809,4275.568087075423,4084.407565100034,3886.788755233051,3683.0241334325087,3473.4358934483557,3258.3554373679017,3038.1228516010115,2813.0863691335744,2583.6018188995836,2350.032063142454,2112.746423655223,1872.120097806894,1628.5335652782644,1382.371986445352,1134.0245933616727,883.8840743023528,632.3459528432601,379.8079624569228,126.66941761416145,-126.66941761416209,-379.8079624569234,-632.3459528432608,-883.8840743023534,-1134.0245933616732,-1382.3719864453524,-1628.533565278265,-1872.1200978068944,-2112.746423655225,-2350.0320631424543,-2583.601818899584,-2813.086369133575,-3038.1228516010133,-3258.3554373679026,-3473.4358934483557,-3683.02413343251,-3886.788755233051,-4084.4075651000344,-4275.568087075424,-4459.968057081808,-4637.315900864047,-4807.331195028085,-4969.745110447988,-5124.300837340043,-5270.753991331818,-5408.87299988408,-5538.43946845458,-5659.248525824719,-5771.109148043049,-5873.844460473406,-5967.292017470066,-6051.304059237704,-6125.7477454699965,-6190.505365397453,-6245.474523912338,-6290.568303476381,-6325.715401555272,-6350.860243362627,-6365.96306973514,-6371.0],[6371.0,6365.96306973514,6350.860243362627,6325.715401555272,6290.56830347638,6245.474523912338,6190.505365397453,6125.747745469996,6051.304059237704,5967.292017470066,5873.844460473405,5771.109148043048,5659.248525824719,5538.43946845458,5408.87299988408,5270.753991331818,5124.300837340043,4969.745110447987,4807.331195028084,4637.315900864047,4459.968057081809,4275.568087075423,4084.407565100034,3886.788755233051,3683.0241334325087,3473.4358934483557,3258.3554373679017,3038.1228516010115,2813.0863691335744,2583.6018188995836,2350.032063142454,2112.746423655223,1872.120097806894,1628.5335652782644,1382.371986445352,1134.0245933616727,883.8840743023528,632.3459528432601,379.8079624569228,126.66941761416145,-126.66941761416209,-379.8079624569234,-632.3459528432608,-883.8840743023534,-1134.0245933616732,-1382.3719864453524,-1628.533565278265,-1872.1200978068944,-2112.746423655225,-2350.0320631424543,-2583.601818899584,-2813.086369133575,-3038.1228516010133,-3258.3554373679026,-3473.4358934483557,-3683.02413343251,-3886.788755233051,-4084.4075651000344,-4275.568087075424,-4459.968057081808,-4637.315900864047,-4807.331195028085,-4969.745110447988,-5124.300837340043,-5270.753991331818,-5408.87299988408,-5538.43946845458,-5659.248525824719,-5771.109148043049,-5873.844460473406,-5967.292017470066,-6051.304059237704,-6125.7477454699965,-6190.505365397453,-6245.474523912338,-6290.568303476381,-6325.715401555272,-6350.860243362627,-6365.96306973514,-6371.0],[6371.0,6365.96306973514,6350.860243362627,6325.715401555272,6290.56830347638,6245.474523912338,6190.505365397453,6125.747745469996,6051.304059237704,5967.292017470066,5873.844460473405,5771.109148043048,5659.248525824719,5538.43946845458,5408.87299988408,5270.753991331818,5124.300837340043,4969.745110447987,4807.331195028084,4637.315900864047,4459.968057081809,4275.568087075423,4084.407565100034,3886.788755233051,3683.0241334325087,3473.4358934483557,3258.3554373679017,3038.1228516010115,2813.0863691335744,2583.6018188995836,2350.032063142454,2112.746423655223,1872.120097806894,1628.5335652782644,1382.371986445352,1134.0245933616727,883.8840743023528,632.3459528432601,379.8079624569228,126.66941761416145,-126.66941761416209,-379.8079624569234,-632.3459528432608,-883.8840743023534,-1134.0245933616732,-1382.3719864453524,-1628.533565278265,-1872.1200978068944,-2112.746423655225,-2350.0320631424543,-2583.601818899584,-2813.086369133575,-3038.1228516010133,-3258.3554373679026,-3473.4358934483557,-3683.02413343251,-3886.788755233051,-4084.4075651000344,-4275.568087075424,-4459.968057081808,-4637.315900864047,-4807.331195028085,-4969.745110447988,-5124.300837340043,-5270.753991331818,-5408.87299988408,-5538.43946845458,-5659.248525824719,-5771.109148043049,-5873.844460473406,-5967.292017470066,-6051.304059237704,-6125.7477454699965,-6190.505365397453,-6245.474523912338,-6290.568303476381,-6325.715401555272,-6350.860243362627,-6365.96306973514,-6371.0],[6371.0,6365.96306973514,6350.860243362627,6325.715401555272,6290.56830347638,6245.474523912338,6190.505365397453,6125.747745469996,6051.304059237704,5967.292017470066,5873.844460473405,5771.109148043048,5659.248525824719,5538.43946845458,5408.87299988408,5270.753991331818,5124.300837340043,4969.745110447987,4807.331195028084,4637.315900864047,4459.968057081809,4275.568087075423,4084.407565100034,3886.788755233051,3683.0241334325087,3473.4358934483557,3258.3554373679017,3038.1228516010115,2813.0863691335744,2583.6018188995836,2350.032063142454,2112.746423655223,1872.120097806894,1628.5335652782644,1382.371986445352,1134.0245933616727,883.8840743023528,632.3459528432601,379.8079624569228,126.66941761416145,-126.66941761416209,-379.8079624569234,-632.3459528432608,-883.8840743023534,-1134.0245933616732,-1382.3719864453524,-1628.533565278265,-1872.1200978068944,-2112.746423655225,-2350.0320631424543,-2583.601818899584,-2813.086369133575,-3038.1228516010133,-3258.3554373679026,-3473.4358934483557,-3683.02413343251,-3886.788755233051,-4084.4075651000344,-4275.568087075424,-4459.968057081808,-4637.315900864047,-4807.331195028085,-4969.745110447988,-5124.300837340043,-5270.753991331818,-5408.87299988408,-5538.43946845458,-5659.248525824719,-5771.109148043049,-5873.844460473406,-5967.292017470066,-6051.304059237704,-6125.7477454699965,-6190.505365397453,-6245.474523912338,-6290.568303476381,-6325.715401555272,-6350.860243362627,-6365.96306973514,-6371.0],[6371.0,6365.96306973514,6350.860243362627,6325.715401555272,6290.56830347638,6245.474523912338,6190.505365397453,6125.747745469996,6051.304059237704,5967.292017470066,5873.844460473405,5771.109148043048,5659.248525824719,5538.43946845458,5408.87299988408,5270.753991331818,5124.300837340043,4969.745110447987,4807.331195028084,4637.315900864047,4459.968057081809,4275.568087075423,4084.407565100034,3886.788755233051,3683.0241334325087,3473.4358934483557,3258.3554373679017,3038.1228516010115,2813.0863691335744,2583.6018188995836,2350.032063142454,2112.746423655223,1872.120097806894,1628.5335652782644,1382.371986445352,1134.0245933616727,883.8840743023528,632.3459528432601,379.8079624569228,126.66941761416145,-126.66941761416209,-379.8079624569234,-632.3459528432608,-883.8840743023534,-1134.0245933616732,-1382.3719864453524,-1628.533565278265,-1872.1200978068944,-2112.746423655225,-2350.0320631424543,-2583.601818899584,-2813.086369133575,-3038.1228516010133,-3258.3554373679026,-3473.4358934483557,-3683.02413343251,-3886.788755233051,-4084.4075651000344,-4275.568087075424,-4459.968057081808,-4637.315900864047,-4807.331195028085,-4969.745110447988,-5124.300837340043,-5270.753991331818,-5408.87299988408,-5538.43946845458,-5659.248525824719,-5771.109148043049,-5873.844460473406,-5967.292017470066,-6051.304059237704,-6125.7477454699965,-6190.505365397453,-6245.474523912338,-6290.568303476381,-6325.715401555272,-6350.860243362627,-6365.96306973514,-6371.0],[6371.0,6365.96306973514,6350.860243362627,6325.715401555272,6290.56830347638,6245.474523912338,6190.505365397453,6125.747745469996,6051.304059237704,5967.292017470066,5873.844460473405,5771.109148043048,5659.248525824719,5538.43946845458,5408.87299988408,5270.753991331818,5124.300837340043,4969.745110447987,4807.331195028084,4637.315900864047,4459.968057081809,4275.568087075423,4084.407565100034,3886.788755233051,3683.0241334325087,3473.4358934483557,3258.3554373679017,3038.1228516010115,2813.0863691335744,2583.6018188995836,2350.032063142454,2112.746423655223,1872.120097806894,1628.5335652782644,1382.371986445352,1134.0245933616727,883.8840743023528,632.3459528432601,379.8079624569228,126.66941761416145,-126.66941761416209,-379.8079624569234,-632.3459528432608,-883.8840743023534,-1134.0245933616732,-1382.3719864453524,-1628.533565278265,-1872.1200978068944,-2112.746423655225,-2350.0320631424543,-2583.601818899584,-2813.086369133575,-3038.1228516010133,-3258.3554373679026,-3473.4358934483557,-3683.02413343251,-3886.788755233051,-4084.4075651000344,-4275.568087075424,-4459.968057081808,-4637.315900864047,-4807.331195028085,-4969.745110447988,-5124.300837340043,-5270.753991331818,-5408.87299988408,-5538.43946845458,-5659.248525824719,-5771.109148043049,-5873.844460473406,-5967.292017470066,-6051.304059237704,-6125.7477454699965,-6190.505365397453,-6245.474523912338,-6290.568303476381,-6325.715401555272,-6350.860243362627,-6365.96306973514,-6371.0],[6371.0,6365.96306973514,6350.860243362627,6325.715401555272,6290.56830347638,6245.474523912338,6190.505365397453,6125.747745469996,6051.304059237704,5967.292017470066,5873.844460473405,5771.109148043048,5659.248525824719,5538.43946845458,5408.87299988408,5270.753991331818,5124.300837340043,4969.745110447987,4807.331195028084,4637.315900864047,4459.968057081809,4275.568087075423,4084.407565100034,3886.788755233051,3683.0241334325087,3473.4358934483557,3258.3554373679017,3038.1228516010115,2813.0863691335744,2583.6018188995836,2350.032063142454,2112.746423655223,1872.120097806894,1628.5335652782644,1382.371986445352,1134.0245933616727,883.8840743023528,632.3459528432601,379.8079624569228,126.66941761416145,-126.66941761416209,-379.8079624569234,-632.3459528432608,-883.8840743023534,-1134.0245933616732,-1382.3719864453524,-1628.533565278265,-1872.1200978068944,-2112.746423655225,-2350.0320631424543,-2583.601818899584,-2813.086369133575,-3038.1228516010133,-3258.3554373679026,-3473.4358934483557,-3683.02413343251,-3886.788755233051,-4084.4075651000344,-4275.568087075424,-4459.968057081808,-4637.315900864047,-4807.331195028085,-4969.745110447988,-5124.300837340043,-5270.753991331818,-5408.87299988408,-5538.43946845458,-5659.248525824719,-5771.109148043049,-5873.844460473406,-5967.292017470066,-6051.304059237704,-6125.7477454699965,-6190.505365397453,-6245.474523912338,-6290.568303476381,-6325.715401555272,-6350.860243362627,-6365.96306973514,-6371.0],[6371.0,6365.96306973514,6350.860243362627,6325.715401555272,6290.56830347638,6245.474523912338,6190.505365397453,6125.747745469996,6051.304059237704,5967.292017470066,5873.844460473405,5771.109148043048,5659.248525824719,5538.43946845458,5408.87299988408,5270.753991331818,5124.300837340043,4969.745110447987,4807.331195028084,4637.315900864047,4459.968057081809,4275.568087075423,4084.407565100034,3886.788755233051,3683.0241334325087,3473.4358934483557,3258.3554373679017,3038.1228516010115,2813.0863691335744,2583.6018188995836,2350.032063142454,2112.746423655223,1872.120097806894,1628.5335652782644,1382.371986445352,1134.0245933616727,883.8840743023528,632.3459528432601,379.8079624569228,126.66941761416145,-126.66941761416209,-379.8079624569234,-632.3459528432608,-883.8840743023534,-1134.0245933616732,-1382.3719864453524,-1628.533565278265,-1872.1200978068944,-2112.746423655225,-2350.0320631424543,-2583.601818899584,-2813.086369133575,-3038.1228516010133,-3258.3554373679026,-3473.4358934483557,-3683.02413343251,-3886.788755233051,-4084.4075651000344,-4275.568087075424,-4459.968057081808,-4637.315900864047,-4807.331195028085,-4969.745110447988,-5124.300837340043,-5270.753991331818,-5408.87299988408,-5538.43946845458,-5659.248525824719,-5771.109148043049,-5873.844460473406,-5967.292017470066,-6051.304059237704,-6125.7477454699965,-6190.505365397453,-6245.474523912338,-6290.568303476381,-6325.715401555272,-6350.860243362627,-6365.96306973514,-6371.0],[6371.0,6365.96306973514,6350.860243362627,6325.715401555272,6290.56830347638,6245.474523912338,6190.505365397453,6125.747745469996,6051.304059237704,5967.292017470066,5873.844460473405,5771.109148043048,5659.248525824719,5538.43946845458,5408.87299988408,5270.753991331818,5124.300837340043,4969.745110447987,4807.331195028084,4637.315900864047,4459.968057081809,4275.568087075423,4084.407565100034,3886.788755233051,3683.0241334325087,3473.4358934483557,3258.3554373679017,3038.1228516010115,2813.0863691335744,2583.6018188995836,2350.032063142454,2112.746423655223,1872.120097806894,1628.5335652782644,1382.371986445352,1134.0245933616727,883.8840743023528,632.3459528432601,379.8079624569228,126.66941761416145,-126.66941761416209,-379.8079624569234,-632.3459528432608,-883.8840743023534,-1134.0245933616732,-1382.3719864453524,-1628.533565278265,-1872.1200978068944,-2112.746423655225,-2350.0320631424543,-2583.601818899584,-2813.086369133575,-3038.1228516010133,-3258.3554373679026,-3473.4358934483557,-3683.02413343251,-3886.788755233051,-4084.4075651000344,-4275.568087075424,-4459.968057081808,-4637.315900864047,-4807.331195028085,-4969.745110447988,-5124.300837340043,-5270.753991331818,-5408.87299988408,-5538.43946845458,-5659.248525824719,-5771.109148043049,-5873.844460473406,-5967.292017470066,-6051.304059237704,-6125.7477454699965,-6190.505365397453,-6245.474523912338,-6290.568303476381,-6325.715401555272,-6350.860243362627,-6365.96306973514,-6371.0],[6371.0,6365.96306973514,6350.860243362627,6325.715401555272,6290.56830347638,6245.474523912338,6190.505365397453,6125.747745469996,6051.304059237704,5967.292017470066,5873.844460473405,5771.109148043048,5659.248525824719,5538.43946845458,5408.87299988408,5270.753991331818,5124.300837340043,4969.745110447987,4807.331195028084,4637.315900864047,4459.968057081809,4275.568087075423,4084.407565100034,3886.788755233051,3683.0241334325087,3473.4358934483557,3258.3554373679017,3038.1228516010115,2813.0863691335744,2583.6018188995836,2350.032063142454,2112.746423655223,1872.120097806894,1628.5335652782644,1382.371986445352,1134.0245933616727,883.8840743023528,632.3459528432601,379.8079624569228,126.66941761416145,-126.66941761416209,-379.8079624569234,-632.3459528432608,-883.8840743023534,-1134.0245933616732,-1382.3719864453524,-1628.533565278265,-1872.1200978068944,-2112.746423655225,-2350.0320631424543,-2583.601818899584,-2813.086369133575,-3038.1228516010133,-3258.3554373679026,-3473.4358934483557,-3683.02413343251,-3886.788755233051,-4084.4075651000344,-4275.568087075424,-4459.968057081808,-4637.315900864047,-4807.331195028085,-4969.745110447988,-5124.300837340043,-5270.753991331818,-5408.87299988408,-5538.43946845458,-5659.248525824719,-5771.109148043049,-5873.844460473406,-5967.292017470066,-6051.304059237704,-6125.7477454699965,-6190.505365397453,-6245.474523912338,-6290.568303476381,-6325.715401555272,-6350.860243362627,-6365.96306973514,-6371.0],[6371.0,6365.96306973514,6350.860243362627,6325.715401555272,6290.56830347638,6245.474523912338,6190.505365397453,6125.747745469996,6051.304059237704,5967.292017470066,5873.844460473405,5771.109148043048,5659.248525824719,5538.43946845458,5408.87299988408,5270.753991331818,5124.300837340043,4969.745110447987,4807.331195028084,4637.315900864047,4459.968057081809,4275.568087075423,4084.407565100034,3886.788755233051,3683.0241334325087,3473.4358934483557,3258.3554373679017,3038.1228516010115,2813.0863691335744,2583.6018188995836,2350.032063142454,2112.746423655223,1872.120097806894,1628.5335652782644,1382.371986445352,1134.0245933616727,883.8840743023528,632.3459528432601,379.8079624569228,126.66941761416145,-126.66941761416209,-379.8079624569234,-632.3459528432608,-883.8840743023534,-1134.0245933616732,-1382.3719864453524,-1628.533565278265,-1872.1200978068944,-2112.746423655225,-2350.0320631424543,-2583.601818899584,-2813.086369133575,-3038.1228516010133,-3258.3554373679026,-3473.4358934483557,-3683.02413343251,-3886.788755233051,-4084.4075651000344,-4275.568087075424,-4459.968057081808,-4637.315900864047,-4807.331195028085,-4969.745110447988,-5124.300837340043,-5270.753991331818,-5408.87299988408,-5538.43946845458,-5659.248525824719,-5771.109148043049,-5873.844460473406,-5967.292017470066,-6051.304059237704,-6125.7477454699965,-6190.505365397453,-6245.474523912338,-6290.568303476381,-6325.715401555272,-6350.860243362627,-6365.96306973514,-6371.0],[6371.0,6365.96306973514,6350.860243362627,6325.715401555272,6290.56830347638,6245.474523912338,6190.505365397453,6125.747745469996,6051.304059237704,5967.292017470066,5873.844460473405,5771.109148043048,5659.248525824719,5538.43946845458,5408.87299988408,5270.753991331818,5124.300837340043,4969.745110447987,4807.331195028084,4637.315900864047,4459.968057081809,4275.568087075423,4084.407565100034,3886.788755233051,3683.0241334325087,3473.4358934483557,3258.3554373679017,3038.1228516010115,2813.0863691335744,2583.6018188995836,2350.032063142454,2112.746423655223,1872.120097806894,1628.5335652782644,1382.371986445352,1134.0245933616727,883.8840743023528,632.3459528432601,379.8079624569228,126.66941761416145,-126.66941761416209,-379.8079624569234,-632.3459528432608,-883.8840743023534,-1134.0245933616732,-1382.3719864453524,-1628.533565278265,-1872.1200978068944,-2112.746423655225,-2350.0320631424543,-2583.601818899584,-2813.086369133575,-3038.1228516010133,-3258.3554373679026,-3473.4358934483557,-3683.02413343251,-3886.788755233051,-4084.4075651000344,-4275.568087075424,-4459.968057081808,-4637.315900864047,-4807.331195028085,-4969.745110447988,-5124.300837340043,-5270.753991331818,-5408.87299988408,-5538.43946845458,-5659.248525824719,-5771.109148043049,-5873.844460473406,-5967.292017470066,-6051.304059237704,-6125.7477454699965,-6190.505365397453,-6245.474523912338,-6290.568303476381,-6325.715401555272,-6350.860243362627,-6365.96306973514,-6371.0],[6371.0,6365.96306973514,6350.860243362627,6325.715401555272,6290.56830347638,6245.474523912338,6190.505365397453,6125.747745469996,6051.304059237704,5967.292017470066,5873.844460473405,5771.109148043048,5659.248525824719,5538.43946845458,5408.87299988408,5270.753991331818,5124.300837340043,4969.745110447987,4807.331195028084,4637.315900864047,4459.968057081809,4275.568087075423,4084.407565100034,3886.788755233051,3683.0241334325087,3473.4358934483557,3258.3554373679017,3038.1228516010115,2813.0863691335744,2583.6018188995836,2350.032063142454,2112.746423655223,1872.120097806894,1628.5335652782644,1382.371986445352,1134.0245933616727,883.8840743023528,632.3459528432601,379.8079624569228,126.66941761416145,-126.66941761416209,-379.8079624569234,-632.3459528432608,-883.8840743023534,-1134.0245933616732,-1382.3719864453524,-1628.533565278265,-1872.1200978068944,-2112.746423655225,-2350.0320631424543,-2583.601818899584,-2813.086369133575,-3038.1228516010133,-3258.3554373679026,-3473.4358934483557,-3683.02413343251,-3886.788755233051,-4084.4075651000344,-4275.568087075424,-4459.968057081808,-4637.315900864047,-4807.331195028085,-4969.745110447988,-5124.300837340043,-5270.753991331818,-5408.87299988408,-5538.43946845458,-5659.248525824719,-5771.109148043049,-5873.844460473406,-5967.292017470066,-6051.304059237704,-6125.7477454699965,-6190.505365397453,-6245.474523912338,-6290.568303476381,-6325.715401555272,-6350.860243362627,-6365.96306973514,-6371.0],[6371.0,6365.96306973514,6350.860243362627,6325.715401555272,6290.56830347638,6245.474523912338,6190.505365397453,6125.747745469996,6051.304059237704,5967.292017470066,5873.844460473405,5771.109148043048,5659.248525824719,5538.43946845458,5408.87299988408,5270.753991331818,5124.300837340043,4969.745110447987,4807.331195028084,4637.315900864047,4459.968057081809,4275.568087075423,4084.407565100034,3886.788755233051,3683.0241334325087,3473.4358934483557,3258.3554373679017,3038.1228516010115,2813.0863691335744,2583.6018188995836,2350.032063142454,2112.746423655223,1872.120097806894,1628.5335652782644,1382.371986445352,1134.0245933616727,883.8840743023528,632.3459528432601,379.8079624569228,126.66941761416145,-126.66941761416209,-379.8079624569234,-632.3459528432608,-883.8840743023534,-1134.0245933616732,-1382.3719864453524,-1628.533565278265,-1872.1200978068944,-2112.746423655225,-2350.0320631424543,-2583.601818899584,-2813.086369133575,-3038.1228516010133,-3258.3554373679026,-3473.4358934483557,-3683.02413343251,-3886.788755233051,-4084.4075651000344,-4275.568087075424,-4459.968057081808,-4637.315900864047,-4807.331195028085,-4969.745110447988,-5124.300837340043,-5270.753991331818,-5408.87299988408,-5538.43946845458,-5659.248525824719,-5771.109148043049,-5873.844460473406,-5967.292017470066,-6051.304059237704,-6125.7477454699965,-6190.505365397453,-6245.474523912338,-6290.568303476381,-6325.715401555272,-6350.860243362627,-6365.96306973514,-6371.0],[6371.0,6365.96306973514,6350.860243362627,6325.715401555272,6290.56830347638,6245.474523912338,6190.505365397453,6125.747745469996,6051.304059237704,5967.292017470066,5873.844460473405,5771.109148043048,5659.248525824719,5538.43946845458,5408.87299988408,5270.753991331818,5124.300837340043,4969.745110447987,4807.331195028084,4637.315900864047,4459.968057081809,4275.568087075423,4084.407565100034,3886.788755233051,3683.0241334325087,3473.4358934483557,3258.3554373679017,3038.1228516010115,2813.0863691335744,2583.6018188995836,2350.032063142454,2112.746423655223,1872.120097806894,1628.5335652782644,1382.371986445352,1134.0245933616727,883.8840743023528,632.3459528432601,379.8079624569228,126.66941761416145,-126.66941761416209,-379.8079624569234,-632.3459528432608,-883.8840743023534,-1134.0245933616732,-1382.3719864453524,-1628.533565278265,-1872.1200978068944,-2112.746423655225,-2350.0320631424543,-2583.601818899584,-2813.086369133575,-3038.1228516010133,-3258.3554373679026,-3473.4358934483557,-3683.02413343251,-3886.788755233051,-4084.4075651000344,-4275.568087075424,-4459.968057081808,-4637.315900864047,-4807.331195028085,-4969.745110447988,-5124.300837340043,-5270.753991331818,-5408.87299988408,-5538.43946845458,-5659.248525824719,-5771.109148043049,-5873.844460473406,-5967.292017470066,-6051.304059237704,-6125.7477454699965,-6190.505365397453,-6245.474523912338,-6290.568303476381,-6325.715401555272,-6350.860243362627,-6365.96306973514,-6371.0],[6371.0,6365.96306973514,6350.860243362627,6325.715401555272,6290.56830347638,6245.474523912338,6190.505365397453,6125.747745469996,6051.304059237704,5967.292017470066,5873.844460473405,5771.109148043048,5659.248525824719,5538.43946845458,5408.87299988408,5270.753991331818,5124.300837340043,4969.745110447987,4807.331195028084,4637.315900864047,4459.968057081809,4275.568087075423,4084.407565100034,3886.788755233051,3683.0241334325087,3473.4358934483557,3258.3554373679017,3038.1228516010115,2813.0863691335744,2583.6018188995836,2350.032063142454,2112.746423655223,1872.120097806894,1628.5335652782644,1382.371986445352,1134.0245933616727,883.8840743023528,632.3459528432601,379.8079624569228,126.66941761416145,-126.66941761416209,-379.8079624569234,-632.3459528432608,-883.8840743023534,-1134.0245933616732,-1382.3719864453524,-1628.533565278265,-1872.1200978068944,-2112.746423655225,-2350.0320631424543,-2583.601818899584,-2813.086369133575,-3038.1228516010133,-3258.3554373679026,-3473.4358934483557,-3683.02413343251,-3886.788755233051,-4084.4075651000344,-4275.568087075424,-4459.968057081808,-4637.315900864047,-4807.331195028085,-4969.745110447988,-5124.300837340043,-5270.753991331818,-5408.87299988408,-5538.43946845458,-5659.248525824719,-5771.109148043049,-5873.844460473406,-5967.292017470066,-6051.304059237704,-6125.7477454699965,-6190.505365397453,-6245.474523912338,-6290.568303476381,-6325.715401555272,-6350.860243362627,-6365.96306973514,-6371.0],[6371.0,6365.96306973514,6350.860243362627,6325.715401555272,6290.56830347638,6245.474523912338,6190.505365397453,6125.747745469996,6051.304059237704,5967.292017470066,5873.844460473405,5771.109148043048,5659.248525824719,5538.43946845458,5408.87299988408,5270.753991331818,5124.300837340043,4969.745110447987,4807.331195028084,4637.315900864047,4459.968057081809,4275.568087075423,4084.407565100034,3886.788755233051,3683.0241334325087,3473.4358934483557,3258.3554373679017,3038.1228516010115,2813.0863691335744,2583.6018188995836,2350.032063142454,2112.746423655223,1872.120097806894,1628.5335652782644,1382.371986445352,1134.0245933616727,883.8840743023528,632.3459528432601,379.8079624569228,126.66941761416145,-126.66941761416209,-379.8079624569234,-632.3459528432608,-883.8840743023534,-1134.0245933616732,-1382.3719864453524,-1628.533565278265,-1872.1200978068944,-2112.746423655225,-2350.0320631424543,-2583.601818899584,-2813.086369133575,-3038.1228516010133,-3258.3554373679026,-3473.4358934483557,-3683.02413343251,-3886.788755233051,-4084.4075651000344,-4275.568087075424,-4459.968057081808,-4637.315900864047,-4807.331195028085,-4969.745110447988,-5124.300837340043,-5270.753991331818,-5408.87299988408,-5538.43946845458,-5659.248525824719,-5771.109148043049,-5873.844460473406,-5967.292017470066,-6051.304059237704,-6125.7477454699965,-6190.505365397453,-6245.474523912338,-6290.568303476381,-6325.715401555272,-6350.860243362627,-6365.96306973514,-6371.0],[6371.0,6365.96306973514,6350.860243362627,6325.715401555272,6290.56830347638,6245.474523912338,6190.505365397453,6125.747745469996,6051.304059237704,5967.292017470066,5873.844460473405,5771.109148043048,5659.248525824719,5538.43946845458,5408.87299988408,5270.753991331818,5124.300837340043,4969.745110447987,4807.331195028084,4637.315900864047,4459.968057081809,4275.568087075423,4084.407565100034,3886.788755233051,3683.0241334325087,3473.4358934483557,3258.3554373679017,3038.1228516010115,2813.0863691335744,2583.6018188995836,2350.032063142454,2112.746423655223,1872.120097806894,1628.5335652782644,1382.371986445352,1134.0245933616727,883.8840743023528,632.3459528432601,379.8079624569228,126.66941761416145,-126.66941761416209,-379.8079624569234,-632.3459528432608,-883.8840743023534,-1134.0245933616732,-1382.3719864453524,-1628.533565278265,-1872.1200978068944,-2112.746423655225,-2350.0320631424543,-2583.601818899584,-2813.086369133575,-3038.1228516010133,-3258.3554373679026,-3473.4358934483557,-3683.02413343251,-3886.788755233051,-4084.4075651000344,-4275.568087075424,-4459.968057081808,-4637.315900864047,-4807.331195028085,-4969.745110447988,-5124.300837340043,-5270.753991331818,-5408.87299988408,-5538.43946845458,-5659.248525824719,-5771.109148043049,-5873.844460473406,-5967.292017470066,-6051.304059237704,-6125.7477454699965,-6190.505365397453,-6245.474523912338,-6290.568303476381,-6325.715401555272,-6350.860243362627,-6365.96306973514,-6371.0],[6371.0,6365.96306973514,6350.860243362627,6325.715401555272,6290.56830347638,6245.474523912338,6190.505365397453,6125.747745469996,6051.304059237704,5967.292017470066,5873.844460473405,5771.109148043048,5659.248525824719,5538.43946845458,5408.87299988408,5270.753991331818,5124.300837340043,4969.745110447987,4807.331195028084,4637.315900864047,4459.968057081809,4275.568087075423,4084.407565100034,3886.788755233051,3683.0241334325087,3473.4358934483557,3258.3554373679017,3038.1228516010115,2813.0863691335744,2583.6018188995836,2350.032063142454,2112.746423655223,1872.120097806894,1628.5335652782644,1382.371986445352,1134.0245933616727,883.8840743023528,632.3459528432601,379.8079624569228,126.66941761416145,-126.66941761416209,-379.8079624569234,-632.3459528432608,-883.8840743023534,-1134.0245933616732,-1382.3719864453524,-1628.533565278265,-1872.1200978068944,-2112.746423655225,-2350.0320631424543,-2583.601818899584,-2813.086369133575,-3038.1228516010133,-3258.3554373679026,-3473.4358934483557,-3683.02413343251,-3886.788755233051,-4084.4075651000344,-4275.568087075424,-4459.968057081808,-4637.315900864047,-4807.331195028085,-4969.745110447988,-5124.300837340043,-5270.753991331818,-5408.87299988408,-5538.43946845458,-5659.248525824719,-5771.109148043049,-5873.844460473406,-5967.292017470066,-6051.304059237704,-6125.7477454699965,-6190.505365397453,-6245.474523912338,-6290.568303476381,-6325.715401555272,-6350.860243362627,-6365.96306973514,-6371.0],[6371.0,6365.96306973514,6350.860243362627,6325.715401555272,6290.56830347638,6245.474523912338,6190.505365397453,6125.747745469996,6051.304059237704,5967.292017470066,5873.844460473405,5771.109148043048,5659.248525824719,5538.43946845458,5408.87299988408,5270.753991331818,5124.300837340043,4969.745110447987,4807.331195028084,4637.315900864047,4459.968057081809,4275.568087075423,4084.407565100034,3886.788755233051,3683.0241334325087,3473.4358934483557,3258.3554373679017,3038.1228516010115,2813.0863691335744,2583.6018188995836,2350.032063142454,2112.746423655223,1872.120097806894,1628.5335652782644,1382.371986445352,1134.0245933616727,883.8840743023528,632.3459528432601,379.8079624569228,126.66941761416145,-126.66941761416209,-379.8079624569234,-632.3459528432608,-883.8840743023534,-1134.0245933616732,-1382.3719864453524,-1628.533565278265,-1872.1200978068944,-2112.746423655225,-2350.0320631424543,-2583.601818899584,-2813.086369133575,-3038.1228516010133,-3258.3554373679026,-3473.4358934483557,-3683.02413343251,-3886.788755233051,-4084.4075651000344,-4275.568087075424,-4459.968057081808,-4637.315900864047,-4807.331195028085,-4969.745110447988,-5124.300837340043,-5270.753991331818,-5408.87299988408,-5538.43946845458,-5659.248525824719,-5771.109148043049,-5873.844460473406,-5967.292017470066,-6051.304059237704,-6125.7477454699965,-6190.505365397453,-6245.474523912338,-6290.568303476381,-6325.715401555272,-6350.860243362627,-6365.96306973514,-6371.0],[6371.0,6365.96306973514,6350.860243362627,6325.715401555272,6290.56830347638,6245.474523912338,6190.505365397453,6125.747745469996,6051.304059237704,5967.292017470066,5873.844460473405,5771.109148043048,5659.248525824719,5538.43946845458,5408.87299988408,5270.753991331818,5124.300837340043,4969.745110447987,4807.331195028084,4637.315900864047,4459.968057081809,4275.568087075423,4084.407565100034,3886.788755233051,3683.0241334325087,3473.4358934483557,3258.3554373679017,3038.1228516010115,2813.0863691335744,2583.6018188995836,2350.032063142454,2112.746423655223,1872.120097806894,1628.5335652782644,1382.371986445352,1134.0245933616727,883.8840743023528,632.3459528432601,379.8079624569228,126.66941761416145,-126.66941761416209,-379.8079624569234,-632.3459528432608,-883.8840743023534,-1134.0245933616732,-1382.3719864453524,-1628.533565278265,-1872.1200978068944,-2112.746423655225,-2350.0320631424543,-2583.601818899584,-2813.086369133575,-3038.1228516010133,-3258.3554373679026,-3473.4358934483557,-3683.02413343251,-3886.788755233051,-4084.4075651000344,-4275.568087075424,-4459.968057081808,-4637.315900864047,-4807.331195028085,-4969.745110447988,-5124.300837340043,-5270.753991331818,-5408.87299988408,-5538.43946845458,-5659.248525824719,-5771.109148043049,-5873.844460473406,-5967.292017470066,-6051.304059237704,-6125.7477454699965,-6190.505365397453,-6245.474523912338,-6290.568303476381,-6325.715401555272,-6350.860243362627,-6365.96306973514,-6371.0],[6371.0,6365.96306973514,6350.860243362627,6325.715401555272,6290.56830347638,6245.474523912338,6190.505365397453,6125.747745469996,6051.304059237704,5967.292017470066,5873.844460473405,5771.109148043048,5659.248525824719,5538.43946845458,5408.87299988408,5270.753991331818,5124.300837340043,4969.745110447987,4807.331195028084,4637.315900864047,4459.968057081809,4275.568087075423,4084.407565100034,3886.788755233051,3683.0241334325087,3473.4358934483557,3258.3554373679017,3038.1228516010115,2813.0863691335744,2583.6018188995836,2350.032063142454,2112.746423655223,1872.120097806894,1628.5335652782644,1382.371986445352,1134.0245933616727,883.8840743023528,632.3459528432601,379.8079624569228,126.66941761416145,-126.66941761416209,-379.8079624569234,-632.3459528432608,-883.8840743023534,-1134.0245933616732,-1382.3719864453524,-1628.533565278265,-1872.1200978068944,-2112.746423655225,-2350.0320631424543,-2583.601818899584,-2813.086369133575,-3038.1228516010133,-3258.3554373679026,-3473.4358934483557,-3683.02413343251,-3886.788755233051,-4084.4075651000344,-4275.568087075424,-4459.968057081808,-4637.315900864047,-4807.331195028085,-4969.745110447988,-5124.300837340043,-5270.753991331818,-5408.87299988408,-5538.43946845458,-5659.248525824719,-5771.109148043049,-5873.844460473406,-5967.292017470066,-6051.304059237704,-6125.7477454699965,-6190.505365397453,-6245.474523912338,-6290.568303476381,-6325.715401555272,-6350.860243362627,-6365.96306973514,-6371.0],[6371.0,6365.96306973514,6350.860243362627,6325.715401555272,6290.56830347638,6245.474523912338,6190.505365397453,6125.747745469996,6051.304059237704,5967.292017470066,5873.844460473405,5771.109148043048,5659.248525824719,5538.43946845458,5408.87299988408,5270.753991331818,5124.300837340043,4969.745110447987,4807.331195028084,4637.315900864047,4459.968057081809,4275.568087075423,4084.407565100034,3886.788755233051,3683.0241334325087,3473.4358934483557,3258.3554373679017,3038.1228516010115,2813.0863691335744,2583.6018188995836,2350.032063142454,2112.746423655223,1872.120097806894,1628.5335652782644,1382.371986445352,1134.0245933616727,883.8840743023528,632.3459528432601,379.8079624569228,126.66941761416145,-126.66941761416209,-379.8079624569234,-632.3459528432608,-883.8840743023534,-1134.0245933616732,-1382.3719864453524,-1628.533565278265,-1872.1200978068944,-2112.746423655225,-2350.0320631424543,-2583.601818899584,-2813.086369133575,-3038.1228516010133,-3258.3554373679026,-3473.4358934483557,-3683.02413343251,-3886.788755233051,-4084.4075651000344,-4275.568087075424,-4459.968057081808,-4637.315900864047,-4807.331195028085,-4969.745110447988,-5124.300837340043,-5270.753991331818,-5408.87299988408,-5538.43946845458,-5659.248525824719,-5771.109148043049,-5873.844460473406,-5967.292017470066,-6051.304059237704,-6125.7477454699965,-6190.505365397453,-6245.474523912338,-6290.568303476381,-6325.715401555272,-6350.860243362627,-6365.96306973514,-6371.0],[6371.0,6365.96306973514,6350.860243362627,6325.715401555272,6290.56830347638,6245.474523912338,6190.505365397453,6125.747745469996,6051.304059237704,5967.292017470066,5873.844460473405,5771.109148043048,5659.248525824719,5538.43946845458,5408.87299988408,5270.753991331818,5124.300837340043,4969.745110447987,4807.331195028084,4637.315900864047,4459.968057081809,4275.568087075423,4084.407565100034,3886.788755233051,3683.0241334325087,3473.4358934483557,3258.3554373679017,3038.1228516010115,2813.0863691335744,2583.6018188995836,2350.032063142454,2112.746423655223,1872.120097806894,1628.5335652782644,1382.371986445352,1134.0245933616727,883.8840743023528,632.3459528432601,379.8079624569228,126.66941761416145,-126.66941761416209,-379.8079624569234,-632.3459528432608,-883.8840743023534,-1134.0245933616732,-1382.3719864453524,-1628.533565278265,-1872.1200978068944,-2112.746423655225,-2350.0320631424543,-2583.601818899584,-2813.086369133575,-3038.1228516010133,-3258.3554373679026,-3473.4358934483557,-3683.02413343251,-3886.788755233051,-4084.4075651000344,-4275.568087075424,-4459.968057081808,-4637.315900864047,-4807.331195028085,-4969.745110447988,-5124.300837340043,-5270.753991331818,-5408.87299988408,-5538.43946845458,-5659.248525824719,-5771.109148043049,-5873.844460473406,-5967.292017470066,-6051.304059237704,-6125.7477454699965,-6190.505365397453,-6245.474523912338,-6290.568303476381,-6325.715401555272,-6350.860243362627,-6365.96306973514,-6371.0],[6371.0,6365.96306973514,6350.860243362627,6325.715401555272,6290.56830347638,6245.474523912338,6190.505365397453,6125.747745469996,6051.304059237704,5967.292017470066,5873.844460473405,5771.109148043048,5659.248525824719,5538.43946845458,5408.87299988408,5270.753991331818,5124.300837340043,4969.745110447987,4807.331195028084,4637.315900864047,4459.968057081809,4275.568087075423,4084.407565100034,3886.788755233051,3683.0241334325087,3473.4358934483557,3258.3554373679017,3038.1228516010115,2813.0863691335744,2583.6018188995836,2350.032063142454,2112.746423655223,1872.120097806894,1628.5335652782644,1382.371986445352,1134.0245933616727,883.8840743023528,632.3459528432601,379.8079624569228,126.66941761416145,-126.66941761416209,-379.8079624569234,-632.3459528432608,-883.8840743023534,-1134.0245933616732,-1382.3719864453524,-1628.533565278265,-1872.1200978068944,-2112.746423655225,-2350.0320631424543,-2583.601818899584,-2813.086369133575,-3038.1228516010133,-3258.3554373679026,-3473.4358934483557,-3683.02413343251,-3886.788755233051,-4084.4075651000344,-4275.568087075424,-4459.968057081808,-4637.315900864047,-4807.331195028085,-4969.745110447988,-5124.300837340043,-5270.753991331818,-5408.87299988408,-5538.43946845458,-5659.248525824719,-5771.109148043049,-5873.844460473406,-5967.292017470066,-6051.304059237704,-6125.7477454699965,-6190.505365397453,-6245.474523912338,-6290.568303476381,-6325.715401555272,-6350.860243362627,-6365.96306973514,-6371.0],[6371.0,6365.96306973514,6350.860243362627,6325.715401555272,6290.56830347638,6245.474523912338,6190.505365397453,6125.747745469996,6051.304059237704,5967.292017470066,5873.844460473405,5771.109148043048,5659.248525824719,5538.43946845458,5408.87299988408,5270.753991331818,5124.300837340043,4969.745110447987,4807.331195028084,4637.315900864047,4459.968057081809,4275.568087075423,4084.407565100034,3886.788755233051,3683.0241334325087,3473.4358934483557,3258.3554373679017,3038.1228516010115,2813.0863691335744,2583.6018188995836,2350.032063142454,2112.746423655223,1872.120097806894,1628.5335652782644,1382.371986445352,1134.0245933616727,883.8840743023528,632.3459528432601,379.8079624569228,126.66941761416145,-126.66941761416209,-379.8079624569234,-632.3459528432608,-883.8840743023534,-1134.0245933616732,-1382.3719864453524,-1628.533565278265,-1872.1200978068944,-2112.746423655225,-2350.0320631424543,-2583.601818899584,-2813.086369133575,-3038.1228516010133,-3258.3554373679026,-3473.4358934483557,-3683.02413343251,-3886.788755233051,-4084.4075651000344,-4275.568087075424,-4459.968057081808,-4637.315900864047,-4807.331195028085,-4969.745110447988,-5124.300837340043,-5270.753991331818,-5408.87299988408,-5538.43946845458,-5659.248525824719,-5771.109148043049,-5873.844460473406,-5967.292017470066,-6051.304059237704,-6125.7477454699965,-6190.505365397453,-6245.474523912338,-6290.568303476381,-6325.715401555272,-6350.860243362627,-6365.96306973514,-6371.0],[6371.0,6365.96306973514,6350.860243362627,6325.715401555272,6290.56830347638,6245.474523912338,6190.505365397453,6125.747745469996,6051.304059237704,5967.292017470066,5873.844460473405,5771.109148043048,5659.248525824719,5538.43946845458,5408.87299988408,5270.753991331818,5124.300837340043,4969.745110447987,4807.331195028084,4637.315900864047,4459.968057081809,4275.568087075423,4084.407565100034,3886.788755233051,3683.0241334325087,3473.4358934483557,3258.3554373679017,3038.1228516010115,2813.0863691335744,2583.6018188995836,2350.032063142454,2112.746423655223,1872.120097806894,1628.5335652782644,1382.371986445352,1134.0245933616727,883.8840743023528,632.3459528432601,379.8079624569228,126.66941761416145,-126.66941761416209,-379.8079624569234,-632.3459528432608,-883.8840743023534,-1134.0245933616732,-1382.3719864453524,-1628.533565278265,-1872.1200978068944,-2112.746423655225,-2350.0320631424543,-2583.601818899584,-2813.086369133575,-3038.1228516010133,-3258.3554373679026,-3473.4358934483557,-3683.02413343251,-3886.788755233051,-4084.4075651000344,-4275.568087075424,-4459.968057081808,-4637.315900864047,-4807.331195028085,-4969.745110447988,-5124.300837340043,-5270.753991331818,-5408.87299988408,-5538.43946845458,-5659.248525824719,-5771.109148043049,-5873.844460473406,-5967.292017470066,-6051.304059237704,-6125.7477454699965,-6190.505365397453,-6245.474523912338,-6290.568303476381,-6325.715401555272,-6350.860243362627,-6365.96306973514,-6371.0],[6371.0,6365.96306973514,6350.860243362627,6325.715401555272,6290.56830347638,6245.474523912338,6190.505365397453,6125.747745469996,6051.304059237704,5967.292017470066,5873.844460473405,5771.109148043048,5659.248525824719,5538.43946845458,5408.87299988408,5270.753991331818,5124.300837340043,4969.745110447987,4807.331195028084,4637.315900864047,4459.968057081809,4275.568087075423,4084.407565100034,3886.788755233051,3683.0241334325087,3473.4358934483557,3258.3554373679017,3038.1228516010115,2813.0863691335744,2583.6018188995836,2350.032063142454,2112.746423655223,1872.120097806894,1628.5335652782644,1382.371986445352,1134.0245933616727,883.8840743023528,632.3459528432601,379.8079624569228,126.66941761416145,-126.66941761416209,-379.8079624569234,-632.3459528432608,-883.8840743023534,-1134.0245933616732,-1382.3719864453524,-1628.533565278265,-1872.1200978068944,-2112.746423655225,-2350.0320631424543,-2583.601818899584,-2813.086369133575,-3038.1228516010133,-3258.3554373679026,-3473.4358934483557,-3683.02413343251,-3886.788755233051,-4084.4075651000344,-4275.568087075424,-4459.968057081808,-4637.315900864047,-4807.331195028085,-4969.745110447988,-5124.300837340043,-5270.753991331818,-5408.87299988408,-5538.43946845458,-5659.248525824719,-5771.109148043049,-5873.844460473406,-5967.292017470066,-6051.304059237704,-6125.7477454699965,-6190.505365397453,-6245.474523912338,-6290.568303476381,-6325.715401555272,-6350.860243362627,-6365.96306973514,-6371.0],[6371.0,6365.96306973514,6350.860243362627,6325.715401555272,6290.56830347638,6245.474523912338,6190.505365397453,6125.747745469996,6051.304059237704,5967.292017470066,5873.844460473405,5771.109148043048,5659.248525824719,5538.43946845458,5408.87299988408,5270.753991331818,5124.300837340043,4969.745110447987,4807.331195028084,4637.315900864047,4459.968057081809,4275.568087075423,4084.407565100034,3886.788755233051,3683.0241334325087,3473.4358934483557,3258.3554373679017,3038.1228516010115,2813.0863691335744,2583.6018188995836,2350.032063142454,2112.746423655223,1872.120097806894,1628.5335652782644,1382.371986445352,1134.0245933616727,883.8840743023528,632.3459528432601,379.8079624569228,126.66941761416145,-126.66941761416209,-379.8079624569234,-632.3459528432608,-883.8840743023534,-1134.0245933616732,-1382.3719864453524,-1628.533565278265,-1872.1200978068944,-2112.746423655225,-2350.0320631424543,-2583.601818899584,-2813.086369133575,-3038.1228516010133,-3258.3554373679026,-3473.4358934483557,-3683.02413343251,-3886.788755233051,-4084.4075651000344,-4275.568087075424,-4459.968057081808,-4637.315900864047,-4807.331195028085,-4969.745110447988,-5124.300837340043,-5270.753991331818,-5408.87299988408,-5538.43946845458,-5659.248525824719,-5771.109148043049,-5873.844460473406,-5967.292017470066,-6051.304059237704,-6125.7477454699965,-6190.505365397453,-6245.474523912338,-6290.568303476381,-6325.715401555272,-6350.860243362627,-6365.96306973514,-6371.0],[6371.0,6365.96306973514,6350.860243362627,6325.715401555272,6290.56830347638,6245.474523912338,6190.505365397453,6125.747745469996,6051.304059237704,5967.292017470066,5873.844460473405,5771.109148043048,5659.248525824719,5538.43946845458,5408.87299988408,5270.753991331818,5124.300837340043,4969.745110447987,4807.331195028084,4637.315900864047,4459.968057081809,4275.568087075423,4084.407565100034,3886.788755233051,3683.0241334325087,3473.4358934483557,3258.3554373679017,3038.1228516010115,2813.0863691335744,2583.6018188995836,2350.032063142454,2112.746423655223,1872.120097806894,1628.5335652782644,1382.371986445352,1134.0245933616727,883.8840743023528,632.3459528432601,379.8079624569228,126.66941761416145,-126.66941761416209,-379.8079624569234,-632.3459528432608,-883.8840743023534,-1134.0245933616732,-1382.3719864453524,-1628.533565278265,-1872.1200978068944,-2112.746423655225,-2350.0320631424543,-2583.601818899584,-2813.086369133575,-3038.1228516010133,-3258.3554373679026,-3473.4358934483557,-3683.02413343251,-3886.788755233051,-4084.4075651000344,-4275.568087075424,-4459.968057081808,-4637.315900864047,-4807.331195028085,-4969.745110447988,-5124.300837340043,-5270.753991331818,-5408.87299988408,-5538.43946845458,-5659.248525824719,-5771.109148043049,-5873.844460473406,-5967.292017470066,-6051.304059237704,-6125.7477454699965,-6190.505365397453,-6245.474523912338,-6290.568303476381,-6325.715401555272,-6350.860243362627,-6365.96306973514,-6371.0],[6371.0,6365.96306973514,6350.860243362627,6325.715401555272,6290.56830347638,6245.474523912338,6190.505365397453,6125.747745469996,6051.304059237704,5967.292017470066,5873.844460473405,5771.109148043048,5659.248525824719,5538.43946845458,5408.87299988408,5270.753991331818,5124.300837340043,4969.745110447987,4807.331195028084,4637.315900864047,4459.968057081809,4275.568087075423,4084.407565100034,3886.788755233051,3683.0241334325087,3473.4358934483557,3258.3554373679017,3038.1228516010115,2813.0863691335744,2583.6018188995836,2350.032063142454,2112.746423655223,1872.120097806894,1628.5335652782644,1382.371986445352,1134.0245933616727,883.8840743023528,632.3459528432601,379.8079624569228,126.66941761416145,-126.66941761416209,-379.8079624569234,-632.3459528432608,-883.8840743023534,-1134.0245933616732,-1382.3719864453524,-1628.533565278265,-1872.1200978068944,-2112.746423655225,-2350.0320631424543,-2583.601818899584,-2813.086369133575,-3038.1228516010133,-3258.3554373679026,-3473.4358934483557,-3683.02413343251,-3886.788755233051,-4084.4075651000344,-4275.568087075424,-4459.968057081808,-4637.315900864047,-4807.331195028085,-4969.745110447988,-5124.300837340043,-5270.753991331818,-5408.87299988408,-5538.43946845458,-5659.248525824719,-5771.109148043049,-5873.844460473406,-5967.292017470066,-6051.304059237704,-6125.7477454699965,-6190.505365397453,-6245.474523912338,-6290.568303476381,-6325.715401555272,-6350.860243362627,-6365.96306973514,-6371.0],[6371.0,6365.96306973514,6350.860243362627,6325.715401555272,6290.56830347638,6245.474523912338,6190.505365397453,6125.747745469996,6051.304059237704,5967.292017470066,5873.844460473405,5771.109148043048,5659.248525824719,5538.43946845458,5408.87299988408,5270.753991331818,5124.300837340043,4969.745110447987,4807.331195028084,4637.315900864047,4459.968057081809,4275.568087075423,4084.407565100034,3886.788755233051,3683.0241334325087,3473.4358934483557,3258.3554373679017,3038.1228516010115,2813.0863691335744,2583.6018188995836,2350.032063142454,2112.746423655223,1872.120097806894,1628.5335652782644,1382.371986445352,1134.0245933616727,883.8840743023528,632.3459528432601,379.8079624569228,126.66941761416145,-126.66941761416209,-379.8079624569234,-632.3459528432608,-883.8840743023534,-1134.0245933616732,-1382.3719864453524,-1628.533565278265,-1872.1200978068944,-2112.746423655225,-2350.0320631424543,-2583.601818899584,-2813.086369133575,-3038.1228516010133,-3258.3554373679026,-3473.4358934483557,-3683.02413343251,-3886.788755233051,-4084.4075651000344,-4275.568087075424,-4459.968057081808,-4637.315900864047,-4807.331195028085,-4969.745110447988,-5124.300837340043,-5270.753991331818,-5408.87299988408,-5538.43946845458,-5659.248525824719,-5771.109148043049,-5873.844460473406,-5967.292017470066,-6051.304059237704,-6125.7477454699965,-6190.505365397453,-6245.474523912338,-6290.568303476381,-6325.715401555272,-6350.860243362627,-6365.96306973514,-6371.0],[6371.0,6365.96306973514,6350.860243362627,6325.715401555272,6290.56830347638,6245.474523912338,6190.505365397453,6125.747745469996,6051.304059237704,5967.292017470066,5873.844460473405,5771.109148043048,5659.248525824719,5538.43946845458,5408.87299988408,5270.753991331818,5124.300837340043,4969.745110447987,4807.331195028084,4637.315900864047,4459.968057081809,4275.568087075423,4084.407565100034,3886.788755233051,3683.0241334325087,3473.4358934483557,3258.3554373679017,3038.1228516010115,2813.0863691335744,2583.6018188995836,2350.032063142454,2112.746423655223,1872.120097806894,1628.5335652782644,1382.371986445352,1134.0245933616727,883.8840743023528,632.3459528432601,379.8079624569228,126.66941761416145,-126.66941761416209,-379.8079624569234,-632.3459528432608,-883.8840743023534,-1134.0245933616732,-1382.3719864453524,-1628.533565278265,-1872.1200978068944,-2112.746423655225,-2350.0320631424543,-2583.601818899584,-2813.086369133575,-3038.1228516010133,-3258.3554373679026,-3473.4358934483557,-3683.02413343251,-3886.788755233051,-4084.4075651000344,-4275.568087075424,-4459.968057081808,-4637.315900864047,-4807.331195028085,-4969.745110447988,-5124.300837340043,-5270.753991331818,-5408.87299988408,-5538.43946845458,-5659.248525824719,-5771.109148043049,-5873.844460473406,-5967.292017470066,-6051.304059237704,-6125.7477454699965,-6190.505365397453,-6245.474523912338,-6290.568303476381,-6325.715401555272,-6350.860243362627,-6365.96306973514,-6371.0],[6371.0,6365.96306973514,6350.860243362627,6325.715401555272,6290.56830347638,6245.474523912338,6190.505365397453,6125.747745469996,6051.304059237704,5967.292017470066,5873.844460473405,5771.109148043048,5659.248525824719,5538.43946845458,5408.87299988408,5270.753991331818,5124.300837340043,4969.745110447987,4807.331195028084,4637.315900864047,4459.968057081809,4275.568087075423,4084.407565100034,3886.788755233051,3683.0241334325087,3473.4358934483557,3258.3554373679017,3038.1228516010115,2813.0863691335744,2583.6018188995836,2350.032063142454,2112.746423655223,1872.120097806894,1628.5335652782644,1382.371986445352,1134.0245933616727,883.8840743023528,632.3459528432601,379.8079624569228,126.66941761416145,-126.66941761416209,-379.8079624569234,-632.3459528432608,-883.8840743023534,-1134.0245933616732,-1382.3719864453524,-1628.533565278265,-1872.1200978068944,-2112.746423655225,-2350.0320631424543,-2583.601818899584,-2813.086369133575,-3038.1228516010133,-3258.3554373679026,-3473.4358934483557,-3683.02413343251,-3886.788755233051,-4084.4075651000344,-4275.568087075424,-4459.968057081808,-4637.315900864047,-4807.331195028085,-4969.745110447988,-5124.300837340043,-5270.753991331818,-5408.87299988408,-5538.43946845458,-5659.248525824719,-5771.109148043049,-5873.844460473406,-5967.292017470066,-6051.304059237704,-6125.7477454699965,-6190.505365397453,-6245.474523912338,-6290.568303476381,-6325.715401555272,-6350.860243362627,-6365.96306973514,-6371.0],[6371.0,6365.96306973514,6350.860243362627,6325.715401555272,6290.56830347638,6245.474523912338,6190.505365397453,6125.747745469996,6051.304059237704,5967.292017470066,5873.844460473405,5771.109148043048,5659.248525824719,5538.43946845458,5408.87299988408,5270.753991331818,5124.300837340043,4969.745110447987,4807.331195028084,4637.315900864047,4459.968057081809,4275.568087075423,4084.407565100034,3886.788755233051,3683.0241334325087,3473.4358934483557,3258.3554373679017,3038.1228516010115,2813.0863691335744,2583.6018188995836,2350.032063142454,2112.746423655223,1872.120097806894,1628.5335652782644,1382.371986445352,1134.0245933616727,883.8840743023528,632.3459528432601,379.8079624569228,126.66941761416145,-126.66941761416209,-379.8079624569234,-632.3459528432608,-883.8840743023534,-1134.0245933616732,-1382.3719864453524,-1628.533565278265,-1872.1200978068944,-2112.746423655225,-2350.0320631424543,-2583.601818899584,-2813.086369133575,-3038.1228516010133,-3258.3554373679026,-3473.4358934483557,-3683.02413343251,-3886.788755233051,-4084.4075651000344,-4275.568087075424,-4459.968057081808,-4637.315900864047,-4807.331195028085,-4969.745110447988,-5124.300837340043,-5270.753991331818,-5408.87299988408,-5538.43946845458,-5659.248525824719,-5771.109148043049,-5873.844460473406,-5967.292017470066,-6051.304059237704,-6125.7477454699965,-6190.505365397453,-6245.474523912338,-6290.568303476381,-6325.715401555272,-6350.860243362627,-6365.96306973514,-6371.0],[6371.0,6365.96306973514,6350.860243362627,6325.715401555272,6290.56830347638,6245.474523912338,6190.505365397453,6125.747745469996,6051.304059237704,5967.292017470066,5873.844460473405,5771.109148043048,5659.248525824719,5538.43946845458,5408.87299988408,5270.753991331818,5124.300837340043,4969.745110447987,4807.331195028084,4637.315900864047,4459.968057081809,4275.568087075423,4084.407565100034,3886.788755233051,3683.0241334325087,3473.4358934483557,3258.3554373679017,3038.1228516010115,2813.0863691335744,2583.6018188995836,2350.032063142454,2112.746423655223,1872.120097806894,1628.5335652782644,1382.371986445352,1134.0245933616727,883.8840743023528,632.3459528432601,379.8079624569228,126.66941761416145,-126.66941761416209,-379.8079624569234,-632.3459528432608,-883.8840743023534,-1134.0245933616732,-1382.3719864453524,-1628.533565278265,-1872.1200978068944,-2112.746423655225,-2350.0320631424543,-2583.601818899584,-2813.086369133575,-3038.1228516010133,-3258.3554373679026,-3473.4358934483557,-3683.02413343251,-3886.788755233051,-4084.4075651000344,-4275.568087075424,-4459.968057081808,-4637.315900864047,-4807.331195028085,-4969.745110447988,-5124.300837340043,-5270.753991331818,-5408.87299988408,-5538.43946845458,-5659.248525824719,-5771.109148043049,-5873.844460473406,-5967.292017470066,-6051.304059237704,-6125.7477454699965,-6190.505365397453,-6245.474523912338,-6290.568303476381,-6325.715401555272,-6350.860243362627,-6365.96306973514,-6371.0],[6371.0,6365.96306973514,6350.860243362627,6325.715401555272,6290.56830347638,6245.474523912338,6190.505365397453,6125.747745469996,6051.304059237704,5967.292017470066,5873.844460473405,5771.109148043048,5659.248525824719,5538.43946845458,5408.87299988408,5270.753991331818,5124.300837340043,4969.745110447987,4807.331195028084,4637.315900864047,4459.968057081809,4275.568087075423,4084.407565100034,3886.788755233051,3683.0241334325087,3473.4358934483557,3258.3554373679017,3038.1228516010115,2813.0863691335744,2583.6018188995836,2350.032063142454,2112.746423655223,1872.120097806894,1628.5335652782644,1382.371986445352,1134.0245933616727,883.8840743023528,632.3459528432601,379.8079624569228,126.66941761416145,-126.66941761416209,-379.8079624569234,-632.3459528432608,-883.8840743023534,-1134.0245933616732,-1382.3719864453524,-1628.533565278265,-1872.1200978068944,-2112.746423655225,-2350.0320631424543,-2583.601818899584,-2813.086369133575,-3038.1228516010133,-3258.3554373679026,-3473.4358934483557,-3683.02413343251,-3886.788755233051,-4084.4075651000344,-4275.568087075424,-4459.968057081808,-4637.315900864047,-4807.331195028085,-4969.745110447988,-5124.300837340043,-5270.753991331818,-5408.87299988408,-5538.43946845458,-5659.248525824719,-5771.109148043049,-5873.844460473406,-5967.292017470066,-6051.304059237704,-6125.7477454699965,-6190.505365397453,-6245.474523912338,-6290.568303476381,-6325.715401555272,-6350.860243362627,-6365.96306973514,-6371.0],[6371.0,6365.96306973514,6350.860243362627,6325.715401555272,6290.56830347638,6245.474523912338,6190.505365397453,6125.747745469996,6051.304059237704,5967.292017470066,5873.844460473405,5771.109148043048,5659.248525824719,5538.43946845458,5408.87299988408,5270.753991331818,5124.300837340043,4969.745110447987,4807.331195028084,4637.315900864047,4459.968057081809,4275.568087075423,4084.407565100034,3886.788755233051,3683.0241334325087,3473.4358934483557,3258.3554373679017,3038.1228516010115,2813.0863691335744,2583.6018188995836,2350.032063142454,2112.746423655223,1872.120097806894,1628.5335652782644,1382.371986445352,1134.0245933616727,883.8840743023528,632.3459528432601,379.8079624569228,126.66941761416145,-126.66941761416209,-379.8079624569234,-632.3459528432608,-883.8840743023534,-1134.0245933616732,-1382.3719864453524,-1628.533565278265,-1872.1200978068944,-2112.746423655225,-2350.0320631424543,-2583.601818899584,-2813.086369133575,-3038.1228516010133,-3258.3554373679026,-3473.4358934483557,-3683.02413343251,-3886.788755233051,-4084.4075651000344,-4275.568087075424,-4459.968057081808,-4637.315900864047,-4807.331195028085,-4969.745110447988,-5124.300837340043,-5270.753991331818,-5408.87299988408,-5538.43946845458,-5659.248525824719,-5771.109148043049,-5873.844460473406,-5967.292017470066,-6051.304059237704,-6125.7477454699965,-6190.505365397453,-6245.474523912338,-6290.568303476381,-6325.715401555272,-6350.860243362627,-6365.96306973514,-6371.0],[6371.0,6365.96306973514,6350.860243362627,6325.715401555272,6290.56830347638,6245.474523912338,6190.505365397453,6125.747745469996,6051.304059237704,5967.292017470066,5873.844460473405,5771.109148043048,5659.248525824719,5538.43946845458,5408.87299988408,5270.753991331818,5124.300837340043,4969.745110447987,4807.331195028084,4637.315900864047,4459.968057081809,4275.568087075423,4084.407565100034,3886.788755233051,3683.0241334325087,3473.4358934483557,3258.3554373679017,3038.1228516010115,2813.0863691335744,2583.6018188995836,2350.032063142454,2112.746423655223,1872.120097806894,1628.5335652782644,1382.371986445352,1134.0245933616727,883.8840743023528,632.3459528432601,379.8079624569228,126.66941761416145,-126.66941761416209,-379.8079624569234,-632.3459528432608,-883.8840743023534,-1134.0245933616732,-1382.3719864453524,-1628.533565278265,-1872.1200978068944,-2112.746423655225,-2350.0320631424543,-2583.601818899584,-2813.086369133575,-3038.1228516010133,-3258.3554373679026,-3473.4358934483557,-3683.02413343251,-3886.788755233051,-4084.4075651000344,-4275.568087075424,-4459.968057081808,-4637.315900864047,-4807.331195028085,-4969.745110447988,-5124.300837340043,-5270.753991331818,-5408.87299988408,-5538.43946845458,-5659.248525824719,-5771.109148043049,-5873.844460473406,-5967.292017470066,-6051.304059237704,-6125.7477454699965,-6190.505365397453,-6245.474523912338,-6290.568303476381,-6325.715401555272,-6350.860243362627,-6365.96306973514,-6371.0],[6371.0,6365.96306973514,6350.860243362627,6325.715401555272,6290.56830347638,6245.474523912338,6190.505365397453,6125.747745469996,6051.304059237704,5967.292017470066,5873.844460473405,5771.109148043048,5659.248525824719,5538.43946845458,5408.87299988408,5270.753991331818,5124.300837340043,4969.745110447987,4807.331195028084,4637.315900864047,4459.968057081809,4275.568087075423,4084.407565100034,3886.788755233051,3683.0241334325087,3473.4358934483557,3258.3554373679017,3038.1228516010115,2813.0863691335744,2583.6018188995836,2350.032063142454,2112.746423655223,1872.120097806894,1628.5335652782644,1382.371986445352,1134.0245933616727,883.8840743023528,632.3459528432601,379.8079624569228,126.66941761416145,-126.66941761416209,-379.8079624569234,-632.3459528432608,-883.8840743023534,-1134.0245933616732,-1382.3719864453524,-1628.533565278265,-1872.1200978068944,-2112.746423655225,-2350.0320631424543,-2583.601818899584,-2813.086369133575,-3038.1228516010133,-3258.3554373679026,-3473.4358934483557,-3683.02413343251,-3886.788755233051,-4084.4075651000344,-4275.568087075424,-4459.968057081808,-4637.315900864047,-4807.331195028085,-4969.745110447988,-5124.300837340043,-5270.753991331818,-5408.87299988408,-5538.43946845458,-5659.248525824719,-5771.109148043049,-5873.844460473406,-5967.292017470066,-6051.304059237704,-6125.7477454699965,-6190.505365397453,-6245.474523912338,-6290.568303476381,-6325.715401555272,-6350.860243362627,-6365.96306973514,-6371.0],[6371.0,6365.96306973514,6350.860243362627,6325.715401555272,6290.56830347638,6245.474523912338,6190.505365397453,6125.747745469996,6051.304059237704,5967.292017470066,5873.844460473405,5771.109148043048,5659.248525824719,5538.43946845458,5408.87299988408,5270.753991331818,5124.300837340043,4969.745110447987,4807.331195028084,4637.315900864047,4459.968057081809,4275.568087075423,4084.407565100034,3886.788755233051,3683.0241334325087,3473.4358934483557,3258.3554373679017,3038.1228516010115,2813.0863691335744,2583.6018188995836,2350.032063142454,2112.746423655223,1872.120097806894,1628.5335652782644,1382.371986445352,1134.0245933616727,883.8840743023528,632.3459528432601,379.8079624569228,126.66941761416145,-126.66941761416209,-379.8079624569234,-632.3459528432608,-883.8840743023534,-1134.0245933616732,-1382.3719864453524,-1628.533565278265,-1872.1200978068944,-2112.746423655225,-2350.0320631424543,-2583.601818899584,-2813.086369133575,-3038.1228516010133,-3258.3554373679026,-3473.4358934483557,-3683.02413343251,-3886.788755233051,-4084.4075651000344,-4275.568087075424,-4459.968057081808,-4637.315900864047,-4807.331195028085,-4969.745110447988,-5124.300837340043,-5270.753991331818,-5408.87299988408,-5538.43946845458,-5659.248525824719,-5771.109148043049,-5873.844460473406,-5967.292017470066,-6051.304059237704,-6125.7477454699965,-6190.505365397453,-6245.474523912338,-6290.568303476381,-6325.715401555272,-6350.860243362627,-6365.96306973514,-6371.0],[6371.0,6365.96306973514,6350.860243362627,6325.715401555272,6290.56830347638,6245.474523912338,6190.505365397453,6125.747745469996,6051.304059237704,5967.292017470066,5873.844460473405,5771.109148043048,5659.248525824719,5538.43946845458,5408.87299988408,5270.753991331818,5124.300837340043,4969.745110447987,4807.331195028084,4637.315900864047,4459.968057081809,4275.568087075423,4084.407565100034,3886.788755233051,3683.0241334325087,3473.4358934483557,3258.3554373679017,3038.1228516010115,2813.0863691335744,2583.6018188995836,2350.032063142454,2112.746423655223,1872.120097806894,1628.5335652782644,1382.371986445352,1134.0245933616727,883.8840743023528,632.3459528432601,379.8079624569228,126.66941761416145,-126.66941761416209,-379.8079624569234,-632.3459528432608,-883.8840743023534,-1134.0245933616732,-1382.3719864453524,-1628.533565278265,-1872.1200978068944,-2112.746423655225,-2350.0320631424543,-2583.601818899584,-2813.086369133575,-3038.1228516010133,-3258.3554373679026,-3473.4358934483557,-3683.02413343251,-3886.788755233051,-4084.4075651000344,-4275.568087075424,-4459.968057081808,-4637.315900864047,-4807.331195028085,-4969.745110447988,-5124.300837340043,-5270.753991331818,-5408.87299988408,-5538.43946845458,-5659.248525824719,-5771.109148043049,-5873.844460473406,-5967.292017470066,-6051.304059237704,-6125.7477454699965,-6190.505365397453,-6245.474523912338,-6290.568303476381,-6325.715401555272,-6350.860243362627,-6365.96306973514,-6371.0],[6371.0,6365.96306973514,6350.860243362627,6325.715401555272,6290.56830347638,6245.474523912338,6190.505365397453,6125.747745469996,6051.304059237704,5967.292017470066,5873.844460473405,5771.109148043048,5659.248525824719,5538.43946845458,5408.87299988408,5270.753991331818,5124.300837340043,4969.745110447987,4807.331195028084,4637.315900864047,4459.968057081809,4275.568087075423,4084.407565100034,3886.788755233051,3683.0241334325087,3473.4358934483557,3258.3554373679017,3038.1228516010115,2813.0863691335744,2583.6018188995836,2350.032063142454,2112.746423655223,1872.120097806894,1628.5335652782644,1382.371986445352,1134.0245933616727,883.8840743023528,632.3459528432601,379.8079624569228,126.66941761416145,-126.66941761416209,-379.8079624569234,-632.3459528432608,-883.8840743023534,-1134.0245933616732,-1382.3719864453524,-1628.533565278265,-1872.1200978068944,-2112.746423655225,-2350.0320631424543,-2583.601818899584,-2813.086369133575,-3038.1228516010133,-3258.3554373679026,-3473.4358934483557,-3683.02413343251,-3886.788755233051,-4084.4075651000344,-4275.568087075424,-4459.968057081808,-4637.315900864047,-4807.331195028085,-4969.745110447988,-5124.300837340043,-5270.753991331818,-5408.87299988408,-5538.43946845458,-5659.248525824719,-5771.109148043049,-5873.844460473406,-5967.292017470066,-6051.304059237704,-6125.7477454699965,-6190.505365397453,-6245.474523912338,-6290.568303476381,-6325.715401555272,-6350.860243362627,-6365.96306973514,-6371.0],[6371.0,6365.96306973514,6350.860243362627,6325.715401555272,6290.56830347638,6245.474523912338,6190.505365397453,6125.747745469996,6051.304059237704,5967.292017470066,5873.844460473405,5771.109148043048,5659.248525824719,5538.43946845458,5408.87299988408,5270.753991331818,5124.300837340043,4969.745110447987,4807.331195028084,4637.315900864047,4459.968057081809,4275.568087075423,4084.407565100034,3886.788755233051,3683.0241334325087,3473.4358934483557,3258.3554373679017,3038.1228516010115,2813.0863691335744,2583.6018188995836,2350.032063142454,2112.746423655223,1872.120097806894,1628.5335652782644,1382.371986445352,1134.0245933616727,883.8840743023528,632.3459528432601,379.8079624569228,126.66941761416145,-126.66941761416209,-379.8079624569234,-632.3459528432608,-883.8840743023534,-1134.0245933616732,-1382.3719864453524,-1628.533565278265,-1872.1200978068944,-2112.746423655225,-2350.0320631424543,-2583.601818899584,-2813.086369133575,-3038.1228516010133,-3258.3554373679026,-3473.4358934483557,-3683.02413343251,-3886.788755233051,-4084.4075651000344,-4275.568087075424,-4459.968057081808,-4637.315900864047,-4807.331195028085,-4969.745110447988,-5124.300837340043,-5270.753991331818,-5408.87299988408,-5538.43946845458,-5659.248525824719,-5771.109148043049,-5873.844460473406,-5967.292017470066,-6051.304059237704,-6125.7477454699965,-6190.505365397453,-6245.474523912338,-6290.568303476381,-6325.715401555272,-6350.860243362627,-6365.96306973514,-6371.0],[6371.0,6365.96306973514,6350.860243362627,6325.715401555272,6290.56830347638,6245.474523912338,6190.505365397453,6125.747745469996,6051.304059237704,5967.292017470066,5873.844460473405,5771.109148043048,5659.248525824719,5538.43946845458,5408.87299988408,5270.753991331818,5124.300837340043,4969.745110447987,4807.331195028084,4637.315900864047,4459.968057081809,4275.568087075423,4084.407565100034,3886.788755233051,3683.0241334325087,3473.4358934483557,3258.3554373679017,3038.1228516010115,2813.0863691335744,2583.6018188995836,2350.032063142454,2112.746423655223,1872.120097806894,1628.5335652782644,1382.371986445352,1134.0245933616727,883.8840743023528,632.3459528432601,379.8079624569228,126.66941761416145,-126.66941761416209,-379.8079624569234,-632.3459528432608,-883.8840743023534,-1134.0245933616732,-1382.3719864453524,-1628.533565278265,-1872.1200978068944,-2112.746423655225,-2350.0320631424543,-2583.601818899584,-2813.086369133575,-3038.1228516010133,-3258.3554373679026,-3473.4358934483557,-3683.02413343251,-3886.788755233051,-4084.4075651000344,-4275.568087075424,-4459.968057081808,-4637.315900864047,-4807.331195028085,-4969.745110447988,-5124.300837340043,-5270.753991331818,-5408.87299988408,-5538.43946845458,-5659.248525824719,-5771.109148043049,-5873.844460473406,-5967.292017470066,-6051.304059237704,-6125.7477454699965,-6190.505365397453,-6245.474523912338,-6290.568303476381,-6325.715401555272,-6350.860243362627,-6365.96306973514,-6371.0],[6371.0,6365.96306973514,6350.860243362627,6325.715401555272,6290.56830347638,6245.474523912338,6190.505365397453,6125.747745469996,6051.304059237704,5967.292017470066,5873.844460473405,5771.109148043048,5659.248525824719,5538.43946845458,5408.87299988408,5270.753991331818,5124.300837340043,4969.745110447987,4807.331195028084,4637.315900864047,4459.968057081809,4275.568087075423,4084.407565100034,3886.788755233051,3683.0241334325087,3473.4358934483557,3258.3554373679017,3038.1228516010115,2813.0863691335744,2583.6018188995836,2350.032063142454,2112.746423655223,1872.120097806894,1628.5335652782644,1382.371986445352,1134.0245933616727,883.8840743023528,632.3459528432601,379.8079624569228,126.66941761416145,-126.66941761416209,-379.8079624569234,-632.3459528432608,-883.8840743023534,-1134.0245933616732,-1382.3719864453524,-1628.533565278265,-1872.1200978068944,-2112.746423655225,-2350.0320631424543,-2583.601818899584,-2813.086369133575,-3038.1228516010133,-3258.3554373679026,-3473.4358934483557,-3683.02413343251,-3886.788755233051,-4084.4075651000344,-4275.568087075424,-4459.968057081808,-4637.315900864047,-4807.331195028085,-4969.745110447988,-5124.300837340043,-5270.753991331818,-5408.87299988408,-5538.43946845458,-5659.248525824719,-5771.109148043049,-5873.844460473406,-5967.292017470066,-6051.304059237704,-6125.7477454699965,-6190.505365397453,-6245.474523912338,-6290.568303476381,-6325.715401555272,-6350.860243362627,-6365.96306973514,-6371.0],[6371.0,6365.96306973514,6350.860243362627,6325.715401555272,6290.56830347638,6245.474523912338,6190.505365397453,6125.747745469996,6051.304059237704,5967.292017470066,5873.844460473405,5771.109148043048,5659.248525824719,5538.43946845458,5408.87299988408,5270.753991331818,5124.300837340043,4969.745110447987,4807.331195028084,4637.315900864047,4459.968057081809,4275.568087075423,4084.407565100034,3886.788755233051,3683.0241334325087,3473.4358934483557,3258.3554373679017,3038.1228516010115,2813.0863691335744,2583.6018188995836,2350.032063142454,2112.746423655223,1872.120097806894,1628.5335652782644,1382.371986445352,1134.0245933616727,883.8840743023528,632.3459528432601,379.8079624569228,126.66941761416145,-126.66941761416209,-379.8079624569234,-632.3459528432608,-883.8840743023534,-1134.0245933616732,-1382.3719864453524,-1628.533565278265,-1872.1200978068944,-2112.746423655225,-2350.0320631424543,-2583.601818899584,-2813.086369133575,-3038.1228516010133,-3258.3554373679026,-3473.4358934483557,-3683.02413343251,-3886.788755233051,-4084.4075651000344,-4275.568087075424,-4459.968057081808,-4637.315900864047,-4807.331195028085,-4969.745110447988,-5124.300837340043,-5270.753991331818,-5408.87299988408,-5538.43946845458,-5659.248525824719,-5771.109148043049,-5873.844460473406,-5967.292017470066,-6051.304059237704,-6125.7477454699965,-6190.505365397453,-6245.474523912338,-6290.568303476381,-6325.715401555272,-6350.860243362627,-6365.96306973514,-6371.0],[6371.0,6365.96306973514,6350.860243362627,6325.715401555272,6290.56830347638,6245.474523912338,6190.505365397453,6125.747745469996,6051.304059237704,5967.292017470066,5873.844460473405,5771.109148043048,5659.248525824719,5538.43946845458,5408.87299988408,5270.753991331818,5124.300837340043,4969.745110447987,4807.331195028084,4637.315900864047,4459.968057081809,4275.568087075423,4084.407565100034,3886.788755233051,3683.0241334325087,3473.4358934483557,3258.3554373679017,3038.1228516010115,2813.0863691335744,2583.6018188995836,2350.032063142454,2112.746423655223,1872.120097806894,1628.5335652782644,1382.371986445352,1134.0245933616727,883.8840743023528,632.3459528432601,379.8079624569228,126.66941761416145,-126.66941761416209,-379.8079624569234,-632.3459528432608,-883.8840743023534,-1134.0245933616732,-1382.3719864453524,-1628.533565278265,-1872.1200978068944,-2112.746423655225,-2350.0320631424543,-2583.601818899584,-2813.086369133575,-3038.1228516010133,-3258.3554373679026,-3473.4358934483557,-3683.02413343251,-3886.788755233051,-4084.4075651000344,-4275.568087075424,-4459.968057081808,-4637.315900864047,-4807.331195028085,-4969.745110447988,-5124.300837340043,-5270.753991331818,-5408.87299988408,-5538.43946845458,-5659.248525824719,-5771.109148043049,-5873.844460473406,-5967.292017470066,-6051.304059237704,-6125.7477454699965,-6190.505365397453,-6245.474523912338,-6290.568303476381,-6325.715401555272,-6350.860243362627,-6365.96306973514,-6371.0],[6371.0,6365.96306973514,6350.860243362627,6325.715401555272,6290.56830347638,6245.474523912338,6190.505365397453,6125.747745469996,6051.304059237704,5967.292017470066,5873.844460473405,5771.109148043048,5659.248525824719,5538.43946845458,5408.87299988408,5270.753991331818,5124.300837340043,4969.745110447987,4807.331195028084,4637.315900864047,4459.968057081809,4275.568087075423,4084.407565100034,3886.788755233051,3683.0241334325087,3473.4358934483557,3258.3554373679017,3038.1228516010115,2813.0863691335744,2583.6018188995836,2350.032063142454,2112.746423655223,1872.120097806894,1628.5335652782644,1382.371986445352,1134.0245933616727,883.8840743023528,632.3459528432601,379.8079624569228,126.66941761416145,-126.66941761416209,-379.8079624569234,-632.3459528432608,-883.8840743023534,-1134.0245933616732,-1382.3719864453524,-1628.533565278265,-1872.1200978068944,-2112.746423655225,-2350.0320631424543,-2583.601818899584,-2813.086369133575,-3038.1228516010133,-3258.3554373679026,-3473.4358934483557,-3683.02413343251,-3886.788755233051,-4084.4075651000344,-4275.568087075424,-4459.968057081808,-4637.315900864047,-4807.331195028085,-4969.745110447988,-5124.300837340043,-5270.753991331818,-5408.87299988408,-5538.43946845458,-5659.248525824719,-5771.109148043049,-5873.844460473406,-5967.292017470066,-6051.304059237704,-6125.7477454699965,-6190.505365397453,-6245.474523912338,-6290.568303476381,-6325.715401555272,-6350.860243362627,-6365.96306973514,-6371.0],[6371.0,6365.96306973514,6350.860243362627,6325.715401555272,6290.56830347638,6245.474523912338,6190.505365397453,6125.747745469996,6051.304059237704,5967.292017470066,5873.844460473405,5771.109148043048,5659.248525824719,5538.43946845458,5408.87299988408,5270.753991331818,5124.300837340043,4969.745110447987,4807.331195028084,4637.315900864047,4459.968057081809,4275.568087075423,4084.407565100034,3886.788755233051,3683.0241334325087,3473.4358934483557,3258.3554373679017,3038.1228516010115,2813.0863691335744,2583.6018188995836,2350.032063142454,2112.746423655223,1872.120097806894,1628.5335652782644,1382.371986445352,1134.0245933616727,883.8840743023528,632.3459528432601,379.8079624569228,126.66941761416145,-126.66941761416209,-379.8079624569234,-632.3459528432608,-883.8840743023534,-1134.0245933616732,-1382.3719864453524,-1628.533565278265,-1872.1200978068944,-2112.746423655225,-2350.0320631424543,-2583.601818899584,-2813.086369133575,-3038.1228516010133,-3258.3554373679026,-3473.4358934483557,-3683.02413343251,-3886.788755233051,-4084.4075651000344,-4275.568087075424,-4459.968057081808,-4637.315900864047,-4807.331195028085,-4969.745110447988,-5124.300837340043,-5270.753991331818,-5408.87299988408,-5538.43946845458,-5659.248525824719,-5771.109148043049,-5873.844460473406,-5967.292017470066,-6051.304059237704,-6125.7477454699965,-6190.505365397453,-6245.474523912338,-6290.568303476381,-6325.715401555272,-6350.860243362627,-6365.96306973514,-6371.0],[6371.0,6365.96306973514,6350.860243362627,6325.715401555272,6290.56830347638,6245.474523912338,6190.505365397453,6125.747745469996,6051.304059237704,5967.292017470066,5873.844460473405,5771.109148043048,5659.248525824719,5538.43946845458,5408.87299988408,5270.753991331818,5124.300837340043,4969.745110447987,4807.331195028084,4637.315900864047,4459.968057081809,4275.568087075423,4084.407565100034,3886.788755233051,3683.0241334325087,3473.4358934483557,3258.3554373679017,3038.1228516010115,2813.0863691335744,2583.6018188995836,2350.032063142454,2112.746423655223,1872.120097806894,1628.5335652782644,1382.371986445352,1134.0245933616727,883.8840743023528,632.3459528432601,379.8079624569228,126.66941761416145,-126.66941761416209,-379.8079624569234,-632.3459528432608,-883.8840743023534,-1134.0245933616732,-1382.3719864453524,-1628.533565278265,-1872.1200978068944,-2112.746423655225,-2350.0320631424543,-2583.601818899584,-2813.086369133575,-3038.1228516010133,-3258.3554373679026,-3473.4358934483557,-3683.02413343251,-3886.788755233051,-4084.4075651000344,-4275.568087075424,-4459.968057081808,-4637.315900864047,-4807.331195028085,-4969.745110447988,-5124.300837340043,-5270.753991331818,-5408.87299988408,-5538.43946845458,-5659.248525824719,-5771.109148043049,-5873.844460473406,-5967.292017470066,-6051.304059237704,-6125.7477454699965,-6190.505365397453,-6245.474523912338,-6290.568303476381,-6325.715401555272,-6350.860243362627,-6365.96306973514,-6371.0],[6371.0,6365.96306973514,6350.860243362627,6325.715401555272,6290.56830347638,6245.474523912338,6190.505365397453,6125.747745469996,6051.304059237704,5967.292017470066,5873.844460473405,5771.109148043048,5659.248525824719,5538.43946845458,5408.87299988408,5270.753991331818,5124.300837340043,4969.745110447987,4807.331195028084,4637.315900864047,4459.968057081809,4275.568087075423,4084.407565100034,3886.788755233051,3683.0241334325087,3473.4358934483557,3258.3554373679017,3038.1228516010115,2813.0863691335744,2583.6018188995836,2350.032063142454,2112.746423655223,1872.120097806894,1628.5335652782644,1382.371986445352,1134.0245933616727,883.8840743023528,632.3459528432601,379.8079624569228,126.66941761416145,-126.66941761416209,-379.8079624569234,-632.3459528432608,-883.8840743023534,-1134.0245933616732,-1382.3719864453524,-1628.533565278265,-1872.1200978068944,-2112.746423655225,-2350.0320631424543,-2583.601818899584,-2813.086369133575,-3038.1228516010133,-3258.3554373679026,-3473.4358934483557,-3683.02413343251,-3886.788755233051,-4084.4075651000344,-4275.568087075424,-4459.968057081808,-4637.315900864047,-4807.331195028085,-4969.745110447988,-5124.300837340043,-5270.753991331818,-5408.87299988408,-5538.43946845458,-5659.248525824719,-5771.109148043049,-5873.844460473406,-5967.292017470066,-6051.304059237704,-6125.7477454699965,-6190.505365397453,-6245.474523912338,-6290.568303476381,-6325.715401555272,-6350.860243362627,-6365.96306973514,-6371.0],[6371.0,6365.96306973514,6350.860243362627,6325.715401555272,6290.56830347638,6245.474523912338,6190.505365397453,6125.747745469996,6051.304059237704,5967.292017470066,5873.844460473405,5771.109148043048,5659.248525824719,5538.43946845458,5408.87299988408,5270.753991331818,5124.300837340043,4969.745110447987,4807.331195028084,4637.315900864047,4459.968057081809,4275.568087075423,4084.407565100034,3886.788755233051,3683.0241334325087,3473.4358934483557,3258.3554373679017,3038.1228516010115,2813.0863691335744,2583.6018188995836,2350.032063142454,2112.746423655223,1872.120097806894,1628.5335652782644,1382.371986445352,1134.0245933616727,883.8840743023528,632.3459528432601,379.8079624569228,126.66941761416145,-126.66941761416209,-379.8079624569234,-632.3459528432608,-883.8840743023534,-1134.0245933616732,-1382.3719864453524,-1628.533565278265,-1872.1200978068944,-2112.746423655225,-2350.0320631424543,-2583.601818899584,-2813.086369133575,-3038.1228516010133,-3258.3554373679026,-3473.4358934483557,-3683.02413343251,-3886.788755233051,-4084.4075651000344,-4275.568087075424,-4459.968057081808,-4637.315900864047,-4807.331195028085,-4969.745110447988,-5124.300837340043,-5270.753991331818,-5408.87299988408,-5538.43946845458,-5659.248525824719,-5771.109148043049,-5873.844460473406,-5967.292017470066,-6051.304059237704,-6125.7477454699965,-6190.505365397453,-6245.474523912338,-6290.568303476381,-6325.715401555272,-6350.860243362627,-6365.96306973514,-6371.0],[6371.0,6365.96306973514,6350.860243362627,6325.715401555272,6290.56830347638,6245.474523912338,6190.505365397453,6125.747745469996,6051.304059237704,5967.292017470066,5873.844460473405,5771.109148043048,5659.248525824719,5538.43946845458,5408.87299988408,5270.753991331818,5124.300837340043,4969.745110447987,4807.331195028084,4637.315900864047,4459.968057081809,4275.568087075423,4084.407565100034,3886.788755233051,3683.0241334325087,3473.4358934483557,3258.3554373679017,3038.1228516010115,2813.0863691335744,2583.6018188995836,2350.032063142454,2112.746423655223,1872.120097806894,1628.5335652782644,1382.371986445352,1134.0245933616727,883.8840743023528,632.3459528432601,379.8079624569228,126.66941761416145,-126.66941761416209,-379.8079624569234,-632.3459528432608,-883.8840743023534,-1134.0245933616732,-1382.3719864453524,-1628.533565278265,-1872.1200978068944,-2112.746423655225,-2350.0320631424543,-2583.601818899584,-2813.086369133575,-3038.1228516010133,-3258.3554373679026,-3473.4358934483557,-3683.02413343251,-3886.788755233051,-4084.4075651000344,-4275.568087075424,-4459.968057081808,-4637.315900864047,-4807.331195028085,-4969.745110447988,-5124.300837340043,-5270.753991331818,-5408.87299988408,-5538.43946845458,-5659.248525824719,-5771.109148043049,-5873.844460473406,-5967.292017470066,-6051.304059237704,-6125.7477454699965,-6190.505365397453,-6245.474523912338,-6290.568303476381,-6325.715401555272,-6350.860243362627,-6365.96306973514,-6371.0]],\"type\":\"surface\"},{\"line\":{\"width\":3},\"mode\":\"lines\",\"name\":\"SAT-A\",\"x\":[-3579.307050368849,-3384.737694046555,-3186.2674593102606,-2984.125442733733,-2778.544929917281,-2569.7631232482236,-2358.02086578824,-2143.562361548103,-1926.6348925474124,-1707.488532953685,-1486.3758606314448,-1263.5516664316551,-1039.272661490227,-813.7971829400783,-587.384898240078,-360.2965084912751,-132.7934510101432,94.86239853056593,322.4090241173237,549.5845672676064,776.1276244777164,1001.7775439666894,1226.2747214285569,1449.360894521564,1670.7794358126516,1890.2756439041057,2107.5970324616856,2322.493616873513,2534.7181982602697,2744.02664456309,2950.1781684273155,3152.9356016111924,3352.065665629738,3547.3392383648475,3738.531616349459,3925.4227724493576,4107.79760865296,4285.44620369089,4458.164055189882,4625.752316084832,4788.0180249952045,4944.7743302844,5095.840707517385,5241.043170032305,5380.2144723495185,5513.194306137352,5639.829488467302,5759.974142086271,5873.489867448523,5980.245906249517,6080.1192962174555,6172.995016922082,6258.7661263742975,6337.333888197122,6408.607889163555,6472.506146906639,6528.955207621941,6577.890233597558,6619.255080419657,6653.002363720427,6679.0935153496375,6697.498828869379,6708.197494289264,6711.177621977318,6706.436255701345,6693.979374773414,6673.821885290878,6645.987600484666,6610.509210208286,6567.428239615818,6516.794997101528,6458.66851158813,6393.116459272858,6320.215079956026,6240.049083097436,6152.711543758819,6058.303788612559,5956.935272206772,5848.7234436964345,5733.793604261299,5612.278755446086,5484.319438669365,5350.063566159278,5209.666243585589,5063.289584661847,4911.1025180091465,4753.280586564747,4590.005739843955,4421.466119348,4247.855837433051,4069.374749943874,3886.228222926948,3698.6268937336476,3506.7864268280687,3310.9272646066825,3111.274373548065,2908.0569859879265,2701.508337860249,2491.8654026240297,2279.3686217971695,2064.261632286397,1846.790990855133,1627.2058960041404,1405.757907547267,1182.7006641495143,958.2895991593782,732.7816548729774,506.434995648523,279.50872002952815,52.26257216954324,-175.043347191132,-402.148869950023,-628.7940498130877,-854.7194511737632,-1079.666437443541,-1303.3774586017566,-1525.5963377094113,-1746.0685561504483,-1964.5415373497117,-2180.7649287248314,-2394.4908816213997,-2605.474328981835,-2813.473260494569,-3018.248994967926,-3219.566449669675,-3417.19440636816,-3610.905773812034,-3800.47784637509,-3985.6925585953036,-4166.336735329564,-4342.202337245242,-4513.086701362671,-4678.792776364604,-4839.129352381928,-4993.9112849650355,-5142.9597129490385,-5286.102269920811,-5423.173288993152,-5554.014000595254,-5678.47272298953,-5796.405045226231,-5907.674002252392,-6012.1502418965565,-6109.712183453778,-6200.246167605922,-6283.646597417499,-6359.816070156888,-6428.665499703743,-6490.114229313396,-6544.090134522953,-6590.529715994303,-6629.378182107606,-6660.5895211307015,-6684.126562807698,-6699.961029227587,-6708.0735748498855,-6708.453815585206,-6701.100346845689,-6686.0207505018025,-6663.231590700859,-6632.758398524414,-6594.635645480829,-6548.9067058532155,-6495.623807938996,-6434.847974245026,-6366.648950715243,-6291.105125095699,-6208.30343455581,-6118.3392627089315,-6021.316326190191,-5917.346550972317,-5806.549938613775,-5689.054422653026,-5564.9957153779915,-5434.51714521269,-5297.769484982726,-5154.910771324663,-5006.106115528481,-4851.5275061004695,-4691.353603353537,-4525.769526334589,-4354.966632408043,-4179.142289820327,-3998.499643576623,-3813.24737496155,-3623.59945504493,-3429.774892508556,-3231.997476134561,-3030.495512298942,-2825.5015578106554,-2617.252148416621,-2405.9875233636326,-2191.9513462696686,-1975.3904227065907,-1756.554414790845,-1535.6955531089493,-1313.0683463119317,-1088.9292886471706,-863.5365658332156,-637.1497594783987,-410.0295504209953,-182.4374212561229,45.364641640771794,273.1144463098587,500.54989332917427,727.4092735788707,953.4315653640716,1178.3567306160153,1401.9260098901805,1623.882215888451,1843.9700252192847,2061.936268132118,2277.530215936287,2490.503865839887,2700.6122229236935,2907.6135789751424,3111.269787906127,3311.3465374696675,3507.6136169987626,3699.8451808829773,3887.8200074986307,4071.3217533105503,4250.139201854764,4424.066507320971,4592.903432443471,4756.455580416443,4914.534620546845,5066.958507357113,5213.551692858829,5354.145331712454,5488.577478996935,5616.693280314368,5738.345153962761,5853.392964911051,5961.704190321316,6063.1540763694,6157.625786122722,6245.0105382449665,6325.207736307924,6398.1250885002655,6463.67871753856,6521.793260597162,6572.401959087114,6615.446738132097,6650.8782756023775,6678.656060585898,6698.748441192514,6711.132661604793,6715.794888307625,6712.730225447091,6701.942719288405,6683.445351761869,6657.260023105377,6623.417523630666,6581.957494661575,6532.928378709991,6476.387358975417,6412.400288272697,6341.0416075096355,6262.3942538563815,6176.549558762644,6083.6071359984235,5983.674759906715,5876.86823407496,5763.311250642849,5643.135240480155,5516.47921447857,5383.48959621415,5244.320046245818,5099.131278327326,4948.090867812973,4791.373052553076,4629.158526568842,4461.634226817755,4288.993113344861,4111.433943137684,3929.161037991961,3742.3840466970023,3551.317701860602,3356.1815716771735,3157.1998069553165,2954.600883705499,2748.6173416265246,2539.485518704862,2327.4452823598135,2112.7397573164826,1895.6150505485493,1676.3199735692017,1455.1057623545678,1232.2257951604747,1007.9353085721589,782.4911119238551,556.1513005036771,329.17496770497274,101.82191642155969,-125.64763007205961,-352.9733174977332,-579.894949958747,-806.152779092887,-1031.4877927362782,-1255.6420028656441,-1478.3587325645576,-1699.3829017744815,-1918.4613115813934,-2135.3429267975775,-2349.7791565802877,-2561.5241328486645,-2770.3349862334653,-2975.972119317698,-3178.199476892073,-3376.7848129816384,-3571.499954359811,-3762.121060294548,-3948.428878241962,-4130.208995218194,-4307.252084564423,-4479.354147823715,-4646.3167514405095,-4807.947257996574,-4964.059051689434,-5114.471757761794,-5259.011455588631,-5397.510885127294,-5529.809646439214,-5655.754391989061,-5775.19901143748,-5888.004808634724,-5994.040670542825,-6093.183227802611,-6185.317006683782,-6270.334572150882,-6348.136661798629,-6418.632310409523,-6481.73896490587,-6537.382589474808,-6585.497760661797,-6626.027752240599,-6658.924609682948,-6684.149214067743,-6701.6713352866045,-6711.469674420206,-6713.531895178087,-6707.854644314401,-6694.443560951719,-6673.3132747640975,-6644.487392992949,-6607.9984762885815,-6563.888003391526,-6512.206324689734,-6453.012604707232,-6386.374753600961,-6312.369347765392,-6231.081539659039,-6142.6049569949655,-6047.041591447094,-5944.501677051757,-5835.103558493332,-5718.973549487564,-5596.245781485749,-5467.062042941977],\"y\":[-4059.4461363293726,-4110.365574850201,-4156.54779565463,-4197.940039389576,-4234.495080362315,-4266.171276969753,-4292.932615617445,-4314.748748134768,-4331.595022677005,-4343.452508126898,-4350.308012009646,-4352.154091940235,-4348.98906062892,-4340.816984473259,-4327.647675772139,-4309.496678598673,-4286.385248374457,-4258.340325189538,-4225.394500916826,-4187.585980171281,-4144.958535168425,-4097.561454537327,-4045.449486148415,-3988.682774016122,-3927.3267893412108,-3861.4522557582054,-3791.135068858746,-3716.4562100611565,-3637.5016549027737,-3554.3622758319643,-3467.133739583932,-3375.9163992221756,-3280.8151809415663,-3181.9394657192247,-3079.4029659201447,-2973.323596955444,-2863.823344107683,-2751.0281246329405,-2635.067645267917,-2516.07525526264,-2394.187795078727,-2269.5454408919422,-2142.291545046387,-2012.5724726206956,-1880.537434263399,-1746.3383154755447,-1610.1295025110298,-1472.0677050897368,-1332.311776109847,-1191.0225285674337,-1048.3625498863198,-904.4960138816368,-759.5884905710967,-613.8067540752694,-467.31858883221446,-320.29259437662455,-172.89798892658436,-25.304412032134977,122.31827345726634,269.8001798472214,416.9715932108964,563.66317189187,709.7061446311535,854.9325080523389,999.1752232297206,1142.2684110777013,1284.0475462894294,1424.3496495666527,1563.0134778678057,1699.8797124304915,1834.791144300672,1967.5928571303266,2098.132406993542,2226.2599989897226,2351.828660399113,2474.69441017593,2594.716424557488,2711.7571985917134,2825.6827033820678,2936.362538867207,3043.670081956261,3147.482629856248,3247.681538432961,3344.152355461767,3436.7849486338678,3525.4736281888686,3610.117264069342,3690.6193974815587,3766.88834678152,3838.8373075935424,3906.3844470947843,3969.4529923979735,4027.9713129807237,4081.872997113189,4131.096922250191,4175.587319354684,4215.293831135157,4250.171564175574,4280.181134964849,4305.28870980066,4325.466038592865,4340.6904825637685,4350.945035862348,4356.218341108565,4356.504698889938,4351.804071234714,4342.122079089185,4327.469993829081,4307.864722837273,4283.328789182303,4253.8903054335315,4219.582941650373,4180.445887584978,4136.523809137617,4087.8667991077923,4034.5303222818793,3976.57515490335,3914.0673185693695,3847.0780086022264,3775.683516943267,3699.965149620941,3620.0091388455553,3535.906549786959,3447.7531820932504,3355.649466212104,3259.7003545822395,3160.015207761055,3056.707675566899,2949.89557331173,2839.7007532110847,2726.2489710599552,2609.6697482725817,2490.096229388238,2367.6650351548337,2242.5161113066033,2114.7925731631876,1984.6405461811416,1852.209002602457,1717.6495943488487,1581.1164823218855,1442.7661622756495,1302.7572874420378,1161.250488087568,1018.4081882061902,874.3944195418844,729.3746331592849,583.5155087789137,436.98476210751295,289.9509503984156,142.58327648176183,-4.948608477681354,-152.47480324863776,-299.8253555580915,-446.8304616132164,-593.3206658418263,-739.1270605847415,-884.0814854573918,-1028.0167261048027,-1170.766712067201,-1312.1667134788092,-1452.0535363155177,-1590.26571591819,-1726.6437085063765,-1861.0300804215458,-1993.2696948150212,-2123.2098955307883,-2250.700687910827,-2375.594916278825,-2497.748437849855,-2617.0202928323524,-2733.2728704878314,-2846.372070929009,-2956.187462443861,-3062.592434142288,-3165.46434373575,-3264.684660262947,-3360.1391015998543,-3451.7177665829845,-3539.3152616086404,-3622.830821562714,-3702.1684249599275,-3777.236903175704,-3847.95004366914,-3914.22668710173,-3975.9908182742556,-4033.1716508060063,-4085.70370549932,-4133.526882336885,-4176.586526069247,-4214.833485360191,-4248.224165469294,-4276.7205744464045,-4300.290362842989,-4318.9068569278925,-4332.549085417598,-4341.201799732919,-4344.855487797634,-4343.506381404019,-4337.156457169512,-4325.813431119497,-4309.490746930108,-4288.207557871388,-4261.988702493583,-4230.864674102975,-4194.871584075852,-4154.0511190630195,-4108.45049213886,-4058.1223879521112,-4003.124901938225,-3943.5214736540856,-3879.3808143023475,-3810.7768285090856,-3737.7885304288466,-3660.499954247091,-3579.000059158305,-3493.3826288999103,-3403.746165923422,-3310.193780294058,-3212.83307340786,-3111.7760166251082,-3007.1388249216,-2899.0418256635317,-2787.609322621953,-2672.9694553431104,-2555.2540540014966,-2434.5984898677666,-2311.1415215282977,-2185.0251370077867,-2056.3943919409794,-1925.3972439607205,-1792.1843834673925,-1656.909060959197,-1519.7269111025792,-1380.7957737392928,-1240.2755120277197,-1098.3278279243773,-955.1160752208565,-810.8050703575819,-665.5609012420463,-519.5507343059519,-372.94262004339413,-225.90529726987737,-78.6079963653878,68.77975825890584,216.08834619553417,363.1482493269047,509.7902500886401,655.8456294497502,801.1463643361169,945.5253242335763,1088.8164666980729,1230.8550315097298,1371.4777332018439,1510.5229517077146,1647.8309208599883,1783.243914492867,1916.6064298951546,2047.7653683695412,2176.5702126626707,2302.8732010306903,2426.529497721804,2547.3973596557244,2665.3382990972264,2780.217242122468,2891.902682692227,3000.266832150919,3105.185763985825,3206.5395536838796,3304.212413542234,3398.092822290343,3488.0736494025723,3574.0522739762596,3655.9306980794768,3733.6156544610094,3807.018708547789,3876.056354646097,3940.650106281553,4000.726580625695,4056.2175769529526,4107.060149095117,4153.196671857077,4194.574901373094,4231.148029379222,4262.874731409417,4289.719208883895,4311.651225115407,4328.646135227981,4340.684910002368,4347.754153663539,4349.846115629611,4346.958696243886,4339.0954465188615,4326.265561916059,4308.483870195902,4285.770813368352,4258.152423779464,4225.660294369546,4188.3315431404235,4146.208771870077,4099.340019115766,4047.778707545193,3991.5835856397907,3930.8186638130833,3865.5531449906266,3795.8613496967973,3721.8226357009216,3643.5213122697405,3561.046549085552,3474.492279880035,3383.957100852399,3289.5441639258793,3191.361064919456,3089.519726698979,2984.1362773916453,2875.3309237405983,2763.2278196917573,2647.9549303041654,2529.6438910879338,2408.4298628743213,2284.4513823357343,2157.8502082780315,2028.7711638347328,1897.3619747053347,1763.773103580984,1628.1575809216008,1490.67083223824,1351.4705020699182,1210.7162748214616,1068.5696926700546,925.1939707280919,780.7538096834481,635.415206123416,489.3452607799339,342.71198491751693,195.68410511696734,48.430866693234314,-98.87816399234806,-246.07329807167122,-392.9849232864648,-539.4437034239207,-685.2807777912698,-830.3279604511815,-974.4179389482607,-1117.3844722353374,-1259.0625875309265,-1399.288775817833,-1537.9011857098437,-1674.7398154087493,-1809.646702474472,-1942.466111141217,-2073.0447169143013,-2201.2317881801428,-2326.87936458651,-2449.8424319311794,-2569.9790933321447,-2687.150736435038,-2801.2221964447704,-2912.0619147572734,-3019.5420929938286,-3123.5388422396727],\"z\":[4094.8651644659863,4207.773587921717,4315.818659974176,4418.875983941162,4516.826955340692,4609.558894896543,4696.9651744350795,4778.945335614193,4855.405201368217,4926.256980010871,4991.41936192555,5050.817608782644,5104.383635245818,5152.0560830983895,5193.780387781847,5229.508837297266,5259.2006234512855,5282.821885424994,5300.34574565172,5311.752337992378,5317.028828202049,5316.169426685217,5309.175393540631,5296.055035900433,5276.823697571622,5251.50374099119,5220.124521510158,5182.722354024838,5139.34047197769,5090.028978753707,5034.844791503347,4973.851577425841,4907.119682553798,4834.726053082988,4756.754149298292,4673.293852152549,4584.441362561905,4490.299093485984,4390.975554873954,4286.585231558338,4177.248454193775,4063.0912633421717,3944.2452668171127,3820.8474904097584,3693.040222127788,3560.970850091761,3424.791694239877,3284.659832007956,3140.73691815808,2993.1889989444694,2842.186320812857,2687.903133843934,2530.5174901610644,2370.211037533358,2207.168808416565,2041.5790046844375,1873.6327783147008,1703.5240082991263,1531.4490740638805,1357.6066256864362,1182.197351209608,1005.4237413581604,827.4898519696138,648.6010644580381,468.9638446324919,288.7855001994163,108.27393727642622,-72.36258374771876,-252.91569267390065,-433.17715393967916,-612.9391107198305,-791.9943283457199,-970.1364367167845,-1147.1601713749076,-1322.861612920576,-1497.0384244539443,-1669.4900867285276,-1840.0181307139294,-2008.4263672705017,-2174.521113645702,-2338.1114165141703,-2499.0092712885653,-2657.029837443495,-2811.9916495970765,-2963.7168241169047,-3112.0312610152923,-3256.7648409214808,-3397.7516169214887,-3534.8300010735184,-3667.842945414322,-3796.6381172865026,-3921.068068826768,-4040.990400465751,-4156.267918302504,-4266.768785227795,-4372.366665676745,-4472.940863910845,-4568.376455714614,-4658.564413460229,-4743.401724401691,-4822.791502178169,-4896.643091439183,-4964.872165539607,-5027.400817255136,-5084.157642475555,-5135.077816822595,-5180.103165192183,-5219.182224150165,-5252.2702971834415,-5279.329502773684,-5300.32881527562,-5315.244098583021,-5324.058132567563,-5326.76063227832,-5323.348259890915,-5313.824629397785,-5298.200304032145,-5276.492786420267,-5248.726501458328,-5214.932771911852,-5175.149786737945,-5129.422562132716,-5077.802895308848,-5020.349311011095,-4957.127000781243,-4888.207754986943,-4813.669887634236,-4733.59815398709,-4648.08366102392,-4557.223770765808,-4461.121996517875,-4359.887892073661,-4253.636933937354,-4142.490396629418,-4026.575221149792,-3906.0238766805664,-3780.9742156211523,-3651.569322060243,-3517.957353798628,-3380.291378047499,-3238.7292009418125,-3093.433191015982,-2944.5700968054653,-2792.3108587472575,-2636.8304155672367,-2478.3075053524644,-2316.9244615224197,-2152.8670039216777,-1986.3240252728215,-1817.4873732357098,-1646.5516283380566,-1473.713878044259,-1299.1734872481875,-1123.131865482248,-945.792231143192,-767.3593730492406,-588.0394096431927,-408.0395461729299,-227.56783017827254,-46.83290562464236,133.9562339744579,314.5904930995377,494.8609220818194,674.5589649272406,853.4767067525133,1031.4071204866354,1208.1443124876148,1383.4837667283316,1557.2225872092017,1729.1597382615919,1899.0962824060846,2066.8356154445937,2232.183698464107,2394.9492864433673,2554.944153162334,2711.983312120033,2865.885233181194,3016.472054680312,3163.5697907226063,3307.0085334353585,3446.6226499315494,3582.25097376368,3713.7369906541735,3840.929018304772,3963.6803800968623,4081.8495725085513,4195.300426086118,4303.902259820374,4407.53002878776,4506.0644649295955,4599.392210861592,4687.405946582911,4770.004509029699,4847.093004352463,4918.5829128584255,4984.392186548443,5044.44533918683,5098.673528864453,5147.014632986376,5189.4133156753,5225.821087539695,5256.196357789133,5280.504478674009,5298.717782234727,5310.815609349179,5316.784331071219,5316.617362257438,5310.315167482629,5297.88525924826,5279.342188491544,5254.707527406343,5224.00984459011,5187.284672535778,5144.574467489302,5095.928561699694,5041.403108090828,4981.0610173893565,4914.971887748226,4843.21192690997,4765.8638669593865,4683.016871722324,4594.766436871816,4501.214282812821,4402.468240419966,4298.642129715796,4189.855631580351,4076.234152595559,3957.9086831357117,3835.015648824236,3707.696755488497,3576.0988277542983,3440.3736414321615,3300.6777498578963,3157.1723043630363,3010.0228690596396,2859.3992301360986,2705.47519987316,2548.428415598489,2388.4401338091734,2225.695019706444,2060.3809323905793,1892.6887059793273,1722.8119269226172,1550.946707792202,1377.2914578369987,1202.0466506015446,1025.4145889118997,847.5991675411634,668.8056338717156,489.24034687663817,309.11053474761724,128.62405149785766,-52.01086712597384,-232.5858480906608,-412.8926255455626,-592.7232849826435,-771.8705067535514,-950.1278086129506,-1127.289786963367,-1303.1523564759682,-1477.5129877713107,-1650.1709428475524,-1820.9275079513523,-1989.5862235918905,-2155.9531114103206,-2319.836897622796,-2481.04923276311,-2639.4049074675236,-2794.7220640459286,-2946.8224036006422,-3095.531388462207,-3240.6784397237375,-3382.097129667133,-3519.6253688835395,-3653.105587907635,-3782.384913188491,-3907.31533724026,-4027.7538828205,-4143.562760997425,-4254.609522979447,-4360.7672055882085,-4461.914470270332,-4557.935735534892,-4648.72130277058,-4734.167475297708,-4814.176670638417,-4888.6575259162155,-4957.5249963313245,-5020.700446660617,-5078.11173574221,-5129.693293888237,-5175.386193224721,-5215.138210890028,-5248.903885090753,-5276.644563982921,-5298.32844736043,-5313.930621132904,-5323.433084578481,-5326.824770358726,-5324.101557284663,-5315.266275825139,-5300.328706349901,-5279.305570101849,-5252.220512894572,-5219.104081532669,-5179.993692955412,-5134.933596105105,-5083.974826525661,-5027.1751536975635,-4964.599021122308,-4896.317479167622,-4822.408110695702,-4742.954949494526,-4658.0483915436025,-4567.785099146836,-4472.267897974121,-4371.605667059406,-4265.913221811124,-4155.311190097732,-4039.925881481984,-3919.8891496851274,-3795.338248373023,-3666.41568036621,-3533.2690403873944,-3396.050851470717,-3254.918395167532,-3110.033535700382,-2961.562538219945,-2809.675881344239,-2654.5480641589966,-2496.3574078840993,-2335.285852409535,-2171.518747930011,-2005.2446419098098,-1836.655061627635,-1665.944292560023,-1493.3091528724906,-1318.9487643019543,-1143.0643197213026,-965.8588476867349,-787.5369742772133,-608.3046825485037,-428.3690699217337,-247.93810384329493,-67.22037605085215,113.57514420924291,294.23935767060937,474.5632828895013,654.338304093511,833.3564186845528,1011.410484045389,1188.2944633014633,1363.8036696916702,1537.7350092043391,1709.8872211410796,1880.0611162757075,2048.059812280594,2213.688966102704,2376.7570029765748,2537.075341773314],\"type\":\"scatter3d\"},{\"line\":{\"width\":3},\"mode\":\"lines\",\"name\":\"SAT-B\",\"x\":[-2724.293039491138,-2625.9559273965756,-2524.8645500420143,-2421.1247984290558,-2314.8453551098523,-2206.1375813566256,-2095.115401288517,-1981.8951830666956,-1866.5956172655083,-1749.3375925438138,-1630.244068735874,-1509.439947494372,-1387.0519406195779,-1263.2084362146015,-1138.0393628133145,-1011.6760516348202,-884.2510971115581,-755.8982158646503,-626.7521042760354,-496.9482948395189,-366.62301145488436,-235.91302384212963,-104.95550125714962,26.11213431378588,157.15235529556563,288.02767581904624,418.6007989814934,548.7347638901934,678.2930922984269,807.1399346527168,935.1402153628017,1062.1597771161091,1188.0655240462356,1312.7255635900551,1436.009346842759,1557.7878072494373,1677.9334974577864,1796.3207241709815,1912.8256808370534,2027.3265780232593,2139.703771322523,2249.8398866487273,2357.6199427852157,2462.9314710470067,2565.6646319397264,2665.7123286870033,2762.9703175214518,2857.3373146260074,2948.7150996307214,3037.008615569564,3122.1260652135034,3203.979003696623,3282.4824273693994,3357.5548588033707,3429.1184278964124,3497.0989490182656,3561.4259941524224,3622.0329619897466,3678.857142938396,3731.8397800184275,3780.9261256143222,3826.065494063288,3867.211310061797,3904.321152878567,3937.3567963605087,3966.2842447292355,3991.073764161469,4011.6999101565116,4028.141550688267,4040.3818851517995,4048.4084591038404,4052.213174815155,4051.79229763279,4047.1464581730934,4038.280650352896,4025.204225273815,4007.9308809734525,3986.478648058954,3960.8698712381574,3931.131186769325,3897.2934958378273,3859.3919338885476,3817.4658359269342,3771.5586978101996,3721.718133550392,3667.995828652177,3610.4474895068633,3549.1327888715077,3484.1153074566973,3415.4624716545572,3343.24548743699,3267.539270458637,3188.42237240016,3105.976903593013,3020.28845196613,2931.445998363927,2839.5418282834885,2744.671440086071,2646.9334497414793,2546.4294921708574,2443.264119252026,2337.5446945657036,2229.3812849562264,2118.8865489965206,2006.1756224420647,1891.36600077233,1774.5774189221568,1655.9317283065636,1535.5527712569228,1413.5662529844374,1290.0996111992729,1165.2818835131193,1039.243572766051,912.1165104159115,784.0337181428558,655.1292678177863,525.5381399971333,395.396081102278,264.8394594559278,134.00512034148397,3.0302402637510997,-127.94781941209976,-258.7916592628173,-389.3639888660001,-519.5277739352235,-649.1463833360691,-778.0837358079654,-906.2044461918335,-1033.373970986043,-1159.458753036923,-1284.3263651828784,-1407.8456526655111,-1529.8868741278961,-1650.3218410173015,-1769.0240552222106,-1885.8688447654135,-2000.7334973888849,-2113.497391864409,-2224.0421268724217,-2332.2516472922002,-2438.012367760568,-2541.2132933474527,-2641.7461372242487,-2739.5054351796425,-2834.388656872462,-2926.2963136946523,-3015.1320631387944,-3100.8028095635705,-3183.2188012600054,-3262.2937237305155,-3337.944789092043,-3410.092821530631,-3478.6623387333316,-3543.5816292368395,-3604.7828256288717,-3662.201973557426,-3715.779096494613,-3765.458256220323,-3811.187608985458,-3852.9194573288382,-3890.6102975184554,-3924.220862599782,-3953.716161030855,-3979.0655108957512,-4000.242569683094,-4017.225359628701,-4029.996288615634,-4038.5421666379384,-4042.854217823126,-4042.928088030315,-4038.763848023167,-4030.3659922322895,-4017.7434331189565,-4000.909491154274,-3979.8818804300686,-3954.682689920178,-3925.3383604070264,-3891.8796571047674,-3854.341637990212,-3812.763617873935,-3767.1891282350916,-3717.6658728489947,-3664.2456792369667,-3606.9844459723827,-3545.9420858760036,-3481.1824651393167,-3412.773338415525,-3340.786279919876,-3265.2966105875107,-3186.3833213366697,-3104.1289924910207,-3018.6197094168265,-2929.944974437964,-2838.1976150913683,-2743.47368879554,-2645.872384002791,-2545.495917919596,-2442.449430873946,-2336.840877424048,-2228.7809143007075,-2118.3827852855634,-2005.7622031301225,-1891.0372286297193,-1774.3281469654767,-1655.7573414439078,-1535.4491647566329,-1413.5298078994674,-1290.1271668876211,-1165.3707074141118,-1039.3913275981795,-912.3212189856235,-784.2937259527944,-655.4432036828575,-525.9048748830972,-395.8146854109448,-265.30915898959563,-134.5252511840056,-3.600202826121829,127.32860693661647,258.1238077774038,388.6481853320871,518.764828157412,648.3372743215685,777.2296574383125,905.3068519656761,1032.4346175779908,1158.4797424396277,1283.3101851894958,1406.795215472685,1528.8055528352738,1649.2135038214687,1767.8930971002026,1884.7202164689916,1999.5727315727222,2112.3306261892167,2222.8761239374394,2331.093811269227,2436.870757610134,2540.0966325235404,2640.663819778483,2738.4675282052985,2833.4058992362343,2925.380111023246,3014.294479049595,3100.0565531372627,3182.577210780211,3261.770746720349,3337.5549587075843,3409.851229376055,3478.584604186774,3543.683865384601,3605.0816019284075,3662.7142753549606,3716.522281546948,3766.4500083739686,3812.4458891867184,3854.462452143772,3892.456365357776,3926.3884778497377,3956.223856303559,3981.9318176179704,4003.4859572529585,4020.864173372968,4034.0486867902837,4043.0260567116557,4047.787192301968,4048.3273600645766,4044.646187055945,4036.747659943169,4024.6401199168895,4008.3362534736493,3987.8530790815735,3963.211929743862,3934.4384314806125,3901.5624777359426,3864.6181997384824,3823.6439328280003,3778.6821787671506,3729.7795640615373,3676.986794307063,3620.358604589211,3559.953705957541,3495.8347280024896,3428.068157561624,3356.7242735875607,3281.8770782076454,3203.6042240144493,3121.9869376227343,3037.1099395362025,2949.061360369212,2857.932653474524,2763.8185040258263,2666.816734619652,2567.028207452101,2464.5567231450673,2359.508916287368,2251.9941477725038,2142.1243940187073,2030.0141331521481,1915.7802282589487,1799.541807795243,1681.4201432721725,1561.5385243204375,1440.0221312585818,1316.9979052848153,1192.5944164284904,1066.9417293887093,940.1712674145967,812.4156743586733,683.8086750729858,554.4849342893286,424.5799141587543,294.22973060764355,163.57100868837426,32.74073709235633,-98.12387799100576,-228.88555949494878,-359.40710638650074,-489.55154068954926,-619.1822544287039,-748.1631563097808,-876.3588179494488,-1003.6346194635054,-1129.8568942333204,-1254.8930726549202,-1378.6118246993028,-1500.883201088923,-1621.5787729224608,-1740.5717695630494,-1857.7372146233183,-1972.9520598735214,-2086.095316914023,-2197.048186445195,-2305.6941849896616,-2411.9192689080337,-2515.6119555724977,-2616.6634415555823,-2714.9677177082535,-2810.4216809956893,-2902.9252429795356,-2992.3814348307824,-3078.696508768061,-3161.780035827006,-3241.544999863011,-3317.9078877096185,-3390.7887754085696,-3460.1114104422213,-3525.803289904103,-3587.7957345453055,-3646.0239586458424,-3700.4271356655445,-3750.948459626022,-3797.535202196619,-3840.13876544435,-3878.7147302282183,-3913.2229002107024,-3943.627341473594,-3969.8964177200182,-3992.002821056419,-4009.923598345937],\"y\":[-4556.542274429347,-4725.560202242071,-4889.62162723994,-5048.554196490615,-5202.1909233810275,-5350.370366392901,-5492.936802334045,-5629.7403937995205,-5760.6373506488035,-5885.490085279824,-6004.167361492897,-6116.544436737171,-6222.503197541006,-6321.932287933412,-6414.727230670723,-6500.790541089305,-6580.031833418212,-6652.367919388294,-6717.722898991102,-6776.028243246066,-6827.222868849293,-6871.253204587226,-6908.073249411601,-6937.644622084107,-6959.936602313741,-6974.926163321646,-6982.597995783935,-6982.944523115767,-6975.965908075055,-6961.670050678404,-6940.072577436613,-6911.196821930914,-6875.073796767283,-6831.742156957529,-6781.248154793677,-6723.645586292773,-6658.995729304649,-6587.367273387472,-6508.836241569422,-6423.485904125721,-6331.406684513396,-6232.6960576164565,-6127.458440463144,-6015.805075591544,-5897.85390724119,-5773.729450565703,-5643.562654060256,-5507.490755411563,-5365.657130980723,-5218.211139134678,-5065.3079576478385,-4907.108415399538,-4743.778818592181,-4575.490771725809,-4402.4209935555555,-4224.751128269345,-4042.6675521172983,-3856.361175726687,-3666.0272423367974,-3471.8651221825194,-3274.078103259439,-3072.873178696581,-2868.4608309642517,-2661.054813136461,-2450.8719274331515,-2238.131801253771,-2023.056660921731,-1805.8711033418292,-1586.8018657904563,-1366.0775940203778,-1143.9286089405252,-920.5866719341357,-696.284749198496,-471.25677514324946,-245.73741510842163,-19.961827572709062,205.83457395580766,431.4163591898533,656.54831926879,880.9957047065944,1104.5244629788606,1326.9014754707073,1547.8947936642164,1767.2738743638292,1984.809813773499,2200.275580240341,2413.446245480131,2624.099214089041,2832.0144511533363,3036.9747077609286,3238.7657442158797,3437.1765507577215,3631.999565581009,3823.0308899486486,4010.070500192333,4192.922456384759,4371.395107473489,4545.301292656903,4714.458538785558,4878.689253565513,5037.820914345728,5191.6862522620395,5340.12343151861,5482.976223578318,5620.0941760437045,5751.332776003199,5876.5536076231465,5995.624503768951,6108.419691438938,6214.819930801401,6314.712647627605,6407.9920589205885,6494.559291544673,6574.32249366739,6647.196938834153,6713.105122503288,6771.976850878494,6823.749321886147,6868.367198154065,6905.78267186121,6935.955521337835,6958.8531593086345,6974.4506726847885,6982.730853822792,6983.684223182721,6977.309043332289,6963.611324256633,6942.604819949836,6914.311016277086,6878.759110112792,6835.985979773289,6786.036146778901,6728.961728993314,6664.822385204739,6593.685251224633,6515.624867596739,6430.72309902059,6339.06904560772,6240.758946100851,6135.8960732001515,6024.590621147865,5906.959585741488,5783.126636944172,5653.221984285247,5517.382235237631,5375.750246779094,5228.474970344891,5075.711290387485,4917.619856767769,4754.3669112010075,4586.124107993802,4413.068329303912,4235.381495163131,4053.250368501782,3866.8663554214977,3676.4253009528734,3482.1272805501185,3284.1763875579104,3082.780516902514,2878.151145240864,2670.503107816565,2460.0543722558973,2247.025809546992,2031.6409624311766,1814.1258114473103,1594.70853885019,1373.6192906490073,1151.0899369364224,927.3538308625092,702.6455662875246,477.2007344870599,251.25568005735465,25.047256247400604,-201.1874200679011,-427.21121356179606,-652.787215559264,-877.6789889011999,-1101.6508122684254,-1324.4679238643675,-1545.8967641753984,-1765.7052176249847,-1983.6628529072316,-2199.541161790566,-2413.1137961765016,-2624.156803202939,-2832.4488581764103,-3037.771495114543,-3239.9093346859636,-3438.650309321462,-3633.7858852803543,-3825.1112814457465,-4012.425684626158,-4195.53246113618,-4374.239364430364,-4548.358738560936,-4717.707717234052,-4882.108418231358,-5041.388132973758,-5195.379510996202,-5343.920739108847,-5486.855715020423,-5624.034215200659,-5755.312056763891,-5880.551253159165,-5999.62016345381,-6112.393635007278,-6218.753139333575,-6318.586900959379,-6411.79001909235,-6498.264581919915,-6577.9197733699575,-6650.671972172478,-6716.444843072705,-6775.169420054795,-6826.784181448651,-6871.235116802513,-6908.475785417511,-6938.467366452027,-6961.178700518177,-6976.586322705004,-6984.6744869782715,-6985.435181919505,-6978.868137782529,-6964.980824859421,-6943.788443162485,-6915.3139034440555,-6879.587799588777,-6836.648372430046,-6786.541465052776,-6729.320469662562,-6665.046266110793,-6593.787152182692,-6515.618765763171,-6430.623999012051,-6338.892904689296,-6240.522594782414,-6135.617131598739,-6024.287411495864,-5906.651041431023,-5782.8322085204045,-5652.961542805198,-5517.175973429185,-5375.618578439952,-5228.438428426629,-5075.790424219366,-4917.83512886939,-4754.738594144917,-4586.672181764293,-4413.812379606079,-4236.340613123689,-4054.443052201026,-3868.31041368064,-3678.1377597991213,-3484.124292757225,-3286.4731456602876,-3085.391170050645,-2881.08872026309,-2673.7794348214384,-2463.680015099119,-2251.0100014601103,-2035.9915470926808,-1818.8491897475446,-1599.8096215875826,-1379.1014573444722,-1156.9550010300163,-933.6020112772635,-709.2754656827153,-484.20932419725153,-258.6382918186871,-32.79758076419044,193.07732769560377,418.7509215497948,643.9878963393555,868.553393197685,1092.2132365508471,1314.7341711900815,1535.8840985966413,1755.4323123226018,1973.1497322329828,2188.809137432293,2402.185397682101,2613.0557031220887,2821.199792099859,3026.4001769169154,3228.4423672891216,3427.1150913264623,3622.210513822192,3813.5244516510725,4000.8565860638078,4184.010671667105,4362.7947418734475,4537.021310607095,4706.507570042015,4871.075584156626,5030.552477876914,5184.770621590579,5333.567810803766,5476.787440716986,5614.278675500241,5745.896612038526,5871.502437934329,5990.9635835423405,6104.153867825696,6210.953637819928,6311.249901499539,6404.936453844014,6491.913995910715,6572.090246722323,6645.380047792717,6711.7054601140135,6770.995853445863,6823.187987749992,6868.226086628949,6906.061902636083,6936.65477433706,6959.971675014507,6975.987252920985,6984.683862998051,6986.051589993436,6980.0882629218695,6966.799460829897,6946.198509838973,6918.306471456615,6883.152122158859,6840.771924264271,6791.209988131362,6734.518025729551,6670.755295644884,6599.988539598603,6522.291910568615,6437.746892619372,6346.442212556098,6248.473743536016,6143.944400775962,6032.964029513055,5915.649285381476,5792.123507381294,5662.516583623411,5526.964810045171,5385.610742297591,5238.603041012959,5086.096310670625,4928.250932279675,4765.232890109229,4597.213592693512,4424.369688350124,4246.882875448302,4064.9397076665155,3878.731394483707,3688.453597147047,3494.306220354325,3296.493199906697,3095.222286560601,2890.7048263323295,2683.155537489851,2472.7922844744767,2259.835848986308,2044.509698473389,1827.0397522528763,1607.6541454975652],\"z\":[4566.670010664725,4451.367271057419,4331.383051387771,4206.843297093814,4077.8787624097986,3944.624875049209,3807.2215956788286,3665.813272308663,3520.548489724536,3371.57991410479,3219.0641329666046,3063.161490599758,2904.0359191523526,2741.8547655424395,2576.7886143775827,2409.011107075505,2238.69875738171,2066.030763494207,1891.1888170086688,1714.3569089065197,1535.7211328148692,1355.4694857742434,1173.7916667535683,990.8788731624578,806.923595607743,622.1194111545396,436.66077534721165,250.74281325417417,64.56110980076393,-121.68850034471,-307.8101430649098,-493.6081150003079,-678.8870934041356,-863.452345378721,-1047.109936233197,-1229.6669366991541,-1410.9316287516335,-1590.713709779487,-1768.824494859196,-1945.0771168889214,-2119.2867243459527,-2291.270676436784,-2460.8487354174204,-2627.843255865176,-2792.0793706963573,-2953.3851737256396,-3111.5918985772173,-3266.5340937636606,-3418.049793754959,-3565.980685875011,-3710.17227286504,-3850.474030968074,-3986.7395633936726,-4118.826749033345,-4246.597886305133,-4369.919832014662,-4488.664135127919,-4602.707165361308,-4711.930236498685,-4816.219724357885,-4915.467179331676,-5009.569433439033,-5098.428701826427,-5181.952678667032,-5260.054627410505,-5332.65346534202,-5399.673842413503,-5461.046214316328,-5516.706909765945,-5566.598191977988,-5610.668314304054,-5648.871570037442,-5681.168336333851,-5707.525112268592,-5727.914551004546,-5742.315486065498,-5750.712951707977,-5753.098197386515,-5749.46869630776,-5739.828148071723,-5724.186475397218,-5702.559814931898,-5674.970502147223,-5641.447050320222,-5602.024123605435,-5556.742504201731,-5505.6490536205965,-5448.796668063924,-5386.244227922785,-5318.056541409056,-5244.304282337434,-5165.063922075461,-5080.417655685553,-4990.453322285096,-4895.264319655726,-4794.949513138453,-4689.613138854345,-4579.364701299222,-4464.318865363626,-4344.595342838891,-4220.318773473997,-4091.6186006583107,-3958.62894180927,-3821.4884535566093,-3680.3401918175273,-3535.3314668708563,-3386.6136935434993,-3234.3422366329114,-3078.6762516980584,-2919.7785213604952,-2757.8152872662804,-2592.9560778693303,-2425.3735322037246,-2255.2432198262236,-2082.743457112442,-1908.05512010541,-1731.3614541191528,-1552.8478803098628,-1372.701799435466,-1191.112393029103,-1008.2704222220653,-824.3680244576939,-639.5985083389754,-454.15614686619443,-268.2359693162269,-82.03355202704111,104.25519165093075,290.4342219698865,476.30758369839805,661.6796170640276,846.3551684569671,1030.139800621854,1212.8400020740376,1394.2633954685573,1574.2189446617217,1752.5171602018713,1928.970302992033,2103.3925858721423,2275.6003728724822,2445.4123758951373,2612.64984858993,2777.136777190578,2938.700068093997,3097.1697319626915,3252.379064147347,3404.1648212281443,3552.3673934844846,3696.830973113686,3837.403718022117,3973.937911028459,4106.290114321502,4234.3213190275865,4357.897089751156,4476.88770395931,4591.168286091473,4700.618936284288,4805.124853607174,4904.576453717203,4998.869480843554,5087.905114025996,5171.590067532773,5249.836685394798,5322.56302999711,5389.692964675443,5451.15623027128,5506.888515604736,5556.8315218266835,5600.933020629444,5639.146906261238,5671.433241361694,5697.758296564481,5718.094583866899,5732.420883750314,5740.722266041403,5742.990104506997,5739.222085178228,5729.422208400857,5713.600784613605,5691.774423856287,5663.966019013362,5630.204722800857,5590.5259185069435,5544.971184499494,5493.5882525167435,5436.43095976073,5373.559194815358,5305.038837417033,5230.941692106498,5151.345415798383,5066.333439306151,4975.994882868002,4880.42446572302,4779.722409792515,4673.994337528833,4563.351163999226,4447.908983278782,4327.788949235838,4203.117150797538,4074.0244817934017,3940.646505482157,3803.123313873659,3661.5993819701416,3516.2234170543766,3367.1482031652777,3214.530440908815,3058.530582760227,2899.3126640232094,2737.0441296211234,2571.895656900409,2404.040974641854,2233.656678474,2060.922042901155,1886.018830156701,1709.1310961071881,1530.4449934348158,1350.1485723342962,1168.4315789654343,985.4852519088349,801.5021168744653,616.6757799222086,431.2007194491088,245.2720772103859,59.08544863378969,-127.1633273027837,-313.27837836769817,-499.0640092747916,-684.3249115249362,-868.8663726197299,-1052.494484389469,-1235.0163501710983,-1416.24029058444,-1595.976047649263,-1774.034987000096,-1950.2302979528595,-2124.377191188493,-2296.29309382282,-2465.797841639169,-2632.713868267194,-2796.8663911009935,-2958.083593752847,-3116.196804854667,-3271.040673018885,-3422.453337788193,-3570.2765964046953,-3714.3560662435107,-3854.5413427629346,-3990.686152829232,-4122.648503291052,-4250.290824677568,-4373.480109910625,-4492.088047925969,-4605.9911521081685,-4715.07088345117,-4819.213768365502,-4918.311511057771,-5012.26110041932,-5100.964911362424,-5184.330800553884,-5262.2721964973425,-5334.708183923861,-5401.563582454044,-5462.76901950024,-5518.2609973805975,-5567.981954623522,-5611.880321431698,-5649.910569315169,-5682.033254839475,-5708.215057509906,-5728.428811766182,-5742.6535330823945,-5750.874438165437,-5753.082959246556,-5749.276752461915,-5739.459700320205,-5723.641908254443,-5701.839695258384,-5674.075578608122,-5640.378252670358,-5600.782561801208,-5555.3294673400105,-5504.066008704766,-5447.045258597707,-5384.326272331763,-5315.974031290839,-5242.0593805405915,-5162.658960608008,-5077.855133454042,-4987.735902664586,-4892.3948278922935,-4791.930933584616,-4686.448612039587,-4576.057520836206,-4460.8724746927455,-4341.013331811693,-4216.604874779177,-4087.776686090539,-3954.6630183856305,-3817.4026594814104,-3676.1387922992376,-3531.018849795185,-3382.1943650043336,-3229.8208163264,-3074.057468183167,-2915.0672071904173,-2753.0163739952923,-2588.0745909398365,-2420.414585718643,-2250.2120112120883,-2077.6452616782885,-1902.8952855048271,-1726.1453947192952,-1547.5810714758009,-1367.3897717348834,-1185.7607263653047,-1002.8847399018947,-818.9539872005599,-634.1618082357139,-448.70250129399574,-262.7711148175566,-76.56323816103965,109.72520847837993,295.8981846883997,481.7597407601846,667.1142286283805,851.7665125630336,1035.5221793434732,1218.1877476475722,1399.5708763863968,1579.4805717240704,1757.7273925185289,1934.1236539271201,2108.483628924804,2280.6237474856516,2450.362793186199,2617.5220969952334,2781.9257280187576,2943.4006809805023,3101.7770602198125,3256.8882600041256,3408.5711409531054,3556.66620238818,3701.0177504230637,3841.474061624224,3977.887542077008,4110.114881702918,4238.017203682238,4361.460208845428,4480.314314905387,4594.454790411646,4703.761883315014,4808.120944043399,4907.422542990023,5001.562582332407,5090.442402101085,5173.96888042621,5252.054527899074,5324.617575988714,5391.582059462373,5452.877892763249,5508.440940304505],\"type\":\"scatter3d\"},{\"marker\":{\"color\":\"red\",\"size\":5},\"mode\":\"markers+text\",\"name\":\"Pc=2.78e-04\",\"text\":[\"Pc=2.8e-04\"],\"textposition\":\"top center\",\"x\":[2845.933754576408],\"y\":[4016.9079352798226],\"z\":[-4380.956482260773],\"type\":\"scatter3d\"}],                        {\"template\":{\"data\":{\"histogram2dcontour\":[{\"type\":\"histogram2dcontour\",\"colorbar\":{\"outlinewidth\":0,\"ticks\":\"\"},\"colorscale\":[[0.0,\"#0d0887\"],[0.1111111111111111,\"#46039f\"],[0.2222222222222222,\"#7201a8\"],[0.3333333333333333,\"#9c179e\"],[0.4444444444444444,\"#bd3786\"],[0.5555555555555556,\"#d8576b\"],[0.6666666666666666,\"#ed7953\"],[0.7777777777777778,\"#fb9f3a\"],[0.8888888888888888,\"#fdca26\"],[1.0,\"#f0f921\"]]}],\"choropleth\":[{\"type\":\"choropleth\",\"colorbar\":{\"outlinewidth\":0,\"ticks\":\"\"}}],\"histogram2d\":[{\"type\":\"histogram2d\",\"colorbar\":{\"outlinewidth\":0,\"ticks\":\"\"},\"colorscale\":[[0.0,\"#0d0887\"],[0.1111111111111111,\"#46039f\"],[0.2222222222222222,\"#7201a8\"],[0.3333333333333333,\"#9c179e\"],[0.4444444444444444,\"#bd3786\"],[0.5555555555555556,\"#d8576b\"],[0.6666666666666666,\"#ed7953\"],[0.7777777777777778,\"#fb9f3a\"],[0.8888888888888888,\"#fdca26\"],[1.0,\"#f0f921\"]]}],\"heatmap\":[{\"type\":\"heatmap\",\"colorbar\":{\"outlinewidth\":0,\"ticks\":\"\"},\"colorscale\":[[0.0,\"#0d0887\"],[0.1111111111111111,\"#46039f\"],[0.2222222222222222,\"#7201a8\"],[0.3333333333333333,\"#9c179e\"],[0.4444444444444444,\"#bd3786\"],[0.5555555555555556,\"#d8576b\"],[0.6666666666666666,\"#ed7953\"],[0.7777777777777778,\"#fb9f3a\"],[0.8888888888888888,\"#fdca26\"],[1.0,\"#f0f921\"]]}],\"heatmapgl\":[{\"type\":\"heatmapgl\",\"colorbar\":{\"outlinewidth\":0,\"ticks\":\"\"},\"colorscale\":[[0.0,\"#0d0887\"],[0.1111111111111111,\"#46039f\"],[0.2222222222222222,\"#7201a8\"],[0.3333333333333333,\"#9c179e\"],[0.4444444444444444,\"#bd3786\"],[0.5555555555555556,\"#d8576b\"],[0.6666666666666666,\"#ed7953\"],[0.7777777777777778,\"#fb9f3a\"],[0.8888888888888888,\"#fdca26\"],[1.0,\"#f0f921\"]]}],\"contourcarpet\":[{\"type\":\"contourcarpet\",\"colorbar\":{\"outlinewidth\":0,\"ticks\":\"\"}}],\"contour\":[{\"type\":\"contour\",\"colorbar\":{\"outlinewidth\":0,\"ticks\":\"\"},\"colorscale\":[[0.0,\"#0d0887\"],[0.1111111111111111,\"#46039f\"],[0.2222222222222222,\"#7201a8\"],[0.3333333333333333,\"#9c179e\"],[0.4444444444444444,\"#bd3786\"],[0.5555555555555556,\"#d8576b\"],[0.6666666666666666,\"#ed7953\"],[0.7777777777777778,\"#fb9f3a\"],[0.8888888888888888,\"#fdca26\"],[1.0,\"#f0f921\"]]}],\"surface\":[{\"type\":\"surface\",\"colorbar\":{\"outlinewidth\":0,\"ticks\":\"\"},\"colorscale\":[[0.0,\"#0d0887\"],[0.1111111111111111,\"#46039f\"],[0.2222222222222222,\"#7201a8\"],[0.3333333333333333,\"#9c179e\"],[0.4444444444444444,\"#bd3786\"],[0.5555555555555556,\"#d8576b\"],[0.6666666666666666,\"#ed7953\"],[0.7777777777777778,\"#fb9f3a\"],[0.8888888888888888,\"#fdca26\"],[1.0,\"#f0f921\"]]}],\"mesh3d\":[{\"type\":\"mesh3d\",\"colorbar\":{\"outlinewidth\":0,\"ticks\":\"\"}}],\"scatter\":[{\"fillpattern\":{\"fillmode\":\"overlay\",\"size\":10,\"solidity\":0.2},\"type\":\"scatter\"}],\"parcoords\":[{\"type\":\"parcoords\",\"line\":{\"colorbar\":{\"outlinewidth\":0,\"ticks\":\"\"}}}],\"scatterpolargl\":[{\"type\":\"scatterpolargl\",\"marker\":{\"colorbar\":{\"outlinewidth\":0,\"ticks\":\"\"}}}],\"bar\":[{\"error_x\":{\"color\":\"#2a3f5f\"},\"error_y\":{\"color\":\"#2a3f5f\"},\"marker\":{\"line\":{\"color\":\"#E5ECF6\",\"width\":0.5},\"pattern\":{\"fillmode\":\"overlay\",\"size\":10,\"solidity\":0.2}},\"type\":\"bar\"}],\"scattergeo\":[{\"type\":\"scattergeo\",\"marker\":{\"colorbar\":{\"outlinewidth\":0,\"ticks\":\"\"}}}],\"scatterpolar\":[{\"type\":\"scatterpolar\",\"marker\":{\"colorbar\":{\"outlinewidth\":0,\"ticks\":\"\"}}}],\"histogram\":[{\"marker\":{\"pattern\":{\"fillmode\":\"overlay\",\"size\":10,\"solidity\":0.2}},\"type\":\"histogram\"}],\"scattergl\":[{\"type\":\"scattergl\",\"marker\":{\"colorbar\":{\"outlinewidth\":0,\"ticks\":\"\"}}}],\"scatter3d\":[{\"type\":\"scatter3d\",\"line\":{\"colorbar\":{\"outlinewidth\":0,\"ticks\":\"\"}},\"marker\":{\"colorbar\":{\"outlinewidth\":0,\"ticks\":\"\"}}}],\"scattermapbox\":[{\"type\":\"scattermapbox\",\"marker\":{\"colorbar\":{\"outlinewidth\":0,\"ticks\":\"\"}}}],\"scatterternary\":[{\"type\":\"scatterternary\",\"marker\":{\"colorbar\":{\"outlinewidth\":0,\"ticks\":\"\"}}}],\"scattercarpet\":[{\"type\":\"scattercarpet\",\"marker\":{\"colorbar\":{\"outlinewidth\":0,\"ticks\":\"\"}}}],\"carpet\":[{\"aaxis\":{\"endlinecolor\":\"#2a3f5f\",\"gridcolor\":\"white\",\"linecolor\":\"white\",\"minorgridcolor\":\"white\",\"startlinecolor\":\"#2a3f5f\"},\"baxis\":{\"endlinecolor\":\"#2a3f5f\",\"gridcolor\":\"white\",\"linecolor\":\"white\",\"minorgridcolor\":\"white\",\"startlinecolor\":\"#2a3f5f\"},\"type\":\"carpet\"}],\"table\":[{\"cells\":{\"fill\":{\"color\":\"#EBF0F8\"},\"line\":{\"color\":\"white\"}},\"header\":{\"fill\":{\"color\":\"#C8D4E3\"},\"line\":{\"color\":\"white\"}},\"type\":\"table\"}],\"barpolar\":[{\"marker\":{\"line\":{\"color\":\"#E5ECF6\",\"width\":0.5},\"pattern\":{\"fillmode\":\"overlay\",\"size\":10,\"solidity\":0.2}},\"type\":\"barpolar\"}],\"pie\":[{\"automargin\":true,\"type\":\"pie\"}]},\"layout\":{\"autotypenumbers\":\"strict\",\"colorway\":[\"#636efa\",\"#EF553B\",\"#00cc96\",\"#ab63fa\",\"#FFA15A\",\"#19d3f3\",\"#FF6692\",\"#B6E880\",\"#FF97FF\",\"#FECB52\"],\"font\":{\"color\":\"#2a3f5f\"},\"hovermode\":\"closest\",\"hoverlabel\":{\"align\":\"left\"},\"paper_bgcolor\":\"white\",\"plot_bgcolor\":\"#E5ECF6\",\"polar\":{\"bgcolor\":\"#E5ECF6\",\"angularaxis\":{\"gridcolor\":\"white\",\"linecolor\":\"white\",\"ticks\":\"\"},\"radialaxis\":{\"gridcolor\":\"white\",\"linecolor\":\"white\",\"ticks\":\"\"}},\"ternary\":{\"bgcolor\":\"#E5ECF6\",\"aaxis\":{\"gridcolor\":\"white\",\"linecolor\":\"white\",\"ticks\":\"\"},\"baxis\":{\"gridcolor\":\"white\",\"linecolor\":\"white\",\"ticks\":\"\"},\"caxis\":{\"gridcolor\":\"white\",\"linecolor\":\"white\",\"ticks\":\"\"}},\"coloraxis\":{\"colorbar\":{\"outlinewidth\":0,\"ticks\":\"\"}},\"colorscale\":{\"sequential\":[[0.0,\"#0d0887\"],[0.1111111111111111,\"#46039f\"],[0.2222222222222222,\"#7201a8\"],[0.3333333333333333,\"#9c179e\"],[0.4444444444444444,\"#bd3786\"],[0.5555555555555556,\"#d8576b\"],[0.6666666666666666,\"#ed7953\"],[0.7777777777777778,\"#fb9f3a\"],[0.8888888888888888,\"#fdca26\"],[1.0,\"#f0f921\"]],\"sequentialminus\":[[0.0,\"#0d0887\"],[0.1111111111111111,\"#46039f\"],[0.2222222222222222,\"#7201a8\"],[0.3333333333333333,\"#9c179e\"],[0.4444444444444444,\"#bd3786\"],[0.5555555555555556,\"#d8576b\"],[0.6666666666666666,\"#ed7953\"],[0.7777777777777778,\"#fb9f3a\"],[0.8888888888888888,\"#fdca26\"],[1.0,\"#f0f921\"]],\"diverging\":[[0,\"#8e0152\"],[0.1,\"#c51b7d\"],[0.2,\"#de77ae\"],[0.3,\"#f1b6da\"],[0.4,\"#fde0ef\"],[0.5,\"#f7f7f7\"],[0.6,\"#e6f5d0\"],[0.7,\"#b8e186\"],[0.8,\"#7fbc41\"],[0.9,\"#4d9221\"],[1,\"#276419\"]]},\"xaxis\":{\"gridcolor\":\"white\",\"linecolor\":\"white\",\"ticks\":\"\",\"title\":{\"standoff\":15},\"zerolinecolor\":\"white\",\"automargin\":true,\"zerolinewidth\":2},\"yaxis\":{\"gridcolor\":\"white\",\"linecolor\":\"white\",\"ticks\":\"\",\"title\":{\"standoff\":15},\"zerolinecolor\":\"white\",\"automargin\":true,\"zerolinewidth\":2},\"scene\":{\"xaxis\":{\"backgroundcolor\":\"#E5ECF6\",\"gridcolor\":\"white\",\"linecolor\":\"white\",\"showbackground\":true,\"ticks\":\"\",\"zerolinecolor\":\"white\",\"gridwidth\":2},\"yaxis\":{\"backgroundcolor\":\"#E5ECF6\",\"gridcolor\":\"white\",\"linecolor\":\"white\",\"showbackground\":true,\"ticks\":\"\",\"zerolinecolor\":\"white\",\"gridwidth\":2},\"zaxis\":{\"backgroundcolor\":\"#E5ECF6\",\"gridcolor\":\"white\",\"linecolor\":\"white\",\"showbackground\":true,\"ticks\":\"\",\"zerolinecolor\":\"white\",\"gridwidth\":2}},\"shapedefaults\":{\"line\":{\"color\":\"#2a3f5f\"}},\"annotationdefaults\":{\"arrowcolor\":\"#2a3f5f\",\"arrowhead\":0,\"arrowwidth\":1},\"geo\":{\"bgcolor\":\"white\",\"landcolor\":\"#E5ECF6\",\"subunitcolor\":\"white\",\"showland\":true,\"showlakes\":true,\"lakecolor\":\"white\"},\"title\":{\"x\":0.05},\"mapbox\":{\"style\":\"light\"}}},\"scene\":{\"xaxis\":{\"visible\":false},\"yaxis\":{\"visible\":false},\"zaxis\":{\"visible\":false}},\"title\":{\"text\":\"Demo: SAT-A & SAT-B with risky event\"},\"showlegend\":true,\"height\":720},                        {\"responsive\": true}                    ).then(function(){\n",
              "                            \n",
              "var gd = document.getElementById('0ef3849d-4933-4d1b-af4a-45b014085a14');\n",
              "var x = new MutationObserver(function (mutations, observer) {{\n",
              "        var display = window.getComputedStyle(gd).display;\n",
              "        if (!display || display === 'none') {{\n",
              "            console.log([gd, 'removed!']);\n",
              "            Plotly.purge(gd);\n",
              "            observer.disconnect();\n",
              "        }}\n",
              "}});\n",
              "\n",
              "// Listen for the removal of the full notebook cells\n",
              "var notebookContainer = gd.closest('#notebook-container');\n",
              "if (notebookContainer) {{\n",
              "    x.observe(notebookContainer, {childList: true});\n",
              "}}\n",
              "\n",
              "// Listen for the clearing of the current output cell\n",
              "var outputEl = gd.closest('.output');\n",
              "if (outputEl) {{\n",
              "    x.observe(outputEl, {childList: true});\n",
              "}}\n",
              "\n",
              "                        })                };                            </script>        </div>\n",
              "</body>\n",
              "</html>"
            ]
          },
          "metadata": {}
        },
        {
          "output_type": "stream",
          "name": "stderr",
          "text": [
            "/usr/local/lib/python3.12/dist-packages/jupyter_client/session.py:203: DeprecationWarning:\n",
            "\n",
            "datetime.datetime.utcnow() is deprecated and scheduled for removal in a future version. Use timezone-aware objects to represent datetimes in UTC: datetime.datetime.now(datetime.UTC).\n",
            "\n"
          ]
        }
      ]
    },
    {
      "cell_type": "markdown",
      "source": [
        "Risk leaderboard builder"
      ],
      "metadata": {
        "id": "yslJzMiUQqxV"
      }
    },
    {
      "cell_type": "code",
      "source": [
        "import pandas as pd\n",
        "import numpy as np\n",
        "\n",
        "def build_leaderboard(results, topn=20):\n",
        "    \"\"\"\n",
        "    results: list of dicts from process_batch: {\"pair\",\"pre\",\"cam\",\"accepted\"}\n",
        "    pair expected keys: {\"score\",\"tca_min\",\"id_primary\",\"id_secondary\"}\n",
        "    \"\"\"\n",
        "    rows = []\n",
        "    for r in results:\n",
        "        p = r[\"pair\"]; pre = r[\"pre\"]; cam = r.get(\"cam\", {})\n",
        "        rows.append({\n",
        "            \"primary\": p.get(\"id_primary\",\"?\"),\n",
        "            \"secondary\": p.get(\"id_secondary\",\"?\"),\n",
        "            \"gnn_score\": p.get(\"score\", np.nan),\n",
        "            \"t2TCA_min\": p.get(\"tca_min\", np.nan),\n",
        "            \"Pc_pre\": pre.get(\"Pc\", np.nan),\n",
        "            \"Pc_post\": cam.get(\"Pc_post\", np.nan),\n",
        "            \"dV_m_s\": cam.get(\"dv_last_ms\", np.nan),\n",
        "            \"accepted\": r.get(\"accepted\", False)\n",
        "        })\n",
        "    df = pd.DataFrame(rows)\n",
        "    df[\"priority\"] = (df[\"gnn_score\"].fillna(0)*0.6\n",
        "                      + (df[\"Pc_pre\"].fillna(0))*0.3\n",
        "                      + (1.0/np.maximum(df[\"t2TCA_min\"].fillna(1.0),1.0))*0.1)\n",
        "    df = df.sort_values([\"accepted\",\"priority\",\"Pc_pre\"], ascending=[False, False, False]).head(topn)\n",
        "    return df\n",
        "\n",
        "# Example with dummy one\n",
        "dummy_results = [{\n",
        "    \"pair\": {\"id_primary\":\"SAT-A\",\"id_secondary\":\"SAT-B\",\"score\":0.92,\"tca_min\":120},\n",
        "    \"pre\": {\"Pc\": pre[\"Pc\"]},\n",
        "    \"cam\": {\"Pc_post\": 1e-5, \"dv_last_ms\": 2.1},\n",
        "    \"accepted\": True\n",
        "}]\n",
        "lb = build_leaderboard(dummy_results, topn=10)\n",
        "lb\n"
      ],
      "metadata": {
        "colab": {
          "base_uri": "https://localhost:8080/",
          "height": 248
        },
        "id": "TUISusfhNT6F",
        "outputId": "24fdc718-ce65-4505-c1dc-f636c58d3f55"
      },
      "execution_count": null,
      "outputs": [
        {
          "output_type": "stream",
          "name": "stderr",
          "text": [
            "/usr/local/lib/python3.12/dist-packages/jupyter_client/session.py:203: DeprecationWarning:\n",
            "\n",
            "datetime.datetime.utcnow() is deprecated and scheduled for removal in a future version. Use timezone-aware objects to represent datetimes in UTC: datetime.datetime.now(datetime.UTC).\n",
            "\n"
          ]
        },
        {
          "output_type": "execute_result",
          "data": {
            "text/plain": [
              "  primary secondary  gnn_score  t2TCA_min    Pc_pre  Pc_post  dV_m_s  \\\n",
              "0   SAT-A     SAT-B       0.92        120  0.000278  0.00001     2.1   \n",
              "\n",
              "   accepted  priority  \n",
              "0      True  0.552917  "
            ],
            "text/html": [
              "\n",
              "  <div id=\"df-2d8e9567-7e3a-4a35-9ad7-7211bada7f95\" class=\"colab-df-container\">\n",
              "    <div>\n",
              "<style scoped>\n",
              "    .dataframe tbody tr th:only-of-type {\n",
              "        vertical-align: middle;\n",
              "    }\n",
              "\n",
              "    .dataframe tbody tr th {\n",
              "        vertical-align: top;\n",
              "    }\n",
              "\n",
              "    .dataframe thead th {\n",
              "        text-align: right;\n",
              "    }\n",
              "</style>\n",
              "<table border=\"1\" class=\"dataframe\">\n",
              "  <thead>\n",
              "    <tr style=\"text-align: right;\">\n",
              "      <th></th>\n",
              "      <th>primary</th>\n",
              "      <th>secondary</th>\n",
              "      <th>gnn_score</th>\n",
              "      <th>t2TCA_min</th>\n",
              "      <th>Pc_pre</th>\n",
              "      <th>Pc_post</th>\n",
              "      <th>dV_m_s</th>\n",
              "      <th>accepted</th>\n",
              "      <th>priority</th>\n",
              "    </tr>\n",
              "  </thead>\n",
              "  <tbody>\n",
              "    <tr>\n",
              "      <th>0</th>\n",
              "      <td>SAT-A</td>\n",
              "      <td>SAT-B</td>\n",
              "      <td>0.92</td>\n",
              "      <td>120</td>\n",
              "      <td>0.000278</td>\n",
              "      <td>0.00001</td>\n",
              "      <td>2.1</td>\n",
              "      <td>True</td>\n",
              "      <td>0.552917</td>\n",
              "    </tr>\n",
              "  </tbody>\n",
              "</table>\n",
              "</div>\n",
              "    <div class=\"colab-df-buttons\">\n",
              "\n",
              "  <div class=\"colab-df-container\">\n",
              "    <button class=\"colab-df-convert\" onclick=\"convertToInteractive('df-2d8e9567-7e3a-4a35-9ad7-7211bada7f95')\"\n",
              "            title=\"Convert this dataframe to an interactive table.\"\n",
              "            style=\"display:none;\">\n",
              "\n",
              "  <svg xmlns=\"http://www.w3.org/2000/svg\" height=\"24px\" viewBox=\"0 -960 960 960\">\n",
              "    <path d=\"M120-120v-720h720v720H120Zm60-500h600v-160H180v160Zm220 220h160v-160H400v160Zm0 220h160v-160H400v160ZM180-400h160v-160H180v160Zm440 0h160v-160H620v160ZM180-180h160v-160H180v160Zm440 0h160v-160H620v160Z\"/>\n",
              "  </svg>\n",
              "    </button>\n",
              "\n",
              "  <style>\n",
              "    .colab-df-container {\n",
              "      display:flex;\n",
              "      gap: 12px;\n",
              "    }\n",
              "\n",
              "    .colab-df-convert {\n",
              "      background-color: #E8F0FE;\n",
              "      border: none;\n",
              "      border-radius: 50%;\n",
              "      cursor: pointer;\n",
              "      display: none;\n",
              "      fill: #1967D2;\n",
              "      height: 32px;\n",
              "      padding: 0 0 0 0;\n",
              "      width: 32px;\n",
              "    }\n",
              "\n",
              "    .colab-df-convert:hover {\n",
              "      background-color: #E2EBFA;\n",
              "      box-shadow: 0px 1px 2px rgba(60, 64, 67, 0.3), 0px 1px 3px 1px rgba(60, 64, 67, 0.15);\n",
              "      fill: #174EA6;\n",
              "    }\n",
              "\n",
              "    .colab-df-buttons div {\n",
              "      margin-bottom: 4px;\n",
              "    }\n",
              "\n",
              "    [theme=dark] .colab-df-convert {\n",
              "      background-color: #3B4455;\n",
              "      fill: #D2E3FC;\n",
              "    }\n",
              "\n",
              "    [theme=dark] .colab-df-convert:hover {\n",
              "      background-color: #434B5C;\n",
              "      box-shadow: 0px 1px 3px 1px rgba(0, 0, 0, 0.15);\n",
              "      filter: drop-shadow(0px 1px 2px rgba(0, 0, 0, 0.3));\n",
              "      fill: #FFFFFF;\n",
              "    }\n",
              "  </style>\n",
              "\n",
              "    <script>\n",
              "      const buttonEl =\n",
              "        document.querySelector('#df-2d8e9567-7e3a-4a35-9ad7-7211bada7f95 button.colab-df-convert');\n",
              "      buttonEl.style.display =\n",
              "        google.colab.kernel.accessAllowed ? 'block' : 'none';\n",
              "\n",
              "      async function convertToInteractive(key) {\n",
              "        const element = document.querySelector('#df-2d8e9567-7e3a-4a35-9ad7-7211bada7f95');\n",
              "        const dataTable =\n",
              "          await google.colab.kernel.invokeFunction('convertToInteractive',\n",
              "                                                    [key], {});\n",
              "        if (!dataTable) return;\n",
              "\n",
              "        const docLinkHtml = 'Like what you see? Visit the ' +\n",
              "          '<a target=\"_blank\" href=https://colab.research.google.com/notebooks/data_table.ipynb>data table notebook</a>'\n",
              "          + ' to learn more about interactive tables.';\n",
              "        element.innerHTML = '';\n",
              "        dataTable['output_type'] = 'display_data';\n",
              "        await google.colab.output.renderOutput(dataTable, element);\n",
              "        const docLink = document.createElement('div');\n",
              "        docLink.innerHTML = docLinkHtml;\n",
              "        element.appendChild(docLink);\n",
              "      }\n",
              "    </script>\n",
              "  </div>\n",
              "\n",
              "\n",
              "  <div id=\"id_67ff32e1-9e2b-45be-8482-def4592ca46f\">\n",
              "    <style>\n",
              "      .colab-df-generate {\n",
              "        background-color: #E8F0FE;\n",
              "        border: none;\n",
              "        border-radius: 50%;\n",
              "        cursor: pointer;\n",
              "        display: none;\n",
              "        fill: #1967D2;\n",
              "        height: 32px;\n",
              "        padding: 0 0 0 0;\n",
              "        width: 32px;\n",
              "      }\n",
              "\n",
              "      .colab-df-generate:hover {\n",
              "        background-color: #E2EBFA;\n",
              "        box-shadow: 0px 1px 2px rgba(60, 64, 67, 0.3), 0px 1px 3px 1px rgba(60, 64, 67, 0.15);\n",
              "        fill: #174EA6;\n",
              "      }\n",
              "\n",
              "      [theme=dark] .colab-df-generate {\n",
              "        background-color: #3B4455;\n",
              "        fill: #D2E3FC;\n",
              "      }\n",
              "\n",
              "      [theme=dark] .colab-df-generate:hover {\n",
              "        background-color: #434B5C;\n",
              "        box-shadow: 0px 1px 3px 1px rgba(0, 0, 0, 0.15);\n",
              "        filter: drop-shadow(0px 1px 2px rgba(0, 0, 0, 0.3));\n",
              "        fill: #FFFFFF;\n",
              "      }\n",
              "    </style>\n",
              "    <button class=\"colab-df-generate\" onclick=\"generateWithVariable('lb')\"\n",
              "            title=\"Generate code using this dataframe.\"\n",
              "            style=\"display:none;\">\n",
              "\n",
              "  <svg xmlns=\"http://www.w3.org/2000/svg\" height=\"24px\"viewBox=\"0 0 24 24\"\n",
              "       width=\"24px\">\n",
              "    <path d=\"M7,19H8.4L18.45,9,17,7.55,7,17.6ZM5,21V16.75L18.45,3.32a2,2,0,0,1,2.83,0l1.4,1.43a1.91,1.91,0,0,1,.58,1.4,1.91,1.91,0,0,1-.58,1.4L9.25,21ZM18.45,9,17,7.55Zm-12,3A5.31,5.31,0,0,0,4.9,8.1,5.31,5.31,0,0,0,1,6.5,5.31,5.31,0,0,0,4.9,4.9,5.31,5.31,0,0,0,6.5,1,5.31,5.31,0,0,0,8.1,4.9,5.31,5.31,0,0,0,12,6.5,5.46,5.46,0,0,0,6.5,12Z\"/>\n",
              "  </svg>\n",
              "    </button>\n",
              "    <script>\n",
              "      (() => {\n",
              "      const buttonEl =\n",
              "        document.querySelector('#id_67ff32e1-9e2b-45be-8482-def4592ca46f button.colab-df-generate');\n",
              "      buttonEl.style.display =\n",
              "        google.colab.kernel.accessAllowed ? 'block' : 'none';\n",
              "\n",
              "      buttonEl.onclick = () => {\n",
              "        google.colab.notebook.generateWithVariable('lb');\n",
              "      }\n",
              "      })();\n",
              "    </script>\n",
              "  </div>\n",
              "\n",
              "    </div>\n",
              "  </div>\n"
            ],
            "application/vnd.google.colaboratory.intrinsic+json": {
              "type": "dataframe",
              "variable_name": "lb",
              "summary": "{\n  \"name\": \"lb\",\n  \"rows\": 1,\n  \"fields\": [\n    {\n      \"column\": \"primary\",\n      \"properties\": {\n        \"dtype\": \"string\",\n        \"num_unique_values\": 1,\n        \"samples\": [\n          \"SAT-A\"\n        ],\n        \"semantic_type\": \"\",\n        \"description\": \"\"\n      }\n    },\n    {\n      \"column\": \"secondary\",\n      \"properties\": {\n        \"dtype\": \"string\",\n        \"num_unique_values\": 1,\n        \"samples\": [\n          \"SAT-B\"\n        ],\n        \"semantic_type\": \"\",\n        \"description\": \"\"\n      }\n    },\n    {\n      \"column\": \"gnn_score\",\n      \"properties\": {\n        \"dtype\": \"number\",\n        \"std\": null,\n        \"min\": 0.92,\n        \"max\": 0.92,\n        \"num_unique_values\": 1,\n        \"samples\": [\n          0.92\n        ],\n        \"semantic_type\": \"\",\n        \"description\": \"\"\n      }\n    },\n    {\n      \"column\": \"t2TCA_min\",\n      \"properties\": {\n        \"dtype\": \"number\",\n        \"std\": null,\n        \"min\": 120,\n        \"max\": 120,\n        \"num_unique_values\": 1,\n        \"samples\": [\n          120\n        ],\n        \"semantic_type\": \"\",\n        \"description\": \"\"\n      }\n    },\n    {\n      \"column\": \"Pc_pre\",\n      \"properties\": {\n        \"dtype\": \"number\",\n        \"std\": null,\n        \"min\": 0.0002777392011031887,\n        \"max\": 0.0002777392011031887,\n        \"num_unique_values\": 1,\n        \"samples\": [\n          0.0002777392011031887\n        ],\n        \"semantic_type\": \"\",\n        \"description\": \"\"\n      }\n    },\n    {\n      \"column\": \"Pc_post\",\n      \"properties\": {\n        \"dtype\": \"number\",\n        \"std\": null,\n        \"min\": 1e-05,\n        \"max\": 1e-05,\n        \"num_unique_values\": 1,\n        \"samples\": [\n          1e-05\n        ],\n        \"semantic_type\": \"\",\n        \"description\": \"\"\n      }\n    },\n    {\n      \"column\": \"dV_m_s\",\n      \"properties\": {\n        \"dtype\": \"number\",\n        \"std\": null,\n        \"min\": 2.1,\n        \"max\": 2.1,\n        \"num_unique_values\": 1,\n        \"samples\": [\n          2.1\n        ],\n        \"semantic_type\": \"\",\n        \"description\": \"\"\n      }\n    },\n    {\n      \"column\": \"accepted\",\n      \"properties\": {\n        \"dtype\": \"boolean\",\n        \"num_unique_values\": 1,\n        \"samples\": [\n          true\n        ],\n        \"semantic_type\": \"\",\n        \"description\": \"\"\n      }\n    },\n    {\n      \"column\": \"priority\",\n      \"properties\": {\n        \"dtype\": \"number\",\n        \"std\": null,\n        \"min\": 0.5529166550936644,\n        \"max\": 0.5529166550936644,\n        \"num_unique_values\": 1,\n        \"samples\": [\n          0.5529166550936644\n        ],\n        \"semantic_type\": \"\",\n        \"description\": \"\"\n      }\n    }\n  ]\n}"
            }
          },
          "metadata": {},
          "execution_count": 43
        },
        {
          "output_type": "stream",
          "name": "stderr",
          "text": [
            "/usr/local/lib/python3.12/dist-packages/jupyter_client/session.py:203: DeprecationWarning:\n",
            "\n",
            "datetime.datetime.utcnow() is deprecated and scheduled for removal in a future version. Use timezone-aware objects to represent datetimes in UTC: datetime.datetime.now(datetime.UTC).\n",
            "\n"
          ]
        }
      ]
    },
    {
      "cell_type": "markdown",
      "source": [
        "Pc: numeric 2-D encounter-plane integration (characteristic-function inversion)\n"
      ],
      "metadata": {
        "id": "gFI3nFvIQwFb"
      }
    },
    {
      "cell_type": "code",
      "source": [
        "import numpy as np\n",
        "\n",
        "def pc_2d_numeric(mu2, cov2, hbr_m, n_terms=2048, t_max=50.0):\n",
        "    \"\"\"\n",
        "    mu2: (2,) mean vector in encounter plane (meters)\n",
        "    cov2: (2,2) covariance matrix in encounter plane (m^2)\n",
        "    hbr_m: hard-body radius (m)\n",
        "    n_terms: number of integration points\n",
        "    t_max: upper integration limit for characteristic-function inversion\n",
        "    Returns Pc \\in [0,1].\n",
        "    \"\"\"\n",
        "    w, U = np.linalg.eigh(cov2)\n",
        "    w = np.maximum(w, 1e-14)\n",
        "    L = np.diag(np.sqrt(w))\n",
        "    z = np.linalg.solve(L, U.T @ mu2)\n",
        "    r0 = np.linalg.norm(z)\n",
        "    sigma_equiv = np.sqrt(np.mean(w))\n",
        "    rho = hbr_m / sigma_equiv\n",
        "    s = rho**2\n",
        "    ts = np.linspace(1e-6, t_max, n_terms, dtype=np.float64)\n",
        "    lam = r0**2\n",
        "    i = 1j\n",
        "    denom = np.sqrt(1 - 2*i*ts)\n",
        "    exponent = (i*ts*lam) / (1 - 2*i*ts)\n",
        "    cf = (1.0/denom) * np.exp(exponent)\n",
        "    integrand = np.imag(np.exp(-i*ts*s) * cf / ts)\n",
        "    F = 0.5 - (1/np.pi) * np.trapz(integrand, ts)\n",
        "    Pc = float(np.clip(F, 0.0, 1.0))\n",
        "    return Pc\n",
        "\n",
        "def compute_pc_appendixN_numeric(evt, covP3, covS3, hbr_m=10.0, fallback_mc=True):\n",
        "    rel_pos_m = evt[\"rel_pos_km\"] * 1000.0\n",
        "    rel_vel_mps = evt[\"rel_vel_kmps\"] * 1000.0\n",
        "    vhat = rel_vel_mps / (np.linalg.norm(rel_vel_mps) + 1e-12)\n",
        "    rproj = rel_pos_m - np.dot(rel_pos_m, vhat) * vhat\n",
        "    rhat = rproj / (np.linalg.norm(rproj) + 1e-12)\n",
        "    nhat = np.cross(vhat, rhat); nhat /= (np.linalg.norm(nhat) + 1e-12)\n",
        "    R = np.vstack([rhat, nhat, vhat])\n",
        "\n",
        "    mu_enc = R @ rel_pos_m\n",
        "    S = covP3 + covS3\n",
        "    S_enc = R @ S @ R.T\n",
        "    cov2 = S_enc[:2,:2]\n",
        "    mu2 = mu_enc[:2]\n",
        "\n",
        "    try:\n",
        "        Pc = pc_2d_numeric(mu2, cov2, hbr_m)\n",
        "    except Exception:\n",
        "        Pc = None\n",
        "\n",
        "    if (Pc is None or not np.isfinite(Pc) or Pc < 0.0 or Pc > 1.0) and fallback_mc:\n",
        "        cov6 = np.zeros((6,6))\n",
        "        cov6[:3,:3] = S\n",
        "        cov6[3:,3:] = np.eye(3) * 1.0\n",
        "        mu6 = np.zeros(6); mu6[:3] = rel_pos_m\n",
        "        Pc = pc_monte_carlo(mu6, cov6, hbr_m=hbr_m, N=200000, seed=7)\n",
        "    return {\"Pc\": float(np.clip(Pc, 0.0, 1.0)), \"method\": \"numeric-2D+MC\", \"hbr_m\": hbr_m}\n"
      ],
      "metadata": {
        "colab": {
          "base_uri": "https://localhost:8080/"
        },
        "id": "MaJuc9ccNoVJ",
        "outputId": "cb37791a-d41b-469b-9e11-a0412c11684a"
      },
      "execution_count": null,
      "outputs": [
        {
          "output_type": "stream",
          "name": "stderr",
          "text": [
            "<>:12: SyntaxWarning:\n",
            "\n",
            "invalid escape sequence '\\i'\n",
            "\n",
            "<>:12: SyntaxWarning:\n",
            "\n",
            "invalid escape sequence '\\i'\n",
            "\n",
            "/tmp/ipython-input-2759796557.py:12: SyntaxWarning:\n",
            "\n",
            "invalid escape sequence '\\i'\n",
            "\n"
          ]
        }
      ]
    },
    {
      "cell_type": "markdown",
      "source": [
        "Build real features/labels from SGP4 TCA for GNN training"
      ],
      "metadata": {
        "id": "3T0V80MOQzb5"
      }
    },
    {
      "cell_type": "code",
      "source": [
        "\n",
        "\n",
        "from itertools import combinations\n",
        "\n",
        "def candidate_pairs(sat_list, max_pairs=5000):\n",
        "    pairs = list(combinations(range(len(sat_list)), 2))\n",
        "    if len(pairs) > max_pairs:\n",
        "        rng = np.random.default_rng(42)\n",
        "        idx = rng.choice(len(pairs), size=max_pairs, replace=False)\n",
        "        pairs = [pairs[i] for i in idx]\n",
        "    return pairs\n",
        "\n",
        "def edge_features_from_evt(evt):\n",
        "    # Example features from encounter geometry; extend with more descriptors\n",
        "    rel = evt[\"rel_pos_km\"]; vel = evt[\"rel_vel_kmps\"]\n",
        "    miss = evt[\"miss_km\"]\n",
        "    feats = np.array([\n",
        "        miss,\n",
        "        np.linalg.norm(vel),\n",
        "        rel[0], rel[1], rel[2],\n",
        "        vel[0], vel[1], vel[2]\n",
        "    ], dtype=np.float32)\n",
        "    return feats\n",
        "\n",
        "def build_graph_snapshot(sats, ts, t0, t1, Pc_cfg, Pc_thresh=1e-4, max_pairs=5000):\n",
        "    \"\"\"Returns node feature matrix X (N x F_node), edge_index (2 x E), edge_attr (E x F_edge), labels y (E,)\"\"\"\n",
        "    N = len(sats)\n",
        "    X = np.zeros((N, 8), dtype=np.float32)\n",
        "\n",
        "    edges_src, edges_dst = [], []\n",
        "    edge_attr, y = [], []\n",
        "\n",
        "    pairs = candidate_pairs(sats, max_pairs=max_pairs)\n",
        "    for i, j in pairs:\n",
        "        evt = closest_approach(sats[i], sats[j], ts, t0, t1, steps=480, refine=True, refine_steps=25)\n",
        "        feats = edge_features_from_evt(evt)\n",
        "        covP = np.eye(3) * (Pc_cfg[\"cov_sigma_m\"]**2)\n",
        "        covS = np.eye(3) * (Pc_cfg[\"cov_sigma_m\"]**2)\n",
        "        pre = compute_pc_appendixN_numeric(evt, covP, covS, hbr_m=Pc_cfg[\"hbr_m\"])\n",
        "        label = 1.0 if pre[\"Pc\"] >= Pc_thresh else 0.0\n",
        "        edges_src.append(i); edges_dst.append(j)\n",
        "        edge_attr.append(feats)\n",
        "        y.append(label)\n",
        "\n",
        "    edge_index = np.vstack([edges_src, edges_dst]).astype(np.int64)\n",
        "    edge_attr = np.asarray(edge_attr, dtype=np.float32)\n",
        "    y = np.asarray(y, dtype=np.float32)\n",
        "    return X, edge_index, edge_attr, y\n",
        "\n",
        "# Example: build one snapshot for training\n",
        "Pc_cfg = {\"cov_sigma_m\": 300.0, \"hbr_m\": 10.0}\n",
        "X_np, EI_np, EA_np, y_np = build_graph_snapshot([satA, satB], ts, t0, t1, Pc_cfg, Pc_thresh=1e-4, max_pairs=1)\n",
        "print(X_np.shape, EI_np.shape, EA_np.shape, y_np.shape)\n"
      ],
      "metadata": {
        "colab": {
          "base_uri": "https://localhost:8080/"
        },
        "id": "SATUdx5ZNxpE",
        "outputId": "6e137d1e-593b-4ee4-8a64-e4c059116fff"
      },
      "execution_count": null,
      "outputs": [
        {
          "output_type": "stream",
          "name": "stdout",
          "text": [
            "(2, 8) (2, 1) (1, 8) (1,)\n"
          ]
        },
        {
          "output_type": "stream",
          "name": "stderr",
          "text": [
            "/tmp/ipython-input-2759796557.py:41: DeprecationWarning:\n",
            "\n",
            "`trapz` is deprecated. Use `trapezoid` instead, or one of the numerical integration functions in `scipy.integrate`.\n",
            "\n"
          ]
        }
      ]
    },
    {
      "cell_type": "markdown",
      "source": [
        "Train GNN with edge attributes (node-to-edge pooling maintained)"
      ],
      "metadata": {
        "id": "d0MiMB5lQ4MS"
      }
    },
    {
      "cell_type": "code",
      "source": [
        "import torch\n",
        "from torch_geometric_temporal.signal import DynamicGraphTemporalSignal\n",
        "import torch.nn as nn\n",
        "import torch.nn.functional as F\n",
        "from torch_geometric_temporal.nn.recurrent import GConvGRU\n",
        "\n",
        "def build_temporal_dataset(sats, ts, start, windows=6, window_hours=1.0, Pc_cfg=None, Pc_thresh=1e-4):\n",
        "    Es, Ws, Xs, Ys = [], [], [], []\n",
        "    for w in range(windows):\n",
        "        t0w = ts.tt_jd(start.tt + w*(window_hours/24.0))\n",
        "        t1w = ts.tt_jd(start.tt + (w+1)*(window_hours/24.0))\n",
        "        X_np, EI_np, EA_np, y_np = build_graph_snapshot(sats, ts, t0w, t1w, Pc_cfg, Pc_thresh=Pc_thresh, max_pairs=200)\n",
        "        Xs.append(torch.from_numpy(X_np))\n",
        "        Es.append(torch.from_numpy(EI_np))\n",
        "        Ws.append(torch.from_numpy(np.linalg.norm(EA_np[:,5:8], axis=1).astype(np.float32)))\n",
        "        Ys.append(y_np)\n",
        "    return DynamicGraphTemporalSignal(Es, Ws, Xs, Ys)\n",
        "\n",
        "dataset_real = build_temporal_dataset([satA, satB], ts, t0, windows=3, window_hours=2.0, Pc_cfg=Pc_cfg, Pc_thresh=1e-4)\n",
        "snapshots = list(dataset_real)\n",
        "train_len = max(1, int(0.7 * len(snapshots)))\n",
        "\n",
        "class STRiskGCN(nn.Module):\n",
        "    def __init__(self, in_feats, hidden=32):\n",
        "        super().__init__()\n",
        "        self.rnn1 = GConvGRU(in_feats, hidden, K=3)\n",
        "        self.rnn2 = GConvGRU(hidden, hidden//2, K=3)\n",
        "        self.head = nn.Linear(hidden//2, 1)\n",
        "    def forward(self, x, edge_index, edge_weight):\n",
        "        h = self.rnn1(x, edge_index, edge_weight)\n",
        "        h = F.relu(h)\n",
        "        h = self.rnn2(h, edge_index, edge_weight)\n",
        "        h = F.relu(h)\n",
        "        return self.head(h)\n",
        "\n",
        "device = torch.device(\"cuda\" if torch.cuda.is_available() else \"cpu\")\n",
        "model = STRiskGCN(in_feats=snapshots[0].x.shape[1]).to(device)\n",
        "opt = torch.optim.Adam(model.parameters(), lr=1e-3)\n",
        "bce = nn.BCEWithLogitsLoss()\n",
        "\n",
        "def to_tensor_y(y, device):\n",
        "    import numpy as np, torch\n",
        "    if isinstance(y, np.ndarray): return torch.from_numpy(y).float().to(device)\n",
        "    if torch.is_tensor(y): return y.float().to(device)\n",
        "    return torch.tensor(y, dtype=torch.float32, device=device)\n",
        "\n",
        "def to_weights(snapshot, device):\n",
        "    ei = snapshot.edge_index.to(device)\n",
        "    ew = snapshot.edge_weight.to(device) if snapshot.edge_weight is not None else torch.ones(ei.shape[1], device=device)\n",
        "    return ei, ew\n",
        "\n",
        "def train_epoch():\n",
        "    model.train()\n",
        "    losses=[]\n",
        "    for snap in snapshots[:train_len]:\n",
        "        x = snap.x.to(device)\n",
        "        ei, ew = to_weights(snap, device)\n",
        "        y = to_tensor_y(snap.y, device)\n",
        "        node_logits = model(x, ei, ew).squeeze(-1)\n",
        "        edge_scores = 0.5*(node_logits[ei[0]] + node_logits[ei[1]])\n",
        "        loss = bce(edge_scores, y)\n",
        "        opt.zero_grad(); loss.backward(); opt.step()\n",
        "        losses.append(loss.item())\n",
        "    return float(np.mean(losses)) if losses else float(\"nan\")\n",
        "\n",
        "@torch.no_grad()\n",
        "def eval_epoch():\n",
        "    from sklearn.metrics import average_precision_score\n",
        "    model.eval()\n",
        "    ys, ps = [], []\n",
        "    for snap in snapshots[train_len:]:\n",
        "        x = snap.x.to(device)\n",
        "        ei, ew = to_weights(snap, device)\n",
        "        y = to_tensor_y(snap.y, device).cpu().numpy()\n",
        "        node_logits = model(x, ei, ew).squeeze(-1)\n",
        "        edge_scores = 0.5*(node_logits[ei[0]] + node_logits[ei[1]])\n",
        "        p = torch.sigmoid(edge_scores).cpu().numpy()\n",
        "        ys.append(y); ps.append(p)\n",
        "    if not ys: return float(\"nan\")\n",
        "    ytrue = np.concatenate(ys); ypred = np.concatenate(ps)\n",
        "    return float(average_precision_score(ytrue, ypred))\n",
        "\n",
        "for ep in range(3):\n",
        "    tr = train_epoch(); ap = eval_epoch()\n",
        "    print(f\"Epoch {ep+1}: loss={tr:.4f}, AP={ap:.4f}\")\n"
      ],
      "metadata": {
        "colab": {
          "base_uri": "https://localhost:8080/"
        },
        "id": "AoSqs6ZBN1LS",
        "outputId": "166d9649-4031-4b9c-ff58-974828e927b3"
      },
      "execution_count": null,
      "outputs": [
        {
          "output_type": "stream",
          "name": "stderr",
          "text": [
            "/tmp/ipython-input-2759796557.py:41: DeprecationWarning:\n",
            "\n",
            "`trapz` is deprecated. Use `trapezoid` instead, or one of the numerical integration functions in `scipy.integrate`.\n",
            "\n"
          ]
        },
        {
          "output_type": "stream",
          "name": "stdout",
          "text": [
            "Epoch 1: loss=0.6992, AP=0.0000\n",
            "Epoch 2: loss=0.6990, AP=0.0000\n",
            "Epoch 3: loss=0.6989, AP=0.0000\n"
          ]
        },
        {
          "output_type": "stream",
          "name": "stderr",
          "text": [
            "/usr/local/lib/python3.12/dist-packages/sklearn/metrics/_ranking.py:1033: UserWarning:\n",
            "\n",
            "No positive class found in y_true, recall is set to one for all thresholds.\n",
            "\n",
            "/usr/local/lib/python3.12/dist-packages/sklearn/metrics/_ranking.py:1033: UserWarning:\n",
            "\n",
            "No positive class found in y_true, recall is set to one for all thresholds.\n",
            "\n",
            "/usr/local/lib/python3.12/dist-packages/sklearn/metrics/_ranking.py:1033: UserWarning:\n",
            "\n",
            "No positive class found in y_true, recall is set to one for all thresholds.\n",
            "\n",
            "/usr/local/lib/python3.12/dist-packages/jupyter_client/session.py:203: DeprecationWarning:\n",
            "\n",
            "datetime.datetime.utcnow() is deprecated and scheduled for removal in a future version. Use timezone-aware objects to represent datetimes in UTC: datetime.datetime.now(datetime.UTC).\n",
            "\n"
          ]
        }
      ]
    },
    {
      "cell_type": "markdown",
      "source": [
        "RTN helpers and ΔV application with a Keplerian wrapper"
      ],
      "metadata": {
        "id": "qUAAi0VyRQrc"
      }
    },
    {
      "cell_type": "code",
      "source": [
        "import numpy as np\n",
        "from skyfield.api import load, EarthSatellite\n",
        "\n",
        "ts = load.timescale()\n",
        "\n",
        "def eci_state_km_kmps(sat, t):\n",
        "    g = sat.at(t)\n",
        "    return g.position.km, g.velocity.km_per_s\n",
        "\n",
        "def rtn_frame(r_km, v_kmps):\n",
        "\n",
        "    r = np.array(r_km, dtype=np.float64)\n",
        "    v = np.array(v_kmps, dtype=np.float64)\n",
        "    R_hat = r / (np.linalg.norm(r) + 1e-12)\n",
        "    h = np.cross(r, v)\n",
        "    N_hat = h / (np.linalg.norm(h) + 1e-12)\n",
        "    T_hat = np.cross(N_hat, R_hat)\n",
        "    T_hat /= (np.linalg.norm(T_hat) + 1e-12)\n",
        "    return R_hat, T_hat, N_hat\n",
        "\n",
        "def rtn_to_eci(dv_rtn_ms, r_km, v_kmps):\n",
        "    R_hat, T_hat, N_hat = rtn_frame(r_km, v_kmps)\n",
        "    M = np.column_stack([R_hat, T_hat, N_hat])\n",
        "    dv_eci_kmps = (M @ (np.array(dv_rtn_ms, dtype=np.float64) / 1000.0))\n",
        "    return dv_eci_kmps\n",
        "\n",
        "class KeplerWrapper:\n",
        "\n",
        "    def __init__(self, r_km, v_kmps, name=\"POST\"):\n",
        "        self.name = name\n",
        "        from skyfield.elementslib import KeplerOrbit\n",
        "        from skyfield.constants import GM_earth_km3_s2\n",
        "        self._gm = GM_earth_km3_s2\n",
        "        self._epoch = ts.utc(2000, 1, 1)\n",
        "        self._orbit = KeplerOrbit(np.array(r_km, float), np.array(v_kmps, float), self._gm, self._epoch)\n",
        "\n",
        "    def at(self, t):\n",
        "        r_km, v_kmps = self._orbit.position_velocity_gcrs(t.tt - self._orbit.t0)\n",
        "        class PV:\n",
        "            def __init__(self, r, v):\n",
        "                self.position = type(\"P\", (), {\"km\": r})\n",
        "                self.velocity = type(\"V\", (), {\"km_per_s\": v})\n",
        "        return PV(r_km, v_kmps)\n",
        "\n",
        "def make_post_cam_satellite(primary_sat, t_burn, dv_rtn_ms):\n",
        "    r_km, v_kmps = eci_state_km_kmps(primary_sat, t_burn)\n",
        "    dv_eci_kmps = rtn_to_eci(dv_rtn_ms, r_km, v_kmps)\n",
        "    v_post_kmps = v_kmps + dv_eci_kmps\n",
        "    return KeplerWrapper(r_km, v_post_kmps, name=primary_sat.name + \"_POST\")\n"
      ],
      "metadata": {
        "id": "aN8iuFRIN4LS"
      },
      "execution_count": null,
      "outputs": []
    },
    {
      "cell_type": "code",
      "source": [
        "!pip -q install poliastro astropy skyfield sgp4 numpy\n"
      ],
      "metadata": {
        "colab": {
          "base_uri": "https://localhost:8080/"
        },
        "id": "YgJ6ZXtEPTDS",
        "outputId": "c66c7b19-27f8-4eef-98e2-a7e35bed2065"
      },
      "execution_count": null,
      "outputs": [
        {
          "output_type": "stream",
          "name": "stdout",
          "text": [
            "\u001b[33mWARNING: Ignoring version 0.12.0 of poliastro since it has invalid metadata:\n",
            "Requested poliastro from https://files.pythonhosted.org/packages/1c/ce/b2cf237afeacddd856bb3ae524c44b8aec62e14c13d137283122fd0b5099/poliastro-0.12.0-py3-none-any.whl has invalid metadata: .* suffix can only be used with `==` or `!=` operators\n",
            "    astropy (<4.*,>=3.1)\n",
            "             ~~~^\n",
            "Please use pip<24.1 if you need to use this version.\u001b[0m\u001b[33m\n",
            "\u001b[0m\u001b[33mWARNING: Ignoring version 0.11.1 of poliastro since it has invalid metadata:\n",
            "Requested poliastro from https://files.pythonhosted.org/packages/f7/9a/934e863eee7acca4648b3570085da982cde69969527b9f4d7a0445f16789/poliastro-0.11.1-py3-none-any.whl has invalid metadata: .* suffix can only be used with `==` or `!=` operators\n",
            "    astropy (<4.*,>=3.0)\n",
            "             ~~~^\n",
            "Please use pip<24.1 if you need to use this version.\u001b[0m\u001b[33m\n",
            "\u001b[0m\u001b[33mWARNING: Ignoring version 0.11.0 of poliastro since it has invalid metadata:\n",
            "Requested poliastro from https://files.pythonhosted.org/packages/31/7d/55cfd3a348ed5575d0468e26c65c35295fc743c28598ba790561e065a263/poliastro-0.11.0-py3-none-any.whl has invalid metadata: .* suffix can only be used with `==` or `!=` operators\n",
            "    astropy (<4.*,>=3.0)\n",
            "             ~~~^\n",
            "Please use pip<24.1 if you need to use this version.\u001b[0m\u001b[33m\n",
            "\u001b[0m\u001b[33mWARNING: Ignoring version 0.10.0 of poliastro since it has invalid metadata:\n",
            "Requested poliastro from https://files.pythonhosted.org/packages/2d/cd/c230682169e0a66f54dd0e131ef94b36f8770cce40908e152ade61f03b28/poliastro-0.10.0-py3-none-any.whl has invalid metadata: .* suffix can only be used with `==` or `!=` operators\n",
            "    astropy (<4.*,>=3.0)\n",
            "             ~~~^\n",
            "Please use pip<24.1 if you need to use this version.\u001b[0m\u001b[33m\n",
            "\u001b[0m\u001b[33mWARNING: Ignoring version 0.9.1 of poliastro since it has invalid metadata:\n",
            "Requested poliastro from https://files.pythonhosted.org/packages/08/6a/2d358c5fb7057a2abe3c247b971f610841b94b77a26c6bef100d68cab528/poliastro-0.9.1-py3-none-any.whl has invalid metadata: .* suffix can only be used with `==` or `!=` operators\n",
            "    astropy (<4.*,>=3.0)\n",
            "             ~~~^\n",
            "Please use pip<24.1 if you need to use this version.\u001b[0m\u001b[33m\n",
            "\u001b[0m\u001b[33mWARNING: Ignoring version 0.9.0 of poliastro since it has invalid metadata:\n",
            "Requested poliastro from https://files.pythonhosted.org/packages/26/d8/56fcb725b38c91a337ecce4d1d6c2417fa0d8ae1c5119772380b9a8c71ae/poliastro-0.9.0-py3-none-any.whl has invalid metadata: .* suffix can only be used with `==` or `!=` operators\n",
            "    astropy (<4.*,>=3.0)\n",
            "             ~~~^\n",
            "Please use pip<24.1 if you need to use this version.\u001b[0m\u001b[33m\n",
            "\u001b[0m\u001b[33mWARNING: Ignoring version 0.8.0 of poliastro since it has invalid metadata:\n",
            "Requested poliastro from https://files.pythonhosted.org/packages/c3/be/9a36875a8f554ed7aefde934eca3d93972d10528b677f1a8f7900d7d0fc2/poliastro-0.8.0-py3-none-any.whl has invalid metadata: .* suffix can only be used with `==` or `!=` operators\n",
            "    astropy (<3.*,>=2.0.1)\n",
            "             ~~~^\n",
            "Please use pip<24.1 if you need to use this version.\u001b[0m\u001b[33m\n",
            "\u001b[0m\u001b[33mWARNING: Ignoring version 0.12.0 of poliastro since it has invalid metadata:\n",
            "Requested poliastro from https://files.pythonhosted.org/packages/1c/ce/b2cf237afeacddd856bb3ae524c44b8aec62e14c13d137283122fd0b5099/poliastro-0.12.0-py3-none-any.whl has invalid metadata: .* suffix can only be used with `==` or `!=` operators\n",
            "    astropy (<4.*,>=3.1)\n",
            "             ~~~^\n",
            "Please use pip<24.1 if you need to use this version.\u001b[0m\u001b[33m\n",
            "\u001b[0m\u001b[33mWARNING: Ignoring version 0.11.1 of poliastro since it has invalid metadata:\n",
            "Requested poliastro from https://files.pythonhosted.org/packages/f7/9a/934e863eee7acca4648b3570085da982cde69969527b9f4d7a0445f16789/poliastro-0.11.1-py3-none-any.whl has invalid metadata: .* suffix can only be used with `==` or `!=` operators\n",
            "    astropy (<4.*,>=3.0)\n",
            "             ~~~^\n",
            "Please use pip<24.1 if you need to use this version.\u001b[0m\u001b[33m\n",
            "\u001b[0m\u001b[33mWARNING: Ignoring version 0.11.0 of poliastro since it has invalid metadata:\n",
            "Requested poliastro from https://files.pythonhosted.org/packages/31/7d/55cfd3a348ed5575d0468e26c65c35295fc743c28598ba790561e065a263/poliastro-0.11.0-py3-none-any.whl has invalid metadata: .* suffix can only be used with `==` or `!=` operators\n",
            "    astropy (<4.*,>=3.0)\n",
            "             ~~~^\n",
            "Please use pip<24.1 if you need to use this version.\u001b[0m\u001b[33m\n",
            "\u001b[0m\u001b[33mWARNING: Ignoring version 0.10.0 of poliastro since it has invalid metadata:\n",
            "Requested poliastro from https://files.pythonhosted.org/packages/2d/cd/c230682169e0a66f54dd0e131ef94b36f8770cce40908e152ade61f03b28/poliastro-0.10.0-py3-none-any.whl has invalid metadata: .* suffix can only be used with `==` or `!=` operators\n",
            "    astropy (<4.*,>=3.0)\n",
            "             ~~~^\n",
            "Please use pip<24.1 if you need to use this version.\u001b[0m\u001b[33m\n",
            "\u001b[0m\u001b[33mWARNING: Ignoring version 0.9.1 of poliastro since it has invalid metadata:\n",
            "Requested poliastro from https://files.pythonhosted.org/packages/08/6a/2d358c5fb7057a2abe3c247b971f610841b94b77a26c6bef100d68cab528/poliastro-0.9.1-py3-none-any.whl has invalid metadata: .* suffix can only be used with `==` or `!=` operators\n",
            "    astropy (<4.*,>=3.0)\n",
            "             ~~~^\n",
            "Please use pip<24.1 if you need to use this version.\u001b[0m\u001b[33m\n",
            "\u001b[0m\u001b[33mWARNING: Ignoring version 0.9.0 of poliastro since it has invalid metadata:\n",
            "Requested poliastro from https://files.pythonhosted.org/packages/26/d8/56fcb725b38c91a337ecce4d1d6c2417fa0d8ae1c5119772380b9a8c71ae/poliastro-0.9.0-py3-none-any.whl has invalid metadata: .* suffix can only be used with `==` or `!=` operators\n",
            "    astropy (<4.*,>=3.0)\n",
            "             ~~~^\n",
            "Please use pip<24.1 if you need to use this version.\u001b[0m\u001b[33m\n",
            "\u001b[0m\u001b[33mWARNING: Ignoring version 0.8.0 of poliastro since it has invalid metadata:\n",
            "Requested poliastro from https://files.pythonhosted.org/packages/c3/be/9a36875a8f554ed7aefde934eca3d93972d10528b677f1a8f7900d7d0fc2/poliastro-0.8.0-py3-none-any.whl has invalid metadata: .* suffix can only be used with `==` or `!=` operators\n",
            "    astropy (<3.*,>=2.0.1)\n",
            "             ~~~^\n",
            "Please use pip<24.1 if you need to use this version.\u001b[0m\u001b[33m\n",
            "\u001b[2K   \u001b[90m━━━━━━━━━━━━━━━━━━━━━━━━━━━━━━━━━━━━━━━━\u001b[0m \u001b[32m62.7/62.7 kB\u001b[0m \u001b[31m1.7 MB/s\u001b[0m eta \u001b[36m0:00:00\u001b[0m\n",
            "\u001b[?25h"
          ]
        }
      ]
    },
    {
      "cell_type": "markdown",
      "source": [
        "RTN utilities and Skyfield↔poliastro conversion"
      ],
      "metadata": {
        "id": "qtRT77JsRZA6"
      }
    },
    {
      "cell_type": "code",
      "source": [
        "import numpy as np\n",
        "from skyfield.api import load\n",
        "from astropy import units as u\n",
        "from astropy.time import Time\n",
        "from poliastro.twobody import Orbit\n",
        "from poliastro.bodies import Earth\n",
        "\n",
        "ts = load.timescale()\n",
        "\n",
        "def skyfield_state_km_kmps(sat, t):\n",
        "    g = sat.at(t)\n",
        "    return np.array(g.position.km, float), np.array(g.velocity.km_per_s, float)\n",
        "\n",
        "def rtn_frame(r_km, v_kmps):\n",
        "    r = np.array(r_km, float); v = np.array(v_kmps, float)\n",
        "    R_hat = r / (np.linalg.norm(r) + 1e-12)\n",
        "    h = np.cross(r, v)\n",
        "    N_hat = h / (np.linalg.norm(h) + 1e-12)\n",
        "    T_hat = np.cross(N_hat, R_hat)\n",
        "    T_hat /= (np.linalg.norm(T_hat) + 1e-12)\n",
        "    return R_hat, T_hat, N_hat\n",
        "\n",
        "def dv_rtn_to_eci_kmps(dv_rtn_ms, r_km, v_kmps):\n",
        "    R_hat, T_hat, N_hat = rtn_frame(r_km, v_kmps)\n",
        "    M = np.column_stack([R_hat, T_hat, N_hat])  # columns = ECI basis vectors\n",
        "    dv_eci_kmps = M @ (np.array(dv_rtn_ms, float) / 1000.0)\n",
        "    return dv_eci_kmps\n",
        "\n",
        "def skyfield_to_poliastro_orbit(sat, t):\n",
        "    r_km, v_kmps = skyfield_state_km_kmps(sat, t)\n",
        "    r = r_km * u.km\n",
        "    v = v_kmps * (u.km / u.s)\n",
        "    epoch = Time(t.utc_datetime())\n",
        "    return Orbit.from_vectors(Earth, r, v, epoch=epoch), r_km, v_kmps\n",
        "\n",
        "class PoliastroAdapter:\n",
        "    \"\"\"Adapter with .at(t) returning .position.km and .velocity.km_per_s for use with closest_approach().\"\"\"\n",
        "    def __init__(self, orbit):\n",
        "        self.orbit = orbit\n",
        "        self.name = \"POST\"\n",
        "    def at(self, t):\n",
        "        tof = (Time(t.utc_datetime()) - self.orbit.epoch).to(u.s)\n",
        "        new_orb = self.orbit.propagate(tof)\n",
        "        r = new_orb.r.to_value(u.km)\n",
        "        v = new_orb.v.to_value(u.km / u.s)\n",
        "        class PV:\n",
        "            def __init__(self, r, v):\n",
        "                self.position = type(\"P\", (), {\"km\": r})\n",
        "                self.velocity = type(\"V\", (), {\"km_per_s\": v})\n",
        "        return PV(r, v)\n"
      ],
      "metadata": {
        "colab": {
          "base_uri": "https://localhost:8080/"
        },
        "id": "q1P2VDFlPHed",
        "outputId": "5a380531-196b-4267-bc5e-0cd5b4f73e2f"
      },
      "execution_count": null,
      "outputs": [
        {
          "output_type": "stream",
          "name": "stderr",
          "text": [
            "/usr/local/lib/python3.12/dist-packages/jupyter_client/session.py:203: DeprecationWarning:\n",
            "\n",
            "datetime.datetime.utcnow() is deprecated and scheduled for removal in a future version. Use timezone-aware objects to represent datetimes in UTC: datetime.datetime.now(datetime.UTC).\n",
            "\n"
          ]
        }
      ]
    },
    {
      "cell_type": "markdown",
      "source": [
        "Evaluation: precision@k and calibration for risky-link prediction"
      ],
      "metadata": {
        "id": "oigqGM9MR-X9"
      }
    },
    {
      "cell_type": "code",
      "source": [
        "import numpy as np\n",
        "from sklearn.calibration import calibration_curve\n",
        "from sklearn.metrics import precision_score\n",
        "\n",
        "def precision_at_k(y_true, y_score, k):\n",
        "    idx = np.argsort(-y_score)[:k]\n",
        "    return float(np.mean(y_true[idx] == 1))\n",
        "\n",
        "def eval_link_prediction(y_true, y_score, ks=(50,100,200)):\n",
        "    out = {}\n",
        "    for k in ks:\n",
        "        out[f\"prec@{k}\"] = precision_at_k(y_true, y_score, k)\n",
        "    prob_true, prob_pred = calibration_curve(y_true, y_score, n_bins=10, strategy=\"quantile\")\n",
        "    out[\"calibration\"] = (prob_true, prob_pred)\n",
        "    return out"
      ],
      "metadata": {
        "id": "-iVr9KPNRoEn"
      },
      "execution_count": null,
      "outputs": []
    },
    {
      "cell_type": "markdown",
      "source": [
        " Policy config: thresholds, ΔV caps, maneuver windows\n"
      ],
      "metadata": {
        "id": "Kxmby4kVSCuQ"
      }
    },
    {
      "cell_type": "code",
      "source": [
        "import yaml, json\n",
        "\n",
        "policy = {\n",
        "  \"alerts\": {\n",
        "    \"pc_threshold_trigger\": 1e-4,\n",
        "    \"pc_threshold_accept\": 5e-5,\n",
        "    \"topk\": 200\n",
        "  },\n",
        "  \"maneuver\": {\n",
        "    \"dv_max_ms\": 5.0,\n",
        "    \"window_min_before_tca\": 120.0,\n",
        "    \"rtn_axis_weights\": {\"R\":0.2, \"T\":1.0, \"N\":0.2}\n",
        "  },\n",
        "  \"pc\": {\n",
        "    \"hbr_m\": 10.0,\n",
        "    \"cov_sigma_m\": 300.0\n",
        "  }\n",
        "}\n",
        "with open(\"policy.yaml\",\"w\") as f:\n",
        "    yaml.safe_dump(policy, f)\n",
        "\n",
        "def load_policy(path=\"policy.yaml\"):\n",
        "    with open(path,\"r\") as f:\n",
        "        return yaml.safe_load(f)\n",
        "\n",
        "cfg = load_policy()\n"
      ],
      "metadata": {
        "id": "DFBWCOZOR8Q4"
      },
      "execution_count": null,
      "outputs": []
    },
    {
      "cell_type": "markdown",
      "source": [
        "Driver: integrate policy, evaluation, logging"
      ],
      "metadata": {
        "id": "9J_ZRoSeSKw0"
      }
    },
    {
      "cell_type": "code",
      "source": [
        "import os, time, json\n",
        "from datetime import datetime\n",
        "\n",
        "def ensure_dir(d):\n",
        "    os.makedirs(d, exist_ok=True); return d\n",
        "\n",
        "def run_cycle_with_logging(tle_files, gnn_model, ppo_model, cfg, outdir=\"runs\"):\n",
        "    run_id = datetime.utcnow().strftime(\"%Y%m%dT%H%M%SZ\")\n",
        "    rundir = ensure_dir(os.path.join(outdir, run_id))\n",
        "    graphs = build_temporal_graphs(tle_files, cfg)\n",
        "    g_scores = score_edges_with_gnn(graphs, gnn_model)\n",
        "    results = process_batch(g_scores, cfg[\"alerts\"][\"topk\"], ppo_model,\n",
        "                            Pc_thresh=cfg[\"alerts\"][\"pc_threshold_trigger\"],\n",
        "                            hbr_m=cfg[\"pc\"][\"hbr_m\"], sigma_surrogate_m=cfg[\"pc\"][\"cov_sigma_m\"])\n",
        "    y_true = np.array([1.0 if r[\"pre\"][\"Pc\"] >= cfg[\"alerts\"][\"pc_threshold_trigger\"] else 0.0 for r in results], float)\n",
        "    y_score = np.array([r[\"pair\"][\"score\"] for r in results], float)\n",
        "    lp_metrics = eval_link_prediction(y_true, y_score, ks=(20,50,100))\n",
        "\n",
        "    with open(os.path.join(rundir, \"policy.json\"), \"w\") as f: json.dump(cfg, f, indent=2)\n",
        "    with open(os.path.join(rundir, \"results.json\"), \"w\") as f: json.dump(results, f, default=lambda o: float(o) if hasattr(o,\"__float__\") else str(o), indent=2)\n",
        "    with open(os.path.join(rundir, \"metrics.json\"), \"w\") as f: json.dump({k:(v if not isinstance(v, tuple) else [list(v[0]), list(v[1])]) for k,v in lp_metrics.items()}, f, indent=2)\n",
        "    print(\"Saved run to:\", rundir)\n",
        "    return rundir, results, lp_metrics\n"
      ],
      "metadata": {
        "id": "TdfA3sfvSCBE"
      },
      "execution_count": null,
      "outputs": []
    },
    {
      "cell_type": "markdown",
      "source": [
        "Pc regression tests (unit tests for numeric 2‑D vs MC)"
      ],
      "metadata": {
        "id": "DNAnw6BYSQvl"
      }
    },
    {
      "cell_type": "code",
      "source": [
        "def test_pc_sanity():\n",
        "    cov = np.diag([300.0**2, 300.0**2, 300.0**2])\n",
        "\n",
        "    evt0 = {\"rel_pos_km\": np.array([0,0,0], float), \"rel_vel_kmps\": np.array([7.5,0,0], float)}\n",
        "    Pc1 = compute_pc_appendixN_numeric(evt0, cov, cov, hbr_m=5.0)[\"Pc\"]\n",
        "    Pc2 = compute_pc_appendixN_numeric(evt0, cov, cov, hbr_m=10.0)[\"Pc\"]\n",
        "    assert 0.0 <= Pc1 <= Pc2 <= 1.0\n",
        "\n",
        "    evt_far = {\"rel_pos_km\": np.array([10.0,0,0], float), \"rel_vel_kmps\": np.array([7.5,0,0], float)}\n",
        "    Pc_far = compute_pc_appendixN_numeric(evt_far, cov, cov, hbr_m=10.0)[\"Pc\"]\n",
        "    assert Pc_far < 1e-6\n",
        "\n",
        "test_pc_sanity(); print(\"Pc tests passed\")\n"
      ],
      "metadata": {
        "colab": {
          "base_uri": "https://localhost:8080/"
        },
        "id": "aEBnt-jXSM09",
        "outputId": "6c4f3930-7c3a-4248-bb6c-1f4ea65fa07f"
      },
      "execution_count": null,
      "outputs": [
        {
          "output_type": "stream",
          "name": "stdout",
          "text": [
            "Pc tests passed\n"
          ]
        },
        {
          "output_type": "stream",
          "name": "stderr",
          "text": [
            "/tmp/ipython-input-2759796557.py:41: DeprecationWarning:\n",
            "\n",
            "`trapz` is deprecated. Use `trapezoid` instead, or one of the numerical integration functions in `scipy.integrate`.\n",
            "\n"
          ]
        }
      ]
    },
    {
      "cell_type": "markdown",
      "source": [
        "Model/version tracking stub"
      ],
      "metadata": {
        "id": "mqiCMNdqSbRQ"
      }
    },
    {
      "cell_type": "code",
      "source": [
        "import hashlib, json, os\n",
        "\n",
        "def sha256_file(path):\n",
        "    h = hashlib.sha256()\n",
        "    with open(path,\"rb\") as f:\n",
        "        for chunk in iter(lambda: f.read(65536), b\"\"):\n",
        "            h.update(chunk)\n",
        "    return h.hexdigest()\n",
        "\n",
        "def register_artifacts(run_dir, model_paths):\n",
        "    registry = {}\n",
        "    for name, path in model_paths.items():\n",
        "        if os.path.exists(path):\n",
        "            registry[name] = {\"path\": path, \"sha256\": sha256_file(path)}\n",
        "    with open(os.path.join(run_dir, \"artifacts.json\"), \"w\") as f:\n",
        "        json.dump(registry, f, indent=2)\n",
        "    return registry\n"
      ],
      "metadata": {
        "id": "PjAh0HlKSSZd"
      },
      "execution_count": null,
      "outputs": []
    },
    {
      "cell_type": "markdown",
      "source": [
        "Acceptance checks before executing CAM"
      ],
      "metadata": {
        "id": "nxf6Cw3mSgEL"
      }
    },
    {
      "cell_type": "code",
      "source": [
        "def accept_cam(pre_pc, post_pc, dv_ms, t2tca_min, cfg):\n",
        "    if np.linalg.norm(dv_ms) > cfg[\"maneuver\"][\"dv_max_ms\"]: return False, \"dv_cap\"\n",
        "    if t2tca_min < cfg[\"maneuver\"][\"window_min_before_tca\"]: return False, \"too_late\"\n",
        "    if post_pc >= cfg[\"alerts\"][\"pc_threshold_accept\"]: return False, \"pc_not_low_enough\"\n",
        "    return True, \"ok\"\n"
      ],
      "metadata": {
        "id": "uhVdLmGpSZKQ"
      },
      "execution_count": null,
      "outputs": []
    },
    {
      "cell_type": "markdown",
      "source": [
        "Save/load GNN and PPO models"
      ],
      "metadata": {
        "id": "UeegSyKtSvmf"
      }
    },
    {
      "cell_type": "code",
      "source": [
        "import torch\n",
        "\n",
        "def save_gnn(model, path=\"gnn.pt\"):\n",
        "    torch.save(model.state_dict(), path)\n",
        "\n",
        "def load_gnn(model_class, in_feats, path=\"gnn.pt\", device=\"cpu\"):\n",
        "    model = model_class(in_feats=in_feats).to(device)\n",
        "    sd = torch.load(path, map_location=device, weights_only=False)\n",
        "    model.load_state_dict(sd)\n",
        "    model.eval()\n",
        "    return model\n",
        "\n",
        "def save_ppo(model, path=\"ppo_cam.zip\"):\n",
        "    model.save(path)\n",
        "\n",
        "def load_ppo(path=\"ppo_cam.zip\", env=None):\n",
        "    from stable_baselines3 import PPO\n",
        "    model = PPO.load(path, env=env)\n",
        "    return model\n"
      ],
      "metadata": {
        "id": "jxrDF1PqSqjC"
      },
      "execution_count": null,
      "outputs": []
    },
    {
      "cell_type": "markdown",
      "source": [
        "One-call pipeline runner (config-driven)"
      ],
      "metadata": {
        "id": "fji61WXUS2cY"
      }
    },
    {
      "cell_type": "code",
      "source": [
        "import yaml, json, os, numpy as np\n",
        "from datetime import datetime\n",
        "\n",
        "def run_once(tle_files, gnn_model, ppo_model, cfg, outdir=\"runs\"):\n",
        "    os.makedirs(outdir, exist_ok=True)\n",
        "    run_id = datetime.utcnow().strftime(\"%Y%m%dT%H%M%SZ\")\n",
        "    rundir = os.path.join(outdir, run_id)\n",
        "    os.makedirs(rundir, exist_ok=True)\n",
        "\n",
        "    graphs = build_temporal_graphs(tle_files, cfg)\n",
        "    g_scores = score_edges_with_gnn(graphs, gnn_model)\n",
        "\n",
        "    results = process_batch(\n",
        "        g_scores,\n",
        "        cfg[\"alerts\"][\"topk\"],\n",
        "        ppo_model,\n",
        "        Pc_thresh=cfg[\"alerts\"][\"pc_threshold_trigger\"],\n",
        "        hbr_m=cfg[\"pc\"][\"hbr_m\"],\n",
        "        sigma_surrogate_m=cfg[\"pc\"][\"cov_sigma_m\"]\n",
        "    )\n",
        "    lb = build_leaderboard(results, topn=cfg[\"alerts\"][\"topk\"])\n",
        "    lb.to_csv(os.path.join(rundir, \"leaderboard.csv\"), index=False)\n",
        "\n",
        "    with open(os.path.join(rundir, \"policy.yaml\"), \"w\") as f:\n",
        "        yaml.safe_dump(cfg, f)\n",
        "    with open(os.path.join(rundir, \"results.json\"), \"w\") as f:\n",
        "        json.dump(results, f, default=lambda o: float(o) if hasattr(o, \"__float__\") else str(o), indent=2)\n",
        "\n",
        "    print(\"Run saved to:\", rundir)\n",
        "    return rundir, lb, results\n"
      ],
      "metadata": {
        "id": "7tcpWt6oS06X"
      },
      "execution_count": null,
      "outputs": []
    },
    {
      "cell_type": "markdown",
      "source": [
        "Minimal unittest harness for Pc and accept_cam"
      ],
      "metadata": {
        "id": "UHFfBk2SS_MA"
      }
    },
    {
      "cell_type": "code",
      "source": [
        "\n",
        "import unittest, numpy as np\n",
        "\n",
        "class TestPcAndPolicy(unittest.TestCase):\n",
        "    def test_pc_monotonic_hbr(self):\n",
        "        cov = np.eye(3)*(300.0**2)\n",
        "        evt0 = {\"rel_pos_km\": np.array([0,0,0], float),\n",
        "                \"rel_vel_kmps\": np.array([7.5,0,0], float)}\n",
        "        Pc5 = compute_pc_appendixN_numeric(evt0, cov, cov, hbr_m=5.0)[\"Pc\"]\n",
        "        Pc10 = compute_pc_appendixN_numeric(evt0, cov, cov, hbr_m=10.0)[\"Pc\"]\n",
        "        self.assertTrue(0.0 <= Pc5 <= Pc10 <= 1.0)\n",
        "\n",
        "    def test_pc_far_low(self):\n",
        "        cov = np.eye(3)*(300.0**2)\n",
        "        evt_far = {\"rel_pos_km\": np.array([10.0,0,0], float),\n",
        "                   \"rel_vel_kmps\": np.array([7.5,0,0], float)}\n",
        "        Pc_far = compute_pc_appendixN_numeric(evt_far, cov, cov, hbr_m=10.0)[\"Pc\"]\n",
        "        self.assertLess(Pc_far, 1e-6)\n",
        "\n",
        "    def test_accept_cam(self):\n",
        "        cfg = {\n",
        "            \"maneuver\": {\"dv_max_ms\": 5.0, \"window_min_before_tca\": 120.0},\n",
        "            \"alerts\": {\"pc_threshold_accept\": 5e-5}\n",
        "        }\n",
        "        ok, msg = accept_cam(pre_pc=2e-4, post_pc=1e-5, dv_ms=np.array([0,2,0]), t2tca_min=180.0, cfg=cfg)\n",
        "        self.assertTrue(ok)\n",
        "        ok, msg = accept_cam(pre_pc=2e-4, post_pc=1e-4, dv_ms=np.array([0,6,0]), t2tca_min=60.0, cfg=cfg)\n",
        "        self.assertFalse(ok)\n",
        "\n",
        "suite = unittest.TestLoader().loadTestsFromTestCase(TestPcAndPolicy)\n",
        "unittest.TextTestRunner(verbosity=2).run(suite)\n"
      ],
      "metadata": {
        "colab": {
          "base_uri": "https://localhost:8080/"
        },
        "id": "abYSfIxcS4fQ",
        "outputId": "6483e6c6-3c93-4f8e-865e-b0e171c576c5"
      },
      "execution_count": null,
      "outputs": [
        {
          "output_type": "stream",
          "name": "stderr",
          "text": [
            "test_accept_cam (__main__.TestPcAndPolicy.test_accept_cam) ... /usr/local/lib/python3.12/dist-packages/jupyter_client/session.py:203: DeprecationWarning:\n",
            "\n",
            "datetime.datetime.utcnow() is deprecated and scheduled for removal in a future version. Use timezone-aware objects to represent datetimes in UTC: datetime.datetime.now(datetime.UTC).\n",
            "\n",
            "ok\n",
            "test_pc_far_low (__main__.TestPcAndPolicy.test_pc_far_low) ... /tmp/ipython-input-2759796557.py:41: DeprecationWarning:\n",
            "\n",
            "`trapz` is deprecated. Use `trapezoid` instead, or one of the numerical integration functions in `scipy.integrate`.\n",
            "\n",
            "ok\n",
            "test_pc_monotonic_hbr (__main__.TestPcAndPolicy.test_pc_monotonic_hbr) ... ok\n",
            "\n",
            "/usr/local/lib/python3.12/dist-packages/jupyter_client/session.py:203: DeprecationWarning:\n",
            "\n",
            "datetime.datetime.utcnow() is deprecated and scheduled for removal in a future version. Use timezone-aware objects to represent datetimes in UTC: datetime.datetime.now(datetime.UTC).\n",
            "\n",
            "----------------------------------------------------------------------\n",
            "Ran 3 tests in 0.008s\n",
            "\n",
            "OK\n"
          ]
        },
        {
          "output_type": "execute_result",
          "data": {
            "text/plain": [
              "<unittest.runner.TextTestResult run=3 errors=0 failures=0>"
            ]
          },
          "metadata": {},
          "execution_count": 67
        }
      ]
    },
    {
      "cell_type": "markdown",
      "source": [
        "CAM regression test (end-to-end)"
      ],
      "metadata": {
        "id": "cKJXqHx4Ud_c"
      }
    },
    {
      "cell_type": "code",
      "source": [
        "import unittest\n",
        "import numpy as np\n",
        "\n",
        "class TestCamEndToEnd(unittest.TestCase):\n",
        "    def test_cam_reduces_pc(self):\n",
        "        cov = np.eye(3)*(Pc_cfg[\"cov_sigma_m\"]**2)\n",
        "        pre = compute_pc_appendixN_numeric(evt, cov, cov, hbr_m=Pc_cfg[\"hbr_m\"])\n",
        "\n",
        "        if pre[\"Pc\"] < 1e-5:\n",
        "            synthetic_evt = {\n",
        "                \"rel_pos_km\": np.array([0.0, 0.02, 0.0]),\n",
        "                \"rel_vel_kmps\": np.array([7.5, 0.0, 0.0])\n",
        "            }\n",
        "            pre = compute_pc_appendixN_numeric(synthetic_evt, cov, cov, hbr_m=Pc_cfg[\"hbr_m\"])\n",
        "\n",
        "        t_burn = evt[\"tca\"]\n",
        "        dv_rtn_ms = np.array([0.0, 2.0, 0.0], float)\n",
        "        evt_post, post = recompute_postcam_metrics(satA, satB, t_burn, ts.utc(2025, 9, 21, 6, 0, 0), dv_rtn_ms, Pc_cfg)\n",
        "\n",
        "        self.assertLessEqual(post[\"Pc\"], pre[\"Pc\"])\n",
        "\n",
        "suite = unittest.TestLoader().loadTestsFromTestCase(TestCamEndToEnd)\n",
        "unittest.TextTestRunner(verbosity=2).run(suite)\n"
      ],
      "metadata": {
        "colab": {
          "base_uri": "https://localhost:8080/"
        },
        "id": "4Jmb6xAVTAOg",
        "outputId": "909b168e-f621-4533-c52e-f903449e9d79"
      },
      "execution_count": null,
      "outputs": [
        {
          "output_type": "stream",
          "name": "stderr",
          "text": [
            "test_cam_reduces_pc (__main__.TestCamEndToEnd.test_cam_reduces_pc) ... /usr/local/lib/python3.12/dist-packages/jupyter_client/session.py:203: DeprecationWarning:\n",
            "\n",
            "datetime.datetime.utcnow() is deprecated and scheduled for removal in a future version. Use timezone-aware objects to represent datetimes in UTC: datetime.datetime.now(datetime.UTC).\n",
            "\n",
            "/tmp/ipython-input-2759796557.py:41: DeprecationWarning:\n",
            "\n",
            "`trapz` is deprecated. Use `trapezoid` instead, or one of the numerical integration functions in `scipy.integrate`.\n",
            "\n",
            "ERROR\n",
            "\n",
            "/usr/local/lib/python3.12/dist-packages/jupyter_client/session.py:203: DeprecationWarning:\n",
            "\n",
            "datetime.datetime.utcnow() is deprecated and scheduled for removal in a future version. Use timezone-aware objects to represent datetimes in UTC: datetime.datetime.now(datetime.UTC).\n",
            "\n",
            "======================================================================\n",
            "ERROR: test_cam_reduces_pc (__main__.TestCamEndToEnd.test_cam_reduces_pc)\n",
            "----------------------------------------------------------------------\n",
            "Traceback (most recent call last):\n",
            "  File \"/tmp/ipython-input-2346019660.py\", line 21, in test_cam_reduces_pc\n",
            "    evt_post, post = recompute_postcam_metrics(satA, satB, t_burn, ts.utc(2025, 9, 21, 6, 0, 0), dv_rtn_ms, Pc_cfg)\n",
            "                     ^^^^^^^^^^^^^^^^^^^^^^^^^^^^^^^^^^^^^^^^^^^^^^^^^^^^^^^^^^^^^^^^^^^^^^^^^^^^^^^^^^^^^^^^^^^^^^\n",
            "  File \"/tmp/ipython-input-1382003649.py\", line 39, in recompute_postcam_metrics\n",
            "    sat_primary_post = apply_delta_v_and_make_sat(primary_sat, t0, dv_primary_m_s)\n",
            "                       ^^^^^^^^^^^^^^^^^^^^^^^^^^^^^^^^^^^^^^^^^^^^^^^^^^^^^^^^^^^\n",
            "  File \"/tmp/ipython-input-1382003649.py\", line 18, in apply_delta_v_and_make_sat\n",
            "    e = osculating_elements_of((r_km, v_kmps_post), ts, center=sat.center)\n",
            "        ^^^^^^^^^^^^^^^^^^^^^^^^^^^^^^^^^^^^^^^^^^^^^^^^^^^^^^^^^^^^^^^^^^\n",
            "TypeError: osculating_elements_of() got an unexpected keyword argument 'center'\n",
            "\n",
            "----------------------------------------------------------------------\n",
            "Ran 1 test in 0.012s\n",
            "\n",
            "FAILED (errors=1)\n"
          ]
        },
        {
          "output_type": "execute_result",
          "data": {
            "text/plain": [
              "<unittest.runner.TextTestResult run=1 errors=1 failures=0>"
            ]
          },
          "metadata": {},
          "execution_count": 73
        }
      ]
    },
    {
      "cell_type": "markdown",
      "source": [
        "Save/load smoke tests for models"
      ],
      "metadata": {
        "id": "rWUNozNIUUfe"
      }
    },
    {
      "cell_type": "code",
      "source": [
        "import os, torch\n",
        "from stable_baselines3 import PPO\n",
        "\n",
        "def smoke_test_model_io(gnn_model, ppo_model, in_feats):\n",
        "\n",
        "    save_gnn(gnn_model, \"gnn.pt\")\n",
        "    assert os.path.exists(\"gnn.pt\")\n",
        "    _ = load_gnn(gnn_model.__class__, in_feats, \"gnn.pt\", device=\"cpu\")\n",
        "\n",
        "    save_ppo(ppo_model, \"ppo_cam.zip\")\n",
        "    assert os.path.exists(\"ppo_cam.zip\")\n",
        "    _ = load_ppo(\"ppo_cam.zip\", env=None)\n",
        "    print(\"Model IO smoke tests passed.\")\n",
        "\n"
      ],
      "metadata": {
        "id": "mg3bxaqZUGfQ"
      },
      "execution_count": null,
      "outputs": []
    },
    {
      "cell_type": "markdown",
      "source": [
        "W&B experiment tracking"
      ],
      "metadata": {
        "id": "k5wzEUcJUflk"
      }
    },
    {
      "cell_type": "code",
      "source": [
        "!pip -q install wandb\n",
        "import wandb, json, numpy as np\n",
        "\n",
        "def run_with_wandb(tle_files, gnn_model, ppo_model, cfg, project=\"space-debris-risk\"):\n",
        "    wandb.login()\n",
        "    with wandb.init(project=project, config=cfg, job_type=\"risk_cycle\") as run:\n",
        "        rundir, lb, results = run_once(tle_files, gnn_model, ppo_model, cfg, outdir=\"runs\")\n",
        "\n",
        "        if len(results) > 0:\n",
        "            pc_pre = [r[\"pre\"][\"Pc\"] for r in results]\n",
        "            pc_post = [r[\"cam\"].get(\"Pc_post\", np.nan) for r in results]\n",
        "            dv = [r[\"cam\"].get(\"dv_last_ms\", np.nan) for r in results]\n",
        "            wandb.log({\n",
        "                \"events\": len(results),\n",
        "                \"Pc_pre_mean\": float(np.nanmean(pc_pre)),\n",
        "                \"Pc_post_mean\": float(np.nanmean(pc_post)),\n",
        "                \"dV_ms_mean\": float(np.nanmean(dv)),\n",
        "                \"accept_rate\": float(np.mean([r.get(\"accepted\", False) for r in results]))\n",
        "            })\n",
        "\n",
        "        run.log({\"leaderboard\": wandb.Table(dataframe=lb)})\n",
        "        run.save(rundir + \"/leaderboard.csv\")\n",
        "        run.save(rundir + \"/results.json\")\n",
        "    return rundir, lb, results\n"
      ],
      "metadata": {
        "colab": {
          "base_uri": "https://localhost:8080/"
        },
        "id": "l1cy2oIwUJMu",
        "outputId": "535d30fc-a9a8-4e65-c565-c751f35bab01"
      },
      "execution_count": null,
      "outputs": [
        {
          "output_type": "stream",
          "name": "stderr",
          "text": [
            "/usr/local/lib/python3.12/dist-packages/jupyter_client/session.py:203: DeprecationWarning:\n",
            "\n",
            "datetime.datetime.utcnow() is deprecated and scheduled for removal in a future version. Use timezone-aware objects to represent datetimes in UTC: datetime.datetime.now(datetime.UTC).\n",
            "\n"
          ]
        }
      ]
    },
    {
      "cell_type": "markdown",
      "source": [
        "Simple CLI entrypoint (run_pipeline.py)"
      ],
      "metadata": {
        "id": "TMCtHcyeUmWS"
      }
    },
    {
      "cell_type": "code",
      "source": [
        "%%writefile run_pipeline.py\n",
        "import argparse, yaml, torch\n",
        "from stable_baselines3 import PPO\n",
        "from main_modules import load_policy, run_once, STRiskGCN, load_gnn, load_ppo\n",
        "\n",
        "def main():\n",
        "    p = argparse.ArgumentParser()\n",
        "    p.add_argument(\"--policy\", default=\"policy.yaml\")\n",
        "    p.add_argument(\"--gnn\", default=\"gnn.pt\")\n",
        "    p.add_argument(\"--ppo\", default=\"ppo_cam.zip\")\n",
        "    p.add_argument(\"--tle\", nargs=\"+\", required=True)\n",
        "    args = p.parse_args()\n",
        "\n",
        "    cfg = load_policy(args.policy)\n",
        "    device = \"cuda\" if torch.cuda.is_available() else \"cpu\"\n",
        "    in_feats = cfg.get(\"gnn_in_feats\", 8)\n",
        "    gnn = load_gnn(STRiskGCN, in_feats, args.gnn, device=device)\n",
        "    ppo = load_ppo(args.ppo, env=None)\n",
        "    run_once(args.tle, gnn, ppo, cfg, outdir=\"runs\")\n",
        "\n",
        "if __name__ == \"__main__\":\n",
        "    main()\n"
      ],
      "metadata": {
        "colab": {
          "base_uri": "https://localhost:8080/"
        },
        "id": "plWOMsGdUi_R",
        "outputId": "704a95cf-be8d-470a-a6af-ca50e16a7b39"
      },
      "execution_count": null,
      "outputs": [
        {
          "output_type": "stream",
          "name": "stdout",
          "text": [
            "Writing run_pipeline.py\n"
          ]
        }
      ]
    },
    {
      "cell_type": "markdown",
      "source": [
        "Run locally:\n",
        "\n",
        "python run_pipeline.py --policy policy.yaml --gnn gnn.pt --ppo ppo_cam.zip --tle active.tle fengyun1c.tle cosmos2251.tle cosmos1408.tle"
      ],
      "metadata": {
        "id": "2Yj2dUvCU_bp"
      }
    },
    {
      "cell_type": "markdown",
      "source": [
        "requirements.txt:\n",
        "\n",
        "text\n",
        "numpy\n",
        "pandas\n",
        "torch\n",
        "torch-geometric\n",
        "torch-scatter\n",
        "torch-sparse\n",
        "torch-cluster\n",
        "torch-geometric-temporal\n",
        "stable-baselines3\n",
        "gymnasium\n",
        "skyfield\n",
        "sgp4\n",
        "poliastro\n",
        "astropy\n",
        "pyyaml\n",
        "plotly\n",
        "wandb"
      ],
      "metadata": {
        "id": "rMCpBIl7WsW4"
      }
    },
    {
      "cell_type": "markdown",
      "source": [
        "Minimal Dockerfile (for local/VM use)\n",
        "text\n",
        "# Dockerfile\n",
        "FROM python:3.10-slim\n",
        "\n",
        "WORKDIR /app\n",
        "COPY requirements.txt ./\n",
        "RUN pip install --no-cache-dir -r requirements.txt\n",
        "\n",
        "COPY . .\n"
      ],
      "metadata": {
        "id": "-prmwr7dVAoO"
      }
    },
    {
      "cell_type": "markdown",
      "source": [
        "Build and run:\n",
        "\n",
        "docker build -t debris-risk:latest .\n",
        "\n",
        "docker run --rm debris-risk:latest --policy policy.yaml --gnn gnn.pt --ppo ppo_cam.zip --tle active.tle fengyun1c.tle cosmos2251.tle cosmos1408.tle"
      ],
      "metadata": {
        "id": "A6aUKJa-VEhA"
      }
    },
    {
      "cell_type": "markdown",
      "source": [
        "What this accomplishes\n",
        "\n",
        "1. Experiment tracking to compare runs, monitor Pc reduction, acceptance rate, and ΔV budgets.\n",
        "\n",
        "2. CLI for one-command reproducible runs outside notebooks.\n",
        "\n",
        "3. Containerization basics to move off Colab when needed and to schedule periodic runs reliably.\n"
      ],
      "metadata": {
        "id": "TQ1LRr8dVUAw"
      }
    },
    {
      "cell_type": "markdown",
      "source": [
        "Once these are in place, the system is operationally usable: train/evaluate, run cycles with configs, track results, and, if desired, automate via a scheduler."
      ],
      "metadata": {
        "id": "w-we9nKvVn0p"
      }
    }
  ]
}